{
 "cells": [
  {
   "cell_type": "markdown",
   "metadata": {},
   "source": [
    "# NDCube Tutorial"
   ]
  },
  {
   "cell_type": "markdown",
   "metadata": {},
   "source": [
    "This notebook is an introductory tutorial to the `ndcube` package which provides a framework for inspecting, analyzing and visualizing n-dimensional data.  The tutorial will start off providing some background context including the old paradigm of solar physics data analysis and tools that ndcube relies on, such as WCS (World Coordinate System).  It will then walk through the two primary classes of the `ndcube` package: `NDCube` and `NDCubeSequence`."
   ]
  },
  {
   "cell_type": "markdown",
   "metadata": {},
   "source": [
    "Before starting however, you will need to make sure you have the latest stable version of `ndcube`.  The recommended way to this is via the anaconda distribution.  If you don't already have anaconda, see the installation instructions (https://docs.anaconda.com/anaconda/install/).\n",
    "\n",
    "Once you have anaconda installed, install ndcube by typing the following into a terminal:\n",
    "\n",
    "`$ conda install --channel conda-forge ndcube`"
   ]
  },
  {
   "cell_type": "markdown",
   "metadata": {},
   "source": [
    "You should now be ready to start this tutorial."
   ]
  },
  {
   "cell_type": "code",
   "execution_count": 1,
   "metadata": {},
   "outputs": [
    {
     "name": "stderr",
     "output_type": "stream",
     "text": [
      "WARNING: AstropyDeprecationWarning: \n",
      "The 'recommended_units' attribute is deprecated since 3.0 and may be removed\n",
      "in a future version. Its main use, of representing angles in degrees in frames,\n",
      "is now done automatically in frames. Further overrides are discouraged but can\n",
      "be done using a frame's ``frame_specific_representation_info``.\n",
      " [astropy.coordinates.representation]\n"
     ]
    }
   ],
   "source": [
    "# Import packages we will be using this tutorial here.\n",
    "from datetime import datetime, timedelta\n",
    "\n",
    "import numpy as np\n",
    "from astropy.io import fits\n",
    "import astropy.wcs\n",
    "import astropy.units as u\n",
    "import matplotlib.pyplot as plt\n",
    "from sunpy.time import parse_time\n",
    "\n",
    "from ndcube import NDCube, NDCubeSequence"
   ]
  },
  {
   "cell_type": "code",
   "execution_count": 2,
   "metadata": {},
   "outputs": [],
   "source": [
    "# Enable interactive plotting windows within the notebook.\n",
    "% matplotlib notebook"
   ]
  },
  {
   "cell_type": "markdown",
   "metadata": {},
   "source": [
    "Before we start, let's read in some IRIS spectrograph data that we will use throughout this tutorial as an example."
   ]
  },
  {
   "cell_type": "code",
   "execution_count": 3,
   "metadata": {},
   "outputs": [],
   "source": [
    "# Define the filepath and filename for data which we will use in this tutorial.\n",
    "filename0 = \"iris_l2_20141211_191222_3803105278_raster_t000_r00000.fits\"\n",
    "filename1 = \"iris_l2_20141211_191222_3803105278_raster_t000_r00001.fits\"\n",
    "filename2 = \"iris_l2_20141211_191222_3803105278_raster_t000_r00002.fits\""
   ]
  },
  {
   "cell_type": "code",
   "execution_count": 4,
   "metadata": {},
   "outputs": [],
   "source": [
    "# Create a list of Header Data Unit (HDUs) or FITS extensions from a sample file.\n",
    "hdulist = fits.open(filename0)"
   ]
  },
  {
   "cell_type": "code",
   "execution_count": 5,
   "metadata": {},
   "outputs": [
    {
     "data": {
      "text/plain": [
       "[<astropy.io.fits.hdu.image.PrimaryHDU object at 0x1c19208b70>, <astropy.io.fits.hdu.image.ImageHDU object at 0x1c1921cac8>, <astropy.io.fits.hdu.image.ImageHDU object at 0x1c19226b38>, <astropy.io.fits.hdu.image.ImageHDU object at 0x1c1922dc18>, <astropy.io.fits.hdu.image.ImageHDU object at 0x1c19231cf8>, <astropy.io.fits.hdu.image.ImageHDU object at 0x1c19237dd8>, <astropy.io.fits.hdu.image.ImageHDU object at 0x1c1923beb8>, <astropy.io.fits.hdu.image.ImageHDU object at 0x1c1923ff98>, <astropy.io.fits.hdu.image.ImageHDU object at 0x1c1924ab00>, <astropy.io.fits.hdu.table.TableHDU object at 0x1c192517f0>]"
      ]
     },
     "execution_count": 5,
     "metadata": {},
     "output_type": "execute_result"
    }
   ],
   "source": [
    "hdulist"
   ]
  },
  {
   "cell_type": "markdown",
   "metadata": {},
   "source": [
    "## Background Context"
   ]
  },
  {
   "cell_type": "markdown",
   "metadata": {},
   "source": [
    "### World Coordinate System"
   ]
  },
  {
   "cell_type": "markdown",
   "metadata": {},
   "source": [
    "The World Coordinate System (WCS) is a framework of mathematical translations and well defined variable names that describe the conversion from pixel/array coordinates to the real world coordinates (e.g. latitude, time, wavelength) of the location in the Universe represented by the pixels.\n",
    "\n",
    "WCS parameters can be defined manually by a user but are often stored in the headers of FITS files."
   ]
  },
  {
   "cell_type": "code",
   "execution_count": 6,
   "metadata": {},
   "outputs": [
    {
     "data": {
      "text/plain": [
       "XTENSION= 'IMAGE   '           / IMAGE extension                                \n",
       "BITPIX  =                   16 / Number of bits per data pixel                  \n",
       "NAXIS   =                    3 / Number of data axes                            \n",
       "NAXIS1  =                  333 /                                                \n",
       "NAXIS2  =                  548 /                                                \n",
       "NAXIS3  =                    8 /                                                \n",
       "PCOUNT  =                    0 / No Group Parameters                            \n",
       "GCOUNT  =                    1 / One Data Group                                 \n",
       "BSCALE  =                 0.25 /                                                \n",
       "BZERO   =                 7992 /                                                \n",
       "CDELT1  =            0.0259600 /                                                \n",
       "CDELT2  =             0.332700 /                                                \n",
       "CDELT3  =       0.997720173427 /                                                \n",
       "CRPIX1  =              1.00000 /                                                \n",
       "CRPIX2  =              274.500 /                                                \n",
       "CRPIX3  =              4.00000 /                                                \n",
       "CRVAL1  =              1331.90 /                                                \n",
       "CRVAL2  =             -260.882 /                                                \n",
       "CRVAL3  =              12.2980 /                                                \n",
       "CTYPE1  = 'WAVE    '           /                                                \n",
       "CTYPE2  = 'HPLT-TAN'           /                                                \n",
       "CTYPE3  = 'HPLN-TAN'           /                                                \n",
       "CUNIT1  = 'Angstrom'           /                                                \n",
       "CUNIT2  = 'arcsec  '           /                                                \n",
       "CUNIT3  = 'arcsec  '           /                                                \n",
       "PC1_1   =        1.00000000000 /                                                \n",
       "PC1_2   =        0.00000000000 /                                                \n",
       "PC2_1   =        0.00000000000 /                                                \n",
       "PC2_2   =       0.999938189983 /                                                \n",
       "PC3_1   =        0.00000000000 /                                                \n",
       "PC3_2   =     0.00376150493276 /                                                \n",
       "PC3_3   =       0.999938189983 /                                                \n",
       "PC2_3   =     -0.0338277805205 /                                                "
      ]
     },
     "execution_count": 6,
     "metadata": {},
     "output_type": "execute_result"
    }
   ],
   "source": [
    "hdulist[1].header"
   ]
  },
  {
   "cell_type": "markdown",
   "metadata": {},
   "source": [
    "Many of these variables, such as those start with 'C' or 'PC' are reserved variable names defined by the WCS standard and have been common in solar physics since at least the age of the STEREO mission. "
   ]
  },
  {
   "cell_type": "code",
   "execution_count": 7,
   "metadata": {},
   "outputs": [],
   "source": [
    "hdulist.close()"
   ]
  },
  {
   "cell_type": "markdown",
   "metadata": {},
   "source": [
    "### Old Paradigm of Data Analysis"
   ]
  },
  {
   "cell_type": "markdown",
   "metadata": {},
   "source": [
    "Many solar physicists handle their data and WCS information in a very cumbersome way. The data and WCS information are manipulated separately and manually. For example, let's find a region of interest in a spectrogram observation file between 1400 and 1450 angstrom:"
   ]
  },
  {
   "cell_type": "code",
   "execution_count": 8,
   "metadata": {},
   "outputs": [],
   "source": [
    "# Read data file and extract header and data from 1st (0-based counting) HDU/FITS extension.\n",
    "hdulist = fits.open(filename0)\n",
    "header = hdulist[1].header\n",
    "data = hdulist[1].data\n",
    "hdulist.close()"
   ]
  },
  {
   "cell_type": "code",
   "execution_count": 9,
   "metadata": {},
   "outputs": [
    {
     "data": {
      "text/plain": [
       "(8, 548, 333)"
      ]
     },
     "execution_count": 9,
     "metadata": {},
     "output_type": "execute_result"
    }
   ],
   "source": [
    "data.shape"
   ]
  },
  {
   "cell_type": "markdown",
   "metadata": {},
   "source": [
    "The above shows us the length of each axis of the data array.  But this is of limited value unless we have information on the axes of that data.  This can be obtained from the WCS variables in the header, shown above.\n",
    "\n",
    "Due to unfortunate and confusing convention, the ordering of the WCS axes are reversed relative to the data axes.  This means that the WCS variables ending in '1' actually describe the final data axis.\n",
    "`CTYPE1='WAVE'`\n",
    "tells us that the 3rd data axis is wavelength.  So let's calculate the wavelength value for each pixel in along the final axis of the data."
   ]
  },
  {
   "cell_type": "code",
   "execution_count": 10,
   "metadata": {},
   "outputs": [],
   "source": [
    "origin = 0"
   ]
  },
  {
   "cell_type": "code",
   "execution_count": 11,
   "metadata": {},
   "outputs": [],
   "source": [
    "wave = header[\"CRPIX1\"]*np.arange(333)+header[\"CRVAL1\"]+origin"
   ]
  },
  {
   "cell_type": "code",
   "execution_count": 12,
   "metadata": {},
   "outputs": [
    {
     "data": {
      "text/plain": [
       "array([1331.9, 1332.9, 1333.9, 1334.9, 1335.9, 1336.9, 1337.9, 1338.9,\n",
       "       1339.9, 1340.9, 1341.9, 1342.9, 1343.9, 1344.9, 1345.9, 1346.9,\n",
       "       1347.9, 1348.9, 1349.9, 1350.9, 1351.9, 1352.9, 1353.9, 1354.9,\n",
       "       1355.9, 1356.9, 1357.9, 1358.9, 1359.9, 1360.9, 1361.9, 1362.9,\n",
       "       1363.9, 1364.9, 1365.9, 1366.9, 1367.9, 1368.9, 1369.9, 1370.9,\n",
       "       1371.9, 1372.9, 1373.9, 1374.9, 1375.9, 1376.9, 1377.9, 1378.9,\n",
       "       1379.9, 1380.9, 1381.9, 1382.9, 1383.9, 1384.9, 1385.9, 1386.9,\n",
       "       1387.9, 1388.9, 1389.9, 1390.9, 1391.9, 1392.9, 1393.9, 1394.9,\n",
       "       1395.9, 1396.9, 1397.9, 1398.9, 1399.9, 1400.9, 1401.9, 1402.9,\n",
       "       1403.9, 1404.9, 1405.9, 1406.9, 1407.9, 1408.9, 1409.9, 1410.9,\n",
       "       1411.9, 1412.9, 1413.9, 1414.9, 1415.9, 1416.9, 1417.9, 1418.9,\n",
       "       1419.9, 1420.9, 1421.9, 1422.9, 1423.9, 1424.9, 1425.9, 1426.9,\n",
       "       1427.9, 1428.9, 1429.9, 1430.9, 1431.9, 1432.9, 1433.9, 1434.9,\n",
       "       1435.9, 1436.9, 1437.9, 1438.9, 1439.9, 1440.9, 1441.9, 1442.9,\n",
       "       1443.9, 1444.9, 1445.9, 1446.9, 1447.9, 1448.9, 1449.9, 1450.9,\n",
       "       1451.9, 1452.9, 1453.9, 1454.9, 1455.9, 1456.9, 1457.9, 1458.9,\n",
       "       1459.9, 1460.9, 1461.9, 1462.9, 1463.9, 1464.9, 1465.9, 1466.9,\n",
       "       1467.9, 1468.9, 1469.9, 1470.9, 1471.9, 1472.9, 1473.9, 1474.9,\n",
       "       1475.9, 1476.9, 1477.9, 1478.9, 1479.9, 1480.9, 1481.9, 1482.9,\n",
       "       1483.9, 1484.9, 1485.9, 1486.9, 1487.9, 1488.9, 1489.9, 1490.9,\n",
       "       1491.9, 1492.9, 1493.9, 1494.9, 1495.9, 1496.9, 1497.9, 1498.9,\n",
       "       1499.9, 1500.9, 1501.9, 1502.9, 1503.9, 1504.9, 1505.9, 1506.9,\n",
       "       1507.9, 1508.9, 1509.9, 1510.9, 1511.9, 1512.9, 1513.9, 1514.9,\n",
       "       1515.9, 1516.9, 1517.9, 1518.9, 1519.9, 1520.9, 1521.9, 1522.9,\n",
       "       1523.9, 1524.9, 1525.9, 1526.9, 1527.9, 1528.9, 1529.9, 1530.9,\n",
       "       1531.9, 1532.9, 1533.9, 1534.9, 1535.9, 1536.9, 1537.9, 1538.9,\n",
       "       1539.9, 1540.9, 1541.9, 1542.9, 1543.9, 1544.9, 1545.9, 1546.9,\n",
       "       1547.9, 1548.9, 1549.9, 1550.9, 1551.9, 1552.9, 1553.9, 1554.9,\n",
       "       1555.9, 1556.9, 1557.9, 1558.9, 1559.9, 1560.9, 1561.9, 1562.9,\n",
       "       1563.9, 1564.9, 1565.9, 1566.9, 1567.9, 1568.9, 1569.9, 1570.9,\n",
       "       1571.9, 1572.9, 1573.9, 1574.9, 1575.9, 1576.9, 1577.9, 1578.9,\n",
       "       1579.9, 1580.9, 1581.9, 1582.9, 1583.9, 1584.9, 1585.9, 1586.9,\n",
       "       1587.9, 1588.9, 1589.9, 1590.9, 1591.9, 1592.9, 1593.9, 1594.9,\n",
       "       1595.9, 1596.9, 1597.9, 1598.9, 1599.9, 1600.9, 1601.9, 1602.9,\n",
       "       1603.9, 1604.9, 1605.9, 1606.9, 1607.9, 1608.9, 1609.9, 1610.9,\n",
       "       1611.9, 1612.9, 1613.9, 1614.9, 1615.9, 1616.9, 1617.9, 1618.9,\n",
       "       1619.9, 1620.9, 1621.9, 1622.9, 1623.9, 1624.9, 1625.9, 1626.9,\n",
       "       1627.9, 1628.9, 1629.9, 1630.9, 1631.9, 1632.9, 1633.9, 1634.9,\n",
       "       1635.9, 1636.9, 1637.9, 1638.9, 1639.9, 1640.9, 1641.9, 1642.9,\n",
       "       1643.9, 1644.9, 1645.9, 1646.9, 1647.9, 1648.9, 1649.9, 1650.9,\n",
       "       1651.9, 1652.9, 1653.9, 1654.9, 1655.9, 1656.9, 1657.9, 1658.9,\n",
       "       1659.9, 1660.9, 1661.9, 1662.9, 1663.9])"
      ]
     },
     "execution_count": 12,
     "metadata": {},
     "output_type": "execute_result"
    }
   ],
   "source": [
    "wave"
   ]
  },
  {
   "cell_type": "markdown",
   "metadata": {},
   "source": [
    "This gives us an array in Angstroms (see `CUNIT1='Angstrom'` in the header).\n",
    "\n",
    "Fortunately, the WCS translation from pixels to wavelength is a simple linear one, and so was easy for us to calculate.  However, translations for other physical properties can be far more complicated, with rotations, distortions, etc.  This information is described by other WCS variables that we did not use above, such as those starting 'PC'.  For now, though, let's ignore this complexity."
   ]
  },
  {
   "cell_type": "markdown",
   "metadata": {},
   "source": [
    "Now we have our wavelength array, let's use it to crop our data to a region of interest between 1400 and 1450 Angstrom."
   ]
  },
  {
   "cell_type": "code",
   "execution_count": 13,
   "metadata": {},
   "outputs": [],
   "source": [
    "w = np.logical_and(wave>=1400., wave<1450.)"
   ]
  },
  {
   "cell_type": "code",
   "execution_count": 14,
   "metadata": {},
   "outputs": [
    {
     "data": {
      "text/plain": [
       "array([False, False, False, False, False, False, False, False, False,\n",
       "       False, False, False, False, False, False, False, False, False,\n",
       "       False, False, False, False, False, False, False, False, False,\n",
       "       False, False, False, False, False, False, False, False, False,\n",
       "       False, False, False, False, False, False, False, False, False,\n",
       "       False, False, False, False, False, False, False, False, False,\n",
       "       False, False, False, False, False, False, False, False, False,\n",
       "       False, False, False, False, False, False,  True,  True,  True,\n",
       "        True,  True,  True,  True,  True,  True,  True,  True,  True,\n",
       "        True,  True,  True,  True,  True,  True,  True,  True,  True,\n",
       "        True,  True,  True,  True,  True,  True,  True,  True,  True,\n",
       "        True,  True,  True,  True,  True,  True,  True,  True,  True,\n",
       "        True,  True,  True,  True,  True,  True,  True,  True,  True,\n",
       "        True,  True, False, False, False, False, False, False, False,\n",
       "       False, False, False, False, False, False, False, False, False,\n",
       "       False, False, False, False, False, False, False, False, False,\n",
       "       False, False, False, False, False, False, False, False, False,\n",
       "       False, False, False, False, False, False, False, False, False,\n",
       "       False, False, False, False, False, False, False, False, False,\n",
       "       False, False, False, False, False, False, False, False, False,\n",
       "       False, False, False, False, False, False, False, False, False,\n",
       "       False, False, False, False, False, False, False, False, False,\n",
       "       False, False, False, False, False, False, False, False, False,\n",
       "       False, False, False, False, False, False, False, False, False,\n",
       "       False, False, False, False, False, False, False, False, False,\n",
       "       False, False, False, False, False, False, False, False, False,\n",
       "       False, False, False, False, False, False, False, False, False,\n",
       "       False, False, False, False, False, False, False, False, False,\n",
       "       False, False, False, False, False, False, False, False, False,\n",
       "       False, False, False, False, False, False, False, False, False,\n",
       "       False, False, False, False, False, False, False, False, False,\n",
       "       False, False, False, False, False, False, False, False, False,\n",
       "       False, False, False, False, False, False, False, False, False,\n",
       "       False, False, False, False, False, False, False, False, False,\n",
       "       False, False, False, False, False, False, False, False, False,\n",
       "       False, False, False, False, False, False, False, False, False,\n",
       "       False, False, False, False, False, False, False, False, False])"
      ]
     },
     "execution_count": 14,
     "metadata": {},
     "output_type": "execute_result"
    }
   ],
   "source": [
    "w"
   ]
  },
  {
   "cell_type": "code",
   "execution_count": 15,
   "metadata": {},
   "outputs": [
    {
     "data": {
      "text/plain": [
       "array([1400.9, 1401.9, 1402.9, 1403.9, 1404.9, 1405.9, 1406.9, 1407.9,\n",
       "       1408.9, 1409.9, 1410.9, 1411.9, 1412.9, 1413.9, 1414.9, 1415.9,\n",
       "       1416.9, 1417.9, 1418.9, 1419.9, 1420.9, 1421.9, 1422.9, 1423.9,\n",
       "       1424.9, 1425.9, 1426.9, 1427.9, 1428.9, 1429.9, 1430.9, 1431.9,\n",
       "       1432.9, 1433.9, 1434.9, 1435.9, 1436.9, 1437.9, 1438.9, 1439.9,\n",
       "       1440.9, 1441.9, 1442.9, 1443.9, 1444.9, 1445.9, 1446.9, 1447.9,\n",
       "       1448.9, 1449.9])"
      ]
     },
     "execution_count": 15,
     "metadata": {},
     "output_type": "execute_result"
    }
   ],
   "source": [
    "wave[w]"
   ]
  },
  {
   "cell_type": "code",
   "execution_count": 16,
   "metadata": {},
   "outputs": [],
   "source": [
    "# Crop data to the range 1400 to 1450 Angstrom\n",
    "data_roi = data[:, :, w]"
   ]
  },
  {
   "cell_type": "code",
   "execution_count": 17,
   "metadata": {},
   "outputs": [
    {
     "data": {
      "text/plain": [
       "(8, 548, 50)"
      ]
     },
     "execution_count": 17,
     "metadata": {},
     "output_type": "execute_result"
    }
   ],
   "source": [
    "data_roi.shape"
   ]
  },
  {
   "cell_type": "markdown",
   "metadata": {},
   "source": [
    "However, now we've changed the shape of our data, the same pixel coordinate does not correspond to the same real world coordinate. So we have to make sure the original mapping persists in our analysis. The simplest way is to create a new wavelength array for the region of interest."
   ]
  },
  {
   "cell_type": "code",
   "execution_count": 18,
   "metadata": {},
   "outputs": [],
   "source": [
    "wave_roi = wave[w]"
   ]
  },
  {
   "cell_type": "code",
   "execution_count": 19,
   "metadata": {},
   "outputs": [
    {
     "data": {
      "text/plain": [
       "array([1400.9, 1401.9, 1402.9, 1403.9, 1404.9, 1405.9, 1406.9, 1407.9,\n",
       "       1408.9, 1409.9, 1410.9, 1411.9, 1412.9, 1413.9, 1414.9, 1415.9,\n",
       "       1416.9, 1417.9, 1418.9, 1419.9, 1420.9, 1421.9, 1422.9, 1423.9,\n",
       "       1424.9, 1425.9, 1426.9, 1427.9, 1428.9, 1429.9, 1430.9, 1431.9,\n",
       "       1432.9, 1433.9, 1434.9, 1435.9, 1436.9, 1437.9, 1438.9, 1439.9,\n",
       "       1440.9, 1441.9, 1442.9, 1443.9, 1444.9, 1445.9, 1446.9, 1447.9,\n",
       "       1448.9, 1449.9])"
      ]
     },
     "execution_count": 19,
     "metadata": {},
     "output_type": "execute_result"
    }
   ],
   "source": [
    "wave_roi"
   ]
  },
  {
   "cell_type": "markdown",
   "metadata": {},
   "source": [
    "Here, we have outlined a very simple case. But for this data we could also have an array of latitude, longitude, and time to describe the mappings from pixel coordinates to real world coordinates. This means we would need a `data`, `wave`, `latitude`, `longitude`, and `time` array to describe the whole observation, and then a `data_roi`, `wave_roi`, `latitude_roi`, `longituge_roi`, and `time_roi` arrays to describe one region of interest. This is a lot of arrays to keep track of and often leads to mistakes. Moreover, the arrays are typically determined by manually applying the transformation equations, again often leading to mistakes.\n",
    "\n",
    "We may also have other types of supporting data, like an `uncertainty` array for the measurement uncertainty. We may also have separate data cubes with separate WCS translations from different files within the same observing campaign.\n",
    "\n",
    "It also means it is hard to share partially analysed data in a way that someone else would understand.  In fact, it can even be difficult for you to understand your own work if you have not looked at in a while.  Hence the phrase:"
   ]
  },
  {
   "cell_type": "markdown",
   "metadata": {},
   "source": [
    "##### \"When I wrote this code only God and I knew what it did.  Now God only knows!\""
   ]
  },
  {
   "cell_type": "markdown",
   "metadata": {},
   "source": [
    "Before moving onto ndcube, let's discuss one of the important packages on which it depends."
   ]
  },
  {
   "cell_type": "markdown",
   "metadata": {},
   "source": [
    "### AstroPy WCS"
   ]
  },
  {
   "cell_type": "markdown",
   "metadata": {},
   "source": [
    "WCS has been used in astronomy for decades.  This is why the AstroPy community has already written a WCS class that understands the standardized WCS variable and transformation names.  All important WCS information is stored within the object and then applied through some easIER-to-use functions.  A WCS object can be created from a FITS header or a Python dictionary:"
   ]
  },
  {
   "cell_type": "code",
   "execution_count": 20,
   "metadata": {},
   "outputs": [],
   "source": [
    "wcs = astropy.wcs.WCS(header)"
   ]
  },
  {
   "cell_type": "code",
   "execution_count": 21,
   "metadata": {},
   "outputs": [
    {
     "data": {
      "text/plain": [
       "WCS Keywords\n",
       "\n",
       "Number of WCS axes: 3\n",
       "CTYPE : 'WAVE'  'HPLT-TAN'  'HPLN-TAN'  \n",
       "CRVAL : 1.3319000000000002e-07  -0.07246722222222222  0.003416111111111111  \n",
       "CRPIX : 1.0  274.5  4.0  \n",
       "PC1_1 PC1_2 PC1_3  : 1.0  0.0  0.0  \n",
       "PC2_1 PC2_2 PC2_3  : 0.0  0.999938189983  -0.0338277805205  \n",
       "PC3_1 PC3_2 PC3_3  : 0.0  0.00376150493276  0.999938189983  \n",
       "CDELT : 2.5960000000000002e-12  9.241666666666666e-05  0.0002771444926186111  \n",
       "NAXIS : 333  548  8"
      ]
     },
     "execution_count": 21,
     "metadata": {},
     "output_type": "execute_result"
    }
   ],
   "source": [
    "wcs"
   ]
  },
  {
   "cell_type": "markdown",
   "metadata": {},
   "source": [
    "Note again that the ordering of the axes within the WCS object is reversed relative to the data."
   ]
  },
  {
   "cell_type": "markdown",
   "metadata": {},
   "source": [
    "#### As a side note, the Python astronomy community is more advanced than the solar physics one.  And because of the open-source nature of packages like astropy, we in solar physics can leverage a huge amount of what has been done already.  This means we can either pool resources to develop higher quality packages that are useful across disciplines, thereby saving time and money by not reinventing the wheel over and over again.  Or we can use the time saved to develop more specialized tools for our purposes.  This is a tactic you will see time and time again in ndcube and in SunPy."
   ]
  },
  {
   "cell_type": "markdown",
   "metadata": {},
   "source": [
    "Back to WCS, we can use the above wcs instance to convert from pixel coordinates to real world coordinates by using the `all_pix2world` method:"
   ]
  },
  {
   "cell_type": "code",
   "execution_count": 22,
   "metadata": {},
   "outputs": [
    {
     "data": {
      "text/plain": [
       "array([[ 1.33190000e-07, -9.77322378e-02,  2.29960913e-03]])"
      ]
     },
     "execution_count": 22,
     "metadata": {},
     "output_type": "execute_result"
    }
   ],
   "source": [
    "# For the (0,0,0) pixel in the data array:\n",
    "wcs.all_pix2world(np.array([[0,0,0]]), origin)"
   ]
  },
  {
   "cell_type": "markdown",
   "metadata": {},
   "source": [
    "To go from real world coordinates to pixel coordinates, use the `all_world2pix` method:"
   ]
  },
  {
   "cell_type": "code",
   "execution_count": 23,
   "metadata": {},
   "outputs": [
    {
     "data": {
      "text/plain": [
       "array([[312.01848998,  -2.87268793,   0.73390562]])"
      ]
     },
     "execution_count": 23,
     "metadata": {},
     "output_type": "execute_result"
    }
   ],
   "source": [
    "# For the (1.340e-7 deg, -9.8e-2 deg, 2.5e-3 m) pixel in the data array:\n",
    "wcs.all_world2pix(np.array([[1.340e-7, -9.8e-2, 2.5e-3]]), origin)"
   ]
  },
  {
   "cell_type": "markdown",
   "metadata": {},
   "source": [
    "### Astropy Quantities"
   ]
  },
  {
   "cell_type": "markdown",
   "metadata": {},
   "source": [
    "You may have remember that when we constructed the wavelength values, we produced a simple array.  The array had no knowledge of the units it was in.  As users, we just had to know that it was in arcsec.  This is a fine approach when we are quickly putting together some analysis code, but requires that the units of our data be documented clearly somewhere obvious if ever we want to revisit our analysis after a break, or share our code with others.  Unfortunately this is often not done and leads to errors in analysis and leads to a lot of wasted time and we and others we share our code with struggle to work out afresh each time what unit things are in."
   ]
  },
  {
   "cell_type": "markdown",
   "metadata": {},
   "source": [
    "To solve this problem, Astropy has developed an `astropy.units.Quantity` class which combines a number or numeric array with an `astropy.units.unit` class.  At the top of this notebook we import the `astropy.units` module as `u`.  So let's use it to create a wavelength quantity.  This can be done through a formal constructor, or simply by multiplying a number or numeric array by a Unit object."
   ]
  },
  {
   "cell_type": "code",
   "execution_count": 24,
   "metadata": {},
   "outputs": [],
   "source": [
    "wave_quantity = u.Quantity(wave, unit=u.angstrom) # where u.angstrom is the Angstrom unit object available in the astropy units module.\n",
    "# The following commands will produce the same result:\n",
    "# wave_quantity = u.Quantity(wave, unit=\"Angstrom\")\n",
    "# wave_quantity = wave * u.Angstrom"
   ]
  },
  {
   "cell_type": "code",
   "execution_count": 25,
   "metadata": {},
   "outputs": [
    {
     "data": {
      "text/latex": [
       "$[1331.9,~1332.9,~1333.9,~\\dots,~1661.9,~1662.9,~1663.9] \\; \\mathrm{\\mathring{A}}$"
      ],
      "text/plain": [
       "<Quantity [1331.9, 1332.9, 1333.9, 1334.9, 1335.9, 1336.9, 1337.9, 1338.9,\n",
       "           1339.9, 1340.9, 1341.9, 1342.9, 1343.9, 1344.9, 1345.9, 1346.9,\n",
       "           1347.9, 1348.9, 1349.9, 1350.9, 1351.9, 1352.9, 1353.9, 1354.9,\n",
       "           1355.9, 1356.9, 1357.9, 1358.9, 1359.9, 1360.9, 1361.9, 1362.9,\n",
       "           1363.9, 1364.9, 1365.9, 1366.9, 1367.9, 1368.9, 1369.9, 1370.9,\n",
       "           1371.9, 1372.9, 1373.9, 1374.9, 1375.9, 1376.9, 1377.9, 1378.9,\n",
       "           1379.9, 1380.9, 1381.9, 1382.9, 1383.9, 1384.9, 1385.9, 1386.9,\n",
       "           1387.9, 1388.9, 1389.9, 1390.9, 1391.9, 1392.9, 1393.9, 1394.9,\n",
       "           1395.9, 1396.9, 1397.9, 1398.9, 1399.9, 1400.9, 1401.9, 1402.9,\n",
       "           1403.9, 1404.9, 1405.9, 1406.9, 1407.9, 1408.9, 1409.9, 1410.9,\n",
       "           1411.9, 1412.9, 1413.9, 1414.9, 1415.9, 1416.9, 1417.9, 1418.9,\n",
       "           1419.9, 1420.9, 1421.9, 1422.9, 1423.9, 1424.9, 1425.9, 1426.9,\n",
       "           1427.9, 1428.9, 1429.9, 1430.9, 1431.9, 1432.9, 1433.9, 1434.9,\n",
       "           1435.9, 1436.9, 1437.9, 1438.9, 1439.9, 1440.9, 1441.9, 1442.9,\n",
       "           1443.9, 1444.9, 1445.9, 1446.9, 1447.9, 1448.9, 1449.9, 1450.9,\n",
       "           1451.9, 1452.9, 1453.9, 1454.9, 1455.9, 1456.9, 1457.9, 1458.9,\n",
       "           1459.9, 1460.9, 1461.9, 1462.9, 1463.9, 1464.9, 1465.9, 1466.9,\n",
       "           1467.9, 1468.9, 1469.9, 1470.9, 1471.9, 1472.9, 1473.9, 1474.9,\n",
       "           1475.9, 1476.9, 1477.9, 1478.9, 1479.9, 1480.9, 1481.9, 1482.9,\n",
       "           1483.9, 1484.9, 1485.9, 1486.9, 1487.9, 1488.9, 1489.9, 1490.9,\n",
       "           1491.9, 1492.9, 1493.9, 1494.9, 1495.9, 1496.9, 1497.9, 1498.9,\n",
       "           1499.9, 1500.9, 1501.9, 1502.9, 1503.9, 1504.9, 1505.9, 1506.9,\n",
       "           1507.9, 1508.9, 1509.9, 1510.9, 1511.9, 1512.9, 1513.9, 1514.9,\n",
       "           1515.9, 1516.9, 1517.9, 1518.9, 1519.9, 1520.9, 1521.9, 1522.9,\n",
       "           1523.9, 1524.9, 1525.9, 1526.9, 1527.9, 1528.9, 1529.9, 1530.9,\n",
       "           1531.9, 1532.9, 1533.9, 1534.9, 1535.9, 1536.9, 1537.9, 1538.9,\n",
       "           1539.9, 1540.9, 1541.9, 1542.9, 1543.9, 1544.9, 1545.9, 1546.9,\n",
       "           1547.9, 1548.9, 1549.9, 1550.9, 1551.9, 1552.9, 1553.9, 1554.9,\n",
       "           1555.9, 1556.9, 1557.9, 1558.9, 1559.9, 1560.9, 1561.9, 1562.9,\n",
       "           1563.9, 1564.9, 1565.9, 1566.9, 1567.9, 1568.9, 1569.9, 1570.9,\n",
       "           1571.9, 1572.9, 1573.9, 1574.9, 1575.9, 1576.9, 1577.9, 1578.9,\n",
       "           1579.9, 1580.9, 1581.9, 1582.9, 1583.9, 1584.9, 1585.9, 1586.9,\n",
       "           1587.9, 1588.9, 1589.9, 1590.9, 1591.9, 1592.9, 1593.9, 1594.9,\n",
       "           1595.9, 1596.9, 1597.9, 1598.9, 1599.9, 1600.9, 1601.9, 1602.9,\n",
       "           1603.9, 1604.9, 1605.9, 1606.9, 1607.9, 1608.9, 1609.9, 1610.9,\n",
       "           1611.9, 1612.9, 1613.9, 1614.9, 1615.9, 1616.9, 1617.9, 1618.9,\n",
       "           1619.9, 1620.9, 1621.9, 1622.9, 1623.9, 1624.9, 1625.9, 1626.9,\n",
       "           1627.9, 1628.9, 1629.9, 1630.9, 1631.9, 1632.9, 1633.9, 1634.9,\n",
       "           1635.9, 1636.9, 1637.9, 1638.9, 1639.9, 1640.9, 1641.9, 1642.9,\n",
       "           1643.9, 1644.9, 1645.9, 1646.9, 1647.9, 1648.9, 1649.9, 1650.9,\n",
       "           1651.9, 1652.9, 1653.9, 1654.9, 1655.9, 1656.9, 1657.9, 1658.9,\n",
       "           1659.9, 1660.9, 1661.9, 1662.9, 1663.9] Angstrom>"
      ]
     },
     "execution_count": 25,
     "metadata": {},
     "output_type": "execute_result"
    }
   ],
   "source": [
    "wave_quantity"
   ]
  },
  {
   "cell_type": "markdown",
   "metadata": {},
   "source": [
    "As well as labelling the units of an array, `Quantities` can also be used in arithmetic calculations.  For example, if we divide a distance quantity with a time quantity, we will get a speed quantity:"
   ]
  },
  {
   "cell_type": "code",
   "execution_count": 26,
   "metadata": {},
   "outputs": [],
   "source": [
    "speed = (10*u.m) / (2*u.s)"
   ]
  },
  {
   "cell_type": "code",
   "execution_count": 27,
   "metadata": {},
   "outputs": [
    {
     "data": {
      "text/latex": [
       "$5 \\; \\mathrm{\\frac{m}{s}}$"
      ],
      "text/plain": [
       "<Quantity 5. m / s>"
      ]
     },
     "execution_count": 27,
     "metadata": {},
     "output_type": "execute_result"
    }
   ],
   "source": [
    "speed"
   ]
  },
  {
   "cell_type": "markdown",
   "metadata": {},
   "source": [
    "`Quantities` also prevent us from making silly mistakes, like adding things that don't make sense."
   ]
  },
  {
   "cell_type": "code",
   "execution_count": 28,
   "metadata": {},
   "outputs": [
    {
     "ename": "UnitConversionError",
     "evalue": "Can only apply 'add' function to quantities with compatible dimensions",
     "output_type": "error",
     "traceback": [
      "\u001b[0;31m---------------------------------------------------------------------------\u001b[0m",
      "\u001b[0;31mUnitConversionError\u001b[0m                       Traceback (most recent call last)",
      "\u001b[0;32m~/anaconda3/lib/python3.6/site-packages/astropy/units/quantity_helper.py\u001b[0m in \u001b[0;36mget_converter\u001b[0;34m(from_unit, to_unit)\u001b[0m\n\u001b[1;32m     28\u001b[0m     \u001b[0;32mtry\u001b[0m\u001b[0;34m:\u001b[0m\u001b[0;34m\u001b[0m\u001b[0m\n\u001b[0;32m---> 29\u001b[0;31m         \u001b[0mscale\u001b[0m \u001b[0;34m=\u001b[0m \u001b[0mfrom_unit\u001b[0m\u001b[0;34m.\u001b[0m\u001b[0m_to\u001b[0m\u001b[0;34m(\u001b[0m\u001b[0mto_unit\u001b[0m\u001b[0;34m)\u001b[0m\u001b[0;34m\u001b[0m\u001b[0m\n\u001b[0m\u001b[1;32m     30\u001b[0m     \u001b[0;32mexcept\u001b[0m \u001b[0mUnitsError\u001b[0m\u001b[0;34m:\u001b[0m\u001b[0;34m\u001b[0m\u001b[0m\n",
      "\u001b[0;32m~/anaconda3/lib/python3.6/site-packages/astropy/units/core.py\u001b[0m in \u001b[0;36m_to\u001b[0;34m(self, other)\u001b[0m\n\u001b[1;32m    931\u001b[0m         raise UnitConversionError(\n\u001b[0;32m--> 932\u001b[0;31m             \"'{0!r}' is not a scaled version of '{1!r}'\".format(self, other))\n\u001b[0m\u001b[1;32m    933\u001b[0m \u001b[0;34m\u001b[0m\u001b[0m\n",
      "\u001b[0;31mUnitConversionError\u001b[0m: 'Unit(\"s\")' is not a scaled version of 'Unit(\"m\")'",
      "\nDuring handling of the above exception, another exception occurred:\n",
      "\u001b[0;31mUnitConversionError\u001b[0m                       Traceback (most recent call last)",
      "\u001b[0;32m~/anaconda3/lib/python3.6/site-packages/astropy/units/quantity_helper.py\u001b[0m in \u001b[0;36mget_converters_and_unit\u001b[0;34m(f, unit1, unit2)\u001b[0m\n\u001b[1;32m     73\u001b[0m         \u001b[0;32mtry\u001b[0m\u001b[0;34m:\u001b[0m\u001b[0;34m\u001b[0m\u001b[0m\n\u001b[0;32m---> 74\u001b[0;31m             \u001b[0mconverters\u001b[0m\u001b[0;34m[\u001b[0m\u001b[0mchangeable\u001b[0m\u001b[0;34m]\u001b[0m \u001b[0;34m=\u001b[0m \u001b[0mget_converter\u001b[0m\u001b[0;34m(\u001b[0m\u001b[0munit2\u001b[0m\u001b[0;34m,\u001b[0m \u001b[0munit1\u001b[0m\u001b[0;34m)\u001b[0m\u001b[0;34m\u001b[0m\u001b[0m\n\u001b[0m\u001b[1;32m     75\u001b[0m         \u001b[0;32mexcept\u001b[0m \u001b[0mUnitsError\u001b[0m\u001b[0;34m:\u001b[0m\u001b[0;34m\u001b[0m\u001b[0m\n",
      "\u001b[0;32m~/anaconda3/lib/python3.6/site-packages/astropy/units/quantity_helper.py\u001b[0m in \u001b[0;36mget_converter\u001b[0;34m(from_unit, to_unit)\u001b[0m\n\u001b[1;32m     31\u001b[0m         return from_unit._apply_equivalencies(\n\u001b[0;32m---> 32\u001b[0;31m                 from_unit, to_unit, get_current_unit_registry().equivalencies)\n\u001b[0m\u001b[1;32m     33\u001b[0m     \u001b[0;32mexcept\u001b[0m \u001b[0mAttributeError\u001b[0m\u001b[0;34m:\u001b[0m\u001b[0;34m\u001b[0m\u001b[0m\n",
      "\u001b[0;32m~/anaconda3/lib/python3.6/site-packages/astropy/units/core.py\u001b[0m in \u001b[0;36m_apply_equivalencies\u001b[0;34m(self, unit, other, equivalencies)\u001b[0m\n\u001b[1;32m    868\u001b[0m             \"{0} and {1} are not convertible\".format(\n\u001b[0;32m--> 869\u001b[0;31m                 unit_str, other_str))\n\u001b[0m\u001b[1;32m    870\u001b[0m \u001b[0;34m\u001b[0m\u001b[0m\n",
      "\u001b[0;31mUnitConversionError\u001b[0m: 's' (time) and 'm' (length) are not convertible",
      "\nDuring handling of the above exception, another exception occurred:\n",
      "\u001b[0;31mUnitConversionError\u001b[0m                       Traceback (most recent call last)",
      "\u001b[0;32m<ipython-input-28-bd2d391bfd6e>\u001b[0m in \u001b[0;36m<module>\u001b[0;34m()\u001b[0m\n\u001b[0;32m----> 1\u001b[0;31m \u001b[0;34m(\u001b[0m\u001b[0;36m10\u001b[0m\u001b[0;34m*\u001b[0m\u001b[0mu\u001b[0m\u001b[0;34m.\u001b[0m\u001b[0mm\u001b[0m\u001b[0;34m)\u001b[0m \u001b[0;34m+\u001b[0m \u001b[0;34m(\u001b[0m\u001b[0;36m2\u001b[0m\u001b[0;34m*\u001b[0m\u001b[0mu\u001b[0m\u001b[0;34m.\u001b[0m\u001b[0ms\u001b[0m\u001b[0;34m)\u001b[0m\u001b[0;34m\u001b[0m\u001b[0m\n\u001b[0m",
      "\u001b[0;32m~/anaconda3/lib/python3.6/site-packages/astropy/units/quantity.py\u001b[0m in \u001b[0;36m__array_ufunc__\u001b[0;34m(self, function, method, *inputs, **kwargs)\u001b[0m\n\u001b[1;32m    618\u001b[0m         \u001b[0;31m# consistent units between two inputs (e.g., in np.add) --\u001b[0m\u001b[0;34m\u001b[0m\u001b[0;34m\u001b[0m\u001b[0m\n\u001b[1;32m    619\u001b[0m         \u001b[0;31m# and the unit of the result (or tuple of units for nout > 1).\u001b[0m\u001b[0;34m\u001b[0m\u001b[0;34m\u001b[0m\u001b[0m\n\u001b[0;32m--> 620\u001b[0;31m         \u001b[0mconverters\u001b[0m\u001b[0;34m,\u001b[0m \u001b[0munit\u001b[0m \u001b[0;34m=\u001b[0m \u001b[0mconverters_and_unit\u001b[0m\u001b[0;34m(\u001b[0m\u001b[0mfunction\u001b[0m\u001b[0;34m,\u001b[0m \u001b[0mmethod\u001b[0m\u001b[0;34m,\u001b[0m \u001b[0;34m*\u001b[0m\u001b[0minputs\u001b[0m\u001b[0;34m)\u001b[0m\u001b[0;34m\u001b[0m\u001b[0m\n\u001b[0m\u001b[1;32m    621\u001b[0m \u001b[0;34m\u001b[0m\u001b[0m\n\u001b[1;32m    622\u001b[0m         \u001b[0mout\u001b[0m \u001b[0;34m=\u001b[0m \u001b[0mkwargs\u001b[0m\u001b[0;34m.\u001b[0m\u001b[0mget\u001b[0m\u001b[0;34m(\u001b[0m\u001b[0;34m'out'\u001b[0m\u001b[0;34m,\u001b[0m \u001b[0;32mNone\u001b[0m\u001b[0;34m)\u001b[0m\u001b[0;34m\u001b[0m\u001b[0m\n",
      "\u001b[0;32m~/anaconda3/lib/python3.6/site-packages/astropy/units/quantity_helper.py\u001b[0m in \u001b[0;36mconverters_and_unit\u001b[0;34m(function, method, *args)\u001b[0m\n\u001b[1;32m    536\u001b[0m \u001b[0;34m\u001b[0m\u001b[0m\n\u001b[1;32m    537\u001b[0m         \u001b[0;31m# Determine possible conversion functions, and the result unit.\u001b[0m\u001b[0;34m\u001b[0m\u001b[0;34m\u001b[0m\u001b[0m\n\u001b[0;32m--> 538\u001b[0;31m         \u001b[0mconverters\u001b[0m\u001b[0;34m,\u001b[0m \u001b[0mresult_unit\u001b[0m \u001b[0;34m=\u001b[0m \u001b[0mufunc_helper\u001b[0m\u001b[0;34m(\u001b[0m\u001b[0mfunction\u001b[0m\u001b[0;34m,\u001b[0m \u001b[0;34m*\u001b[0m\u001b[0munits\u001b[0m\u001b[0;34m)\u001b[0m\u001b[0;34m\u001b[0m\u001b[0m\n\u001b[0m\u001b[1;32m    539\u001b[0m \u001b[0;34m\u001b[0m\u001b[0m\n\u001b[1;32m    540\u001b[0m         \u001b[0;32mif\u001b[0m \u001b[0many\u001b[0m\u001b[0;34m(\u001b[0m\u001b[0mconverter\u001b[0m \u001b[0;32mis\u001b[0m \u001b[0;32mFalse\u001b[0m \u001b[0;32mfor\u001b[0m \u001b[0mconverter\u001b[0m \u001b[0;32min\u001b[0m \u001b[0mconverters\u001b[0m\u001b[0;34m)\u001b[0m\u001b[0;34m:\u001b[0m\u001b[0;34m\u001b[0m\u001b[0m\n",
      "\u001b[0;32m~/anaconda3/lib/python3.6/site-packages/astropy/units/quantity_helper.py\u001b[0m in \u001b[0;36mget_converters_and_unit\u001b[0;34m(f, unit1, unit2)\u001b[0m\n\u001b[1;32m     77\u001b[0m                 \u001b[0;34m\"Can only apply '{0}' function to quantities \"\u001b[0m\u001b[0;34m\u001b[0m\u001b[0m\n\u001b[1;32m     78\u001b[0m                 \u001b[0;34m\"with compatible dimensions\"\u001b[0m\u001b[0;34m\u001b[0m\u001b[0m\n\u001b[0;32m---> 79\u001b[0;31m                 .format(f.__name__))\n\u001b[0m\u001b[1;32m     80\u001b[0m \u001b[0;34m\u001b[0m\u001b[0m\n\u001b[1;32m     81\u001b[0m         \u001b[0;32mreturn\u001b[0m \u001b[0mconverters\u001b[0m\u001b[0;34m,\u001b[0m \u001b[0munit1\u001b[0m\u001b[0;34m\u001b[0m\u001b[0m\n",
      "\u001b[0;31mUnitConversionError\u001b[0m: Can only apply 'add' function to quantities with compatible dimensions"
     ]
    }
   ],
   "source": [
    "(10*u.m) + (2*u.s)"
   ]
  },
  {
   "cell_type": "markdown",
   "metadata": {},
   "source": [
    "Finally, `Quantities` make converting between compatible units incredibly easy:"
   ]
  },
  {
   "cell_type": "code",
   "execution_count": 29,
   "metadata": {},
   "outputs": [
    {
     "data": {
      "text/latex": [
       "$500 \\; \\mathrm{\\frac{cm}{s}}$"
      ],
      "text/plain": [
       "<Quantity 500. cm / s>"
      ]
     },
     "execution_count": 29,
     "metadata": {},
     "output_type": "execute_result"
    }
   ],
   "source": [
    "speed.to(u.cm/u.s)"
   ]
  },
  {
   "cell_type": "markdown",
   "metadata": {},
   "source": [
    "As well as being extremely useful for individual scientists' analysis code, `Quantities` are utilized extensively by ndcube (and SunPy) so we will see them pop up throughout this tutorial."
   ]
  },
  {
   "cell_type": "markdown",
   "metadata": {},
   "source": [
    "The useful packages outlined above still do not solve the problem of handling the data, metadata, WCS, and any supporting data (e.g. uncertainty) separately which is cumbersome, prone to errors and hard to understand later.  It is these problems, among others, that the ndcube package solves.  Let's now delve into ndcube!"
   ]
  },
  {
   "cell_type": "markdown",
   "metadata": {},
   "source": [
    "## NDCube"
   ]
  },
  {
   "cell_type": "markdown",
   "metadata": {},
   "source": [
    "The ndcube package contains two basic classes for handling ND data: `NDCube` and `NDCubeSequence`.  `NDCube` is the fundamental class of the ndcube package and is designed to handle data contained in a single N-D array described by a single set of WCS transformation.  `NDCube` is subclassed from `astropy.nddata.NDData` and so inherits the same attributes for data, wcs, uncertainty, mask, meta, and unit.  The WCS object contained in the ``.wcs`` attribute is subclassed from `astropy.wcs.WCS` and contains a few additional attributes to enable to keep track of its relationship to the data."
   ]
  },
  {
   "cell_type": "markdown",
   "metadata": {},
   "source": [
    "### Initialization"
   ]
  },
  {
   "cell_type": "markdown",
   "metadata": {},
   "source": [
    "To initialize the most basic `NDCube` object, all you need is a `numpy.ndarray` containing the data, and an `astropy.wcs.WCS` object describing the transformation from array-element space to real world coordinates.  Let's use the data we've explored already to make an `NDCube`."
   ]
  },
  {
   "cell_type": "code",
   "execution_count": 31,
   "metadata": {},
   "outputs": [],
   "source": [
    "# Read data from file.\n",
    "hdulist = fits.open(filename0)\n",
    "data = hdulist[1].data\n",
    "input_wcs = astropy.wcs.WCS(hdulist[1].header)\n",
    "hdulist.close()"
   ]
  },
  {
   "cell_type": "code",
   "execution_count": 32,
   "metadata": {},
   "outputs": [],
   "source": [
    "# Create an NDCube.\n",
    "my_cube = NDCube(data, input_wcs)"
   ]
  },
  {
   "cell_type": "code",
   "execution_count": 33,
   "metadata": {},
   "outputs": [
    {
     "data": {
      "text/plain": [
       "NDCube\n",
       "---------------------\n",
       "WCS Keywords\n",
       "\n",
       "Number of WCS axes: 3\n",
       "CTYPE : 'WAVE'  'HPLT-TAN'  'HPLN-TAN'  \n",
       "CRVAL : 1.3319000000000002e-07  -0.07246722222222222  0.003416111111111111  \n",
       "CRPIX : 1.0  274.5  4.0  \n",
       "PC1_1 PC1_2 PC1_3  : 1.0  0.0  0.0  \n",
       "PC2_1 PC2_2 PC2_3  : 0.0  0.999938189983  -0.0338277805205  \n",
       "PC3_1 PC3_2 PC3_3  : 0.0  0.00376150493276  0.999938189983  \n",
       "CDELT : 2.5960000000000002e-12  9.241666666666666e-05  0.0002771444926186111  \n",
       "NAXIS : 333  548  8\n",
       "---------------------\n",
       "Length of NDCube: [  8. 548. 333.] pix\n",
       "Axis Types of NDCube: ('custom:pos.helioprojective.lon', 'custom:pos.helioprojective.lat', 'em.wl')"
      ]
     },
     "execution_count": 33,
     "metadata": {},
     "output_type": "execute_result"
    }
   ],
   "source": [
    "my_cube"
   ]
  },
  {
   "cell_type": "markdown",
   "metadata": {},
   "source": [
    "The data array is stored in the ``mycube.data`` attribute while the WCS object is stored in the ``my_cube.wcs`` attribute.  However, when manipulating/slicing the data is it better to slice the object as a whole.  (See section on Slicing, below.)  So the ``.data`` attribute should only be used to access a specific value(s) in the data."
   ]
  },
  {
   "cell_type": "code",
   "execution_count": 34,
   "metadata": {},
   "outputs": [
    {
     "data": {
      "text/plain": [
       "array([[[-200., -200., -200., ..., -200., -200., -200.],\n",
       "        [-200., -200., -200., ..., -200., -200., -200.],\n",
       "        [-200., -200., -200., ..., -200., -200., -200.],\n",
       "        ...,\n",
       "        [-200., -200., -200., ..., -200., -200., -200.],\n",
       "        [-200., -200., -200., ..., -200., -200., -200.],\n",
       "        [-200., -200., -200., ..., -200., -200., -200.]],\n",
       "\n",
       "       [[-200., -200., -200., ..., -200., -200., -200.],\n",
       "        [-200., -200., -200., ..., -200., -200., -200.],\n",
       "        [-200., -200., -200., ..., -200., -200., -200.],\n",
       "        ...,\n",
       "        [-200., -200., -200., ..., -200., -200., -200.],\n",
       "        [-200., -200., -200., ..., -200., -200., -200.],\n",
       "        [-200., -200., -200., ..., -200., -200., -200.]],\n",
       "\n",
       "       [[-200., -200., -200., ..., -200., -200., -200.],\n",
       "        [-200., -200., -200., ..., -200., -200., -200.],\n",
       "        [-200., -200., -200., ..., -200., -200., -200.],\n",
       "        ...,\n",
       "        [-200., -200., -200., ..., -200., -200., -200.],\n",
       "        [-200., -200., -200., ..., -200., -200., -200.],\n",
       "        [-200., -200., -200., ..., -200., -200., -200.]],\n",
       "\n",
       "       ...,\n",
       "\n",
       "       [[-200., -200., -200., ..., -200., -200., -200.],\n",
       "        [-200., -200., -200., ..., -200., -200., -200.],\n",
       "        [-200., -200., -200., ..., -200., -200., -200.],\n",
       "        ...,\n",
       "        [-200., -200., -200., ..., -200., -200., -200.],\n",
       "        [-200., -200., -200., ..., -200., -200., -200.],\n",
       "        [-200., -200., -200., ..., -200., -200., -200.]],\n",
       "\n",
       "       [[-200., -200., -200., ..., -200., -200., -200.],\n",
       "        [-200., -200., -200., ..., -200., -200., -200.],\n",
       "        [-200., -200., -200., ..., -200., -200., -200.],\n",
       "        ...,\n",
       "        [-200., -200., -200., ..., -200., -200., -200.],\n",
       "        [-200., -200., -200., ..., -200., -200., -200.],\n",
       "        [-200., -200., -200., ..., -200., -200., -200.]],\n",
       "\n",
       "       [[-200., -200., -200., ..., -200., -200., -200.],\n",
       "        [-200., -200., -200., ..., -200., -200., -200.],\n",
       "        [-200., -200., -200., ..., -200., -200., -200.],\n",
       "        ...,\n",
       "        [-200., -200., -200., ..., -200., -200., -200.],\n",
       "        [-200., -200., -200., ..., -200., -200., -200.],\n",
       "        [-200., -200., -200., ..., -200., -200., -200.]]], dtype=float32)"
      ]
     },
     "execution_count": 34,
     "metadata": {},
     "output_type": "execute_result"
    }
   ],
   "source": [
    "my_cube.data"
   ]
  },
  {
   "cell_type": "code",
   "execution_count": 35,
   "metadata": {},
   "outputs": [
    {
     "data": {
      "text/plain": [
       "WCS Keywords\n",
       "\n",
       "Number of WCS axes: 3\n",
       "CTYPE : 'WAVE'  'HPLT-TAN'  'HPLN-TAN'  \n",
       "CRVAL : 1.3319000000000002e-07  -0.07246722222222222  0.003416111111111111  \n",
       "CRPIX : 1.0  274.5  4.0  \n",
       "PC1_1 PC1_2 PC1_3  : 1.0  0.0  0.0  \n",
       "PC2_1 PC2_2 PC2_3  : 0.0  0.999938189983  -0.0338277805205  \n",
       "PC3_1 PC3_2 PC3_3  : 0.0  0.00376150493276  0.999938189983  \n",
       "CDELT : 2.5960000000000002e-12  9.241666666666666e-05  0.0002771444926186111  \n",
       "NAXIS : 333  548  8"
      ]
     },
     "execution_count": 35,
     "metadata": {},
     "output_type": "execute_result"
    }
   ],
   "source": [
    "my_cube.wcs"
   ]
  },
  {
   "cell_type": "markdown",
   "metadata": {},
   "source": [
    "Another thing to note is that as part of the initialization, the WCS object is converted from an `astropy.wcs.WCS` to an `ndcube.utils.wcs.WCS` object which has some additional features for tracking \"missing axes\", etc. (See section on Missing Axes.)\n",
    "\n",
    "Thanks to the fact that `NDCube` is subclassed from `astropy.nddata.NDData`, you can also supply additional data to the `NDCube` instance.  These include: metadata (`dict` or dict-like) located at `NDCube.meta`; a data mask (boolean `numpy.ndarray`) located at`NDCube.mask` highlighting, for example, reliable and unreliable pixels; an uncertainty array (`numpy.ndarray`) located at `NDCube.uncertainty` describing the uncertainty of each data array value; and a unit (`astropy.units.Unit` or unit `str`). For example:"
   ]
  },
  {
   "cell_type": "code",
   "execution_count": 36,
   "metadata": {},
   "outputs": [
    {
     "name": "stdout",
     "output_type": "stream",
     "text": [
      "INFO: uncertainty should have attribute uncertainty_type. [astropy.nddata.nddata]\n"
     ]
    },
    {
     "name": "stderr",
     "output_type": "stream",
     "text": [
      "/Users/dnryan/anaconda3/lib/python3.6/site-packages/ipykernel_launcher.py:3: RuntimeWarning: invalid value encountered in sqrt\n",
      "  This is separate from the ipykernel package so we can avoid doing imports until\n"
     ]
    }
   ],
   "source": [
    "mask = np.zeros_like(data, dtype=bool)\n",
    "meta = {\"Description\": \"This is example NDCube metadata.\"}\n",
    "my_cube = NDCube(data, input_wcs, uncertainty=np.sqrt(data), mask=mask, meta=meta, unit=None)"
   ]
  },
  {
   "cell_type": "markdown",
   "metadata": {},
   "source": [
    "N.B. The above warning is due to the fact that `astropy.nddata.uncertainty` is recommended to have an ``uncertainty_type`` attribute giving a string describing the type of uncertainty.  However, this is not required."
   ]
  },
  {
   "cell_type": "code",
   "execution_count": 37,
   "metadata": {},
   "outputs": [
    {
     "data": {
      "text/plain": [
       "array([[[False, False, False, ..., False, False, False],\n",
       "        [False, False, False, ..., False, False, False],\n",
       "        [False, False, False, ..., False, False, False],\n",
       "        ...,\n",
       "        [False, False, False, ..., False, False, False],\n",
       "        [False, False, False, ..., False, False, False],\n",
       "        [False, False, False, ..., False, False, False]],\n",
       "\n",
       "       [[False, False, False, ..., False, False, False],\n",
       "        [False, False, False, ..., False, False, False],\n",
       "        [False, False, False, ..., False, False, False],\n",
       "        ...,\n",
       "        [False, False, False, ..., False, False, False],\n",
       "        [False, False, False, ..., False, False, False],\n",
       "        [False, False, False, ..., False, False, False]],\n",
       "\n",
       "       [[False, False, False, ..., False, False, False],\n",
       "        [False, False, False, ..., False, False, False],\n",
       "        [False, False, False, ..., False, False, False],\n",
       "        ...,\n",
       "        [False, False, False, ..., False, False, False],\n",
       "        [False, False, False, ..., False, False, False],\n",
       "        [False, False, False, ..., False, False, False]],\n",
       "\n",
       "       ...,\n",
       "\n",
       "       [[False, False, False, ..., False, False, False],\n",
       "        [False, False, False, ..., False, False, False],\n",
       "        [False, False, False, ..., False, False, False],\n",
       "        ...,\n",
       "        [False, False, False, ..., False, False, False],\n",
       "        [False, False, False, ..., False, False, False],\n",
       "        [False, False, False, ..., False, False, False]],\n",
       "\n",
       "       [[False, False, False, ..., False, False, False],\n",
       "        [False, False, False, ..., False, False, False],\n",
       "        [False, False, False, ..., False, False, False],\n",
       "        ...,\n",
       "        [False, False, False, ..., False, False, False],\n",
       "        [False, False, False, ..., False, False, False],\n",
       "        [False, False, False, ..., False, False, False]],\n",
       "\n",
       "       [[False, False, False, ..., False, False, False],\n",
       "        [False, False, False, ..., False, False, False],\n",
       "        [False, False, False, ..., False, False, False],\n",
       "        ...,\n",
       "        [False, False, False, ..., False, False, False],\n",
       "        [False, False, False, ..., False, False, False],\n",
       "        [False, False, False, ..., False, False, False]]])"
      ]
     },
     "execution_count": 37,
     "metadata": {},
     "output_type": "execute_result"
    }
   ],
   "source": [
    "my_cube.mask"
   ]
  },
  {
   "cell_type": "code",
   "execution_count": 38,
   "metadata": {},
   "outputs": [
    {
     "data": {
      "text/plain": [
       "{'Description': 'This is example NDCube metadata.'}"
      ]
     },
     "execution_count": 38,
     "metadata": {},
     "output_type": "execute_result"
    }
   ],
   "source": [
    "my_cube.meta"
   ]
  },
  {
   "cell_type": "markdown",
   "metadata": {},
   "source": [
    "### Dimensions"
   ]
  },
  {
   "cell_type": "markdown",
   "metadata": {},
   "source": [
    "`NDCube` has useful properties for inspecting its data shape and axis types, namely `NDCube.dimensions` and `NDCube.world_axis_physical_types`:"
   ]
  },
  {
   "cell_type": "code",
   "execution_count": 39,
   "metadata": {},
   "outputs": [
    {
     "data": {
      "text/latex": [
       "$[8,~548,~333] \\; \\mathrm{pix}$"
      ],
      "text/plain": [
       "<Quantity [  8., 548., 333.] pix>"
      ]
     },
     "execution_count": 39,
     "metadata": {},
     "output_type": "execute_result"
    }
   ],
   "source": [
    "my_cube.dimensions"
   ]
  },
  {
   "cell_type": "code",
   "execution_count": 40,
   "metadata": {},
   "outputs": [
    {
     "data": {
      "text/plain": [
       "('custom:pos.helioprojective.lon', 'custom:pos.helioprojective.lat', 'em.wl')"
      ]
     },
     "execution_count": 40,
     "metadata": {},
     "output_type": "execute_result"
    }
   ],
   "source": [
    "my_cube.world_axis_physical_types"
   ]
  },
  {
   "cell_type": "markdown",
   "metadata": {},
   "source": [
    "`NDCube.dimensions` returns an `Quantity` of pixel units giving the length of each dimension in the `NDCube` while `NDCube.world_axis_physical_types` returns an iterable of strings denoting the type of physical property represented by each axis.  The axis names are in accordance with the International Virtual Observatory Alliance (IVOA) UCD1+ controlled vocabulary (http://www.ivoa.net/documents/REC/UCD/UCDlist-20070402.html). Here the shape and axis types are given in data order, not WCS order."
   ]
  },
  {
   "cell_type": "markdown",
   "metadata": {},
   "source": [
    "### Slicing"
   ]
  },
  {
   "cell_type": "markdown",
   "metadata": {},
   "source": [
    "Arguably NDCube's most powerful capability is its slicing.  Slicing an `NDCube` instance using the standard slicing notation allows users to access sub-regions of their data while simultaneously slicing not only the other array attributes (e.g. uncertainty, mask, etc.) but also the WCS object.  This ensures that even though the data array has changed size and shape, each array element will still correspond to the same real world coordinates as they did before.  An example of how to slice a 3-D `NDCube` object is:"
   ]
  },
  {
   "cell_type": "code",
   "execution_count": 41,
   "metadata": {},
   "outputs": [],
   "source": [
    "my_cube_roi = my_cube[3:5, 10:100, 30:37]"
   ]
  },
  {
   "cell_type": "code",
   "execution_count": 42,
   "metadata": {},
   "outputs": [
    {
     "data": {
      "text/latex": [
       "$[2,~90,~7] \\; \\mathrm{pix}$"
      ],
      "text/plain": [
       "<Quantity [ 2., 90.,  7.] pix>"
      ]
     },
     "execution_count": 42,
     "metadata": {},
     "output_type": "execute_result"
    }
   ],
   "source": [
    "my_cube_roi.dimensions"
   ]
  },
  {
   "cell_type": "markdown",
   "metadata": {},
   "source": [
    "Slicing can also reduce the dimension of an `NDCube`, e.g.:"
   ]
  },
  {
   "cell_type": "code",
   "execution_count": 43,
   "metadata": {},
   "outputs": [],
   "source": [
    "my_2d_cube = my_cube[0, 10:100, 30:37]"
   ]
  },
  {
   "cell_type": "code",
   "execution_count": 44,
   "metadata": {},
   "outputs": [
    {
     "data": {
      "text/latex": [
       "$[90,~7] \\; \\mathrm{pix}$"
      ],
      "text/plain": [
       "<Quantity [90.,  7.] pix>"
      ]
     },
     "execution_count": 44,
     "metadata": {},
     "output_type": "execute_result"
    }
   ],
   "source": [
    "my_2d_cube.dimensions"
   ]
  },
  {
   "cell_type": "markdown",
   "metadata": {},
   "source": [
    "In addition to slicing by index, `NDCube` supports a basic version of slicing/indexing by real world coordinates via the `NDCube.crop_by_coords` method.  This takes a list of `astropy.units.Quantity` instances representing the minimum real world coordinates of the region of interest in each dimension.  The order of the coordinates must be the same as the order of the data axes.  A second iterable of `Quantities` must also be provided which gives the widths of the region of interest in each data axis:"
   ]
  },
  {
   "cell_type": "code",
   "execution_count": 45,
   "metadata": {},
   "outputs": [],
   "source": [
    "my_cube_roi = my_cube.crop_by_coords(\n",
    "    [u.Quantity(0.003, unit=\"deg\"), u.Quantity(-0.09, unit=\"deg\"), u.Quantity(1.333e-7, unit=\"m\")],\n",
    "    [u.Quantity(0.001, unit=\"deg\"), u.Quantity(0.04, unit=\"deg\"), u.Quantity(0.001e-7, unit=\"m\")])"
   ]
  },
  {
   "cell_type": "code",
   "execution_count": 46,
   "metadata": {},
   "outputs": [
    {
     "data": {
      "text/latex": [
       "$[2,~433,~39] \\; \\mathrm{pix}$"
      ],
      "text/plain": [
       "<Quantity [  2., 433.,  39.] pix>"
      ]
     },
     "execution_count": 46,
     "metadata": {},
     "output_type": "execute_result"
    }
   ],
   "source": [
    "my_cube_roi.dimensions"
   ]
  },
  {
   "cell_type": "markdown",
   "metadata": {},
   "source": [
    "This method does not rebin or interpolate the data if the region of interest does not perfectly map onto the array's \"pixel\" grid.  Instead it translates from real world to pixel coordinates and rounds to the nearest integer pixel before indexing/slicing the `NDCube` instance. Therefore it should be noted that slightly different inputs to this method can result in the same output."
   ]
  },
  {
   "cell_type": "markdown",
   "metadata": {},
   "source": [
    "### Missing Axes"
   ]
  },
  {
   "cell_type": "markdown",
   "metadata": {},
   "source": [
    "Some WCS axis types are coupled.  For example, the helioprojective latitude and longitude of the Sun as viewed by a camera on a satellite orbiting Earth do not map independently to the pixel grid.  Instead, the longitude changes as we move vertically along the same x-position if that single x-position is aligned anywhere other than perfectly north-south along the Sun's central meridian.  The analagous is true of the latitude for any y-pixel position not perfectly aligned with the Sun's equator. Therefore, knowledge of both the latitude and longitude must be known to derive the pixel position along a single spatial axis and vice versa.\n",
    "\n",
    "However, there are occasions when a data array may only contain one spatial axis, e.g. data from a slit-spectrograph.  In this case, simply extracting the corresponding latitude or longitude axis from the WCS object would cause the translations to break.\n",
    "\n",
    "To deal with this scenario, `NDCube` supports \"missing\" WCS axes.  An additional attribute is added to the WCS object (`NDCube.wcs.missing_axis`) which is a list of `bool` type indicating which WCS axes do not have a corresponding data axis.  This allows translation information on coupled axes to persist even if the data axes do not.  This feature also makes it possible for `NDCube` to seamlessly reduce the data dimensionality via slicing.  In the majority of cases a user will not need to worry about this feature.  But it is useful to be aware of as many of the coordinate transformation functionalities of `~ndcube.NDCube` are only made possible by the missing axis feature.  It also helps to explain why it is recommended to slice an `NDCube` instance as a whole rather than slicing the `.data`, `.uncertainty`, etc. arrays individually."
   ]
  },
  {
   "cell_type": "code",
   "execution_count": 48,
   "metadata": {},
   "outputs": [
    {
     "data": {
      "text/plain": [
       "[False, False, False]"
      ]
     },
     "execution_count": 48,
     "metadata": {},
     "output_type": "execute_result"
    }
   ],
   "source": [
    "my_cube.missing_axis"
   ]
  },
  {
   "cell_type": "markdown",
   "metadata": {},
   "source": [
    "### Extra Coordinates"
   ]
  },
  {
   "cell_type": "markdown",
   "metadata": {},
   "source": [
    "In the case of some datasets, there may be additional translations between the array elements and real world coordinates that are not included in the WCS.  Consider the sample data used in this tutorial.  The first axis corresponds to the x-position of the slit as it steps across a region of interest in a given pattern.  The second corresponds to latitude along the slit.  And the third axis corresponds to wavelength.  However, the first axis also corresponds to time, as it takes time for the slit to move and then take another exposure. It would be very useful to have the measurement times also associated with the x-axis.  However, the WCS only contains one translation per axis.\n",
    "\n",
    "Fortunately, `NDCube` has a solution to this.  Values at integer (pixel) steps along an axis can be stored within the object and accessed via the `NDCube.extra_coords` property. To attach extra coordinates to an `NDCube` instance, provide an iterable of tuples of the form (`str`, `int`, `Quantity` or array-like) during instantiation.  The 0th entry gives the name of the coordinate, the 1st entry gives the data axis to which the extra coordinate corresponds, and the 2nd entry gives the value of that coordinate at each pixel along the axis.  So, to add timestamps along the 0th axis of ``my_cube`` we do:"
   ]
  },
  {
   "cell_type": "code",
   "execution_count": 49,
   "metadata": {},
   "outputs": [
    {
     "name": "stdout",
     "output_type": "stream",
     "text": [
      "INFO: uncertainty should have attribute uncertainty_type. [astropy.nddata.nddata]\n"
     ]
    },
    {
     "name": "stderr",
     "output_type": "stream",
     "text": [
      "/Users/dnryan/anaconda3/lib/python3.6/site-packages/ipykernel_launcher.py:6: RuntimeWarning: invalid value encountered in sqrt\n",
      "  \n"
     ]
    }
   ],
   "source": [
    "# Define our timestamps.  Must be same length as data axis.\n",
    "axis_length = int(my_cube.dimensions[0].value)\n",
    "timestamps = [datetime(2000, 1, 1)+timedelta(minutes=i) for i in range(axis_length)]\n",
    "extra_coords_input = [(\"time\", 0, timestamps)]\n",
    "# Generate NDCube as above, except now set extra_coords kwarg.\n",
    "my_cube = NDCube(data, input_wcs, uncertainty=np.sqrt(data), mask=mask, meta=meta, unit=None, \n",
    "                 extra_coords=extra_coords_input)"
   ]
  },
  {
   "cell_type": "markdown",
   "metadata": {},
   "source": [
    "The `NDCube.extra_coords` property returns a `dict` where each key is a coordinate name entered by the user.  The value of each key is itself another dictionary with keys ``'axis'`` and ``'value'`` giving the corresponding data axis number and coordinate value at each pixel as supplied by the user:"
   ]
  },
  {
   "cell_type": "code",
   "execution_count": 50,
   "metadata": {},
   "outputs": [
    {
     "data": {
      "text/plain": [
       "{'time': {'axis': 0,\n",
       "  'value': [datetime.datetime(2000, 1, 1, 0, 0),\n",
       "   datetime.datetime(2000, 1, 1, 0, 1),\n",
       "   datetime.datetime(2000, 1, 1, 0, 2),\n",
       "   datetime.datetime(2000, 1, 1, 0, 3),\n",
       "   datetime.datetime(2000, 1, 1, 0, 4),\n",
       "   datetime.datetime(2000, 1, 1, 0, 5),\n",
       "   datetime.datetime(2000, 1, 1, 0, 6),\n",
       "   datetime.datetime(2000, 1, 1, 0, 7)]}}"
      ]
     },
     "execution_count": 50,
     "metadata": {},
     "output_type": "execute_result"
    }
   ],
   "source": [
    "my_cube.extra_coords"
   ]
  },
  {
   "cell_type": "markdown",
   "metadata": {},
   "source": [
    "Just like the data array and the WCS object, the extra coordinates are sliced automatically when the `NDCube` instance is sliced.  So if we take the first slice of ``my_cube`` in the 0th axis, the extra time coordinate will only contain the value from that slice."
   ]
  },
  {
   "cell_type": "code",
   "execution_count": 51,
   "metadata": {},
   "outputs": [
    {
     "data": {
      "text/plain": [
       "{'time': {'axis': None, 'value': datetime.datetime(2000, 1, 1, 0, 0)}}"
      ]
     },
     "execution_count": 51,
     "metadata": {},
     "output_type": "execute_result"
    }
   ],
   "source": [
    "my_cube[0].extra_coords"
   ]
  },
  {
   "cell_type": "markdown",
   "metadata": {},
   "source": [
    "Note that the ``axis`` value is now ``None`` because the dimensionality of the `NDCube` has been reduced via the slicing"
   ]
  },
  {
   "cell_type": "code",
   "execution_count": 52,
   "metadata": {},
   "outputs": [
    {
     "data": {
      "text/latex": [
       "$[548,~333] \\; \\mathrm{pix}$"
      ],
      "text/plain": [
       "<Quantity [548., 333.] pix>"
      ]
     },
     "execution_count": 52,
     "metadata": {},
     "output_type": "execute_result"
    }
   ],
   "source": [
    "my_cube[0].dimensions"
   ]
  },
  {
   "cell_type": "markdown",
   "metadata": {},
   "source": [
    "and so the ``time`` extra coordinate no longer corresponds to a data axis.  This would not have been the case if we had done the slicing so the length of the 0th axis was >1."
   ]
  },
  {
   "cell_type": "code",
   "execution_count": 53,
   "metadata": {},
   "outputs": [
    {
     "data": {
      "text/latex": [
       "$[2,~548,~333] \\; \\mathrm{pix}$"
      ],
      "text/plain": [
       "<Quantity [  2., 548., 333.] pix>"
      ]
     },
     "execution_count": 53,
     "metadata": {},
     "output_type": "execute_result"
    }
   ],
   "source": [
    "my_cube[0:2].dimensions"
   ]
  },
  {
   "cell_type": "code",
   "execution_count": 54,
   "metadata": {},
   "outputs": [
    {
     "data": {
      "text/plain": [
       "{'time': {'axis': 0,\n",
       "  'value': [datetime.datetime(2000, 1, 1, 0, 0),\n",
       "   datetime.datetime(2000, 1, 1, 0, 1)]}}"
      ]
     },
     "execution_count": 54,
     "metadata": {},
     "output_type": "execute_result"
    }
   ],
   "source": [
    "my_cube[0:2].extra_coords"
   ]
  },
  {
   "cell_type": "markdown",
   "metadata": {},
   "source": [
    "### Plotting"
   ]
  },
  {
   "cell_type": "markdown",
   "metadata": {},
   "source": [
    "To quickly and easily visualize N-D data, `~ndcube.NDCube` provides a simple-to-use, yet powerful plotting method, `~ndcube.NDCube.plot`, which produces a sensible visualization based on the dimensionality of the data.  It is intended to be a useful quicklook tool and not a replacement for high quality plots or animations, e.g. for publications.  The plot method can be called very simply, like so:"
   ]
  },
  {
   "cell_type": "code",
   "execution_count": 55,
   "metadata": {},
   "outputs": [
    {
     "data": {
      "application/javascript": [
       "/* Put everything inside the global mpl namespace */\n",
       "window.mpl = {};\n",
       "\n",
       "\n",
       "mpl.get_websocket_type = function() {\n",
       "    if (typeof(WebSocket) !== 'undefined') {\n",
       "        return WebSocket;\n",
       "    } else if (typeof(MozWebSocket) !== 'undefined') {\n",
       "        return MozWebSocket;\n",
       "    } else {\n",
       "        alert('Your browser does not have WebSocket support.' +\n",
       "              'Please try Chrome, Safari or Firefox ≥ 6. ' +\n",
       "              'Firefox 4 and 5 are also supported but you ' +\n",
       "              'have to enable WebSockets in about:config.');\n",
       "    };\n",
       "}\n",
       "\n",
       "mpl.figure = function(figure_id, websocket, ondownload, parent_element) {\n",
       "    this.id = figure_id;\n",
       "\n",
       "    this.ws = websocket;\n",
       "\n",
       "    this.supports_binary = (this.ws.binaryType != undefined);\n",
       "\n",
       "    if (!this.supports_binary) {\n",
       "        var warnings = document.getElementById(\"mpl-warnings\");\n",
       "        if (warnings) {\n",
       "            warnings.style.display = 'block';\n",
       "            warnings.textContent = (\n",
       "                \"This browser does not support binary websocket messages. \" +\n",
       "                    \"Performance may be slow.\");\n",
       "        }\n",
       "    }\n",
       "\n",
       "    this.imageObj = new Image();\n",
       "\n",
       "    this.context = undefined;\n",
       "    this.message = undefined;\n",
       "    this.canvas = undefined;\n",
       "    this.rubberband_canvas = undefined;\n",
       "    this.rubberband_context = undefined;\n",
       "    this.format_dropdown = undefined;\n",
       "\n",
       "    this.image_mode = 'full';\n",
       "\n",
       "    this.root = $('<div/>');\n",
       "    this._root_extra_style(this.root)\n",
       "    this.root.attr('style', 'display: inline-block');\n",
       "\n",
       "    $(parent_element).append(this.root);\n",
       "\n",
       "    this._init_header(this);\n",
       "    this._init_canvas(this);\n",
       "    this._init_toolbar(this);\n",
       "\n",
       "    var fig = this;\n",
       "\n",
       "    this.waiting = false;\n",
       "\n",
       "    this.ws.onopen =  function () {\n",
       "            fig.send_message(\"supports_binary\", {value: fig.supports_binary});\n",
       "            fig.send_message(\"send_image_mode\", {});\n",
       "            if (mpl.ratio != 1) {\n",
       "                fig.send_message(\"set_dpi_ratio\", {'dpi_ratio': mpl.ratio});\n",
       "            }\n",
       "            fig.send_message(\"refresh\", {});\n",
       "        }\n",
       "\n",
       "    this.imageObj.onload = function() {\n",
       "            if (fig.image_mode == 'full') {\n",
       "                // Full images could contain transparency (where diff images\n",
       "                // almost always do), so we need to clear the canvas so that\n",
       "                // there is no ghosting.\n",
       "                fig.context.clearRect(0, 0, fig.canvas.width, fig.canvas.height);\n",
       "            }\n",
       "            fig.context.drawImage(fig.imageObj, 0, 0);\n",
       "        };\n",
       "\n",
       "    this.imageObj.onunload = function() {\n",
       "        fig.ws.close();\n",
       "    }\n",
       "\n",
       "    this.ws.onmessage = this._make_on_message_function(this);\n",
       "\n",
       "    this.ondownload = ondownload;\n",
       "}\n",
       "\n",
       "mpl.figure.prototype._init_header = function() {\n",
       "    var titlebar = $(\n",
       "        '<div class=\"ui-dialog-titlebar ui-widget-header ui-corner-all ' +\n",
       "        'ui-helper-clearfix\"/>');\n",
       "    var titletext = $(\n",
       "        '<div class=\"ui-dialog-title\" style=\"width: 100%; ' +\n",
       "        'text-align: center; padding: 3px;\"/>');\n",
       "    titlebar.append(titletext)\n",
       "    this.root.append(titlebar);\n",
       "    this.header = titletext[0];\n",
       "}\n",
       "\n",
       "\n",
       "\n",
       "mpl.figure.prototype._canvas_extra_style = function(canvas_div) {\n",
       "\n",
       "}\n",
       "\n",
       "\n",
       "mpl.figure.prototype._root_extra_style = function(canvas_div) {\n",
       "\n",
       "}\n",
       "\n",
       "mpl.figure.prototype._init_canvas = function() {\n",
       "    var fig = this;\n",
       "\n",
       "    var canvas_div = $('<div/>');\n",
       "\n",
       "    canvas_div.attr('style', 'position: relative; clear: both; outline: 0');\n",
       "\n",
       "    function canvas_keyboard_event(event) {\n",
       "        return fig.key_event(event, event['data']);\n",
       "    }\n",
       "\n",
       "    canvas_div.keydown('key_press', canvas_keyboard_event);\n",
       "    canvas_div.keyup('key_release', canvas_keyboard_event);\n",
       "    this.canvas_div = canvas_div\n",
       "    this._canvas_extra_style(canvas_div)\n",
       "    this.root.append(canvas_div);\n",
       "\n",
       "    var canvas = $('<canvas/>');\n",
       "    canvas.addClass('mpl-canvas');\n",
       "    canvas.attr('style', \"left: 0; top: 0; z-index: 0; outline: 0\")\n",
       "\n",
       "    this.canvas = canvas[0];\n",
       "    this.context = canvas[0].getContext(\"2d\");\n",
       "\n",
       "    var backingStore = this.context.backingStorePixelRatio ||\n",
       "\tthis.context.webkitBackingStorePixelRatio ||\n",
       "\tthis.context.mozBackingStorePixelRatio ||\n",
       "\tthis.context.msBackingStorePixelRatio ||\n",
       "\tthis.context.oBackingStorePixelRatio ||\n",
       "\tthis.context.backingStorePixelRatio || 1;\n",
       "\n",
       "    mpl.ratio = (window.devicePixelRatio || 1) / backingStore;\n",
       "\n",
       "    var rubberband = $('<canvas/>');\n",
       "    rubberband.attr('style', \"position: absolute; left: 0; top: 0; z-index: 1;\")\n",
       "\n",
       "    var pass_mouse_events = true;\n",
       "\n",
       "    canvas_div.resizable({\n",
       "        start: function(event, ui) {\n",
       "            pass_mouse_events = false;\n",
       "        },\n",
       "        resize: function(event, ui) {\n",
       "            fig.request_resize(ui.size.width, ui.size.height);\n",
       "        },\n",
       "        stop: function(event, ui) {\n",
       "            pass_mouse_events = true;\n",
       "            fig.request_resize(ui.size.width, ui.size.height);\n",
       "        },\n",
       "    });\n",
       "\n",
       "    function mouse_event_fn(event) {\n",
       "        if (pass_mouse_events)\n",
       "            return fig.mouse_event(event, event['data']);\n",
       "    }\n",
       "\n",
       "    rubberband.mousedown('button_press', mouse_event_fn);\n",
       "    rubberband.mouseup('button_release', mouse_event_fn);\n",
       "    // Throttle sequential mouse events to 1 every 20ms.\n",
       "    rubberband.mousemove('motion_notify', mouse_event_fn);\n",
       "\n",
       "    rubberband.mouseenter('figure_enter', mouse_event_fn);\n",
       "    rubberband.mouseleave('figure_leave', mouse_event_fn);\n",
       "\n",
       "    canvas_div.on(\"wheel\", function (event) {\n",
       "        event = event.originalEvent;\n",
       "        event['data'] = 'scroll'\n",
       "        if (event.deltaY < 0) {\n",
       "            event.step = 1;\n",
       "        } else {\n",
       "            event.step = -1;\n",
       "        }\n",
       "        mouse_event_fn(event);\n",
       "    });\n",
       "\n",
       "    canvas_div.append(canvas);\n",
       "    canvas_div.append(rubberband);\n",
       "\n",
       "    this.rubberband = rubberband;\n",
       "    this.rubberband_canvas = rubberband[0];\n",
       "    this.rubberband_context = rubberband[0].getContext(\"2d\");\n",
       "    this.rubberband_context.strokeStyle = \"#000000\";\n",
       "\n",
       "    this._resize_canvas = function(width, height) {\n",
       "        // Keep the size of the canvas, canvas container, and rubber band\n",
       "        // canvas in synch.\n",
       "        canvas_div.css('width', width)\n",
       "        canvas_div.css('height', height)\n",
       "\n",
       "        canvas.attr('width', width * mpl.ratio);\n",
       "        canvas.attr('height', height * mpl.ratio);\n",
       "        canvas.attr('style', 'width: ' + width + 'px; height: ' + height + 'px;');\n",
       "\n",
       "        rubberband.attr('width', width);\n",
       "        rubberband.attr('height', height);\n",
       "    }\n",
       "\n",
       "    // Set the figure to an initial 600x600px, this will subsequently be updated\n",
       "    // upon first draw.\n",
       "    this._resize_canvas(600, 600);\n",
       "\n",
       "    // Disable right mouse context menu.\n",
       "    $(this.rubberband_canvas).bind(\"contextmenu\",function(e){\n",
       "        return false;\n",
       "    });\n",
       "\n",
       "    function set_focus () {\n",
       "        canvas.focus();\n",
       "        canvas_div.focus();\n",
       "    }\n",
       "\n",
       "    window.setTimeout(set_focus, 100);\n",
       "}\n",
       "\n",
       "mpl.figure.prototype._init_toolbar = function() {\n",
       "    var fig = this;\n",
       "\n",
       "    var nav_element = $('<div/>')\n",
       "    nav_element.attr('style', 'width: 100%');\n",
       "    this.root.append(nav_element);\n",
       "\n",
       "    // Define a callback function for later on.\n",
       "    function toolbar_event(event) {\n",
       "        return fig.toolbar_button_onclick(event['data']);\n",
       "    }\n",
       "    function toolbar_mouse_event(event) {\n",
       "        return fig.toolbar_button_onmouseover(event['data']);\n",
       "    }\n",
       "\n",
       "    for(var toolbar_ind in mpl.toolbar_items) {\n",
       "        var name = mpl.toolbar_items[toolbar_ind][0];\n",
       "        var tooltip = mpl.toolbar_items[toolbar_ind][1];\n",
       "        var image = mpl.toolbar_items[toolbar_ind][2];\n",
       "        var method_name = mpl.toolbar_items[toolbar_ind][3];\n",
       "\n",
       "        if (!name) {\n",
       "            // put a spacer in here.\n",
       "            continue;\n",
       "        }\n",
       "        var button = $('<button/>');\n",
       "        button.addClass('ui-button ui-widget ui-state-default ui-corner-all ' +\n",
       "                        'ui-button-icon-only');\n",
       "        button.attr('role', 'button');\n",
       "        button.attr('aria-disabled', 'false');\n",
       "        button.click(method_name, toolbar_event);\n",
       "        button.mouseover(tooltip, toolbar_mouse_event);\n",
       "\n",
       "        var icon_img = $('<span/>');\n",
       "        icon_img.addClass('ui-button-icon-primary ui-icon');\n",
       "        icon_img.addClass(image);\n",
       "        icon_img.addClass('ui-corner-all');\n",
       "\n",
       "        var tooltip_span = $('<span/>');\n",
       "        tooltip_span.addClass('ui-button-text');\n",
       "        tooltip_span.html(tooltip);\n",
       "\n",
       "        button.append(icon_img);\n",
       "        button.append(tooltip_span);\n",
       "\n",
       "        nav_element.append(button);\n",
       "    }\n",
       "\n",
       "    var fmt_picker_span = $('<span/>');\n",
       "\n",
       "    var fmt_picker = $('<select/>');\n",
       "    fmt_picker.addClass('mpl-toolbar-option ui-widget ui-widget-content');\n",
       "    fmt_picker_span.append(fmt_picker);\n",
       "    nav_element.append(fmt_picker_span);\n",
       "    this.format_dropdown = fmt_picker[0];\n",
       "\n",
       "    for (var ind in mpl.extensions) {\n",
       "        var fmt = mpl.extensions[ind];\n",
       "        var option = $(\n",
       "            '<option/>', {selected: fmt === mpl.default_extension}).html(fmt);\n",
       "        fmt_picker.append(option)\n",
       "    }\n",
       "\n",
       "    // Add hover states to the ui-buttons\n",
       "    $( \".ui-button\" ).hover(\n",
       "        function() { $(this).addClass(\"ui-state-hover\");},\n",
       "        function() { $(this).removeClass(\"ui-state-hover\");}\n",
       "    );\n",
       "\n",
       "    var status_bar = $('<span class=\"mpl-message\"/>');\n",
       "    nav_element.append(status_bar);\n",
       "    this.message = status_bar[0];\n",
       "}\n",
       "\n",
       "mpl.figure.prototype.request_resize = function(x_pixels, y_pixels) {\n",
       "    // Request matplotlib to resize the figure. Matplotlib will then trigger a resize in the client,\n",
       "    // which will in turn request a refresh of the image.\n",
       "    this.send_message('resize', {'width': x_pixels, 'height': y_pixels});\n",
       "}\n",
       "\n",
       "mpl.figure.prototype.send_message = function(type, properties) {\n",
       "    properties['type'] = type;\n",
       "    properties['figure_id'] = this.id;\n",
       "    this.ws.send(JSON.stringify(properties));\n",
       "}\n",
       "\n",
       "mpl.figure.prototype.send_draw_message = function() {\n",
       "    if (!this.waiting) {\n",
       "        this.waiting = true;\n",
       "        this.ws.send(JSON.stringify({type: \"draw\", figure_id: this.id}));\n",
       "    }\n",
       "}\n",
       "\n",
       "\n",
       "mpl.figure.prototype.handle_save = function(fig, msg) {\n",
       "    var format_dropdown = fig.format_dropdown;\n",
       "    var format = format_dropdown.options[format_dropdown.selectedIndex].value;\n",
       "    fig.ondownload(fig, format);\n",
       "}\n",
       "\n",
       "\n",
       "mpl.figure.prototype.handle_resize = function(fig, msg) {\n",
       "    var size = msg['size'];\n",
       "    if (size[0] != fig.canvas.width || size[1] != fig.canvas.height) {\n",
       "        fig._resize_canvas(size[0], size[1]);\n",
       "        fig.send_message(\"refresh\", {});\n",
       "    };\n",
       "}\n",
       "\n",
       "mpl.figure.prototype.handle_rubberband = function(fig, msg) {\n",
       "    var x0 = msg['x0'] / mpl.ratio;\n",
       "    var y0 = (fig.canvas.height - msg['y0']) / mpl.ratio;\n",
       "    var x1 = msg['x1'] / mpl.ratio;\n",
       "    var y1 = (fig.canvas.height - msg['y1']) / mpl.ratio;\n",
       "    x0 = Math.floor(x0) + 0.5;\n",
       "    y0 = Math.floor(y0) + 0.5;\n",
       "    x1 = Math.floor(x1) + 0.5;\n",
       "    y1 = Math.floor(y1) + 0.5;\n",
       "    var min_x = Math.min(x0, x1);\n",
       "    var min_y = Math.min(y0, y1);\n",
       "    var width = Math.abs(x1 - x0);\n",
       "    var height = Math.abs(y1 - y0);\n",
       "\n",
       "    fig.rubberband_context.clearRect(\n",
       "        0, 0, fig.canvas.width, fig.canvas.height);\n",
       "\n",
       "    fig.rubberband_context.strokeRect(min_x, min_y, width, height);\n",
       "}\n",
       "\n",
       "mpl.figure.prototype.handle_figure_label = function(fig, msg) {\n",
       "    // Updates the figure title.\n",
       "    fig.header.textContent = msg['label'];\n",
       "}\n",
       "\n",
       "mpl.figure.prototype.handle_cursor = function(fig, msg) {\n",
       "    var cursor = msg['cursor'];\n",
       "    switch(cursor)\n",
       "    {\n",
       "    case 0:\n",
       "        cursor = 'pointer';\n",
       "        break;\n",
       "    case 1:\n",
       "        cursor = 'default';\n",
       "        break;\n",
       "    case 2:\n",
       "        cursor = 'crosshair';\n",
       "        break;\n",
       "    case 3:\n",
       "        cursor = 'move';\n",
       "        break;\n",
       "    }\n",
       "    fig.rubberband_canvas.style.cursor = cursor;\n",
       "}\n",
       "\n",
       "mpl.figure.prototype.handle_message = function(fig, msg) {\n",
       "    fig.message.textContent = msg['message'];\n",
       "}\n",
       "\n",
       "mpl.figure.prototype.handle_draw = function(fig, msg) {\n",
       "    // Request the server to send over a new figure.\n",
       "    fig.send_draw_message();\n",
       "}\n",
       "\n",
       "mpl.figure.prototype.handle_image_mode = function(fig, msg) {\n",
       "    fig.image_mode = msg['mode'];\n",
       "}\n",
       "\n",
       "mpl.figure.prototype.updated_canvas_event = function() {\n",
       "    // Called whenever the canvas gets updated.\n",
       "    this.send_message(\"ack\", {});\n",
       "}\n",
       "\n",
       "// A function to construct a web socket function for onmessage handling.\n",
       "// Called in the figure constructor.\n",
       "mpl.figure.prototype._make_on_message_function = function(fig) {\n",
       "    return function socket_on_message(evt) {\n",
       "        if (evt.data instanceof Blob) {\n",
       "            /* FIXME: We get \"Resource interpreted as Image but\n",
       "             * transferred with MIME type text/plain:\" errors on\n",
       "             * Chrome.  But how to set the MIME type?  It doesn't seem\n",
       "             * to be part of the websocket stream */\n",
       "            evt.data.type = \"image/png\";\n",
       "\n",
       "            /* Free the memory for the previous frames */\n",
       "            if (fig.imageObj.src) {\n",
       "                (window.URL || window.webkitURL).revokeObjectURL(\n",
       "                    fig.imageObj.src);\n",
       "            }\n",
       "\n",
       "            fig.imageObj.src = (window.URL || window.webkitURL).createObjectURL(\n",
       "                evt.data);\n",
       "            fig.updated_canvas_event();\n",
       "            fig.waiting = false;\n",
       "            return;\n",
       "        }\n",
       "        else if (typeof evt.data === 'string' && evt.data.slice(0, 21) == \"data:image/png;base64\") {\n",
       "            fig.imageObj.src = evt.data;\n",
       "            fig.updated_canvas_event();\n",
       "            fig.waiting = false;\n",
       "            return;\n",
       "        }\n",
       "\n",
       "        var msg = JSON.parse(evt.data);\n",
       "        var msg_type = msg['type'];\n",
       "\n",
       "        // Call the  \"handle_{type}\" callback, which takes\n",
       "        // the figure and JSON message as its only arguments.\n",
       "        try {\n",
       "            var callback = fig[\"handle_\" + msg_type];\n",
       "        } catch (e) {\n",
       "            console.log(\"No handler for the '\" + msg_type + \"' message type: \", msg);\n",
       "            return;\n",
       "        }\n",
       "\n",
       "        if (callback) {\n",
       "            try {\n",
       "                // console.log(\"Handling '\" + msg_type + \"' message: \", msg);\n",
       "                callback(fig, msg);\n",
       "            } catch (e) {\n",
       "                console.log(\"Exception inside the 'handler_\" + msg_type + \"' callback:\", e, e.stack, msg);\n",
       "            }\n",
       "        }\n",
       "    };\n",
       "}\n",
       "\n",
       "// from http://stackoverflow.com/questions/1114465/getting-mouse-location-in-canvas\n",
       "mpl.findpos = function(e) {\n",
       "    //this section is from http://www.quirksmode.org/js/events_properties.html\n",
       "    var targ;\n",
       "    if (!e)\n",
       "        e = window.event;\n",
       "    if (e.target)\n",
       "        targ = e.target;\n",
       "    else if (e.srcElement)\n",
       "        targ = e.srcElement;\n",
       "    if (targ.nodeType == 3) // defeat Safari bug\n",
       "        targ = targ.parentNode;\n",
       "\n",
       "    // jQuery normalizes the pageX and pageY\n",
       "    // pageX,Y are the mouse positions relative to the document\n",
       "    // offset() returns the position of the element relative to the document\n",
       "    var x = e.pageX - $(targ).offset().left;\n",
       "    var y = e.pageY - $(targ).offset().top;\n",
       "\n",
       "    return {\"x\": x, \"y\": y};\n",
       "};\n",
       "\n",
       "/*\n",
       " * return a copy of an object with only non-object keys\n",
       " * we need this to avoid circular references\n",
       " * http://stackoverflow.com/a/24161582/3208463\n",
       " */\n",
       "function simpleKeys (original) {\n",
       "  return Object.keys(original).reduce(function (obj, key) {\n",
       "    if (typeof original[key] !== 'object')\n",
       "        obj[key] = original[key]\n",
       "    return obj;\n",
       "  }, {});\n",
       "}\n",
       "\n",
       "mpl.figure.prototype.mouse_event = function(event, name) {\n",
       "    var canvas_pos = mpl.findpos(event)\n",
       "\n",
       "    if (name === 'button_press')\n",
       "    {\n",
       "        this.canvas.focus();\n",
       "        this.canvas_div.focus();\n",
       "    }\n",
       "\n",
       "    var x = canvas_pos.x * mpl.ratio;\n",
       "    var y = canvas_pos.y * mpl.ratio;\n",
       "\n",
       "    this.send_message(name, {x: x, y: y, button: event.button,\n",
       "                             step: event.step,\n",
       "                             guiEvent: simpleKeys(event)});\n",
       "\n",
       "    /* This prevents the web browser from automatically changing to\n",
       "     * the text insertion cursor when the button is pressed.  We want\n",
       "     * to control all of the cursor setting manually through the\n",
       "     * 'cursor' event from matplotlib */\n",
       "    event.preventDefault();\n",
       "    return false;\n",
       "}\n",
       "\n",
       "mpl.figure.prototype._key_event_extra = function(event, name) {\n",
       "    // Handle any extra behaviour associated with a key event\n",
       "}\n",
       "\n",
       "mpl.figure.prototype.key_event = function(event, name) {\n",
       "\n",
       "    // Prevent repeat events\n",
       "    if (name == 'key_press')\n",
       "    {\n",
       "        if (event.which === this._key)\n",
       "            return;\n",
       "        else\n",
       "            this._key = event.which;\n",
       "    }\n",
       "    if (name == 'key_release')\n",
       "        this._key = null;\n",
       "\n",
       "    var value = '';\n",
       "    if (event.ctrlKey && event.which != 17)\n",
       "        value += \"ctrl+\";\n",
       "    if (event.altKey && event.which != 18)\n",
       "        value += \"alt+\";\n",
       "    if (event.shiftKey && event.which != 16)\n",
       "        value += \"shift+\";\n",
       "\n",
       "    value += 'k';\n",
       "    value += event.which.toString();\n",
       "\n",
       "    this._key_event_extra(event, name);\n",
       "\n",
       "    this.send_message(name, {key: value,\n",
       "                             guiEvent: simpleKeys(event)});\n",
       "    return false;\n",
       "}\n",
       "\n",
       "mpl.figure.prototype.toolbar_button_onclick = function(name) {\n",
       "    if (name == 'download') {\n",
       "        this.handle_save(this, null);\n",
       "    } else {\n",
       "        this.send_message(\"toolbar_button\", {name: name});\n",
       "    }\n",
       "};\n",
       "\n",
       "mpl.figure.prototype.toolbar_button_onmouseover = function(tooltip) {\n",
       "    this.message.textContent = tooltip;\n",
       "};\n",
       "mpl.toolbar_items = [[\"Home\", \"Reset original view\", \"fa fa-home icon-home\", \"home\"], [\"Back\", \"Back to  previous view\", \"fa fa-arrow-left icon-arrow-left\", \"back\"], [\"Forward\", \"Forward to next view\", \"fa fa-arrow-right icon-arrow-right\", \"forward\"], [\"\", \"\", \"\", \"\"], [\"Pan\", \"Pan axes with left mouse, zoom with right\", \"fa fa-arrows icon-move\", \"pan\"], [\"Zoom\", \"Zoom to rectangle\", \"fa fa-square-o icon-check-empty\", \"zoom\"], [\"\", \"\", \"\", \"\"], [\"Download\", \"Download plot\", \"fa fa-floppy-o icon-save\", \"download\"]];\n",
       "\n",
       "mpl.extensions = [\"eps\", \"jpeg\", \"pdf\", \"png\", \"ps\", \"raw\", \"svg\", \"tif\"];\n",
       "\n",
       "mpl.default_extension = \"png\";var comm_websocket_adapter = function(comm) {\n",
       "    // Create a \"websocket\"-like object which calls the given IPython comm\n",
       "    // object with the appropriate methods. Currently this is a non binary\n",
       "    // socket, so there is still some room for performance tuning.\n",
       "    var ws = {};\n",
       "\n",
       "    ws.close = function() {\n",
       "        comm.close()\n",
       "    };\n",
       "    ws.send = function(m) {\n",
       "        //console.log('sending', m);\n",
       "        comm.send(m);\n",
       "    };\n",
       "    // Register the callback with on_msg.\n",
       "    comm.on_msg(function(msg) {\n",
       "        //console.log('receiving', msg['content']['data'], msg);\n",
       "        // Pass the mpl event to the overriden (by mpl) onmessage function.\n",
       "        ws.onmessage(msg['content']['data'])\n",
       "    });\n",
       "    return ws;\n",
       "}\n",
       "\n",
       "mpl.mpl_figure_comm = function(comm, msg) {\n",
       "    // This is the function which gets called when the mpl process\n",
       "    // starts-up an IPython Comm through the \"matplotlib\" channel.\n",
       "\n",
       "    var id = msg.content.data.id;\n",
       "    // Get hold of the div created by the display call when the Comm\n",
       "    // socket was opened in Python.\n",
       "    var element = $(\"#\" + id);\n",
       "    var ws_proxy = comm_websocket_adapter(comm)\n",
       "\n",
       "    function ondownload(figure, format) {\n",
       "        window.open(figure.imageObj.src);\n",
       "    }\n",
       "\n",
       "    var fig = new mpl.figure(id, ws_proxy,\n",
       "                           ondownload,\n",
       "                           element.get(0));\n",
       "\n",
       "    // Call onopen now - mpl needs it, as it is assuming we've passed it a real\n",
       "    // web socket which is closed, not our websocket->open comm proxy.\n",
       "    ws_proxy.onopen();\n",
       "\n",
       "    fig.parent_element = element.get(0);\n",
       "    fig.cell_info = mpl.find_output_cell(\"<div id='\" + id + \"'></div>\");\n",
       "    if (!fig.cell_info) {\n",
       "        console.error(\"Failed to find cell for figure\", id, fig);\n",
       "        return;\n",
       "    }\n",
       "\n",
       "    var output_index = fig.cell_info[2]\n",
       "    var cell = fig.cell_info[0];\n",
       "\n",
       "};\n",
       "\n",
       "mpl.figure.prototype.handle_close = function(fig, msg) {\n",
       "    var width = fig.canvas.width/mpl.ratio\n",
       "    fig.root.unbind('remove')\n",
       "\n",
       "    // Update the output cell to use the data from the current canvas.\n",
       "    fig.push_to_output();\n",
       "    var dataURL = fig.canvas.toDataURL();\n",
       "    // Re-enable the keyboard manager in IPython - without this line, in FF,\n",
       "    // the notebook keyboard shortcuts fail.\n",
       "    IPython.keyboard_manager.enable()\n",
       "    $(fig.parent_element).html('<img src=\"' + dataURL + '\" width=\"' + width + '\">');\n",
       "    fig.close_ws(fig, msg);\n",
       "}\n",
       "\n",
       "mpl.figure.prototype.close_ws = function(fig, msg){\n",
       "    fig.send_message('closing', msg);\n",
       "    // fig.ws.close()\n",
       "}\n",
       "\n",
       "mpl.figure.prototype.push_to_output = function(remove_interactive) {\n",
       "    // Turn the data on the canvas into data in the output cell.\n",
       "    var width = this.canvas.width/mpl.ratio\n",
       "    var dataURL = this.canvas.toDataURL();\n",
       "    this.cell_info[1]['text/html'] = '<img src=\"' + dataURL + '\" width=\"' + width + '\">';\n",
       "}\n",
       "\n",
       "mpl.figure.prototype.updated_canvas_event = function() {\n",
       "    // Tell IPython that the notebook contents must change.\n",
       "    IPython.notebook.set_dirty(true);\n",
       "    this.send_message(\"ack\", {});\n",
       "    var fig = this;\n",
       "    // Wait a second, then push the new image to the DOM so\n",
       "    // that it is saved nicely (might be nice to debounce this).\n",
       "    setTimeout(function () { fig.push_to_output() }, 1000);\n",
       "}\n",
       "\n",
       "mpl.figure.prototype._init_toolbar = function() {\n",
       "    var fig = this;\n",
       "\n",
       "    var nav_element = $('<div/>')\n",
       "    nav_element.attr('style', 'width: 100%');\n",
       "    this.root.append(nav_element);\n",
       "\n",
       "    // Define a callback function for later on.\n",
       "    function toolbar_event(event) {\n",
       "        return fig.toolbar_button_onclick(event['data']);\n",
       "    }\n",
       "    function toolbar_mouse_event(event) {\n",
       "        return fig.toolbar_button_onmouseover(event['data']);\n",
       "    }\n",
       "\n",
       "    for(var toolbar_ind in mpl.toolbar_items){\n",
       "        var name = mpl.toolbar_items[toolbar_ind][0];\n",
       "        var tooltip = mpl.toolbar_items[toolbar_ind][1];\n",
       "        var image = mpl.toolbar_items[toolbar_ind][2];\n",
       "        var method_name = mpl.toolbar_items[toolbar_ind][3];\n",
       "\n",
       "        if (!name) { continue; };\n",
       "\n",
       "        var button = $('<button class=\"btn btn-default\" href=\"#\" title=\"' + name + '\"><i class=\"fa ' + image + ' fa-lg\"></i></button>');\n",
       "        button.click(method_name, toolbar_event);\n",
       "        button.mouseover(tooltip, toolbar_mouse_event);\n",
       "        nav_element.append(button);\n",
       "    }\n",
       "\n",
       "    // Add the status bar.\n",
       "    var status_bar = $('<span class=\"mpl-message\" style=\"text-align:right; float: right;\"/>');\n",
       "    nav_element.append(status_bar);\n",
       "    this.message = status_bar[0];\n",
       "\n",
       "    // Add the close button to the window.\n",
       "    var buttongrp = $('<div class=\"btn-group inline pull-right\"></div>');\n",
       "    var button = $('<button class=\"btn btn-mini btn-primary\" href=\"#\" title=\"Stop Interaction\"><i class=\"fa fa-power-off icon-remove icon-large\"></i></button>');\n",
       "    button.click(function (evt) { fig.handle_close(fig, {}); } );\n",
       "    button.mouseover('Stop Interaction', toolbar_mouse_event);\n",
       "    buttongrp.append(button);\n",
       "    var titlebar = this.root.find($('.ui-dialog-titlebar'));\n",
       "    titlebar.prepend(buttongrp);\n",
       "}\n",
       "\n",
       "mpl.figure.prototype._root_extra_style = function(el){\n",
       "    var fig = this\n",
       "    el.on(\"remove\", function(){\n",
       "\tfig.close_ws(fig, {});\n",
       "    });\n",
       "}\n",
       "\n",
       "mpl.figure.prototype._canvas_extra_style = function(el){\n",
       "    // this is important to make the div 'focusable\n",
       "    el.attr('tabindex', 0)\n",
       "    // reach out to IPython and tell the keyboard manager to turn it's self\n",
       "    // off when our div gets focus\n",
       "\n",
       "    // location in version 3\n",
       "    if (IPython.notebook.keyboard_manager) {\n",
       "        IPython.notebook.keyboard_manager.register_events(el);\n",
       "    }\n",
       "    else {\n",
       "        // location in version 2\n",
       "        IPython.keyboard_manager.register_events(el);\n",
       "    }\n",
       "\n",
       "}\n",
       "\n",
       "mpl.figure.prototype._key_event_extra = function(event, name) {\n",
       "    var manager = IPython.notebook.keyboard_manager;\n",
       "    if (!manager)\n",
       "        manager = IPython.keyboard_manager;\n",
       "\n",
       "    // Check for shift+enter\n",
       "    if (event.shiftKey && event.which == 13) {\n",
       "        this.canvas_div.blur();\n",
       "        event.shiftKey = false;\n",
       "        // Send a \"J\" for go to next cell\n",
       "        event.which = 74;\n",
       "        event.keyCode = 74;\n",
       "        manager.command_mode();\n",
       "        manager.handle_keydown(event);\n",
       "    }\n",
       "}\n",
       "\n",
       "mpl.figure.prototype.handle_save = function(fig, msg) {\n",
       "    fig.ondownload(fig, null);\n",
       "}\n",
       "\n",
       "\n",
       "mpl.find_output_cell = function(html_output) {\n",
       "    // Return the cell and output element which can be found *uniquely* in the notebook.\n",
       "    // Note - this is a bit hacky, but it is done because the \"notebook_saving.Notebook\"\n",
       "    // IPython event is triggered only after the cells have been serialised, which for\n",
       "    // our purposes (turning an active figure into a static one), is too late.\n",
       "    var cells = IPython.notebook.get_cells();\n",
       "    var ncells = cells.length;\n",
       "    for (var i=0; i<ncells; i++) {\n",
       "        var cell = cells[i];\n",
       "        if (cell.cell_type === 'code'){\n",
       "            for (var j=0; j<cell.output_area.outputs.length; j++) {\n",
       "                var data = cell.output_area.outputs[j];\n",
       "                if (data.data) {\n",
       "                    // IPython >= 3 moved mimebundle to data attribute of output\n",
       "                    data = data.data;\n",
       "                }\n",
       "                if (data['text/html'] == html_output) {\n",
       "                    return [cell, data, j];\n",
       "                }\n",
       "            }\n",
       "        }\n",
       "    }\n",
       "}\n",
       "\n",
       "// Register the function which deals with the matplotlib target/channel.\n",
       "// The kernel may be null if the page has been refreshed.\n",
       "if (IPython.notebook.kernel != null) {\n",
       "    IPython.notebook.kernel.comm_manager.register_target('matplotlib', mpl.mpl_figure_comm);\n",
       "}\n"
      ],
      "text/plain": [
       "<IPython.core.display.Javascript object>"
      ]
     },
     "metadata": {},
     "output_type": "display_data"
    },
    {
     "data": {
      "text/html": [
       "<img src=\"data:image/png;base64,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\" width=\"640\">"
      ],
      "text/plain": [
       "<IPython.core.display.HTML object>"
      ]
     },
     "metadata": {},
     "output_type": "display_data"
    },
    {
     "data": {
      "text/plain": [
       "<sunpy.visualization.imageanimator.ImageAnimatorWCS at 0x1c1938f7f0>"
      ]
     },
     "execution_count": 55,
     "metadata": {},
     "output_type": "execute_result"
    }
   ],
   "source": [
    "# Visualize all in the NDCube as an animation.\n",
    "my_cube.plot()"
   ]
  },
  {
   "cell_type": "markdown",
   "metadata": {},
   "source": [
    "The type of visualization returned depends on the dimensionality of the data within the `NDCube` object.  For 1-D data a line plot is produced, similar to `matplotlib.pyplot.plot`.  For 2-D data, an image is produced similar to that of `matplotlib.pyplot.imshow`. While for a >2-D data, a `sunpy.visualization.imageanimator.ImageAnimatorWCS` object is returned.  This displays a 2-D image with sliders for each additional dimension which allow the user to animate through the different values of each dimension and see the effect in the 2-D image.  An example of this is seen above.\n",
    "\n",
    "No args are required.  The necessary information to generate the plot is derived from the data and metadata in the `NDCube` itself. Setting the x and y ranges of the plot can be done simply by indexing the `NDCube` object itself to the desired region of interest and then calling the plot method, e.g.:"
   ]
  },
  {
   "cell_type": "code",
   "execution_count": 56,
   "metadata": {},
   "outputs": [
    {
     "data": {
      "application/javascript": [
       "/* Put everything inside the global mpl namespace */\n",
       "window.mpl = {};\n",
       "\n",
       "\n",
       "mpl.get_websocket_type = function() {\n",
       "    if (typeof(WebSocket) !== 'undefined') {\n",
       "        return WebSocket;\n",
       "    } else if (typeof(MozWebSocket) !== 'undefined') {\n",
       "        return MozWebSocket;\n",
       "    } else {\n",
       "        alert('Your browser does not have WebSocket support.' +\n",
       "              'Please try Chrome, Safari or Firefox ≥ 6. ' +\n",
       "              'Firefox 4 and 5 are also supported but you ' +\n",
       "              'have to enable WebSockets in about:config.');\n",
       "    };\n",
       "}\n",
       "\n",
       "mpl.figure = function(figure_id, websocket, ondownload, parent_element) {\n",
       "    this.id = figure_id;\n",
       "\n",
       "    this.ws = websocket;\n",
       "\n",
       "    this.supports_binary = (this.ws.binaryType != undefined);\n",
       "\n",
       "    if (!this.supports_binary) {\n",
       "        var warnings = document.getElementById(\"mpl-warnings\");\n",
       "        if (warnings) {\n",
       "            warnings.style.display = 'block';\n",
       "            warnings.textContent = (\n",
       "                \"This browser does not support binary websocket messages. \" +\n",
       "                    \"Performance may be slow.\");\n",
       "        }\n",
       "    }\n",
       "\n",
       "    this.imageObj = new Image();\n",
       "\n",
       "    this.context = undefined;\n",
       "    this.message = undefined;\n",
       "    this.canvas = undefined;\n",
       "    this.rubberband_canvas = undefined;\n",
       "    this.rubberband_context = undefined;\n",
       "    this.format_dropdown = undefined;\n",
       "\n",
       "    this.image_mode = 'full';\n",
       "\n",
       "    this.root = $('<div/>');\n",
       "    this._root_extra_style(this.root)\n",
       "    this.root.attr('style', 'display: inline-block');\n",
       "\n",
       "    $(parent_element).append(this.root);\n",
       "\n",
       "    this._init_header(this);\n",
       "    this._init_canvas(this);\n",
       "    this._init_toolbar(this);\n",
       "\n",
       "    var fig = this;\n",
       "\n",
       "    this.waiting = false;\n",
       "\n",
       "    this.ws.onopen =  function () {\n",
       "            fig.send_message(\"supports_binary\", {value: fig.supports_binary});\n",
       "            fig.send_message(\"send_image_mode\", {});\n",
       "            if (mpl.ratio != 1) {\n",
       "                fig.send_message(\"set_dpi_ratio\", {'dpi_ratio': mpl.ratio});\n",
       "            }\n",
       "            fig.send_message(\"refresh\", {});\n",
       "        }\n",
       "\n",
       "    this.imageObj.onload = function() {\n",
       "            if (fig.image_mode == 'full') {\n",
       "                // Full images could contain transparency (where diff images\n",
       "                // almost always do), so we need to clear the canvas so that\n",
       "                // there is no ghosting.\n",
       "                fig.context.clearRect(0, 0, fig.canvas.width, fig.canvas.height);\n",
       "            }\n",
       "            fig.context.drawImage(fig.imageObj, 0, 0);\n",
       "        };\n",
       "\n",
       "    this.imageObj.onunload = function() {\n",
       "        fig.ws.close();\n",
       "    }\n",
       "\n",
       "    this.ws.onmessage = this._make_on_message_function(this);\n",
       "\n",
       "    this.ondownload = ondownload;\n",
       "}\n",
       "\n",
       "mpl.figure.prototype._init_header = function() {\n",
       "    var titlebar = $(\n",
       "        '<div class=\"ui-dialog-titlebar ui-widget-header ui-corner-all ' +\n",
       "        'ui-helper-clearfix\"/>');\n",
       "    var titletext = $(\n",
       "        '<div class=\"ui-dialog-title\" style=\"width: 100%; ' +\n",
       "        'text-align: center; padding: 3px;\"/>');\n",
       "    titlebar.append(titletext)\n",
       "    this.root.append(titlebar);\n",
       "    this.header = titletext[0];\n",
       "}\n",
       "\n",
       "\n",
       "\n",
       "mpl.figure.prototype._canvas_extra_style = function(canvas_div) {\n",
       "\n",
       "}\n",
       "\n",
       "\n",
       "mpl.figure.prototype._root_extra_style = function(canvas_div) {\n",
       "\n",
       "}\n",
       "\n",
       "mpl.figure.prototype._init_canvas = function() {\n",
       "    var fig = this;\n",
       "\n",
       "    var canvas_div = $('<div/>');\n",
       "\n",
       "    canvas_div.attr('style', 'position: relative; clear: both; outline: 0');\n",
       "\n",
       "    function canvas_keyboard_event(event) {\n",
       "        return fig.key_event(event, event['data']);\n",
       "    }\n",
       "\n",
       "    canvas_div.keydown('key_press', canvas_keyboard_event);\n",
       "    canvas_div.keyup('key_release', canvas_keyboard_event);\n",
       "    this.canvas_div = canvas_div\n",
       "    this._canvas_extra_style(canvas_div)\n",
       "    this.root.append(canvas_div);\n",
       "\n",
       "    var canvas = $('<canvas/>');\n",
       "    canvas.addClass('mpl-canvas');\n",
       "    canvas.attr('style', \"left: 0; top: 0; z-index: 0; outline: 0\")\n",
       "\n",
       "    this.canvas = canvas[0];\n",
       "    this.context = canvas[0].getContext(\"2d\");\n",
       "\n",
       "    var backingStore = this.context.backingStorePixelRatio ||\n",
       "\tthis.context.webkitBackingStorePixelRatio ||\n",
       "\tthis.context.mozBackingStorePixelRatio ||\n",
       "\tthis.context.msBackingStorePixelRatio ||\n",
       "\tthis.context.oBackingStorePixelRatio ||\n",
       "\tthis.context.backingStorePixelRatio || 1;\n",
       "\n",
       "    mpl.ratio = (window.devicePixelRatio || 1) / backingStore;\n",
       "\n",
       "    var rubberband = $('<canvas/>');\n",
       "    rubberband.attr('style', \"position: absolute; left: 0; top: 0; z-index: 1;\")\n",
       "\n",
       "    var pass_mouse_events = true;\n",
       "\n",
       "    canvas_div.resizable({\n",
       "        start: function(event, ui) {\n",
       "            pass_mouse_events = false;\n",
       "        },\n",
       "        resize: function(event, ui) {\n",
       "            fig.request_resize(ui.size.width, ui.size.height);\n",
       "        },\n",
       "        stop: function(event, ui) {\n",
       "            pass_mouse_events = true;\n",
       "            fig.request_resize(ui.size.width, ui.size.height);\n",
       "        },\n",
       "    });\n",
       "\n",
       "    function mouse_event_fn(event) {\n",
       "        if (pass_mouse_events)\n",
       "            return fig.mouse_event(event, event['data']);\n",
       "    }\n",
       "\n",
       "    rubberband.mousedown('button_press', mouse_event_fn);\n",
       "    rubberband.mouseup('button_release', mouse_event_fn);\n",
       "    // Throttle sequential mouse events to 1 every 20ms.\n",
       "    rubberband.mousemove('motion_notify', mouse_event_fn);\n",
       "\n",
       "    rubberband.mouseenter('figure_enter', mouse_event_fn);\n",
       "    rubberband.mouseleave('figure_leave', mouse_event_fn);\n",
       "\n",
       "    canvas_div.on(\"wheel\", function (event) {\n",
       "        event = event.originalEvent;\n",
       "        event['data'] = 'scroll'\n",
       "        if (event.deltaY < 0) {\n",
       "            event.step = 1;\n",
       "        } else {\n",
       "            event.step = -1;\n",
       "        }\n",
       "        mouse_event_fn(event);\n",
       "    });\n",
       "\n",
       "    canvas_div.append(canvas);\n",
       "    canvas_div.append(rubberband);\n",
       "\n",
       "    this.rubberband = rubberband;\n",
       "    this.rubberband_canvas = rubberband[0];\n",
       "    this.rubberband_context = rubberband[0].getContext(\"2d\");\n",
       "    this.rubberband_context.strokeStyle = \"#000000\";\n",
       "\n",
       "    this._resize_canvas = function(width, height) {\n",
       "        // Keep the size of the canvas, canvas container, and rubber band\n",
       "        // canvas in synch.\n",
       "        canvas_div.css('width', width)\n",
       "        canvas_div.css('height', height)\n",
       "\n",
       "        canvas.attr('width', width * mpl.ratio);\n",
       "        canvas.attr('height', height * mpl.ratio);\n",
       "        canvas.attr('style', 'width: ' + width + 'px; height: ' + height + 'px;');\n",
       "\n",
       "        rubberband.attr('width', width);\n",
       "        rubberband.attr('height', height);\n",
       "    }\n",
       "\n",
       "    // Set the figure to an initial 600x600px, this will subsequently be updated\n",
       "    // upon first draw.\n",
       "    this._resize_canvas(600, 600);\n",
       "\n",
       "    // Disable right mouse context menu.\n",
       "    $(this.rubberband_canvas).bind(\"contextmenu\",function(e){\n",
       "        return false;\n",
       "    });\n",
       "\n",
       "    function set_focus () {\n",
       "        canvas.focus();\n",
       "        canvas_div.focus();\n",
       "    }\n",
       "\n",
       "    window.setTimeout(set_focus, 100);\n",
       "}\n",
       "\n",
       "mpl.figure.prototype._init_toolbar = function() {\n",
       "    var fig = this;\n",
       "\n",
       "    var nav_element = $('<div/>')\n",
       "    nav_element.attr('style', 'width: 100%');\n",
       "    this.root.append(nav_element);\n",
       "\n",
       "    // Define a callback function for later on.\n",
       "    function toolbar_event(event) {\n",
       "        return fig.toolbar_button_onclick(event['data']);\n",
       "    }\n",
       "    function toolbar_mouse_event(event) {\n",
       "        return fig.toolbar_button_onmouseover(event['data']);\n",
       "    }\n",
       "\n",
       "    for(var toolbar_ind in mpl.toolbar_items) {\n",
       "        var name = mpl.toolbar_items[toolbar_ind][0];\n",
       "        var tooltip = mpl.toolbar_items[toolbar_ind][1];\n",
       "        var image = mpl.toolbar_items[toolbar_ind][2];\n",
       "        var method_name = mpl.toolbar_items[toolbar_ind][3];\n",
       "\n",
       "        if (!name) {\n",
       "            // put a spacer in here.\n",
       "            continue;\n",
       "        }\n",
       "        var button = $('<button/>');\n",
       "        button.addClass('ui-button ui-widget ui-state-default ui-corner-all ' +\n",
       "                        'ui-button-icon-only');\n",
       "        button.attr('role', 'button');\n",
       "        button.attr('aria-disabled', 'false');\n",
       "        button.click(method_name, toolbar_event);\n",
       "        button.mouseover(tooltip, toolbar_mouse_event);\n",
       "\n",
       "        var icon_img = $('<span/>');\n",
       "        icon_img.addClass('ui-button-icon-primary ui-icon');\n",
       "        icon_img.addClass(image);\n",
       "        icon_img.addClass('ui-corner-all');\n",
       "\n",
       "        var tooltip_span = $('<span/>');\n",
       "        tooltip_span.addClass('ui-button-text');\n",
       "        tooltip_span.html(tooltip);\n",
       "\n",
       "        button.append(icon_img);\n",
       "        button.append(tooltip_span);\n",
       "\n",
       "        nav_element.append(button);\n",
       "    }\n",
       "\n",
       "    var fmt_picker_span = $('<span/>');\n",
       "\n",
       "    var fmt_picker = $('<select/>');\n",
       "    fmt_picker.addClass('mpl-toolbar-option ui-widget ui-widget-content');\n",
       "    fmt_picker_span.append(fmt_picker);\n",
       "    nav_element.append(fmt_picker_span);\n",
       "    this.format_dropdown = fmt_picker[0];\n",
       "\n",
       "    for (var ind in mpl.extensions) {\n",
       "        var fmt = mpl.extensions[ind];\n",
       "        var option = $(\n",
       "            '<option/>', {selected: fmt === mpl.default_extension}).html(fmt);\n",
       "        fmt_picker.append(option)\n",
       "    }\n",
       "\n",
       "    // Add hover states to the ui-buttons\n",
       "    $( \".ui-button\" ).hover(\n",
       "        function() { $(this).addClass(\"ui-state-hover\");},\n",
       "        function() { $(this).removeClass(\"ui-state-hover\");}\n",
       "    );\n",
       "\n",
       "    var status_bar = $('<span class=\"mpl-message\"/>');\n",
       "    nav_element.append(status_bar);\n",
       "    this.message = status_bar[0];\n",
       "}\n",
       "\n",
       "mpl.figure.prototype.request_resize = function(x_pixels, y_pixels) {\n",
       "    // Request matplotlib to resize the figure. Matplotlib will then trigger a resize in the client,\n",
       "    // which will in turn request a refresh of the image.\n",
       "    this.send_message('resize', {'width': x_pixels, 'height': y_pixels});\n",
       "}\n",
       "\n",
       "mpl.figure.prototype.send_message = function(type, properties) {\n",
       "    properties['type'] = type;\n",
       "    properties['figure_id'] = this.id;\n",
       "    this.ws.send(JSON.stringify(properties));\n",
       "}\n",
       "\n",
       "mpl.figure.prototype.send_draw_message = function() {\n",
       "    if (!this.waiting) {\n",
       "        this.waiting = true;\n",
       "        this.ws.send(JSON.stringify({type: \"draw\", figure_id: this.id}));\n",
       "    }\n",
       "}\n",
       "\n",
       "\n",
       "mpl.figure.prototype.handle_save = function(fig, msg) {\n",
       "    var format_dropdown = fig.format_dropdown;\n",
       "    var format = format_dropdown.options[format_dropdown.selectedIndex].value;\n",
       "    fig.ondownload(fig, format);\n",
       "}\n",
       "\n",
       "\n",
       "mpl.figure.prototype.handle_resize = function(fig, msg) {\n",
       "    var size = msg['size'];\n",
       "    if (size[0] != fig.canvas.width || size[1] != fig.canvas.height) {\n",
       "        fig._resize_canvas(size[0], size[1]);\n",
       "        fig.send_message(\"refresh\", {});\n",
       "    };\n",
       "}\n",
       "\n",
       "mpl.figure.prototype.handle_rubberband = function(fig, msg) {\n",
       "    var x0 = msg['x0'] / mpl.ratio;\n",
       "    var y0 = (fig.canvas.height - msg['y0']) / mpl.ratio;\n",
       "    var x1 = msg['x1'] / mpl.ratio;\n",
       "    var y1 = (fig.canvas.height - msg['y1']) / mpl.ratio;\n",
       "    x0 = Math.floor(x0) + 0.5;\n",
       "    y0 = Math.floor(y0) + 0.5;\n",
       "    x1 = Math.floor(x1) + 0.5;\n",
       "    y1 = Math.floor(y1) + 0.5;\n",
       "    var min_x = Math.min(x0, x1);\n",
       "    var min_y = Math.min(y0, y1);\n",
       "    var width = Math.abs(x1 - x0);\n",
       "    var height = Math.abs(y1 - y0);\n",
       "\n",
       "    fig.rubberband_context.clearRect(\n",
       "        0, 0, fig.canvas.width, fig.canvas.height);\n",
       "\n",
       "    fig.rubberband_context.strokeRect(min_x, min_y, width, height);\n",
       "}\n",
       "\n",
       "mpl.figure.prototype.handle_figure_label = function(fig, msg) {\n",
       "    // Updates the figure title.\n",
       "    fig.header.textContent = msg['label'];\n",
       "}\n",
       "\n",
       "mpl.figure.prototype.handle_cursor = function(fig, msg) {\n",
       "    var cursor = msg['cursor'];\n",
       "    switch(cursor)\n",
       "    {\n",
       "    case 0:\n",
       "        cursor = 'pointer';\n",
       "        break;\n",
       "    case 1:\n",
       "        cursor = 'default';\n",
       "        break;\n",
       "    case 2:\n",
       "        cursor = 'crosshair';\n",
       "        break;\n",
       "    case 3:\n",
       "        cursor = 'move';\n",
       "        break;\n",
       "    }\n",
       "    fig.rubberband_canvas.style.cursor = cursor;\n",
       "}\n",
       "\n",
       "mpl.figure.prototype.handle_message = function(fig, msg) {\n",
       "    fig.message.textContent = msg['message'];\n",
       "}\n",
       "\n",
       "mpl.figure.prototype.handle_draw = function(fig, msg) {\n",
       "    // Request the server to send over a new figure.\n",
       "    fig.send_draw_message();\n",
       "}\n",
       "\n",
       "mpl.figure.prototype.handle_image_mode = function(fig, msg) {\n",
       "    fig.image_mode = msg['mode'];\n",
       "}\n",
       "\n",
       "mpl.figure.prototype.updated_canvas_event = function() {\n",
       "    // Called whenever the canvas gets updated.\n",
       "    this.send_message(\"ack\", {});\n",
       "}\n",
       "\n",
       "// A function to construct a web socket function for onmessage handling.\n",
       "// Called in the figure constructor.\n",
       "mpl.figure.prototype._make_on_message_function = function(fig) {\n",
       "    return function socket_on_message(evt) {\n",
       "        if (evt.data instanceof Blob) {\n",
       "            /* FIXME: We get \"Resource interpreted as Image but\n",
       "             * transferred with MIME type text/plain:\" errors on\n",
       "             * Chrome.  But how to set the MIME type?  It doesn't seem\n",
       "             * to be part of the websocket stream */\n",
       "            evt.data.type = \"image/png\";\n",
       "\n",
       "            /* Free the memory for the previous frames */\n",
       "            if (fig.imageObj.src) {\n",
       "                (window.URL || window.webkitURL).revokeObjectURL(\n",
       "                    fig.imageObj.src);\n",
       "            }\n",
       "\n",
       "            fig.imageObj.src = (window.URL || window.webkitURL).createObjectURL(\n",
       "                evt.data);\n",
       "            fig.updated_canvas_event();\n",
       "            fig.waiting = false;\n",
       "            return;\n",
       "        }\n",
       "        else if (typeof evt.data === 'string' && evt.data.slice(0, 21) == \"data:image/png;base64\") {\n",
       "            fig.imageObj.src = evt.data;\n",
       "            fig.updated_canvas_event();\n",
       "            fig.waiting = false;\n",
       "            return;\n",
       "        }\n",
       "\n",
       "        var msg = JSON.parse(evt.data);\n",
       "        var msg_type = msg['type'];\n",
       "\n",
       "        // Call the  \"handle_{type}\" callback, which takes\n",
       "        // the figure and JSON message as its only arguments.\n",
       "        try {\n",
       "            var callback = fig[\"handle_\" + msg_type];\n",
       "        } catch (e) {\n",
       "            console.log(\"No handler for the '\" + msg_type + \"' message type: \", msg);\n",
       "            return;\n",
       "        }\n",
       "\n",
       "        if (callback) {\n",
       "            try {\n",
       "                // console.log(\"Handling '\" + msg_type + \"' message: \", msg);\n",
       "                callback(fig, msg);\n",
       "            } catch (e) {\n",
       "                console.log(\"Exception inside the 'handler_\" + msg_type + \"' callback:\", e, e.stack, msg);\n",
       "            }\n",
       "        }\n",
       "    };\n",
       "}\n",
       "\n",
       "// from http://stackoverflow.com/questions/1114465/getting-mouse-location-in-canvas\n",
       "mpl.findpos = function(e) {\n",
       "    //this section is from http://www.quirksmode.org/js/events_properties.html\n",
       "    var targ;\n",
       "    if (!e)\n",
       "        e = window.event;\n",
       "    if (e.target)\n",
       "        targ = e.target;\n",
       "    else if (e.srcElement)\n",
       "        targ = e.srcElement;\n",
       "    if (targ.nodeType == 3) // defeat Safari bug\n",
       "        targ = targ.parentNode;\n",
       "\n",
       "    // jQuery normalizes the pageX and pageY\n",
       "    // pageX,Y are the mouse positions relative to the document\n",
       "    // offset() returns the position of the element relative to the document\n",
       "    var x = e.pageX - $(targ).offset().left;\n",
       "    var y = e.pageY - $(targ).offset().top;\n",
       "\n",
       "    return {\"x\": x, \"y\": y};\n",
       "};\n",
       "\n",
       "/*\n",
       " * return a copy of an object with only non-object keys\n",
       " * we need this to avoid circular references\n",
       " * http://stackoverflow.com/a/24161582/3208463\n",
       " */\n",
       "function simpleKeys (original) {\n",
       "  return Object.keys(original).reduce(function (obj, key) {\n",
       "    if (typeof original[key] !== 'object')\n",
       "        obj[key] = original[key]\n",
       "    return obj;\n",
       "  }, {});\n",
       "}\n",
       "\n",
       "mpl.figure.prototype.mouse_event = function(event, name) {\n",
       "    var canvas_pos = mpl.findpos(event)\n",
       "\n",
       "    if (name === 'button_press')\n",
       "    {\n",
       "        this.canvas.focus();\n",
       "        this.canvas_div.focus();\n",
       "    }\n",
       "\n",
       "    var x = canvas_pos.x * mpl.ratio;\n",
       "    var y = canvas_pos.y * mpl.ratio;\n",
       "\n",
       "    this.send_message(name, {x: x, y: y, button: event.button,\n",
       "                             step: event.step,\n",
       "                             guiEvent: simpleKeys(event)});\n",
       "\n",
       "    /* This prevents the web browser from automatically changing to\n",
       "     * the text insertion cursor when the button is pressed.  We want\n",
       "     * to control all of the cursor setting manually through the\n",
       "     * 'cursor' event from matplotlib */\n",
       "    event.preventDefault();\n",
       "    return false;\n",
       "}\n",
       "\n",
       "mpl.figure.prototype._key_event_extra = function(event, name) {\n",
       "    // Handle any extra behaviour associated with a key event\n",
       "}\n",
       "\n",
       "mpl.figure.prototype.key_event = function(event, name) {\n",
       "\n",
       "    // Prevent repeat events\n",
       "    if (name == 'key_press')\n",
       "    {\n",
       "        if (event.which === this._key)\n",
       "            return;\n",
       "        else\n",
       "            this._key = event.which;\n",
       "    }\n",
       "    if (name == 'key_release')\n",
       "        this._key = null;\n",
       "\n",
       "    var value = '';\n",
       "    if (event.ctrlKey && event.which != 17)\n",
       "        value += \"ctrl+\";\n",
       "    if (event.altKey && event.which != 18)\n",
       "        value += \"alt+\";\n",
       "    if (event.shiftKey && event.which != 16)\n",
       "        value += \"shift+\";\n",
       "\n",
       "    value += 'k';\n",
       "    value += event.which.toString();\n",
       "\n",
       "    this._key_event_extra(event, name);\n",
       "\n",
       "    this.send_message(name, {key: value,\n",
       "                             guiEvent: simpleKeys(event)});\n",
       "    return false;\n",
       "}\n",
       "\n",
       "mpl.figure.prototype.toolbar_button_onclick = function(name) {\n",
       "    if (name == 'download') {\n",
       "        this.handle_save(this, null);\n",
       "    } else {\n",
       "        this.send_message(\"toolbar_button\", {name: name});\n",
       "    }\n",
       "};\n",
       "\n",
       "mpl.figure.prototype.toolbar_button_onmouseover = function(tooltip) {\n",
       "    this.message.textContent = tooltip;\n",
       "};\n",
       "mpl.toolbar_items = [[\"Home\", \"Reset original view\", \"fa fa-home icon-home\", \"home\"], [\"Back\", \"Back to  previous view\", \"fa fa-arrow-left icon-arrow-left\", \"back\"], [\"Forward\", \"Forward to next view\", \"fa fa-arrow-right icon-arrow-right\", \"forward\"], [\"\", \"\", \"\", \"\"], [\"Pan\", \"Pan axes with left mouse, zoom with right\", \"fa fa-arrows icon-move\", \"pan\"], [\"Zoom\", \"Zoom to rectangle\", \"fa fa-square-o icon-check-empty\", \"zoom\"], [\"\", \"\", \"\", \"\"], [\"Download\", \"Download plot\", \"fa fa-floppy-o icon-save\", \"download\"]];\n",
       "\n",
       "mpl.extensions = [\"eps\", \"jpeg\", \"pdf\", \"png\", \"ps\", \"raw\", \"svg\", \"tif\"];\n",
       "\n",
       "mpl.default_extension = \"png\";var comm_websocket_adapter = function(comm) {\n",
       "    // Create a \"websocket\"-like object which calls the given IPython comm\n",
       "    // object with the appropriate methods. Currently this is a non binary\n",
       "    // socket, so there is still some room for performance tuning.\n",
       "    var ws = {};\n",
       "\n",
       "    ws.close = function() {\n",
       "        comm.close()\n",
       "    };\n",
       "    ws.send = function(m) {\n",
       "        //console.log('sending', m);\n",
       "        comm.send(m);\n",
       "    };\n",
       "    // Register the callback with on_msg.\n",
       "    comm.on_msg(function(msg) {\n",
       "        //console.log('receiving', msg['content']['data'], msg);\n",
       "        // Pass the mpl event to the overriden (by mpl) onmessage function.\n",
       "        ws.onmessage(msg['content']['data'])\n",
       "    });\n",
       "    return ws;\n",
       "}\n",
       "\n",
       "mpl.mpl_figure_comm = function(comm, msg) {\n",
       "    // This is the function which gets called when the mpl process\n",
       "    // starts-up an IPython Comm through the \"matplotlib\" channel.\n",
       "\n",
       "    var id = msg.content.data.id;\n",
       "    // Get hold of the div created by the display call when the Comm\n",
       "    // socket was opened in Python.\n",
       "    var element = $(\"#\" + id);\n",
       "    var ws_proxy = comm_websocket_adapter(comm)\n",
       "\n",
       "    function ondownload(figure, format) {\n",
       "        window.open(figure.imageObj.src);\n",
       "    }\n",
       "\n",
       "    var fig = new mpl.figure(id, ws_proxy,\n",
       "                           ondownload,\n",
       "                           element.get(0));\n",
       "\n",
       "    // Call onopen now - mpl needs it, as it is assuming we've passed it a real\n",
       "    // web socket which is closed, not our websocket->open comm proxy.\n",
       "    ws_proxy.onopen();\n",
       "\n",
       "    fig.parent_element = element.get(0);\n",
       "    fig.cell_info = mpl.find_output_cell(\"<div id='\" + id + \"'></div>\");\n",
       "    if (!fig.cell_info) {\n",
       "        console.error(\"Failed to find cell for figure\", id, fig);\n",
       "        return;\n",
       "    }\n",
       "\n",
       "    var output_index = fig.cell_info[2]\n",
       "    var cell = fig.cell_info[0];\n",
       "\n",
       "};\n",
       "\n",
       "mpl.figure.prototype.handle_close = function(fig, msg) {\n",
       "    var width = fig.canvas.width/mpl.ratio\n",
       "    fig.root.unbind('remove')\n",
       "\n",
       "    // Update the output cell to use the data from the current canvas.\n",
       "    fig.push_to_output();\n",
       "    var dataURL = fig.canvas.toDataURL();\n",
       "    // Re-enable the keyboard manager in IPython - without this line, in FF,\n",
       "    // the notebook keyboard shortcuts fail.\n",
       "    IPython.keyboard_manager.enable()\n",
       "    $(fig.parent_element).html('<img src=\"' + dataURL + '\" width=\"' + width + '\">');\n",
       "    fig.close_ws(fig, msg);\n",
       "}\n",
       "\n",
       "mpl.figure.prototype.close_ws = function(fig, msg){\n",
       "    fig.send_message('closing', msg);\n",
       "    // fig.ws.close()\n",
       "}\n",
       "\n",
       "mpl.figure.prototype.push_to_output = function(remove_interactive) {\n",
       "    // Turn the data on the canvas into data in the output cell.\n",
       "    var width = this.canvas.width/mpl.ratio\n",
       "    var dataURL = this.canvas.toDataURL();\n",
       "    this.cell_info[1]['text/html'] = '<img src=\"' + dataURL + '\" width=\"' + width + '\">';\n",
       "}\n",
       "\n",
       "mpl.figure.prototype.updated_canvas_event = function() {\n",
       "    // Tell IPython that the notebook contents must change.\n",
       "    IPython.notebook.set_dirty(true);\n",
       "    this.send_message(\"ack\", {});\n",
       "    var fig = this;\n",
       "    // Wait a second, then push the new image to the DOM so\n",
       "    // that it is saved nicely (might be nice to debounce this).\n",
       "    setTimeout(function () { fig.push_to_output() }, 1000);\n",
       "}\n",
       "\n",
       "mpl.figure.prototype._init_toolbar = function() {\n",
       "    var fig = this;\n",
       "\n",
       "    var nav_element = $('<div/>')\n",
       "    nav_element.attr('style', 'width: 100%');\n",
       "    this.root.append(nav_element);\n",
       "\n",
       "    // Define a callback function for later on.\n",
       "    function toolbar_event(event) {\n",
       "        return fig.toolbar_button_onclick(event['data']);\n",
       "    }\n",
       "    function toolbar_mouse_event(event) {\n",
       "        return fig.toolbar_button_onmouseover(event['data']);\n",
       "    }\n",
       "\n",
       "    for(var toolbar_ind in mpl.toolbar_items){\n",
       "        var name = mpl.toolbar_items[toolbar_ind][0];\n",
       "        var tooltip = mpl.toolbar_items[toolbar_ind][1];\n",
       "        var image = mpl.toolbar_items[toolbar_ind][2];\n",
       "        var method_name = mpl.toolbar_items[toolbar_ind][3];\n",
       "\n",
       "        if (!name) { continue; };\n",
       "\n",
       "        var button = $('<button class=\"btn btn-default\" href=\"#\" title=\"' + name + '\"><i class=\"fa ' + image + ' fa-lg\"></i></button>');\n",
       "        button.click(method_name, toolbar_event);\n",
       "        button.mouseover(tooltip, toolbar_mouse_event);\n",
       "        nav_element.append(button);\n",
       "    }\n",
       "\n",
       "    // Add the status bar.\n",
       "    var status_bar = $('<span class=\"mpl-message\" style=\"text-align:right; float: right;\"/>');\n",
       "    nav_element.append(status_bar);\n",
       "    this.message = status_bar[0];\n",
       "\n",
       "    // Add the close button to the window.\n",
       "    var buttongrp = $('<div class=\"btn-group inline pull-right\"></div>');\n",
       "    var button = $('<button class=\"btn btn-mini btn-primary\" href=\"#\" title=\"Stop Interaction\"><i class=\"fa fa-power-off icon-remove icon-large\"></i></button>');\n",
       "    button.click(function (evt) { fig.handle_close(fig, {}); } );\n",
       "    button.mouseover('Stop Interaction', toolbar_mouse_event);\n",
       "    buttongrp.append(button);\n",
       "    var titlebar = this.root.find($('.ui-dialog-titlebar'));\n",
       "    titlebar.prepend(buttongrp);\n",
       "}\n",
       "\n",
       "mpl.figure.prototype._root_extra_style = function(el){\n",
       "    var fig = this\n",
       "    el.on(\"remove\", function(){\n",
       "\tfig.close_ws(fig, {});\n",
       "    });\n",
       "}\n",
       "\n",
       "mpl.figure.prototype._canvas_extra_style = function(el){\n",
       "    // this is important to make the div 'focusable\n",
       "    el.attr('tabindex', 0)\n",
       "    // reach out to IPython and tell the keyboard manager to turn it's self\n",
       "    // off when our div gets focus\n",
       "\n",
       "    // location in version 3\n",
       "    if (IPython.notebook.keyboard_manager) {\n",
       "        IPython.notebook.keyboard_manager.register_events(el);\n",
       "    }\n",
       "    else {\n",
       "        // location in version 2\n",
       "        IPython.keyboard_manager.register_events(el);\n",
       "    }\n",
       "\n",
       "}\n",
       "\n",
       "mpl.figure.prototype._key_event_extra = function(event, name) {\n",
       "    var manager = IPython.notebook.keyboard_manager;\n",
       "    if (!manager)\n",
       "        manager = IPython.keyboard_manager;\n",
       "\n",
       "    // Check for shift+enter\n",
       "    if (event.shiftKey && event.which == 13) {\n",
       "        this.canvas_div.blur();\n",
       "        event.shiftKey = false;\n",
       "        // Send a \"J\" for go to next cell\n",
       "        event.which = 74;\n",
       "        event.keyCode = 74;\n",
       "        manager.command_mode();\n",
       "        manager.handle_keydown(event);\n",
       "    }\n",
       "}\n",
       "\n",
       "mpl.figure.prototype.handle_save = function(fig, msg) {\n",
       "    fig.ondownload(fig, null);\n",
       "}\n",
       "\n",
       "\n",
       "mpl.find_output_cell = function(html_output) {\n",
       "    // Return the cell and output element which can be found *uniquely* in the notebook.\n",
       "    // Note - this is a bit hacky, but it is done because the \"notebook_saving.Notebook\"\n",
       "    // IPython event is triggered only after the cells have been serialised, which for\n",
       "    // our purposes (turning an active figure into a static one), is too late.\n",
       "    var cells = IPython.notebook.get_cells();\n",
       "    var ncells = cells.length;\n",
       "    for (var i=0; i<ncells; i++) {\n",
       "        var cell = cells[i];\n",
       "        if (cell.cell_type === 'code'){\n",
       "            for (var j=0; j<cell.output_area.outputs.length; j++) {\n",
       "                var data = cell.output_area.outputs[j];\n",
       "                if (data.data) {\n",
       "                    // IPython >= 3 moved mimebundle to data attribute of output\n",
       "                    data = data.data;\n",
       "                }\n",
       "                if (data['text/html'] == html_output) {\n",
       "                    return [cell, data, j];\n",
       "                }\n",
       "            }\n",
       "        }\n",
       "    }\n",
       "}\n",
       "\n",
       "// Register the function which deals with the matplotlib target/channel.\n",
       "// The kernel may be null if the page has been refreshed.\n",
       "if (IPython.notebook.kernel != null) {\n",
       "    IPython.notebook.kernel.comm_manager.register_target('matplotlib', mpl.mpl_figure_comm);\n",
       "}\n"
      ],
      "text/plain": [
       "<IPython.core.display.Javascript object>"
      ]
     },
     "metadata": {},
     "output_type": "display_data"
    },
    {
     "data": {
      "text/html": [
       "<img src=\"data:image/png;base64,iVBORw0KGgoAAAANSUhEUgAABQAAAAPACAYAAABq3NR5AAAgAElEQVR4nOy9e8xu2V3f9/PE48EuBjKhklNoMxjPGOwhSSUTDEQtIJKQhDSJ5CRuFKiLKuVCAwPYhgkwnrG5uXhOaSgVSdNqkl6URAkitEhOK1GTpheVlqatGieVlUwgbUJpLi6X2hhz+sf7nvOs/T77u9fn9+zn9bwz7+cjLVl+zn7WXnut3/X7zNmnSkREREREREREREREREREREREREREREREREREREREREREREREREREREREREREREREREREREREREREREREREREREREREREREREREREREREREREREREREREREREREREREREREREREREREREREREREREREREREREREREREREREREREREREREREREREREREREREREREREREREREREREREREREREREREREREREREREREREREREREREREREREREREREREREREREREREREREREREREREREREREREREREREREREREREREREREREREREREREREREREREREREREREREREREREREREREREREREREREREREREREREREREREREREREREREREREREREREREREREREREREREREREREREREREREREREREREREREREREREREREREREREREREREREREREREREREREREREREREREREREREREREREREREREREREREREREREREREREREREREREREREREREREREREREREREREREREREREREREREREREREREREREREREREREREREREREREREREREREREREREREREREREREREREREREREREREREREREREREREREREREREREREREREREREREREREREREREREREREREREREREREREREREREREREREREREREREREREREREREREREREREREREREREREREREREREREREREREREREREREREREREREREREREREREREREREREREREREREREREREREREREREREREREREREREREREREREREREREREREREREREREREREREREREREREREREREREREREREREREREREREREREREREREREREREREREREREREREREREREREREREREREREREREREREREREREREREREREREREREREREREREREREREREREREREREREREREREREREREREREREREREREREREREREREREREREREREREREREREREREREREREREREREREREREREREREREREREREREREREREREREREREREREREREREREREREREREREREREREREREREREREREREREREREREREREREREREREREREREREREREREREREREREREREREREREREREREREREREREREREREREREREREREREREREREREREREREREREREREREREREREREREREREREREREREREREREREREREREREREREREREREREREREREREREREREREREREREREREREREREREREREREREREREREREREREREREREREREREREREREREREREREREREREREREREREREREREREREREREREREREREREREREREREREREREREREREREREREREREREREREREREREREREREREREREREREREREREREREREREREREREREREREREREREREREREREREREREREREREREREREREREREREREREREREREREREREREREREREREREREREREREREREREREREREREREREREREREREREREREREREREREREREREREREREREREREREREREREREREREREREREREREREREREREREREREREREREREREREREREREREREREREREREREREREREREREREREREREREREREREREREREREREREREREREREREREREREREREREREREREREREREREREREREREREREREREREREREREREREREREREREREREREREREREREREREREREREREREREREREREREREREREREREREREREREREREREREREREREREREREREREREREREREREREREREREREREREREREREREREREREREREREREREREREREREREREREREREREREREREREREREREREREREREREREREREREREREREREREREREREREREREREREREREREREREREREREREREREREREREREREREREREREREREREREREREREREREREREREREREREREREREREREREREREREREREREREREREREREREREREREREREREREREREREREREREREREREREREREREREREREREREREREREREREREREREREREREREREREREREREREREREREREREREREREREREREREREREREREREREREREREREREREREREREREREREREREREREREREREREREREREREREREREREREREREREREREREREREREREREREREREREREREREREREREREREREREbg1vqqq7l+NNL/BaRESfFLmJ6JciNwt9UuTmoV+KfIL4F6rqfVX1war6har6x1X1P1TV26vqVXCOP1RVf6OqPlJVP11V31tVr4bf/Yqq+qGq+vtV9dHL//2hy89P5ddX1cfqEESe27j2bZfXPN+8x6+tqn863OMDk+ufH67dGlvreK6On+dpeP/rwEAtcrPQJ0VuHvqlyM1CnxS5eeiXIp8AfmctRayr429V1WsnczwVvvuTVfXPbHzvZVX1pzbufffyz1/WfKYHquq/vzLPcxvXv61OEwD/0pV7fGBy/fO1/awKgCKyF31S5OahX4rcLPRJkZuHfilyzfyGuvgv/u5W1c9V1Z+oqi+sqi+rqj9dBwf8YFV9cpjjDVX18ar6/6rq26rqzVX1++tCOLxbVd+zcf/vHO7xk1X11qr6/Mv//cnhz76j+Vxfd/m9nxnmeG7j+rdVXwD8XSv3+MDkO89fXvfDVfX4xnhsY47nSgFQRDL6pMjNQ78UuVnokyI3D/1S5Jr5r+rCwT5WF8LfVd5RByd8Kszxrss//7orn39GXYiLfyd873V1+Cu6P1FVr7zy56+6/Pze+j574zlGPrOq/t+q+pWq+uq6HgHwk6vqpy6/81XVFwC31jLjuZU5nob3vw4M1CI3C31S5OahX4rcLPRJkZuHfilyjXx+HRzsB8M1D1TV37y85h9X1YMr19z7LwUfX/mz/6ku3um3xg8M939zuObNwzXfH665yl+5vP4/rKpH6noEwD95ef2PXf5/BUADtchNQZ8UuXnolyI3C31S5OahX4pcI+Nfv/2Cjeu+Zbjut6z8+Xdc/tnXXvn8NVX181X191a+87K6+Ic+7v314i3u/VXin675uwDfcnnt/1NVn17XIwD+prr4K88frarXX36mAGigFrkp6JMiNw/9UuRmoU+K3Dz0S5Fr5K/VhXP9fFW9fOO6L6yDIz6z8uf3HPUXq+rJuviv9t5SVf/75efvW/nOa4c50399eI/xHwn5rI3rPrWq/q/L677m8rNH6rwC4Mvr4l86vltV7x4+VwA0UIvcFPRJkZuHfilys9AnRW4e+qXINfKzdeFcf2Ny3a+ugyP+xXDN9w3XjON/q6pPWbn+dw7XPDG5/zcM1/6Ojet+8PKa/7oO/6XgI3VeAfDefw35oar6pOHzrgD4d6rqf62LdyT+YlX93ar6C1X1e2r+Xzk+VwqAIpLRJ0VuHvqlyM1CnxS5eeiXItfEJ9XBuf5zcP3PX177321c80fr4r/6+6Wq+gd18Z68TwvX/pHh/m+Z3Pstw7V/OFzzxXXxj378UlW9cfj8kWICIOG1dSHW3a2q33rlz7oC4Nb463XxD6i8IDz00EMff+CBB+4++OCDd1/zmtf88mw8/PDDH7+39ocffvjj5DsOh+P6hj7pcNy8oV86HDdr6JMOx80bt9UvH3zwwbsPPPDA3YceeujjL5QGIC99/tk6CE5/Hlz/M3X4L/rOwfivC3/F5NrfPlz7TSt//oo6/HXj77nyZ4/U+QTA/7LyflEB8P+oi3+k5Gur6l+uqt9YVV9SF391+t6/Kny3Lv7hlU/dud6TeOCBB2YCpcPhcDgcDofD4XA4HI4zjcs+XORa+OfrYGx/Dlx/T5z60Jnu/+3D/b9scu2XDdd+28qfP3X5Z89X1auu/Nkjw3efO3WxVfXVl3N8uKp+7cqf37vHBybzpP8isqrq1VX1V4e57rRXeQYefPDB+0HooXolGi//5E91OM47Xh3GC70ux820izQ+ZRja1EtrdG2hO17o53M4HA6Hw3Ftg/a5n4hxr/e+7MNF2nxGVT0exr2/WvpS+S8AX19VH7n8s69c+e4jtV8A/PQ6vC/x3wzXUAFwxqfWxb9gfLcu/tr1K3bOd5U3zca9//T6oXrl3S9/2VvQeMM77twfb3z7ML7pMN7wzsOI14R59ny+GMMa4ne/+TBW17lj7WktiznT+KYw0jVgHrQ35F7hmmgX4zXjfYe9/9wnh/Eth9F9rvGax7/xMOLnZ37eNHfbH9I9w7l17T49X1rD+FyLZ0n71LSR9PloC6//tvXx2NPDeOYwXv/thzHaF7GR0TaJ7y6uD3s4iwfx/Jv+T+bZY49pzxb7+g2H0Y1xaZ8+51sPYzzzZBevf+owHnvX+vicP3EYizNsnj85C+SLjVyC4hXZY7JG4jMpNoG9TP4TfYbsWbj+XLVJN5alvdoz/zjIuYzXrI10JmmfFt8ffb5pg+m76TzjmpPtDM+Schn5bnoWVFMkX0lxh/joDv+O+zOcxTTupLgA/C3aS/LJd4ZB9gbEbWJryLfBGZKz6tYj3bhG7tutldfiEcoRaV+THREfC3tG+9xPxLgnAl724bN+XeSI5yr/p6XPXV5zHe8A7HCOdwC+rC4Et7tV9UPhu4/UfgHwz11+/yeq6oFwzbkEwKqqf3eY74vOMN8I/k+QOwJgu2EBSTMmelIkAlGpm3ynySjNR5J/s5lKSY004iRpkyKo3RCDpByv2WNHoNjo3qtTfO8pQNO6yLl19xLtX/McUJFK5hm+O/owEXfGz5MwhARmchZgxKZozc/AffaI190YhOJI166BT6b1jOc2ioGjiLf4PAiGo0g8XhPjHfHFpo+SZ09nvdWcbwoZaRCBGzTf7ZySPgexo7vHpGkmwlD0lZXzefwb2L6luBkFr64vrqyT2AURCffEybP5Vff8mz6JbJbk2XDfaC/NWiLaEdiHVJfN7KEdI8Dc6bnR+TTFsXRfIgCSZyTP27X9GDtIPt1Rb3bzyrRO7T4riMlJTE/x4qYIgHCIHPFczQXAqvP+K8BdvnKY89R/BfgLh8/fXlVvXRl/fLjmx4fPH4fr/OeG77833OOtwzV/c/jsC+A9rvLHhvl+34lzJBQAFQBPFgkUAPsFTrdo31OQoaZgz/41z0EB8HgoAPZ9UgFQAVABMK+t7Ysr6yR2oQC4HbMUAE+IEWDu9NzofBQAt/Ppjnqzm1emdWr3WRUARU7mr9Xhr5q+fOO6UWh75kz3fu0w5w9Orv1Tw7WfNXz+JdUQtK6Mp+E6H9lxj+fgPa7ytcMc5xYAr+WvAKOCixREKegrACoAnmpHoHDv3qtT4HSL9j0FGWoK9uxf8xwUAI+HAmDfJxUAFQAVAPPa2r64sk5iFwqA2zFLAfCEGAHmTs+NzkcBcDuf7qg3u3llWqd2n/UlLAD6V4DluvmuOghNW/+12rcM1/3WM937ZVX1f17O+cHJtR+8vO7vX37vHl9Sp4tzT8N1PrLjHs/Be1zlB4Y5vvjEOU7mNa95zS9XUwDsFhftBECKslHoGxpDlBzHBDMT2sKfL+45inJPHEZaL9mDVlLdKo7SfnQbXFI4pLU1i9qzFYBp/nBNKspIU95qKMDZ7mm+yOiKPt2mhpxnfNdQsNlR6EFi4Cj6jT8GgDiFin7QeHTj2up5kvuQOEIaxKZ/dn/wQHsZ5lmc//B+x/T5OBZ2Mb4bchSDm81ObLKa57949vADz+qPX81YkHJTjPPNGI6abCC4Rd9L9psavbSGtPfgTBZzNt95R56LnAuK8Q1xouv/KO+QZp3EsmSDJHaQuoPUgiBvJvsd54+xBpxVypWxDgIxOtrURESL6wL7R/Jkqn32nD/xw26u7uzZVq3RrZtIDoo+B/aHPBeq3db2lfgeiKXtviDs5U0RAC/7cJFr4zfV/L/Ce6Au/lrr3ar6J1X14Bnv/+8N939zuObNwzU/cMI9Hqn9ghzh3j0+sHOe8R8B+YWqemjnfG0UAEPiVgBEZ9gtrEmD0S18okCS5geFISlIW3vTPFsFwGObVQDcuA+JIwqACoAKgHnvwZks5lQAbN9fAVABcJYnFQBX7gtqMQVA5g/jdxUA5TZx768Bf6wu/qrvVcZ/rffpM9/7scv73q2Lf2DjlVf+/JWXn99b36Mn3OORujkC4FfU8TOOvLqq/uow15881+I6KACGxK0AiM6wW1iTBqNb+ESBJM0PCkNSkLb2pnm2CoDHNqsAuHEfEkcUABUAFQDz3oMzWcypANi+vwKgAuAsTyoArtwX1GIKgMwfxu8qAMpt4l+sql+sC8Hp56rqybr4r+6+tJbv3vvbdSFQnZvvHu7xk1X1B+ri77b/gcv/f+/PvuvE+R+pmyMAfqCq/lFV/ftV9a9V1W+uqt9YF3+V+cmq+qlhnr9VVQ9f12K3OEUAjEU2KFK6AXpxfRD9UBEEktPad1ETHJoFVKiDfUrFSywimgk0JlYiEp6rkSCCxGhrQzOLziI1JKmJS/s5swHQaMT5hjUmUbu9LuAzsalJ+5psGDQyqXBPBR15B2B671/3/NFzNWMWaTBne7/wf2Cvu5os0nSkeETiV9rv1EAF+03v+luIfsN7/0YbWbz3Lwhu6MzT84KBGjHSUK8NELfTc7fusxGP9jwTaUaJ6EfW37ZfIB6QPEgEgzTOUQNE4SbtPRApUb4AzxHPuVt3pH1NP4QSfwNxiuzDIo6n2N0VPIitkVpsMn8886ZfoTjSFcfB+SABMPlNEtNALbArBjX3rf3dZuwjOWMW05DtkvwM9n6sHcZ5FADltvG7qurDld9l97er6nXXdO8Hquo/2Lj33ar6M5fXncIjdbMEQPLuwB+vqs+4vqVuowC4/V2UzFNxCe6PEnJquE8s/ulQANwurFbvm547jbAHCoAXQwHwiv8rACoAznKJAiBevwLgxlkFm4pnTvIFeI54zt26I+2rAuB2LTaZP555069QHFEAPGnf2t9txj4FQAVAefHy66rqTl2Ifb9QF+/7+4mqemdVveoTcP/fUVU/XBf/MMhHL//3h6vqt++c95G6OQLgm6rqm+viuT5YVT9bF3+1+cOX//+5qvpttfyHTj7hKABufxcl81RcgvujhJwa7hOLfzoUALcLq9X7pudOI+yBAuDFUAC84v8KgAqAs1yiAIjXrwC4cVbBpuKZk3wBniOec7fuSPuqALhdi03mj2fe9CsURxQAT9q39nebsU8BUAFQRF7knPMdgLGIA0VNt4FGhVIqvsYENghJa8mdJHNUwKeET4oL0oCCooysgTwLKhxAQUGKWlLgJJGgW9yRom9qp3sKtdCgdYqtrUKza8uoiCQFIrGvsIbxPEdxbxR3Xvedz94f6f1uRJCII4gN5FzGa8Z31Y3vpOsIEHHtSfQBtta1exILzmWbC1sYxODHnjmMR999GK/7jmcPY7CL8fqFABjWGZ+9GU/JPqRnR/40y5/DGO0PnUl3P0ij1xQ4yIjzN2Nc8mciWidhK10ffS4JQ2kesP7OnpEai4h7MTZ1BYCwBvLuORKbFqMrNqYzB88YzwrsbYwvIAYg0XXyjN1zIzGf1Eq78lo6w/QjYapNwH2jn4EfJFP+jT4Ezjydf/wRhdSJnfumZwLzITsCcT7NowAoIrcWBUAFQJR8m0U2KQZQAZi+GworBcCNQqlpy2mQglUB8NjPFAD7trmwBQVABcBZA0gEprA/CoAbZwjqKhI/0fmkWBP2qVubRFtSANy8rwIgu2/0MwVABUAFQBG5KSgAKgCi5NssskkxgArA9N1QWCkAbhRKTVtOgxSsCoDHfqYA2LfNhS0oACoAzhpAIjCF/VEA3DhDUFeR+InOJ8WasE/d2iTakgLg5n0VANl9o58pACoAKgCKyE1htwDYLPTbBRd4n1ESS4jAMG1sQEEcExwoKFChQQolkKhR0ZnW2XwXS7f5IkVCFHSS3e1oBuIzgvXPGlkyHyp2mqLPrmftztm02WRH6R2AowC4GIOwRhpPdF6gmI7zgGZ9VsiSuENiRxKUUlzYE7e7BT3x1VG4W7zf79vXxygMjteP86SYQhoMErtT/IoiEbnv5SBzJCEmxh3QcHXXS/yH+EnMZc0m+FwxLvklyVPE59L1ROib2XWMXeGdW+mH0vb+7cjPi/3ovks0nWHwifiM4XmR6Et8LoiKJL+k2EDsiHx3ev8Ua5r1E8l3XR8m9k4EsfTsKBaHkXyVzBkFNZLHSU0E+q+pvyY/AX1H7O2aPpyeVQFQRG4tCoAKgAqAx4MUlbN9iHOD+ci6FAAVAFf3GMQmBUAFwNW4owCIY5wC4An7pwC47XMKgAqACoCH51MAFBG5HhQAFQAVAI8HKSpn+xDnBvORdSkAKgCu7jGITQqACoCrcUcBEMc4BcAT9k8BcNvnFAAVABUAD8+nACgicj2cIgDuKppBQReL+1QkpPWAIqEjiqECDiThxXt+umshRcWOJpskZVKUkevJ/Gmv2oJO84xIA7O6ZuADu64J54P2gNhLKKZIAYr8H9jXojge3/s2iHvjO93Gz0eRcPwuaVT2FNDtfV5rcpo+H4tdYEekgN/TBJP9S58vGqLhfMZ32L3+qcNYvA/wPc/eH6PoN34+ioSL9wESgSzsD3mu9hmFeHfyjzg7zrabB0nzFXNBEgCInYLrydmOthAb9PQeutTwJt9NYhZYM/Ktlf2P9tfMKeg5wt7Ea4A/xBqB+FJzbSifNtdPvruYJ+SphWAL7JH8kBufZc230/kkewW+l2wKzd+sfdo1H6iVSB2P9gHUzafmjse/MdtUzOnN+nu2H6TPm81NY3s6BwVAEbm1KAAqAM6e+2ietMeggI5NXypAFABRMbqnCCZFbfquAuD2+tHZrdkOmDsV08SOSAOiAMj3hzyXAiCbP4kXyE53NImLPVIAZPchzxH2Jl4D/CHWCMSXmmtD+bQryoDvLuZRAGTzN2ufds0HaiUFwOV+KgAqAIrIDUQBUAFw9txH86Q9BgV0bPpSAaIAiIrRPUUwKWrTdxUAt9ePzm7NdsDcqZgmdkQaEAVAvj/kuRQA2fxJvEB2uqNJXOyRAiC7D3mOsDfxGuAPsUYgvtRcG8qnXVEGfHcxjwIgm79Z+7RrPlArKQAu91MBUAFQRG4gu98BCBroRQENgjVKDHtEDpLsGkVYLBzI/a/7u915SCMGCrHUxJPCBzWA3TnDGNc5jlOLINKMdAcpguI+pfNsFkoL228Uf0fzpCI1NNwL0Se83y29A24Ud8Z5okASnrHtN8M1qSlei3ck1hFBoTuQ3YVn7Yp+Cx8Lcy58cRBxx/Mchd6FGBjeB5neBxhF4iSEA7tAe5gavcYZJZEt2XSKY5/39YcRhYZmTlnYSPAB9ONB2m8Sy5q1Q4zdoy0QwSDFuBQXiMCQRJww/8yOUDPfHWHOaFPkPMn+NW02xVDy4xcRm5Fdg3yKfpxq5vF47uDz2XwkHyIhsynoJ1uLPx4H/xnvi354btZi0T9ArRfzRXquFL+a60E2G9a59ued/+Bic2/C6P4opwAoIrcWBcB5cuoUZO37X/d3u/OkojztfzhDBcATzieMbnGJzrPZOCgANvxmuEYBMPtbmlMBkJ2RAuBKDErxCNQOCoD74kgUFBQAj21EAbAdp1CMUABUAFQAFBGZowA4T06dgqx9/+v+bneeVJSn/Q9nqAB4wvmE0S0u0Xk2GwcFwIbfDNcoAGZ/S3MqALIzUgBciUEpHoHaQQFwXxyJgoIC4LGNKAC24xSKEQqACoAKgCIic056B2AK+CDRz5LFURFEGiWwnijizBob0LCkdwQtElP3XXakkdlRXJKGqCv0oH0NCT0WBqDoQE1Q8xlTM5iu2RKOjwpy0AQlu0fFMZgHFZrkzLsjPMt4zqNYt3i/3yD0jELf4l1vozA4iEQLAbDpHyQGkGZ2WsQT2wlnG5taICigEdawx67T2kZRbhwL0W8Yi/f+je8DDKLfeM1oF+nHgChmpL1Ne0KamUbTN95/0bwCW2g3jiBGpBxEbDz6T9NO436DvEnidVpzEmOJ/8fzSr5C6qnw3VWBg9QRpJ4DcTX9ABDtrvt585y7QlXyv/RcKF+HfUZ5E6wtztmMQdOcCQZ6X2NYC6lfSPwk4hXKp2ke4v/JRsbPnziMaKfN+LWrHuzWgJ26Bth9XGPXHofvKgCKyK1FATAMBUAFQAXA+Zl3R2pkFACZ7SgAKgCu5A4FwOO1kdjXbaDTmhUAs2+M8ysArqxNAZDVHaB+IfFTAfB4T9o5qGNH4FoFQAVAEfkEowAYhgKgAqAC4PzMuyM1MgqAzHYUABUAV3KHAuDx2kjs6zbQac0KgNk3xvkVAFfWpgDI6g5Qv5D4qQB4vCftHNSxI3CtAqACoIh8gjlJAOwmF5B8SaGM5m8mxPTet7UCERXKqfFtNjXku6m4XDSBQxGBEnFqNMD5dJM1soWmQNMdxJaJ6DMrNFCxDYo81BSmZwJCDPEZ0tQQm0qNT3zv2yj6JaFnEAzTOwDRO0m78YXsw+SMiI1017KnWdt1tsTfgMCU3gcZ3+/3DBijqExEYtCctH2x6X9r+7bL/s609m7zTXITsR1kj0HEIfk65qM0ZxJcQI2DYsk6VMgAACAASURBVHrYw1PzHbp/8k/yA8rEdrfEqHQNEQ+RcBNsgcTWVTG1Wxds+GK3rlk8O/jRMtazjTo3rZGI4ClmdQV0dE2KdyG/nKvWR2cSzhz9eANyEHnXbhwkd5Oc0ak7SP4CcYfki3GPFQBF5NaiAKgA2E7s4BxIkYJsgRQ+zSaIPFcqbFuFPihqSCOOmjXyTGn+ZsOiADi5Huzh2ueoOG6updugt5+pabOpoCcNmgLgct922d+Z1o5ss5mbiO0ge1QAjHuI7q8AeOwHwzwKgMs/VwA8/q4CIIsLKH8pAIqInA8FQAXAdmIH50CKFGQLpPBpNkHkuVJh2yr0QVFDGnHUrJFnSvM3GxYFwMn1YA/XPkfFcXMt3Qa9/UxNm00FPWnQFACX+7bL/s60dmSbzdxEbAfZowJg3EN0fwXAYz8Y5lEAXP65AuDxdxUAWVxA+UsBUETkfJwiAKKCNQTcbkHcvYYkFdQkzArH8HksCruJNDVNqUAATWo3Eaf7knlIgXu2veoWFc1mufssa+fT3XvSoO0RnbrXI/8MvkTOcByjEJPe+za+D3Ah6AwiYRJ3RoEx+jRp9FJjQBqVlc/3NFAkBsU4DBqQ2HwnmwVxc3HfoVFavINvfAfgKAAPZz6Kewu7CJ8vBrGR4WzjGV2HLwIhaToH8LfY1DYbQfIcC78aznxPnNrVvAI7He0xvsPsDGe1FVPSNcmnZ/uA4nwSOEBeJWvs7kGak9hOyuHJn7v1XdcX0TxB3CE2Eu0C1JvE1mY/PKe1dONRFEfJPF2B60x+G589PBfJy/EZ0/rTXjXqERpnZ3tC9gnF51Q77PBJBUARubUoAN5ZLTCnzYUCIC+IFADbe0+KWgVABUAFQAXAzTkUALdjkAIg21cFwM3Y2vVFBcBsowqAK8+bnjGtXwEQDQVAEbm1KADeWS0wp82FAiAviBQA23tPiloFQAVABUAFwM05FAC3Y5ACINtXBcDN2Nr1RQXAbKMKgCvPm54xrV8BEA0FQBG5tZwkAIJilyQsJH6N7wkiBS5IrJ3CdioQwkGSYEyOSWhKzUhzPalwIAPN3yygugUaKkzSM4Dim7xb5/6fh73pNiOxEUj+E5psNE9YT/dMSMEd1zOsfyEABkFv8fkwxvf+JQEIveutaePk85l/dJv5eM+mIEIa4hhrQvyMayNi03DN4n2QSRgOYvDi3YBPH8brvuPZ+2NhI6MdhXdGLmwH5LUY75q2tjo/+NGHNH+L92CBfJfi50LQIw3lMJAQ02xk4/6QcwCfE/8juSOdP4kHcW+JQNKIKfFHSJJrgPBF3sW2JyaieZLt7xB3048H8XoQO0gtg3ynmcs6dWH8oZr4f/P+XRG3u68kzpP4mGpKNGeyF1IPpLV1Y8qpz57uCWqHuK5UtzX3SQFQRG4tCoDrSWg10ZxYSNMCixQ+CoArtqYAqACoADj1h258UQBUAOzEYQXA4zUoAF7ZDwVABcCZ/zfvrwC4bftxbd2Ycuqzp3sqACoAisgLhwLgehJaTTQnFtK0wCKFjwLgiq0pACoAKgBO/aEbXxQAFQA7cVgB8HgNCoBX9kMBUAFw5v/N+ysAbtt+XFs3ppz67OmeCoAKgCLywrH7HYAk8TWLHVT4giIIJbJGYUISJmlGusUr2m+SzBvC51HiJo1Gd85QxJGCgTRi3eKYNGKpiO+cCRKmx+sHETytfWygRnGE+CHZe3KexK6T2JBElvjutvAet1EAGoWeURgcvxvfBxj8bPFnQMyKDcBkz5GNhMJ30XQmAQLYZnc/iK0lm1rYxTDn4h194xkmYXi0hUH0G4W+URgcxzg/EYlTHEQ5KIkKjVhMcgeKt824EMWgFDNHGwTxJdoj2DOyD0Qc21NfLPYwPHtb8AB1E8nLU9F0R1MezwrYI4p9pO5Iex/WSc4h3ndP7QbiYzu2dtfcjGWrIhvI+dGOwTVob4BvkzNpn2G6LxDHzmXj3Vqsk1+27IjEo3PUiyh2NH1jHAqAInJrUQDcHgqAvChQAGRnogCoAKgAuBwKgNzPpnmhG2+bcUEBcPtsF3uoAIjsEcU+UnekvQ/rVADksUwBEN5XAXA5Z3ON3VzW9Y1xKACKyK1FAXB7KADyokABkJ2JAqACoALgcigAcj+b5oVuvG3GBQXA7bNd7KECILJHFPtI3ZH2PqxTAZDHMgVAeF8FwOWczTV2c1nXN8ahACgit5a9AmAsQPYUnsM16Z1L6R0apDEgSXlV8CGFzJ5ijjQaOwrQcyXTbkHRtRdUyJJmsLlXe56xM8f4eXz3ETiftDcLUQs0dOSsunu28NUkmg5rG/2cCD2j0Ld4jxt4N1zcn2Ft4zXdfUA2MHlvDfFb9B6hZFPE1s/VcAHfTp8vznA454VYN773cRD90neJkLywkST0hniEmj6QB9OZrgprTZ9sN5Rr998S98h6wpwkdizmDLkANeXEV8k5p/NMIn14RvRDYZiT2Nf0nIGNxLWn+D/YyCKuEjEg+F46f5LnUZ5qxsFd/hfuRWy/K6i0bb+Rz9t15A6RmIhs6Bx22B3JZQv/APUougacJ9rPcH33R8AYgzp2uWOPia+m7yoAisitRQFwveBSAISJOH23+ewKgFf2AJxP2hsFQAVABUAFwC2fVACcxLg0jwJgXnuK/wqA2/4X7qUAuHEOCoCb54n2M1yvAKgAKCK3AAXA9YJLARAm4vTd5rMrAF7ZA3A+aW8UABUAFQAVALd8UgFwEuPSPAqAee0p/isAbvtfuJcC4MY5KABunifaz3C9AqACoIjcAna/A7Ap3KCCFSQ1knDPVTzMnikVc6RBR3sAngMl8GazvqdxT4UsKkZJMdBcW3d051+zuVhQpucmQkPzfNrFYtPfuv4/PmN879sgyizEnUHES+99G8f4frckJI5rSGfRblSHz8cY0GkGUoE7XpOEzBSP0PzATtNzpM/TOSeRLYl7i/NN7wAcbWcQlUcBcHw35Ou+8zDGOce1jfMgPxueJcX3tnC2dqazP99qzlLMB3Y/7s0ixzUbXJIXuj6BYlCqTa5ZPEhxId63mQPSOS7uOxNTQRxJ54ByeLq+K6yGWoOcf4pTi5pleO8uyYnXkpdDXCYiYbTxlOOJiDI7z6b/dOMUEURjTCEicVfAJPu65/yb86Rzaf/wNIkdVPhd23vyPRSPdtjX+LkCoIjcWhQAeQGACj4FwKM1KwDmomoxtwLg3Te8QwFwq5gfr1EAVADc/HMFwGnuI/tG1hZjQbivAuBG7iO1Sag1yPkrAK4MBUAFQBg7FAAVAEXkJYACIC8AUMGnAHi0ZgXAXFQt5lYAvPuGdygAbhXz4zUKgAqAm3+uADjNfWTfyNpiLAj3VQDcyH2kNgm1Bjl/BcCVoQCoAAhjhwKgAqCIvAQ4RQCMwbdZxMViZ0+CJoXMN6+P1QLwG9dHLHzCPbtiJ2oudhTKaT2LZj0l7vFeRLTa8YydwnSr8UQiTmp4GoUtsdH47q5uIwieD+13aI5iA5IK7iT6BH8br0nv6xtFmVGIicLfMM9CAAzCUHqurmAb9x/YzsnnT+w+2B3xNyIGEJuK6wyi30LcG88/XRME41HoGwXA8T2Bo42M302iJfKt1KikPWyKYtO8Fz5Pz4TyORFfiK0HkSXaCBGhyB6DPBhjX7LrsD9pnjg/eEYiipCcO7MRspfda9p1Hrge2UKKg6mOS2sG5xB/2AIxGtVKXf8A9UDK77PYEM+fnBvw225eQ3EQjFhPNXMfOod0TYgpJL63n71pI7E2IALfqbZA8hTwq7Q3CoAicmtRALyz2vwqAG4k9lD4KgAyG1UAvKMAuDZn9/wVABUAZ43v8LkC4MoaFABR3NlzTbvOA9cjW0hxUAHweG8VAHM9pQB4vE4FQAVAEXlxowB4Z7X5VQDcSOyh8FUAZDaqAHhHAXBtzu75KwAqAM4a3+FzBcCVNSgAoriz55p2nQeuR7aQ4qAC4PHeKgDmekoB8HidCoAKgCLy4mb3OwBJQAeNRCygSbHRLADTnKuFISj+uvckQmJqxEjRFgUmsObuM5LzJMmazE+KL1KQdguljhCCCkoicDaL4LhG8nxJBCONA7jXeM0ovi0EvfBOt1GsScLQQjwchJ40J3qnW9j/JBikvSJN/6pYtKPAjetKPgAK9Fjwp/uG60eRbbwmCrrDGY62MIrE45kv3vsXbGf8PNlgEolRPOo2xd3PV2yr66sp70V7acYF8tyx0QPxGX0XxCny7EncIXuS1tkVifaseZpvSJ4kZ5ueI+WXZs5Ke9OuF0EdkZ6XvNeZ1FbtWinsFam/zvXs0zoi3J/UlHv2BsVYUJeReBfXBn4sT88b92fH2tD1IZeRfITyweQ5un6bYko73w7XKACKyK1FATDcd634UwDcLCLaRS0o0FDD3Sx8uwVubFRW1kMKTQVABcDZWRGfSbaoAKgAOPPVlPd2NXxEJAI+RuIz+i6IUwqAG2dIcibJWQqAR+ts10phr0j9da5nn9YR4f4KgNvPqwDI/DbFlHa+Ha5RABSRW4sCYLjvWvGnALhZRLSLWlCgoYa7Wfh2C9zYqKyshxSaCoAKgLOzIj6TbFEBUAFw5qsp7+1q+IhIBHyMxGf0XRCnFAA3zpDkTJKzFACP1tmulcJekfrrXM8+rSPC/RUAt59XAZD5bYop7Xw7XKMAKCK3lpPeARiC+EJ4SskCiClRIOs2A82ipVPURFGTFD5kb1JhDxJ+W6gERTxqGEKh3C4edxSA3aKv+/lizrUmK90/CQfDd0kRTBo04gNxv1ORFT5H7xVLfhNGEnEW7257z7P3xygqLQTAQUj63CeHMayZxJquL0Z7mJ1XsoUUX4Z3qMXCF8SsuC4gXnRtMJ3DeK8kEo/nvDjzd4XxzPoY3w2YbKSbL8bPo0hAYgpp7idiPYqfKR7tyJ+7YinJoSAHkbiGnoX4CtmfphDSqU02a4bZ/iTBoluHkdjRtME9exznBzULsosdcXOckwhA7bzcvT7tTxqNOnxP7GjHIHD+Z4u9zdiKYuIe/0/3PdP60w8eaP8neYH8hxBTW4T9SNobBUARubUoAG5fHxOmAuDmsygA5rNd3EcBUAFw5XsKgAqAMfYpAGZ7B3ENPYsCoALgml3siJvjnAqA+3y1e/5ni73N2Ipi4h7/T/c90/oVABUAReQligLg9vUxYSoAbj6LAmA+28V9FAAVAFe+pwCoABhjnwJgtncQ19CzKAAqAK7ZxY64Oc6pALjPV7vnf7bY24ytKCbu8f903zOtXwFQAVBEXqKcJAB2kz4I6N33QXSL4FOL6cWfg8Y+NcfnSoikcWs1AlvFImkuwhnGcwiJmCT0cW/jPhN7Cc/enXP1ecfGKpxtsqN0/kkMSnuzq4BOjSEoOhd7FuZJNvV5X38YoxAzvt8vCTePvvsw0jsAo/AEGgMizJJCP9lALH4nBXG7iSSxAwgDC9tMYhewo3EQMZCcORGMR5FwnH+0kV0+kWwh2EuMm8GfpoIS8cN0fxCfR+F5Mc9gC3HOSYO41aTG5q5pa6RJRHltx3pQvAg/oqG8Ocn7aJ+ae0YEiO4epHNA60y1Vbg+xtBwnm2BFORc9IMasMFunBrX0xEku+eA/GFiu0dxIa0R+HNaT8qtyP9BXCPXI9tpxlC0b2ENyd67953ml1Rvpb0JgzyHAqCI3FoUALfnSYVgSi4KgAqACoB5HgVABcC1oQCoADhrImNDrAC4WVutzY/2qblnCoAr50D2TQGwX7MqACoATgZ5DgVAEbm1KABuz5MKwZRcFAAVABUA8zwKgAqAa0MBUAFw1kTGhlgBcLO2Wpsf7VNzzxQAV86B7JsCYL9mVQBUAJwM8hwKgCJyazlFABwDa2rcuoUkKQZiYkjNdLOwnRY4pMgLDV+3gG4XVmBtpHCLIgER1sI16J1roKDo2hQSociek+JxrXhJhRoRzcaCpftOsXBui+YSFFmkWCTrX4gXoNlJ7wD87O9+dnUkAWgUD8dnSe+1Ic8enws0vPG7E7s4VwOFfCbYCGoWwNpQEzTszSj6ve47n70/RgFw/Py17z2MUTAer1mIxIONkFyWbBnFx7APC/8GMaOzl2gtRKxpNo6oKQTrTDYYxUYQZ7t70s2/8QebsP5oXym+h/WQ9+6u7n23NgHNesznTfEiig5kn8jegHMb7xWFoR3+0Y0XbUGyeb7xvCbntsfHunOivWzW60T02xXjdtRo3Ry0y7eaeYX4RKc2iuvaUbeneykAisitRQFwPfGdo6AgDUg7qYEGhDzftEG4Kk6RBjdcowCYC8TU1KTmBRXKzeKSFLLRP8H6FQAn353YxZ6YiWJWmEcBcMX2FQDRM5GYQtapAHjnOL6H9SgAbpyJAiA+33hek3Pb42PdOdFeNut1BcBjfyV5RQFQAVBEXoQoAK4nvnMUFKQBaSc10ICQ55s2CFfFKdLghmsUAHOBmJqa1LygQrlZXJJCNvonWL8C4OS7E7vYEzNRzArzKACu2L4CIHomElPIOhUA7xzH97AeBcCNM1EAxOcbz2tybnt8rDsn2stmva4AeOyvJK8oACoAisiLkJPeAdhsKklxHwtJUEiQgpgUgLNkEe+fRJBUsIBrFvsRit2UKEnx0k2aqJBpFm67ClMg7pECAJ0pKHxWG5NmgTsTF7eKxbh/oTBd+Nz4Ti8gQqVzSAJgenfjOMb39Y2iTBL9ougzfD4KQIt3vQWhh9hm8q3YDHZ9ZSV2EX+IjUwQj1GjCRoT4m9kv9O7/kZBN535OD7rzvvuj9f+W8/eH5/93mF8z2GMQuLnfOswhvV0YwoRTkncifu2Yluk4SN5shtHujm5nf+JABByAcprIV4T4RHlkXTfHXkq5gZgA63YTs6TfPdM9SJ5bvLddIbo3EgMJQJd+u5gFyRuxh8hurbZsDViI21bSHEnCb3gXkgQa+ZTdN/uvcA5EPEr3bcr9EWbDXVour69Pw2b6saL9BwKgCJya1EAnKyZFFJjYlQA3Cz00DUKgHG9CoAKgAqACoAKgOsxqJ3XFADRHHFd5LtnqhfJc5PvKgByH127hthI2xZS3FEAPN4TBcB2vFAAFBG5ggLgZM2kkBoTowLgZqGHrlEAjOtVAFQAVABUAFQAXI9B7bymAIjmiOsi3z1TvUiem3xXAZD76No1xEbatpDijgLg8Z4oALbjhQKgiMgV9r4DMCYmIhiAJNhtZmOROBb34F05rSQPBLpzFZfo+UKDjoQ1kNi7hV5af2oA28U6aEJQYQKasumZNhuith0TGyF7DwSm1OiltSVxbxRTotAzvJdtFO6I0DOOR77vMIjQs1jrk4fRfc8O8hXifytnmOaIdkmEu2Y8Ig1oaljHcx73fhR9F+/0+65n74/Xfu98fNaz77s/ft33f+/98ci//b7D+HeGMdjIaFOjvYwiNBKPuz/8EAFuMmcU1tI7Q1PjCOwy/jjRHO1Gryk2odHww621kVhJ8m+73gB+OcuVRBSI90nxEORPsq/dte15FlJPkTyO6rXkc2SfgU+0/e9EP0h1Wzfvpb0n+0p8tfvc3b1EYmaK/2Cecz0vuheoa9pxqtNHgHor2kgSa8G+KgCKyK1FAbBRMKWhALhZHKf1KwCeYMfERhQAFQAnIs6upinEPgXAOwqAJ+ZTEssUACfPQnKAAiASoZBdKAAqACoATv1skZsUABUAReRmoADYKJjSUADcLI7T+hUAT7BjYiMKgAqAExFnV9MUYp8C4B0FwBPzKYllCoCTZyE5QAEQiVDILhQAFQAVAKd+tshNCoAKgCJyM9grAKaGCBXNILGm7y7uS5qvUEDNGmfS+JCmYE8xOq5hfO5ugdMWULtFLbgGia+hEN8l9JF9SAVDKMRXRyhk0nyowe02i6CYj2JQ8o1R6BmEsuSH41iIfk+tj1EAWrz3bRCDxnfAjWLN+K63cSxEpeG74/xJnESN0o6meNVmwjnE8wR22Y2H5PO0hrTmxfsdBzFwPP9RAH70Pc+ujvHMF+c/isODMBgFwOHz8fqFfQ3vm1yIgYOA2fVLcg0SaU+NEemaYMfnaspjfBnfzdt47i2faDfxpDntPlf6MSvUGumHk13PNfFpFPOBHSc7atsI+WF4h90hGyT1UTNfE/+LtUGzzkLCZtrz5v5v5rGrsaNZS3XjFzmfPT6f/COKTV2RDfgfOs8zDWJryKZm4jKoU5HPpDmBTSsAisitRQFQAZA0FOR6co0C4J1cKCsAKgCunIMCoALgWnxsxwgFwM2hAKgAqADI9n8zjykAKgAqACoAisjNRgFQAZA0FOR6co0C4J1cKCsAKgCunIMCoALgWnxsxwgFwM2hAKgAqADI9n8zjykAKgAqACoAisjN5hQBEDWnjSJiM4gPn6OE20yOaQ2romBKKM0GelGAnOl9TaQ4jvtECsdmIiaNT3fOJIQSW0u2g8TjhoiaimAiuLUL+LSXoQAla0j7ikZqKMZmdxAPF6LbIKxEAei9hzGKe6NYM47xXYJRxBmFzfBjxuxHgqNzTE1O+u6a3QP/T3bx+BOHQZog4ocx9jYbsfFeSXxN74kcz3MU6xbC3XvXR3rXXxKeR9EyvicSnGf6wSPGo05MBz5PriExPM2DRLPwTOTHmm4MWqwhNaPN2gTVLCFPoR8QQY3RzenRFydr7+4xyU3RH5p1ZDxncF8Sm7riUduHSC5IvkVq3FAPkHul/VmLX8h/SDzq7ivJvU17ic+d4lq3RgPribmg6+ckTiWBOfkiqTHTWTfWvivON+PUuN8KgCJya1EAXF+DAiC8BhRWCoAKgPeGAuDKdyfNTvw82IUCoALgzF66MTzNowB4PBQAN85cAXA7FyTfIjUuEG6i7YT9UQCE69/RdygA7otB3TilACgiUgqAaQ0KgPAaUFgpACoA3hsKgCvfnTQ78fNgFwqACoAze+nG8DSPAuDxUADcOHMFwO1ckHyL1LhAuIm2E/ZHARCuf0ffoQC4LwZ145QCoIhInUEADIVvfDcUKNa7xUOcEzTLszn3JCnUzJFGnxQv3fnBOSQRBO1Js5FJIgspKlFREZ4rFQaoqJjsQ/pz8qyp+Es+RgpiUtSmPSDv+ouNbCokR/FtEFYee9dhjALgKPSkz8d3Bo7izijokHf9te2u2QCsFtWgoej6+ThPEjij7ZCmfE+DEOxoIRKPwvD4TsdBDFyIeO9aH+h9kMO9FjYSmiYSE+M7W4PPtQSjZqwh+WXxAwcRDogYAfyBNGuo0QfNMfou8edubgV5JD07OcdWnAD5sOvz5Dy7e4/y+Y79Ts9CfBvVQc0acHHW4B2Z7TPq+vTK9ei594yUy8C57Zk/7jH4IaEb19Bo5hoUQ5sxMe1DO65NYl3X/8mc5HoFQBG5tSgAbs+5q9hpFn97nrU9PziHbkEciyawVwqAG+ejAKgAOItHYB4FQAXAWX5RAGz4cze3gjyiALgRL1I+37Hf6VkUAHMOQM+9Z6RcBs5tz/wKgJOhAKgAKCIvHfb+K8B7irJugdZtPNI8KNHP1h4KASQikYI47Qf464UoyYLiIt233SQAuyB/9TQ1g8QuusJGun5WZKG5QXF0Lv8Z/zponBP4TNzjZlFIzn/8a58LcWf4l2IX/5rsIO4t/hon+Gu/qIhPBeke8Wu065W/IormS3OnMwmfE9/oxl4Sp8YR/xrwcG6joLf4V6THf2U4fR5sZJxz8dd7QcxCjQppSMCZrs2z8PPwV41RHOk2tSTeNhs3kk/3rB/FWfAs7fUEO+qKvkkM2lMTTXNQeg4goMS1gNhLxIton3vEHZAfY1zu7mcz17TPiPgQyActeyG+14x16PpmrIm+R+J599nJM4I40t038oxkzdH2w31X52nG27MN4G8KgCJya1EA3F4/KvJDsYUSbHc/FAAVABtzKgAqAM4+J77Rjb0KgCtxhMwDmru1ORQAt9eP4ix4FgXAPJ8CYGM/m7mmfUbEhxQAFQAna1YAVAAUkZcoCoDb60dFfii2UILt7ocCoAJgY04FQAXA2efEN7qxVwFwJY6QeUBztzaHAuD2+lGcBc+iAJjnUwBs7Gcz17TPiPiQAqAC4GTNCoAKgCLyEuUkARAkhVR0xGQEGk9UoIHku2j00pwrxRMqqsMzLT4fCq/F/GQPmsX34h1UjebyqPEZ/2XR8N3YQAOBqS1snqFgpUU5sdnZOaTzR2skwk2yKdAIxM9J0xnWSfwmvVdw8b6+b10fSdxbfD4ISfH9d2E9yS9J0R8bsSTSTOyb+EP8V7FJ05R8AMSj+K+Yk4Yi7Fn6l6LHz5MAHMcoDA7fHedM/8Jv2qt4Ruf6ISwJIbP8AsS0eM/UrIF8sYgX4YcH8tzJP1O+aOcC0EyjMyH/om1XPOrmjKYo0jnP9rmB2LHwDVAjdOdHZ0hieMpTILaifZuJJlfti8SOFC+6cQr4xyweonMD9+8KUPH8k40DO0K5Enx3z0hxPMWguCcpBoHria+snguwBRSPku2AGJvWrgAoIrcWBcAw50qybSevlIwUAI/PTQEwr1EBUAFw4g8KgAqAsz1WAFy5hogH6UwUAFGcir6hAHhccyX7IrEjxYtunAL+MYuH6NwUAPFIcVwBcMNGQFxTABSRW4sCYJhzJdm2k1dKRgqAx+emAJjXqACoADjxBwVABcDZHisArlxDxIN0JgqAKE5F31AAPK65kn2R2JHiRTdOAf+YxUN0bgqAeKQ4rgC4YSMgrikAisit5RQBMBUX44gCAEn0zYIhJd+YHFNiXSm4Fsl2xzNFoS+MPc0aEZi6okYqLruNMhHISFNDClxUBKe9JUXo5JpY5HeLV1LUgvNMwjc6wz1FGSi4Fw1XEIDGMYo4RBhcCOFg/5EwD/yv0yChwru536iwDvECxTtwfbTxEM8X5z8Kv+H8k9AXxePhu0isI+JLUwCK9pL2bWUPu3Fsp2rhUAAAIABJREFUl9DTjFPtpg/kqa6974rtaT3Jt0kz3YwR8RmbeTPGj0nzTXJmPNsdAkRXQI/2M9YszXcoomfv5gVwnt3ru3UTuSY979qPIyRGkLWg8+zuazMOtmMHOcNhJEG3ew4Lu27WuO39adrg6jXJ/8l604+poD8i56MAKCK3FgXA7QStALhddCDxKNjFnkJWATDfP12vAKgAuHqGCoAKgJPRjVPRN4A/RD9QANy2C3Lf2bOSOdJI+wFyyuJMFADx9d26iVyTnlcBcOO7ILYqAOa4E9epACgicj0oAG4naAXA7aIDiUfBLvYUsgqA+f7pegVABcDVM1QAVACcjG6cir4B/CH6gQLgtl2Q+86elcyRRtoPkFMWZ6IAiK/v1k3kmvS8CoAb3wWxVQEwx524TgVAEZHr4RQBkBQsqchCwhBpBoAQ0y2CFu+zmjTfcQ/GZrHbFIb9Q41Gs6hpi6lA9EvvG1yIp+MeA6FyvD69xy09YyyOSBMSGs/ZnhOht233YZ9QcdQsuHY1I8EWUHE3jPG7SQBMwlAa8VnAuZB3McUYBPZzZn+k8SHrIo1D917dpqx7DqNdRAFwHOO7/sZ3SSa7IPE4NU1NW+g+e7uhbqyLNKxpLQsxZfJeS9zoJX9Iz5LqApL7mnaKbBzER2RHKS8DO03n1bJpkg9DbkS2ns7hTOdDbDAOUluRvSf7uSO3Ip8ge5vObpabumcIzi2KsikGgTqL9CDtve/GJrL34b4kR++Jg8geSY0R1rP6H06AGNFeF6ib0hkqAIrIrUUBcFiDAiAq0NIeKwAqAK7ZAiqCFQBRHItzgHV1mwtyL3J9PH/SaCgAbgoA06YQ2AKJ/wvbUQDcPEMST0msR/cCttOyaZIPQ25Etp7O4UznQ2wwDlJbkb0n+7kjtyKfIHurANjf+25sInsf7qsACNcF6qZ0hgqAInJrUQAc1qAAiAq0tMcKgAqAa7aAimAFQBTH4hxgXd3mgtyLXB/PnzQaCoCbAsC0KQS2QOL/wnYUADfPkMRTEuvRvYDttGya5MOQG5Gtp3M40/kQG4yD1FZk78l+7sityCfI3ioA9ve+G5vI3of7KgDCdYG6KZ2hAqCI3Fp2C4DNZDEmPiQGpYQb7hWTPikYh2vuJ6zxsycOAyX8JBylQj0VSuG75J0ii+QbCr5F0TE8I0ncRPiIRUpK4kAYTIXB5339YZDCp1vczQrorvBN9qy7LvLdXUUtKLi7zWYUA4f3wcX3voX3AS6EniSikkI5+dyeOLgyP2qcUvMSmnLUgALf6DZ07YYRCB/kfZALuwDvBiQ/hHRtuRvrURM38+PmfpO42v28G4O660QiRXd+4h+gWUf5EawBCUwktwb7PTkv7LmefLdpU2gvgb0vap/0gyGoR+LaQLzu7iHyY1Jnde20YX/xGiIYd2MQiZlduwBnQvJ8+tG6G4u7Nj5+jnoi8jmw37V7pbWg3BviMLJ7sMcKgCJya1EA3E6ai88UABUAw/kqACoAKgD24lr0pfC8CoAbftzcbxJXu593Y1B3nQqAk/1UAGzXfIvaRwFw204b9hevUQBUAFQAVAAUkRceBcDtpLn4TAFQATCcrwKgAqACYC+uRV8Kz6sAuOHHzf0mcbX7eTcGddepADjZTwXAds23qH0UALfttGF/8RoFQAVABUAFQBF54TlJABwDfnoHUAjWiwQQAv3auyOOrh9FgvC+sXZTNClUk9gxXjMKFt2EtacQGO+b3l+GCitQuJGCPoqT5EyCALQQYEchOdjIorgP60nn2BU/j94d+c4r70QMe0OahVSAxjWmvQHFEfKNZsPdtesk+ize7xbeATdeP9pO265JI0b2EzQ5HZ8k7yPs7j1qgkjBDWJZXHMQgBfnOb4bchDxHnvXYSTRL70PMMVrlC+az9i9Jn63IRAQUSjl2+6Zo1gWYiypC3YJSWSdzZjYHW0baQpq5Ae+Tuzt+nN77TtyCrFBEqvP5c/ETlEuAKJSN+537X32XOlH4uif4Jyj+Ap8g+xZmgfdF9SsMRYT8TjMn2wnzp/2JNSMXZ8++bvd/Uvfbf4QQ2xaAVBEbi0KgCAJrSRhBcC8T1t2gc5EAVABUAGwZcd79r7bCMTnUwA8aZ+RDYQYumqXKaaEzxUAJz4MbGGPvZx6zluxTAHwik8oAGJ7nz2XAuDKnCkWKwD29y99VwFQROR8KACCJLSShBUA8z5t2QU6EwVABUAFwJYd79n7biMQn08B8KR9RjYQYuiqXaaYEj5XAJz4MLCFPfZy6jlvxTIFwCs+oQCI7X32XAqAK3OmWKwA2N+/9F0FQBGR83GKABgLmZCMSHE/joVAAgrSlAwWjcVQtMSieS35huRCRCdSmKbnSIUVeacIKSJSs9AV01KBk9a2mD80/Sihk2IzFVCkSAxFSxKbW/sNzjkWfOm7zWc6V/NFiizkw8Pn4x4TQSe+DzAIPeQHg26xG/enEQfb59C1u+Dz8axIE0QaDfDd9PlCAA62sBAAx8+fXh/JRqIA2HzGmF+azXfct0mORX4I7KgbY9vfbcYgdF9yr+QrzbiW5m/nZRJbz/XsJ9Ym3RFjVfhxqh1Xuza+50ya8Xfmt7RWinEExOXxuyQWn3qmxEbT/eOPWWQ/0jmA5yOfx9je9adubA+1eNqfRS1DfqQP60/vNt4TQ2d7QN5hTs6te7bj5wqAInJrUQAMhdVaolYAPCoWFABP2G9wzgqACoDTc+janQKgAqACYPYVBcD+fUg8XLFdBcBgg2k9CoDofMjzkc8VACcDxNDZHigAKgCKyAuIAmAorNYStQLgUbGgAHjCfoNzVgBUAJyeQ9fuFAAVABUAs68oAPbvQ+Lhiu0qAAYbTOtRAETnQ56PfK4AOBkghs72QAFQAVBEXkD2CoDxPWcheS1EuSD0oSIhNWvNQikWaLNmhCQs0nCnEfYj7mVTZG0XKSHJJ0Gv20jEIpEICeGc0/zxenDfUxuk2GiCQo00Pudq9JANprWl/SPzh70a3/W2eN8feL9bFHeIL4JGlYgHnT0n+9e2tbDfqNEkDTewwe786frxPB97Zn0QYXC0o8U7AFNjlfJIWH88u+RDJE43RNyuv6EYROxoj/2SOExsEPhed9+Qz5FYnPawKTymtRG7m+XY+NzgmdDeALtrP1/z3M5WE+2Ig9e9fuT3YUz3uWs7zfu0bQrkGjI/io/p2cG9Uq0UPx++G98b3cwd3fqY2NTsvFBtRPwfCIak9hn3QAFQRG4tCoCTRNksTOIaFQB5MZgawG7xDQoc1HjuKOhXCxMFwM3GRAFQAXDtegVAZsddf0MxiNjRHvslcZjYIPA9BcC8x/G5wTOhvQF2136+5rmdrSbaEQeve/3I78NQAGS2rwB4RwFQAVBEXqwoAE4SZbMwiWtUAOTFYGoAu8U3KHBQ47mjoF8tTBQANxsTBUAFwLXrFQCZHXf9DcUgYkd77JfEYWKDwPcUAPMex+cGz4T2Bthd+/ma53a2mmhHHLzu9SO/D0MBkNm+AuAdBUAFQBF5sXKSAEiKppQ0z/T+uLFxS0kfNfrjNSvi4SIx7mnygWgak9pa83dVmABF+fjd+C67yX5cfUYi3JIiMe1JFAyI2AAKFiTugEJlVmy3m4tmo7+nyG77SddGmr43in6PvvswktBD3hOH3vWW4hpo4pEfk7jZOR8iQDX9JPnwHlGm89xXfW8h5A52Mb7Tb2Ej4/v+3hXGaEdBPCbNWldQQ88OfOXkeAFyE7E7cm4kxrVjeNNX9/gtmROJO0Q42yEYpVx5jj1G3yW2Bp4p5liQT7v1VNcnkVgDahOUB4mdgjlJjEZxfKVGT0LM7P3IR/OluJpsYYfIRs4T5f/u/E27Tvcie5ty9MJXUt+U1tmNrRN/QntMznMY6b3o5BwUAEXk1qIAOAwFwL64ExKuAiArsGLxpwCoADg7n3B/BUAFwKkoA2JdN+4gf0j2SGJ401f3+C2ZMwoA4HnR/CCmpFx5jj1G3yW2Bp4p5liQTxUAj4cC4IbdgfvG/N+dv2nX6V4KgPn+CoAiIiegADgMBcC+uBMSrgIgK7Bi8acAqAA4O59wfwVABcCpKANiXTfuIH9I9khieNNX9/gtmTMKAOB50fwgpqRceY49Rt8ltgaeKeZYkE8VAI+HAuCG3YH7xvzfnb9p1+leCoD5/gqAIiIncIoAuBADSQJNBWNI6O0iuFtwpSJo5bsxaYPkksTDTsI8SqCgIO4Wl6lAaxdEoMgm6+yeZxQYm81Pt3no2GK3WXj8iWGkd/IQP+kWu3saJVLohWvGIm58R9tC3BlEnPhuwHGM4s5w/Sj0pIIYvZ8IFK3x3TorZ9E9t3gNaaaSz3e/S0SwtM7U0AUxeCHuDSJeFIlHMTi8P3LxDsHRvkYxcIevpP2JPyylJm4iOpIfg86VO8izxn1KcRjYL2m+UX65hvi1Z8RaAuTBbl7rnE+MEWRvyA+xzfOM6ww/kCZfQvE82OPC58I7rIlQhWwwiWVhnphrzuSj09g+zBd/hALztPcsfBflXlDTjyP+UN0923PFR/ADLFkPyjshHqTnWs1HoOeLeQrkL/Lc4xoUAEXk1qIAqADYLvRBskZrI80AOE8FQLaePTa4p8CNsSAU1gqA7NxIw0r2XgFQAbCTO8izxn3qNrgkRzSf5Tri154RawmQB7t5rXM+MUaQvVEAVABUAETxZVd8VABsP7cCoIhIKQAqAObEjhoW0FiRcyCiGDnDWAzsKTA7I90z7Vm4RgFQAXB2bqRhJXuvAKgA2Mkd5FnjPnUbXJIjms9yHfFrz4i1BMiD3bzWOZ8YI8jeKAAqACoAoviyKz4qALafWwFQRKT2C4DdJE7EGvI5EUXGQE8apFmiTu/Eahc+oUiJTSFIgijxhcIhPRfZ1/QsyS7i+Yc9H9ec3oOymBMURO0iGBSGa2sc15XeQZcaCrLeWEyRAnRHI9C18Xi24ZyjuPft62PxDsAg9CQBEO0DaTxI4Z6akLVGGTSg3QZ9j9BHzhDFIDDn6EOLsx2Fu/Cuv9Eu0nv/Hn3Ps/fHOM9oO/Gdkek8d+wzyUdrcZBcS2w62SXJ5yQGRXsBMYWsB913xxmi+E/8r/vddI7N2mN2/8WeDWtZ5NuwHyQedvMFEWtTHUHqCxTP91wfaqWFeERsnNQgO2J6FEXDnJ09IHZ/rrMi3x1/UI2+NDxr7C+SnQJbIAJtzJXENsd7jc/bjCNoPc1zmc2N7D71As06eFyDAqCI3FoUALeT2uKeCoBH+5qehTQDpNBQAMzrVQBUAFxtBNMeKwAqAM58UgHw+LlI/FcARDm/W6ekaxQAuV0nn1AAzOegADhZT/NcZnMju1cAFBE5HwqA20ltcU8FwKN9Tc9CmgFSaCgA5vUqACoArjaCaY8VABUAZz6pAHj8XCT+KwCinN+tU9I1CoDcrpNPKADmc1AAnKyneS6zuZHdKwCKiJyP3e8A7Ba7oBjoFiyp4EoJnRSY0+Y7iWlA4CTFMUm2RBhoNwVAQEuF+DjGd6u1i7szFUGz87xqF6c2UOPakl2Q4jgW4eBMkN2R/Q7F4ihOoma9WawnG1yIgYMAlN77txB90jvdiP8T/wgNAIllq/YI4kVXJOz6BtqP5vWo0A/fTQJgFIbHa4JgHN8TmYRhEGdTTETNDzijjh9HQYk09ntEkGSnJH6S2EfERvCMyc+660QCTdOnY9zs/mg0qbOSXSD/BGIg2jPiS80fJxdxePwuiO1dPyA/SKJ6hOREMoLfk/W0f5g9dV0kZyU7JjGl+QMGytUgbu+pxVEODXvSrfvIvqH81djbFMPTj+V7YnW31lQAFJFbiwLgPKErALLCUQEw20W3uFQAvKMAOBNWFAAVANf2XgFQAXBSZyW7QP6pAHj3jW9XADxpXQqACoAKgAqAIvLCowA4T+gKgKxwVADMdtEtLhUA7ygAzoQVBUAFwLW9VwBUAJzUWckukH8qAN5949sVAE9alwKgAqACoAKgiLzw7BYASeNJkjtIlItrQnGHCthUSEwKjDh3s1lPexPFKFB0LJI2EIzIc5P7xuKrW8SDIogUgHH/SfPYLaCAGDO1sx2NctvuyfM1i2xkOzv2ciEABrFmMb41jPRON7Dn6LmacWfN74kvobjTfCYSh0mDuMef0zXjDwnjeSZxN4qB4/v9iI2ktTV9l3yXxOXFNWvN9Pi95o84e55j8XlTSEJCSXiu5BPphz6SL9pxMOxPFJ664kc33zXyV8wLzc9jDAdrQfFimHPxDj1wVvGaM4nKSAgN9yIiS/Rp8rzERkgt0ag14jM1awpiL934nNYWYxCJySD2kR+B2zUxiCNkPzvx4g3vyIJdjIONOJzWu6g9hriKRGVwngqAInJrUQDkhQpq+FMBD/ZJAXDlXs1CMu6/AiB7vmaxhmxnx14qAPbv2X0mEocVAFf8g8Qj0riRZnOtqUz3VwBUAJzsZ8wLzc9jDAdrQfFimFMBcGUN5OySjZBaolFrKAAe24IC4L7zVwAUEbkmFAB5oYIa/lTAg31SAFy5V7OQjPuvAMier1msIdvZsZcKgP17dp+JxGEFwBX/IPGING6k2VxrKtP9FQAVACf7GfNC8/MYw8FaULwY5lQAXFkDObtkI6SWaNQaCoDHtqAAuO/8FQBFRK6Jc74DMBb63XexhCKYFClJOEvFQCy4Ow1RSPKLhNUscGLy31NYp8QKiiBSEHXPihQ1pDAgxXq30evOudakoAaKFD6gWUANdDqf8KzxWWY+A5vm1OCMok8SgEaxJl0zCkCxEE9rBmIDar6a8W5aqINYQH5A2dWANJs7EguIjURbGEa0nSQSJ2E4xfQkMBF7IY1b2rcVm0U20vVJEIfJvbr5KK45nEk3psSzauYFFO9CrZH8kggnyP8aZ93O+d0f0IgPkGclYl2Yf5G/iC3viE0xLpAzSTVF0y/bfgbidct2wXN097Vbq5EfFcjnMY40zy19TvaN5Hril8gW0o9GpB4A65/G1VRjkzgS1h57hPB8CoAicqtQAAxJpdHUKgAeD1RwpcIgzZlEjlTIkMKKNLYKgMg/Ow3o0VAAZMU/iAUKgAqAU/tOA8Rhcq9uPoprVgDcPOtT468C4Iot74hNCoDsObr72q3VFABPjLkKgAqAInK7UAAMSaXR1CoAHg9UcKXCIM2ZRI5UyJDCijS2CoDIPzsN6NFQAGTFP4gFCoAKgFP7TgPEYXKvbj6Ka1YA3DzrU+OvAuCKLe+ITQqA7Dm6+9qt1RQAT4y5CoAKgCJyu9grAJLikRR0MckCQeJcxcO0OAFrRIVGKlhIgg3zxwKUNESgYEmJNYmcpLAm73HszokKE2CnpGBY+7xrW2crXsH8pKBERefwOREJo18lexwGEW7IewJJEU+KR3Je7eJ00jjsaUzjurqNabLBpj2iWB1sZPGuv/GdfkEMXrwDMNgFEuyb+0ZidNvv13IoWC8Resj5o3NLTSS5bxDliIC2R3iIvg3e47fnXnHPh31I784lIlqMs2vXJvENxDFyPXluksOTUNqNj7HW6Mam7pmDPenGUGSDxI87olKqO5OwTs5nWOPiXY/E7sl+kBiU/CDNT/xm+G4U/UBujX5ObIrESrL/oM95/InDiDHuxPzS9tu09mCPCoAicqtQAGwUXAqAR4WMAuDy865tRVtI69qxXlIgoiJy+FwBUAGwY48oVgcbUQC8s8yhYL0KgNv2FX1bAVABsHFu6MwVAPMzKQBu5tbo5wqAfZsO9qgAKCK3CgXARsGlAHhUyCgALj/v2la0hbSuHeslBSIqIofPFQAVADv2iGJ1sBEFwDvLHArWqwC4bV/RtxUAFQAb54bOXAEwP5MC4GZujX6uANi36WCPCoAicqs45zsASVLrBndUWDWb2U5xF4WAsEbSUMZGppsE9yREkohBk7Br/aTRS9ePwmMq9M5UTKNmaUXIJjZK9oM0zbuKKVCUk+tJs0POYRyjP6X3vo3iThQAu3EhxaBmE9Iq6IFdkPMndrSIR0FouJZYA2J4shEi+qbzHwXDJB7GH6SI7zYH2ZMoAJ3q28DW9zTB6btE+Bwbx2S/UZBK9x32D4mvJMYlfya5MvhQ9LkdPpRi3JpYE229KS4kMQjVGuT5wPUpd3T9A8X/dObgPElc3pW7SS4j+wjyeCdHLO7frZWac3bz0Ti6P8qQ+EV8qPve5RhTQowj/jf+iIZi1iQmxnPr1hEgvnVj+Lg3CoAicqtQANwuiBQAj8eeJoUUxAqACoD3i1EFwPb5dxtNBUAFwFlzSa5XANzeh+RD0ed2+FCKcQqAzD9Q/FcAbOeIxf0VAI/WpgDInjvFlG4MVwAUkVuLAuB2QaQAeDz2NCmkIFYAVAC8X4wqALbPv9toKgAqAM6aS3K9AuD2PiQfij63w4dSjFMAZP6B4r8CYDtHLO6vAHi0NgVA9twppnRjuAKgiNxazvkOQBSgm4mYFIPdhicWNZ0mCxQj3dFN7KSJiIVMswEZPx8LhFQ0xf0GxRR5xm7SJzaFitATz5AULMTWYkFJmk6wN2Q9bZtKfpWaUFCYjgLQY08P412Hkd71trDfEAuiABvsYiE2gHdbxjknNhdtOTU+zZi5pxnt+lW8V9iH8QwXYt9TYYxi3/D5Qhgc5okNKYhf0S5C8xW/S4SEFRtN8QXFo2DHxO7TPqHcS2qH0LgR+40izY45SUxP5xL9Hwht5Fk6fk/EF5R3UgwitUyzFiTfXfhHEGW6e7yYM70bMqyTPEu0HbCHKdbE2ABqjJkdLd7zBvJ2N2aSnELsIu0l8c/ujweoHk02BdbTrSvJj0ckH6Czm8TW+HzkPImvgu+SH9QVAEXkVqEAOC+CTi2YukMBcGWkol8BkNlOc2/IehQAj+1CAbDvV93GUAEw22hsjhQAFQBXPlcA5Hu8mFMBUAFwLf4qACoAKgCKyIsJBcB5EXRqwdQdCoArIxX9CoDMdpp7Q9ajAHhsFwqAfb/qNoYKgNlGY3OkAKgAuPK5AiDf48WcCoAKgGvxVwFQAVABUOQlwadU1Vur6tmq+vGq+lBVfbiqfqmq/u+q+kBVvbOqfg2c7wur6j+qquer6iNV9Q+q6v2X95jxfFXdraq3DZ994PKzp+H9I+cUAFNRGxviUICkQoZcT4qHmBhmCQ4kINIIosaqIxZsraFbZIGEH88QJGtUxAc76u4VahJ3FMTJTqf2CopLsq7u9fE5msVit0An86Tvxve4DYLOo+8+jPgOQCA2ds8iCqHN/Z/NnXxg8b6g0ODEJiLYY2xemwIjaUDJOheibxDuxjGKwY++59n7Y3FNEInHZyHvck3PFZtiEL+ITbVieDeep++SuB3m7/pVjB3N2LfYbyBUxHWCWmZPjZM+7+Z05H/3nmMQcZBYlOICie07bDDWDslX04+7INcQW4tnleq+UYQEthlFpbSHIJehPA4EprXcFPNUio3pPuRH4lQXNusLFGOBj0WfbIp1JK6hHwlIbk17BWpxEidWvwv2vr3HzfMne68AKCJVVV9eFwLbbPxsVf22yVxPVdXHN+b4kar6pI3vP18KgAqAa9crAG7uFbG1dkEUbEcBcOP8mwX6eL0CYPYBBUAFwGkM78bz9F0St8P8CoDHe6sAyGxQAXD72RUAoQ0287YC4LEfKAAqAIrcBr68qn6qqv5sVX1dVf3eqnpzVX1RVf3+qvqLVfXLdSHCfbSqfn2Y59+og9D3oar6mqr6/Kr63VX1Y8Of/ccba3m+FAAVANeuVwDc3Ctia+2CKNiOAuDG+TcL9PF6BcDsAwqACoDTGN6N5+m7JG6H+RUAj/dWAZDZoALg9rMrAEIbbOZtBcBjP1AAVAAUuQ38KnDN76mDgPeXV/7806rqn1z++d+rqk9fucePDHP8S+E+z9cNFgBJEYQSelMkaiWgreQeEuvqe16aCT8+NylMSJEKvtstdrvFfUtApY1vc57umpGNpGvO0ZRPCuyjQQrEUCym+bufRxshhSwQrcY1j6LM+K4/9N638V1vw3eToBPfBxhiEyruu0X2if5J4gtZV2yau3swzJPOGcX2YC8LAXA458eeOYxRDB4FwPSeyFFUXgjGqdkAQnK3sYp7kuLdmo0m/082HewiNsegiSTiBYlTSTyMdtfMESROpc/JetIZtvN72Lc9Z7S2991YQPIRqUfI88W9Dz+KpLWl7y5ErEHEJTku2jKoE0ksWOxJ+tEQnAupSYjfdH5UQnknnXmKq91nbfpzFE2J7ZN9AOtp14bp2YONJ59AsWOSj47yzeRM0Hwpxqb42azPxqEAKCIdPliHvwp8lXfUQdxL7/r7zDr8l4T/Wbjm+VIA3Cwq9hT6CoD9wg2tuVn4KgBu2Ab4biygQPGN1kOKWuBvCoDHe3iqf3YbvnjmCoAKgJdDAXB7fgXAjf1LawR5LX037r0CoALg7Fmb/qwAOIkdk3ykAKgAKHKb+B/rQoj7uZU/+28u/+zDVfWKjTnef3ndR6rqk1f+/PlSANwsKvYU+gqA/cINrblZ+CoAbtgG+G4soEDxjdZDilrgbwqAx3t4qn92G7545gqACoCXQwFwe34FwI39S2sEeS19N+69AqAC4OxZm/6sADiJHZN8pACoAChyW/jcOvzXez9x5c9eUVUfu/yz90/mebIO/6Xgl678+fN1gwXAbjHdbQC7CTQl7vSOnmmiB8Vreg70bpp0r3HtKVF3m1FSXITnSoUSOf89BV23AIjrBHOSgmhWMJLmiDQp3UKQFFDx+cJZkfNBRXOz2B39ZvHev3GEd8CNol96B2AsdkFzl3wiNjygoZvtGSqgUwOSmuMUR7rNK2lIgK2lkd4BOYp4izEIffE9gcP1owC8EIOBqLAr9jX9e/VeYF3ELsk9SWxEOZzsQXN+kgtiDGrG4u7n4xjj2mhrqK4ANU6sPRrng2yYOTVQAAAgAElEQVS6eVYodyRBEvgGypvNmJ/2fhG3QZ06ngOqm7qxgOSslEtS3J+cHfFnst4Ys8APcd06D8UFEJtQrwHqrFhHjsLdqT0Lze/puYgtnGi/JPbGH4ZADdfds3E9CoAissWrqurRqvrGqvqHdRDu/tCV6944/Nn3Teb8vcO1f2zlz58vBcDtol8BUAFwpbhTAMxFZyqCFACPP1cA3IixKT6m5k4BcLPBRPmmkTuIXZJ7KgCe9vk4FADznikAnhgLSM5KuUQBEO19128UALM9KAAqAIq8mHhbHQS6tfG9VfWyK9/5iuHP3z6Z/03Dtd99rkVTFAAnCW5HEaYAeEcBcGZn3UYG7IECoALg2tm2GwQFQAXAWQ4K8ysAHg8FwLxnCoAnxgKSs1IuUQBEe9/1GwXAbA8KgAqAIi8m3lbrwt//XFVfEL7z+4br/shk/s8drv3+/cvtsVcAjMEaCA8ocYBGhRSepFmfjXYjOOzNWAii7zafac8+EZGtXXAB4QHNGQq3xXmCZjOthzRupMieFjXdAoucGyjOdu0BmRM0AKThSuvsin6Ld8ONQk9oiOOZ7/BRJJatFOjJ38h8Kd6i80l+G65pv98vxRfgKwsBcDz38d194/kDkXCcJ/1IE/chNNZdMZjEuJl/x/gffKx9TTirJIJ0RULke8Rmm3OmGP55X38Y3TjbjgtNYZj8gLgQDyZ2lPyWCKvJXttnfqZ8174miY0gDhKbWtR6zZox5s1wzdlExWRTa/vW3BtUY4H1Jl9qx+EQz7uxOvrQjniHrm/m2e7+k3NEPjrZM1IXRL8Nz70nTikAishVPq2qHr8cn18X/6LvD9WFYPehqvrKle98VR1Eva+ZzP/a4do/c54lcxQA+egWcwqAx8VRWr8CYN8W4nfTehUAFQDXzkcBUAGwkeMUAFdGNy4oAJ4t37WvUQDE+W513xQAj9dwpniHrm/mWQVABUAROS9fVVW/UlUfr+X7+apuzn8B+KbZePjhhz9eCoDtohMVsgqACoCTvWkXncQ203oVABUA185HAVABsJHjFABXRjcuKACeLd+1r1EAxPludd8UAI/XcKZ4h65v5lkFwJsvAF724bN+XURuEH+hLoS7n6+qXz18flPeAbj17sLFOPkdgCA5kgCNCqLQhHYT+uI9EakRWisKmwXCniKMFM3dJogUAqSpTGfSLQzJPNGmSJGYzgvsYVdcnRYve9ZL7IsIjKCIRMVumCe+H4k0r8O9Rt9O74BbjKfWxygMJXGHNLzx82RToLlfm5PEgq4/RFvf4avjOcemAAiJ6ZokyqX3+CVhcPE+wFEYfuYwko2QZ+/65XgW8R1wzRwwa5Qef2IYQVROny/WEmy6/SNUs+nr5rv4o1Ly1fAs0efAQGfY3JPY6Df3fM1GUD5q2mj8wTOtK4nvycZJTQnsN/oN+LGR5AUSHxc2OPgrsdl43xCnYiwjdjTJaSn/p9w4vc+WbYb5196tu5U3u77ajfmonk71V9MnWnXqxn7G+BsEuHiPSb+Q4nY3ZsYfd4E/jM/0QgqAcIjIDeIP1sE5/+Dw+ePD53v/FeA9KADOkkFKplvF88Z69zQC6PpmQ5SSLLqGFClnEhWQvYDnRfYF9lABMO99mkcB8M5RoYyKWfjnW41MO17s8FUFQAXAU+MkiSOxAQX2rgC4Pf+ajaB81LRRBcCLoQB4Ze0KgNsj2SzwiVadurGfMf4qACoAish9fksdnPPJ4fNXVNUvX37+/skcTw5zfOmZ13ftfwUYJRRSrDULWQXAjbWlgk8BcLOZWhTiCoCoaI7Fd2juyF4pADIb6Z7zuXxVAVAB8NQ4SeJIbECBvSsAbs+/ZiMoHzVtVAHwYigAXlm7AuD2SDYLfKJVp27sZ4y/CoD+FWARuc/b6iDe/fErf/bfXn7+4boQBBPvv7zuI1X16vMvcZvd/whISiJErEmFLGhaY5ICySMl5ZOb4k4y3Bio+E73IgUFKILQPM1z6ApAqBAjzxgKqNgkgntN9zCdbSrmSEE5Ngig4SYieBQAwLlF/+kW3MG3x4JuFEqiGJjeDTdcnwSXXY0BKegb/hr3D9yf2A66hsRt0HSQJiI2ccEe07v+kgCchL7xu6NdkPgfmyDgW6QRivcdY8ClQJDOJ8a0pl12c3iyo3G/F+sMzXo3rkUbb/oH2cM9jXjbj0mOC9e33tOZ1tLMWXHt3Xonra15DslXkY2APE5qh/ZzketDrEy+247RwY9bQn/3uZPol3ye1K9gbaSWTecfY1mwO1S7dXuQpm8t8gixX5ADprmrWVeR+jzVjsQW0jO9kAKg/wiIyIuPH62DAPglV/7sncOfvTV8/zPr8F8K/uj1LHEbBcD1e3USHCk6dhXE5F5pXlD4tOdRAMx7CApHBcAVO1IAREU7scv4fOQaBUAFwLXcC3J4siMFQB5HuvOk6xUAs68iGwF5XAHwjM+tAHhSXuj61iKPKAAu1qAAKCJVF/9l3ydNrvmGOgh8f7eqXn7lzx+uqn96+efPV9WvufLnv6qqfqSu76//IhQA1+/VSXCk6NhVEJN7pXlB4dOeRwEw7yEoHBUAV+xIARAV7cQu4/ORaxQAFQDXci/I4cmOFAB5HOnOk65XAMy+imwE5HEFwDM+twLgSXmh61uLPKIAuFiDAqCIVF0Idv+oqv50VX11VX1xVf2GqvrNVfVHq+qv10G4+2hVfXmY5w8P132oqv71uvi7/P9KVf3Y8Gf/6fU8xpy9AiApTLqFb7cwIcUmSb6z0RU+UAGSRhI+U9Oc3msI5tnTdKCirLufofFYfA4Kw66YEa9Ja1gpjmND3C2eki2DAooUhYt3NCU/afjGkT+noi+dbdjjUbgZ3/s2joW4M74DcBAA0b6RAhM0ZSTGrX6emiBgU8QPUewAhXs3bqOifHh2IgAvxOAgAD767sNIgvFCJE7vLSMxMcUIcM1439T8pPcirtoLiWPAFkgeJrG9fa9xntRYk/MZ7hvfGQzyAvLnFONIfuzECBjrpzkACC5xz0hs3GEvKCaDnN+OWcm3gQ+j3DfWC+BdoqmG7tbWcT+b/rTqk8QH0g+SIF7s8c923E57DGpKck33xyAS32NfA3wRzRNsJ+7n7AeydIY7+o4YI8gP4cPnCoAiUnUhAJJ/leen6+IfAtnimar6lY05frTm/7XhtaEAyIcCIF/zrv1UAGwXsuS74/UKgBMfJU1u2nMQ41pNObAp4ocodoDGpBu3yT4pACoArs2pADjZc1D7tGKNAuCxbwMfRrlvrBcUAFG82OOf7bid9hjUlOQaBcCNM9zRd8QYoQAoIifw2XXxX+/9+ar6X6rqH1bVx6rq5+riv+T7S3Xx14RfBef7oqr6T6rqp+rivxj8mar6L6rqXz3nok9BAZAPBUC+5l37qQDYLmTJd8frFQAnPkqa3LTnIMa1mnJgU8QPUewAjUk3bpN9UgBUAFybUwFwsueg9mnFGgXAY98GPoxy31gvKACieLHHP9txO+0xqCnJNQqAG2e4o++IMUIBUEQks1sATOJBCOipwUFFeWokUkEEioFZYUuK1D33jImaFBEgsXcLRFLgkKIgCpKp6CT7A4q4tJ+7xNu0hpVnIfdBxShoZIhfRXsAxREpRhfNACiCURE/jPSut1EAHAWdhWA0CINRQAEN3blsc+HHTxzGbD50DiE2rd7n7dlGSLyN5w+aHRTvgggxinXj+/3GsRD3hvNP74NMAiB6h9qe3BDONwnzaza7OEPQLKIYFM4Qva8vxbtmTO7uX2ygU7wjcRbsT2wqdwj5JNa096Thb931JvGa5D5Ug5xLDEr7ms68K9aSOUksIPEl+BCpGZHQMzmXrm8ksbN7hsifSbxLIhGoI8nzxvwP5kd7EuyiuzYU74gvpv3piKbhc+JX6EdrcIYKgCJyq1AADIWBAuC+pKwAiJoFVCw2GwQFQAXA+58rACoAzhricI0C4Pb+xCZYARDlPlSDKAAex5fgQwqAzK8UALfnJOuPsW/23fTn4XPiVwqAIiInoAAYCgMFwH1JWQEQNQuoWGw2CAqACoD3P1cAVACcNcThGgXA7f2JTbACIMp9qAZRADyOL8GHFACZXykAbs9J1h9j3+y76c/D58SvFABFRE7grO8AbBSgW0VHuxggBSBoPNeavm5CJoVXKmTQs55JWCGJMp1nKiLTO4OSGNgtBpGIR4rB5ho69tgtpIi9pu9G0Wf4PL7XLD1HaqabgiQZSWQZBZok6C3EvXDNKB4mUalbfEefbhat00K225yRghwU2aNguKuZSv5GfG+YM727b/x88T7I8d2A4V1/4xjXnERCEjtiTO8+ezijVbEvrCu9N69tC0l06L4zMuWCcK9kU+33+IHmNcZWss6mXaS1kQY2nhcQKtb2v5t3unUByb0ovoA4TL5LaqIkcqM83qxrif8RfyK1CbJHsoeNmrhbb7X3L+1Z88xTrEbfbdodqvWboti59j+tE/Ubk5qb3Ke9H127B3lQAVBEbhUKgIehALiRQBUAkT3GORQAj4YCILNv5J/BvmMzogCoADizBQVABUAFQJbHm3Ut8T8FwI39UwA86/6ndSoAKgCKyEsUBcDDUADcSKAKgMge4xwKgEdDAZDZN/LPYN+xGVEAVACc2YICoAKgAiDL4826lvifAuDG/ikAnnX/0zoVABUAReQlyjkFQFKspWI3JhqSlEMBGxvqRnFEknlaOxIAz1VopHeZpIIrnE/cJ1LIhnOLDWOj6NwqAMg84xqikAjOERXfM9tpFmede24W02Tvk3iRiqlwPRLKgk2ld7Qh0WcU/YDo2i3iY4MMvjuNg+PcSUzr2gKIk8nuo1Aa1tn1eeLnSfQd3we5EAbT52EsROhufAEiDokjxKZWfQX46i57adpR/LEB5N6usJbmXxVKqQ+RZ0n3BeIRqQHa9hJ8iNjAzBaIuEfEy5g7mjkcxRGy36TWbOYOIkju8S1yXyQkE/F4IpzviSntfJv2ZoctxO+GuobkrO6zECGZPFesj5O41txPFEfCvTpn+P+z9+68tmVpmtbkByBQGQ1SS+fsc6+CLAMBHkZZSEhlYYCBk1ZjYFQIqkklGZkZERmXc9l7Z0ZmRmTktbIKWo36DyBASBgI9R/AxACLS7utViNBYUTEnN/Ya7xzPO8ac0dG7P1+0jBixVxzjjnGd3m/Z50zDrrGna+prQMAY7HYvbIAwP35y8IbALg7XBgg3ysA0BZnMzAgAHB/7wisUd8NANyJhQDAXZ/qxkoA4Mn9AwA7vjOIP3ltAGAAYAAgqlnuuwQA+vOy52tq6wDAWCx2rywAcH/+svAGAO4OFwbI9woAtMXZDAwIANzfOwJr1HcDAHdiIQBw16e6sRIAeHL/AMCO7wziT14bABgAGACIapb7LgGA/rzs+ZraOgAwFovdKzsSAKqz3maE3kzRl8MAGO57yPmqQk0EmStqlMAFAkQK4pk5KDEF1gS9C1lPc33I9UOIo3xOrLEtrFWzABpEMjcyB9kYCgCE5lbm05zZJs73U+fENecEivMG1XMV5CL7SHJDD0Ir35VQg/gUaShUswDug3KyuD9pXhu4W+CeOuuvXlMh8fN3ynh3G/JsQBI35joQ+EWgxSi/kHzh+o7KhyQHoTylmukKoQRkQ/AF5GV1PYLEoEbIH+kO0krSXzrv5cJId12JFiC+4M7BzX0ob7trL66RfmTCRnK9nD+A4qM1JDWNAHFUO0guFXkKrR/43PUj1x/RnCfiz72nukb+cG74kfJXG9aD/KKuV+8RABiLxe6VBQBedwVpAOCBcwgADAAcrU8AYABgAGAAYACg5V+oDnbeKwDw1N9JvbNjvlwTAOivH8qlIk+h9QOfu37k+iOa80T8ufdU1wQABgDGYrE7ZAGA111BGgB44BwCAAMAR+sTABgAGAAYABgAaPkXqoOd9woAPPV3Uu/smC/XBAD664dyqchTaP3A564fuf6I5jwRf+491TUBgAGAsVjsDtk0AFRNggk8iABpioRK+qqJds+kOrPwuvc56hpblKsiL87KQ2ciieE2G67gnmkGpP8C4dN9LvHpujZVKCu4AxoitYeoIVJNNhDE8r3IngPQS0DPs/e2oeAOWVvSwMhGVeUgtSa9PAUaFpkPzRxLYCeJGdQ0iVogfa0CYHHuX4V7df+rj1RfqNdIMAwaDBVb9dxKVBsUAFKApJNL5A9ZYu5us+jWFzvOie+o+YPGUNYLkL9QzQU6BcUoWE/Z8Ioha1bnXZsYmPhRQfqI8s36jgDEEjgm9xP4kcwF4J7S38t71RxBvit/tFI/2Jk/TqH1HMSS1OQgJuWPhEA3Ib8DuUYO80cxVedlzQd5lmgo6Y8AhJHPyVC6wqkFZM9lPJs5X+1JAGAsFrtXFgB4XqGzmyCz2NrNCJgbuWcA4On9AwB31gyIYDlXINADAMW1N/OhmWMDAAMAh3XErC92nBPfAeCGvIubv1DNBTolAHDHN+s7BgCefDcAkMUn8RdXQwUA8qF0hVMLyJ7LeDZzfgBgLBaLLQGA5xY6uwkyi63djIC5kXsGAJ7ePwBwZ82ACJZzBQI9AFBcezMfmjk2ADAAcFhHzPpixznxHQBuyLu4+QvVXKBTAgB3fLO+YwDgyXcDAFl8En9xNVQAIB9KVzi1gOy5jGcz5wcAxmKx2DIPAIdCEw7VfJPk7ha4Zs6q+L71+ZDFbaYBMcWrK3ykcDCbL3VPtwFQUBE1Bm7zKPYLCRwgSNR3u74LxKIUfEDgfOmjN/1UrTFqTIHIavZTgTIlTNV6l/WpjU9tmupZfxUAPX3/ah0VALnNl3x35e8ASDj+QEAzyXvqenKWGfF7ubcTcKcBaOX+jS+UoaBv9ZGnH1ytowGAAgw3PkIaQLHman3q/En8De+pYK1YexdwoP2v/qNAr8o7ID+Tukb8UdZx1bBO1EdZX0i8upBL1SblvyMdYe6/q1nc/El8Tek5BH2IjiN1HGgEss/ukP4O5invM4hL4i+kZqJBfErFjKkXid515zkVW+R9yX4elNfQu3TmVnUqqnuu74IfX0k+CgCMxWL3ygIA+yMAcEcImI1BACDb2wDAz0cAoPYXkvfU9QGAAYABgDfmGQCofc2s8yQHufmT+FoAYMffXYgSAIj0rjvPqdgi70v286C8ht4lADAAMBaLfTMsALA/AgB3hIDZGAQAsr0NAPx8BABqfyF5T10fABgAGAB4Y54BgNrXzDpPcpCbP4mvBQB2/N2FKAGASO+685yKLfK+ZD8PymvoXQIAAwBjsdg3w2YBoBR0QPShRG+K3VoAJLQiwnDQgDT3G4htLLjB9bKYm40DWT90NpAp9NUa2ufWTTQwqPE092htRorYIfujmmMF1siQoMeFGkpwiecqgCnhmBCXFcRUWFOhX3M2XD337Z1tNKCHNACksVHC04zLYfOgYkAAK5mPbjt/gfhs9hz4db1/cwZkBcBln5vPxbl/jV8U35E+ItZQrg9oQghURt814lb6pfJdt1YP8uGeT5H7k0aWzAE1iWatQeBB+T74MZHUaPT5YE/RWpIcrjSWe38zV8/kL6SbxOdSy4A66OoLt0ZLfwRxf64+duPZrbco75B5mj5yRB9BB1pPostMv5O5Bsxt9C5K50m4aNYd9E6qtpfrAwBjsdi9sgBAXpADADuiAAgxsoYBgAGAX44AwJ0YCAAMADTiljRBU7V6kA8DAIXvBwCinElydQDgIC4DAO38VT8PANyf2+hdAgADAGOx2NfQAgB5QQ4A7IgCIMTIGgYABgB+OQIAd2IgADAA0Ihb0gRN1epBPgwAFL4fAIhyJsnVAYCDuAwAtPNX/TwAcH9uo3cJAAwAjMViX0ObBYAqoUuxPpPczcKHvluu70Io9X7qncQz1bmGpNGQ91TCRNxTwSYi3JF4EfMk8yGCm0BIKQZIQypG07iRJt7ZTzLfg0Qn8inz/E0yNxLn1RcqwKyApoKbCnSaM+B+sA0Fdyo4a85RJE0WiT+Rg9Q5hN1msey/guN206bA90SDSHIyyb3qWQ0ArvtcoW8BwxX6Pfnoah3PftQfZD7qGuIjJN+hWjJ4VuPf6qw/kV/IDyIozxMgbuYp9wcVMk+5V2bTrBrYw+CeWsOJOtj1dTf+wV6h9QDDnj+YJ1kzAgxQfjTnLOuIqjsk54LcJGO6917kOWqdiK+bP77IvEpqkLmHbn50Iddh/mu+C/Kvc3sDM+bPzWm7ewLWOwAwFovdKwsA3EYA4ESRpyJSzIeInQBAf09snwoA3I1jFH8iBwUA7jxXPCsAcD9eez4XALg/T7lXJoQKANR7hdYDDHv+YJ5kzdSakPiQvkmAh6ojBNConAtyk4zp3nuR56h1CgDE9WLKf813Qf51bm9gxvy5OW13T8B6BwDGYrF7ZQGA2wgAnCjyVESK+RCxEwDo74ntUwGAu3GM4k/koADAneeKZwUA7sdrz+cCAPfnKffKhFABgHqv0HqAYc8fzJOsmVoTEh/SNwnwUHWEABqVc0FukjHdey/yHLVOAYC4Xkz5r/kuyL/O7Q3MmD83p+3uCVjvAMBYLHav7LbOAJSwDCRu1ViT4oWKECisXUHmFlVV8CeKtrs2al1l00mATrl/bTaJSHHXlohjIhgIgFXrqc4t6643WFcFFF3x4gp70jRLHyQidUJkV9GvAKCCOA0MLDCong3nimlXzCp/cUC7inPSCA5F+N/Xc0R5hMSbgEHkPupzdQbg0/evtvFhGR9s48mrbdTP633q/RtAq34wMH0crad4VgPyRnAE5MapHOvWz3K9/AFFravKNRNwSu2bOudWfVc29KTWm7BE7i/Yx2GdAuuHaoGqd27NBzGDdB7xcRWHYEytoVgHVI9ILJLcdIsAxt5nEifmc+3c6/o7yEf2c8E+2NeY8UT24lzfmfJ7dw2Ar6n7BADGYrF7ZQGA+0KCCG8kkEiTDe4fAMjn1qxbAKDfyBARbIo7uc8BgDLO1T4EAAYADhs1tx6Sho/ETLk+AHD/HUk+cmvlsE6B9UO1QNU7t+aDmEE6j/i4ikMwptZQrAOqRyQWSW4i70n2YuBTM3oBaf6jcq/r7yAf2c8F+2BfY8YT2YtzfWfK7901AL6m7hMAGIvF7pUFAO4LCSK8kUAiTTa4fwAgn1uzbgGAfiNDRLAp7uQ+BwDKOFf7EAAYADhs1Nx6SBo+EjPl+gDA/Xck+citlcM6BdYP1QJV79yaD2IG6Tzi4yoOwZhaQ7EOqB6RWCS5ibwn2YuBT83oBaT5j8q9rr+DfGQ/F+yDfY0ZT2QvzvWdKb931wD4mrpPAGAsFrtXdigANIUBgRYzwIsUm9E5emSOSKSoxscV/xMi1d0TFyq5Z7coAdWc+yQKujrPEO1/mXMDMM0GrfvurgAxhZrbILgNl3o/AkHRWUmgya7PrYCmQpxmFBhUz4ZrgA4QiTKGzmyyd9ekdwZbXe/q0+BsNbXPCiS6a4B8s8xT5m1xvbp/3cN6BmQ9368CwMdvttF8/mobFRg350SK/VRn6iH/qnta8pr7g0Rv71TeU8DtqDPr3NhQPuWeiaiAqPIpdQ3xa1VfiI5AuYbUKTfXqDw7qu9urivfJUDUrUfDGgt/VFD7qWJb5TU7D5J3MTUAiQ85BxB/rrYe+q7yIzJ3oGXQIPtmvOveHpL6L693dedMLgY1F+1vT7/s/Vg26ilUTpnZT7CW9fMAwFgsdq8sADAAkIgpJDoCAFHT5Ip/ex/Mhou8XwDg6X6h3BcAqHNKAGAAYADgVNOP8qwBStD+q2adaB9Qj4Y1NgBwDNHM+HO19dB3lR+RuQMtgwbZN+Nd9/aQ1H95vas7Z3JxAKBcvwDAWCx2rywAMACQiCkkOgIAUdPkin97H8yGi7xfAODpfqHcFwCoc0oAYABgAOBU04/yrAFK0P6rZp1oH1CPhjU2AHAM0cz4c7X10HeVH5G5Ay2DBtk341339pDUf3m9qztncnEAoFy/AMBYLHav7LbOAFQFQglrBHRcgQaKyrBhEPdGwlcVUnPuqPirfQD7Q8QLeRZZE/KOrhhRe0uaMtkAuPve2VsFX+QalPWu81LwjTRWpCmQkEg1KUqsA2FaP5fnR5br63ltT15ebaMCoAIDn797vY4XP9hGc9abOPfLFdDoc9DcjYQpErXi+a4gln7h5uGJHFf3p0K2er7js/e2Uff/8ettVH95dHW5jgqM6z2lj4h3J/lFrrN43/o5OUvy3OaI1CYFX9C7Kn80G1w3l90KzAQ5Eb0jyddqPuaPAHIfO3OXfgzgBaqHZr4jwFUOksPN+yCAAd6L7Kcd02BuM7Cx+zmJEzMHonzk7v9EDiK6dmYt3f1saoH48cit9fZ8wD46e03WHuV2V7OKOQQAxmKxe2UBgP2iMrp3ACAXSu47ojVUeyHmo9YwADAAMAAQ+IWbhydyXADg5yMA0M9lAYCDfQwAtO8j1xXEubufdkyDuQUAsjVW1wQA7t/n3L0max8AGIvFYrdkAYD9ojK6dwAgF0ruO6I1VHsh5qPWMAAwADAAEPiFm4cnclwA4OcjANDPZQGAg30MALTvI9cVxLm7n3ZMg7kFALI1VtcEAO7f59y9JmsfABiLxWK3ZLMAkCR8WbBA8yhFswmn3MLngBUivF3Br4CoWicJOI8Sa6QJAlCpeZ/qF2Sv1FqbwsQWleIdm+fuQeQ93yHxowQogTUT/ihjo8ae2ZSr+as5VNBTgU49061+Xq+vQ531Rs6AkvCF+JTyl4F4VeuN7mf6NHknkmNJzKv5q/s3ALDA3br/9dy/BgC+2kbzeYHH9Z7VR1StUb4v9180oRJ+OznahAVqXq4fkXuS+uz6AqoLyk/BPUnz6M5T/rhixvRIp7hrSO7n1n+ZD1UtAJBF7q05B7R+QF+QWiBzOqn7ykcA2LbfXfms0Pbt6MAAACAASURBVGXD+bq+I64neofUoJmYl3EFfMTdh6Pyl10DwDsizSDW39nDmXd1P1fXBADGYrF7ZQGAojA4EEc1giZwUU1zAGDHX4iYJs2JEoZAMDbPDQDU/hIAuNvcd5tFsd7ofqZPk3ciOTYAsLP/AYDo/dCcSV1QfgruSQCDO88AQP3eBNzIvTXngNYP6IsAQN8vRrXu5vUBgKdztnMi2XPwjkgziPUPAAwAjMViX2MLABSFwYE4qhE0gYtqmgMAO/5CxDRpTpQwBIKxeW4AoPaXAMDd5r7bLIr1RvczfZq8E8mxAYCd/Q8ARO+H5kzqgvJTcE8CGNx5BgDq9ybgRu6tOQe0fkBfBAD6fjGqdTevDwA8nbOdE8meg3dEmkGsfwBgAGAsFvsa25EAUCVWdeZWI6zeKkOdeXaQcCdFbXQPKVhBIZUiQlxPIIUUtaYIminWRCi5z3Lfy4UQ5FlEfPf8VZ7bAtZjqiEi70fihAh0E0K41zdnAL666o4KgCoMrOe7vfj+NmzfFxDHEcF7YH7NjZ3PbuZMIqzdGFY+QnKcWhtbuIu1rOsgAeBrMco1jy630fjIO9frUJBYxb9aH3J+IIk/2YgNgA/K+WLfRs3/3v1JrUSxZ+YmOTcTNpCci7SGWd/Ju5D1tOrpzLzU9SQXiPgh55qhWAL5q87TPQPY1UEzIEnen1wPrpGaSOW4npZVa0U0hegFkG6v6+quh9kXkH2Q15saQb0j+hw8l8QQiV0nDmSOAHuI4sGMGTX3AMBYLHavLACwf/3oHgGA+4VYvlcAIFqPAMDPRwBg+/wAwADAAED9XTcnBgCeMS91fQDgrg/KOgh0KqmhKG6AVgoAhPus4mBCI6h3RJ+D55IYIrHrxIHMEQGAAYCxWOwPZwGA/etH9wgA3C/E8r0CANF6BAB+PgIA2+cHAAYABgDq77o5MQDwjHmp6wMAd31Q1kGgU0kNRXEDtFIAINxnFQcTGkG9I/ocPJfEEIldJw5kjggADACMxWJ/OJsGgBPFRYIQIk7FmGk2RnNURbvCS7kG4v1IIZVCyR3iuS5UaNYYiDgl7pUYrOtJmhN3zVEDRQQREZg9PwZwicxd3l8AIzl/cdbQjCh3IWQdDfQpgKae3daMAnSevr8NBXfquXKqAVTXuHtOYre7fsAvZNwSH1VxaPo3agTMZkS9S93PCn0r3Hv408t1PPjs9TouPr5cR/Wd6i/SR8pwYQ2KFQCYrf1UcV59R/zI5jbTJGehekTAmrgPiQO3SUTXm3mQxJxcW5JHQP4dvYed8921AXtCoOxt5B3ywxZ6F2MfZtcNzZPUd+O5ZA/lGhC/J9CUPNfMWSQ/25oO3N/1U9ePUC6eie9BLXNj0s5T4P7Nj/AipwQAxmKxe2UBgPtDwZcAwABA5SejEQC4v8YBgMwvAgADAB1IEQC4/zl6d3dvAwDR9fXzAMAz31F9NwDQ1pEBgIafBgAGAMZisW+eBQDuDwVfAgADAJWfjEYA4P4aBwAyvwgADAB0IEUA4P7n6N3dvQ0ARNfXzwMAz3xH9d0AQFtHBgAafhoAGAAYi8W+eTYLAEkhQ0m5NiQmLHPnoL5bG/2uACUixRXT7vqB+6tGj4A7JcRd4SA/F+/iCn0CFdXnBAAqMCQF3QC4yf2pPgbOQbIFHGhAyP7IZylxbIrLJg4LcHn23jYeXV+uowFA4vMKeuoZgHVv1Vl7yJfJewkYOxTSIAcS4evGtnwu+JzkRHf9KpR7+uHVOi5+crmOuv/184efvumOek09S7KeGdmcBwjeq/Ej1YSCnGhdb9Ya4hdyb2dyBGjoCPSxoYzSHeRHFAUAyDqTmCa5AzTFUgeNrnGbbHfPQQzM7KGCWnZ+JD5FYA3Jg8QfyZpMxIQLJK3nmz7i+rG8HvyAInMs2EMUlyD23JyIrp/IibaGNv3I8r8JHYF8GtTEAMBYLHavLABwGwGA7doEAAYADp8VALj/XgGAU+sXALhzvVlriF/IvZ3JEcpnRf4PABzkaJDrh9eAPXHfVb43eJa7hwGA58VEAKC+JgDwNHbJHln5KwAwADAWi309LABwGwGA7doEAAYADp8VALj/XgGAU+sXALhzvVlriF/IvZ3JEcpnRf4PABzkaJDrh9eAPXHfVb43eJa7hwGA58VEAKC+JgDwNHbJHln5KwAwADAWi309bPoMQCX6xDkYrlBWyV2BE/dZIxgkC7g6o0tdr9bGFPbqenKmkzrLjEAK+VwBFZG4IA0pEAByzmCP1P4T0d/zQdSMiDkSIUjgpVxXAevIuzbnoJmilgi9ek0DfT64Wkc9x+3ix9uoAOjhz96so35e7/Pi7et1kLP+ZMNAYlRdP2heyUAAgtxLzUHlcOVfoPEl86/3qXtVz3psQN8nb9bx4Bevt1HOAHzwy23U6+t9KmBsYOD3tkH2AuVQABKGTaFqfMAZVHJPQM0ieQqBAQJTZuID5CCSN6Uvm8BgJkbtfDqAliiPgP2R56OStQeAhsBXAt9n9hztp7gPgc3ymok4Q4BG+A5az1EOF8+RP6iLOaK1AfVlqraSmHehFcgLSDuQmCP5XVwz1Q+MfA7ENtkTNx7UGgQAxmKxe2UBgAGAAYABgKN3DQA8jScUo0TEBwDK+wQA7uytas4DAHEOInlT+jLIZW4tm3kXp7lGeQTsTwDg/n0CANt7BADyvIC0A4k5kt/FNQGAAYCxWOyOWgBgAGAAYADg6F0DAE/jCcUoEfEBgPI+AYA7e6ua8wBAnINI3pS+DHKZW8tm3sVprlEeAfsTALh/nwDA9h4BgDwvIO1AYo7kd3FNAGAAYCwWu6M2fQagK45Ecm9gihiySAiwMSxGO8XUgnuiSCkop0QwEcey2BLBJ95b3keBUgIDeoDjO7BhEO/iNtbkPmpIQar2tAfWCAwEjQxZG3eQGCONuBS7AE4QgfvsR1frePxqGxUAPvz5m+6owPDx66t1VNBT4U4DOYX/qn0hMSSFcE/gCh9xBflME0TWQAp6V6yLd6n78/T9q3U8utxG3WcJAwUYbM4SLPdU50fKemE2NiRuZO0brR9oTGVdU/sG/IgAAFkHwXeRX8+8r9usAzCA1pDkCzAHqykG0MHNI+56kzosgRFYMwQVVByStVfXq1o5k8fB3MhekBrtzmeYd4iPmvMioGemVtp7AvQa2U/kpyCG3Jxir4mT40BOlrEx4S+oLpTPAwBjsdi9sgDAvlgLANRiSs6zrkkAYABgb54BgCc5oOe7RPC7TY3tJwGAAYCDuk1qIokB8l3k1zPvS65XczDhh1wfkN+JthpeI/yP3MPef7HeAYABgI52IH5P8ie6p7snQK+R/UR+CmLIzSn2mjg5DuRkGRsT/oLqQvk8ADAWi90rCwDsi7UAQC2m5DzrmgQABgD25hkAeJIDer5LBL/b1Nh+EgAYADio26Qmkhgg30V+PfO+5Ho1BxN+yPUB+Z1oq+E1wv/IPez9F+sdABgA6GgH4vckf6J7unsC9BrZT+SnIIbcnGKviZPjQE6WsTHhL6gulM8DAGOx2L2yIwEgSuJuQyqaqSlxbBSV+tmwIZsU0+p6CabMxgrNEwgrIiiJ+JJQQd1/BGtvwkwiypWQUE38YH/dNajQzxU1ZO71PD0pNIW/qBiWTRloIogwrSBOAcCHP73cRjn3rxnlmvrdCpIaAFgBLPEX0hyRXDPyMzGUr5Ncg97JbNZR40b8onzenAdZAeDV5Toq3Hv46Zt1PPj1q2387uU2fvNqG+VswAqVn713vY56DmETT27+MmscAjaDtSQNnModMl+4edVcDxQzpP6r76q9cmOF5E2SL8y1JcPKv6SmmJqC5Hx3b0m+cLUmytskDic0rroP0lAgbtA1QEs6+4B+KDHn5eYylIPUd8U+uH6EaiLR3GAdpN+BNbHfRc1n5PvieySGSTzMwMMAwFgsdq8sAHC/MBBhj0QhKNTq+gDAL74bAGjPPQAwANCCGiCfBwAGAFp51VwPFDOk/qvvAgjh5lyZN0m+MNeWDCv/kppiagqS8929JfnC1Zoob5M4nNC46j4BgDf8xcxlKAcBqBUAyNdq6PvieySGAwBjsVjsQAsA3C8MRNgjUQgKtbo+APCL7wYA2nMPAAwAtKAGyOcBgAGAVl411wPFDKn/6rsAQrg5V+ZNki/MtSXDyr+kppiaguR8d29JvnC1JsrbJA4nNK66TwDgDX8xcxnKQQBqBQDytRr6vvgeieEAwFgsFjvQZgGgTP61qRGfo6IMBLosmkRAK0E6Al+1MJVz4SQkJKIQiCkijsj7kcZdNfq2sBbXqzmQxsBuQsA6u0Kv3mc9FxAItcZfynBFcJ1Xc37dSLRTvxPXNP5Qz0RUIBYI0ArfKmSpZ7HV89qa8/4+7Y8Khur5bs/fvV6HhDtuowLWmYjpL0cDhokgJiJcAKuZ5nWUP/dycrMe5fPqyxXQPnl1tY4GANc9L0Dvwa9ebUN8Xr9bfaSC5+oj6pxOAs4O85fBvVWeV/us9squX+Y7IQAh/Lf6SB2kLpBBap+sTaRpBTHh1ji1X939/Y4Y4j1kHlH+qu6vcp66jxtLBHYQCDGjKUhuNeNMxrRacxBPxB9716P1BvuM9orElcpnINfIOgXWyYq3m35h1gLX11A8CZ8iWtyN0VFelT5CfFr1miCX1bkFAMZisXtlAYD7BZ3MJQDwdJB3DwAMAFznHwDYjADAAMBRTSTNbgDgeSMAEOYR5a8BgPu51YwzGdNqzUE8EX/sXY/WG+wz2isSVyqfgVwj6xRYJyvebvqFWQtcX0PxJHyKaHE3Rkd5VfpIAGAsFovdjgUA7hd0MpcAwNNB3j0AMABwnX8AYDMCAAMARzWRNLsBgOeNAECYR5S/BgDu51YzzmRMqzUH8UT8sXc9Wm+wz2ivSFypfAZyjaxTYJ2seLvpF2YtcH0NxZPwKaLF3Rgd5VXpIwGAsVgsdjs2DQBVYQBiTUIlkdBRA6OSPii+3TmDZ37rrW2geU4I3HpNbUbrHEgDJcEDaabUPM0mWAk6InaIWGuEh4C0REBJEVrh1xf/vwEEwtddQS6FGhHzRETWeQo4SYQpgcSkqWzOACxnsTXnvn32eh0XH1+uo4LB+nmFR89/eL0OCXdAUy79sb6LAEbd+Bb3kzACNLgS+plNJxqkQQfgoc6zAsCnH16to4HB5dzH6hfVF+rnzbl/5T5PP7hax/N3rtdRfcQGJ6QRVvllBKFm9sHMC4fVL9A0k1zmXkPWikAQF6wgMEB+qJzJuYNc4/qRzIek5gu9oM7CJTVZ7Q+B9eRd1I90M3GD1kflTeLjRMuQfe/47FH3dn19RteQ/KI+Vz94khwn/0CAyl8gLuX7TuRKqSsn9nrUb5E/LOH6EfJj8X4BgLFY7F5ZAOBAJIBnBgBenwh6VwQHAN5YywDAAMAAwADAAMAAwNmcO8g1rh/JfEhqvtALAYD7cwgAZLEXANh5d5ArAwADAGOx2D2zAMCBSADPDAC8PhH0rggOALyxlgGAAYABgAGAAYABgLM5d5BrXD+S+ZDUfKEXAgD35xAAyGIvALDz7iBXBgAGAMZisXtmswBQFgsBVsg1pBjJ+6gioeDXQDygM5+UiBBCUwlKJBaA8FGwq1nXMjd1jptsTIAYlYIbFGUi0O29VeJFzUfM2bmfas4I7EQNgnpX4ptAiLlNhxSUQOAqv6uwrkK8ix9fruPRdRnlHLfHb7ZRzxJsznf7/nV3KBCu9msG/PZ8nfixjG1DnO81PqRpsgEEydXlmnouY923us/KFyoYfPiJGOUswfrdx6+u1lFhIDknEjWhaoiY6NYhUAtQ3gFzVE0wAiturRbXIB8H60qaTRJ/btNqw4CjGvHefVTuNYECasTB9e4PLuqeKh+heHNrMYhbMk/53NEe7vmC+b7k8+F7T+gt6/k348SMVff6w2ocuGYqtsE15MdvMme5Jk7uUD41418T+xAAGIvF7pUFAPbF15efBQBeBwACwd27XwBgAGAAIHuuyucBgNcBgF/WzQDA3RpE8vLIzwhYkfsG5jJT84nvBAAOco26J/h8+N4Test6/s04MWPVvT4A8HTOAYABgLFY7BtuAYB98fXlZwGA1wGAQHD37hcAGAAYAMieq/J5AOB1AOCXdTMAcLcGkbw88jMCVuS+gbnM1HziOwGAg1yj7gk+H773hN6ynn8zTsxYda8PADydcwBgAGAsFvuG25FnAJKiL4uIKgymAEQiC8CdYdEBTQoRvqogV/ChBLo6N4cUarXG5Lyb5vp6/qG4D4ENaCigKvZ5BqhKUTPyB7W34t4KHM007mQtm/tXYCz2kwho4oPEHytkef7uNioArOcBVnBTYVAFgPWa5qy3EmcN3CGQm4hQcZ/RepB9JpBVvocruCfWAzViFXYV+DoDAOvn9ay/ZtTvlnvW8wYrGK7zkT8OzTRuDpwA+0lqoDtf1EAf1MSpM0lRvgM1H+0Jqe9mrqwDnRMKfpgjtXXoZ6PvQR+114+AFeCDaE9m4nPm/iDnon1RcWxCJaUlJRga7I96P3eO7ucEuKK1VD6l9k3oOOkbZA3NWCTzlHEs7kN+aHHyOIol0JugtQFroPY5ADAWi90rCwDcL8pEPM0I3ABAYwQA+vMFQikAMAAwADAAkM6X5MMAwP1cWUcAoM59rg+iPZmJz5n7BwAykGV+HgC4P08Zx+I+AYABgLFY7B5YAOB+USbiaUbgBgAaIwDQny8QSgGAAYABgAGAdL4kHwYA7ufKOgIAde5zfRDtyUx8ztw/AJCBLPPzAMD9eco4FvcJAAwAjMVi98COBICkuNRCKc8SAgXrKMFlCWghFlDBJwJOCJn6edMElWsQ6BPQhwh9GzAQIaaaPtAkNNeLNUEiTqwzEioA2AxFnth/tQbqnci5jxIYmSLPvcYVpnUdKqyrgKY596/AwAb6lc8rSKzQ78Xb25Dnu5lCvGkGgL+sjZdolJTAJUKd+A5qgkR8kuYSXSNG3ZN6jmPd24uPt1HP9Hvwi9fb+Gwb9fp6nycvr9ZR/UUBwKmYUNeDJtRZYzdfuU0Zqp/E78hamjkLaYRRzf/PWW11gdTU+rvNsoKHA93hrhPxR1LXkL8I3SF9/6C9mqmPZG0bXUbWkGjMibzfHUqnmrod1S8XZJm6XK0H0aDoxzs3JoBWlvs500ORHuDMHIpiXv1AQ9bD1GdqBADGYrF7ZQGAQriNRK0pNOR9AgBPrg8ADAAMABTPDAAMADTWOABw//Nhzb/ZwAYAorhV7xcAuD8CALWvk/u7ujwAcLBuAYABgLFY7G5aAKAQbiNRawoNeZ8AwJPrAwADAAMAxTMDAAMAjTUOANz/fFjzbzawAYAobtX7BQDujwBA7evk/q4uDwAcrFsAYABgLBa7mzYLAGXTqhJtLQziTB8b1oHC6jYke5/tgQw5FwFomvsoUWs2Pgr6oAIKRB8R2ajRI2DIvcYUfcTvGj8aNEuOb+1BnGbvAKwlUEbuT3knea4kEFAyJgTYVP4lz30rsObhJ2+28ek2FNx5+v7VOv74e9fbUGe6gfcl60bWhAj0I3zaFc1uHravKc+Va1/WqQLAeo5fA/0K6Hvwm1fb+N3LdVR/UWdDVh+RwIQ0pGYeb3LD6Acy4qPC5wi4Ib6DGkHxrvaPHCp3iFrgNtaovpu+gBrSiebbruNGo4xyDbjGhhFkXcH7uXnTvae9VupZSvcp0CZ0gjsHFE9nxjZ6PzeXqVgFOYjUNXd/ZE4xfZasLfku0ZtoPsBnyXOHekjdT9VD8sOjig2wVwGAsVjsXlkA4H7RRIUxAJCLKXM97WtM0U/8LgCQCS4ZEwGAu2tCmuIjfFrGfABgAGAAIKvvAYCo5staDfJaAODp5+q5AYA7fhQAuD9PsrYgB6lrAgADAGOx2NfYAgD3iyYqjAGAXEyZ62lfY4p+4ncBgExwyZgIANxdE9IUH+HTMuYDAAMAAwBZfQ8ARDVf1mqQ1wIATz9Xzw0A3PGjAMD9eZK1BTlIXRMAGAAYi8W+xjYLAOuwAYBoAEkBIAWDFNmRMCBFioh/ItRIUyOFsijgZM0aoQmEOxFx8h1FA1Wvb2ApOBNnRljJeSpY44hqsT+y8RV7LmOjjD/57jZQgwaEoFozCbDVd4EvK398/s42KtCr57tVoFNhUHO+W4FHEu4o8Q3WwYYNal8ccQzu7foaeQ80B9BMyUZDwOB6Ll8FgA9++XobFfoJAFghYT1XsvpI9Tt5NiRpEs11I343rEcgH8p9ngEE4rsqh5P7E1BO5qZ+gCPxL/dOxIf7I4qdr0242ltn+znAv1FdIDlC1XAVJwTKA6jhxN6er6E8r3QH+K7S0HYOAGdwSz91aj6JH7E2KkfM1EEXMMv9UXpxwpdJLkaxq+CxC12Jjhv5NfBjdz9VHSHzUu8aABiLxe6VBQDuF1MkOgIAAwB74jwAMAAQiNlRYyVzndn4EF8LAAwA7OYyVZtArQ4AHOyLm68DAHXsBQDyHBAAGAA4GgGAAYCxWOxuWgDgfjFFoiMAMACwJ84DAAMAgZgdNVYy15mND/G1AMAAwG4uU7UJ1OoAwMG+uPk6AFDHXgAgzwEBgAGAoxEAGAAYi8Xuph0JAGWyBqCnSejibEApSE1YQwT6SBAT0abAZ/N+SkCLgvitt7ah7o+KsxKgpqhFTRwR/UR0msLAFfGO8D3xx4HYVc93903GBlgz6Wtmc2QLStWUq4axXP/iB9t4/PpqHQ9/9mYb9TzA8vnjN1frqGcJ1ns2ZwAWiNrMH0Br0vyM1tMGEBOD+L27hzP3UXOre/LsvW0050GWPX/wq1fb+O3LbRRI2JwZWUBic06kOhtS1R3SKI1qzc2YU/BrENvSd0EDR6APyqUkdxC/EHNDP6iZNUjlWfTDIxkE9Jg17twaIM9fJvsjtBTSZ6aOINpk5odhdx9QXiP7rNZc3Ef+kKNqE6jp7o+ro3yh9gRBPPGu0r9MPWLXPrCf5Luojtd3F72BW0dQ3QfrI+9JtOrgh8fGF1UfAd6P/PBAfC0AMBaL3SsLABwUU1AYyXsHAJ4Wcfd6tzlygQSag/LHEdQQzw8ADAB0xPlRAzVB5h7O3EfNLQDw1NeGTZ7yXTUvUmPVfpr5luRqUpsCAAfvMqgBAYD7vknyNlkfeX+15uI+AYDMj+xrVM4C+0m+i+p4ffcAQOZ/Kv7N2AsAjMVi99ZuCwA2Cd0Ug6RAS0EkiodqVEfFlDR8qHiahYkUQTU3Ir7cIosaENBwqXuq/SSgSl4D9oU0A0TAntsgIMEHBLcUZKS5U/MEzaALCVCTVe7//IfbIACw/pXO+q+6VujXgD7wVwzlPCf++uCwAQHrh6DTQU2BHXvAf91aUAFg81eA67/8qwBg+bwBw+WeL97ehp33z80LdH9VPh01Z+ZcCJQn64Hqmun7M3WKxCqq3aSOiGc1PzyCNZH1y8zjZ68lqKXuvqG6QPwF1B3b900oSrSP1J1Ag6DYMt8R1Q9xzeiHXrRmpAapPzBAIDHwceU7roYi8S9/PCJrAuKZ9DXuj8zITx29Q56j1hXUwJ6P7vqpWOMAwFgsdq8sAHBf3AUA7gsTt1irewYA7ogm1YCC64kod4WS24jNiN0AwB2fU/mINC/qPiA3odgD/uvWggDA69N8OmhM3bkEAO7HEKojAYBTfo/8JQBw39/d/AL8LgAQ+mkAoJ1H5LqCGtjz0QDAWCwWG1gA4L64CwDcFyZusVb3DADcEU2qAQXXE1HuCiW3EZsRuwGAOz6n8hFpXtR9QG5CsQf8160FAYDXp/l00Ji6cwkA3I8hVEcCAKf8HvlLAOC+v7v5BfhdACD00wBAO4/IdQU1sOejAYCxWCw2sEP/FWBVrEFBaQqlK4hcWAIEXU8soIZPQblydt9MA03+RUUXACIhJuaMBBcR/UCwuOKbiCbStEr/MsS221CQhsu9z8z9yfylX5gxVEf9F3sruKnnuNV/EbieDVf/1Vh0ppsY6hyio5qyYUyeeY9d4QvinMQG2nMXJIjGtELcBgD++tU6Hv6XH67j4h98sI4GABaQ3IBh0Kypubl7J/MayUeDmLSHao4VcAHggOQOmcOVz6p6BM4yU34n56PiSfiFW2dVDCEI5UKXzrNUvSVnzM7kQHsNSCyJtUEwQOksol8JnBDPdfWxjNFbqCVOblL3kBqL+LTwTbUG5AdgOw+aOYjkCKSJ1fqA56If+8EPnsR31F4MdfNMXTDzKrl/XbMAwFgsdq8sAFAU315xI0UyAJCLHbEnAYA7e2KKM1d8z8w/AHA/vzjjiHvs5cwAwADAbsMVALif2wMAAwAHuoOsWwAgi8kAQP7cAED/uQGAsVjs3loAoCi+veJGimQAIBc7Yk8CAHf2xBRnrviemX8A4H5+ccYR99jLmQGAAYDdhisAcD+3BwAGAA50B1m3AEAWkwGA/LkBgP5zAwBjsdi9tUMBoCqg4HNX6KnrVRFUz1JCpfs9MdQcXRGkGlAiapr3Bs0rEvemmELCgQgAs6AjgFXXSjWMR4AwJRxVQ2aeO0SaDnev5NxAAyXB2UFzruDu4seX62jOd/vdNh5dX66jnummzv0jMaEAoAuDhv4A9kfGGGjKJWQBftd8DqCpDdAAbKr7Wfe5wr2Hf/PhOh79w/fX8eCXr9dRwXD1i7rP6rw2kqdkDpgAht31ATlK5naRD0numGmyXV+WPx6oJtudD9kT1TSrRtXMBe5aEYA1vKfZWNfrm9gAa0neY6TD/rW/74MemRPdeAbrI/Wg+Jz8yOnquCam1XqKPWo0kbuPhn+T2JiBryinuNe7PQuYM3kXuZ/mOsi6DDQDiSdZp0b+AmLMvX4qzsvaBADGYrE7bwGAAYCuuCT7QD53C7T0F7PhCgBkIisA8PMRAHjj8wDA/UZC5QDgI3K/e+sDcpTMznbgLQAAIABJREFU7SIfktzh5hqUd9Q6BQDu+gKpj6M65e5JACCPOfV5AKD+bgDg/pq46xAACOM8ADAWi90nCwAMAHTFJdkH8rlboKW/mA1XACATWQGAn48AwBufBwDuNxIqBwAfkfvdWx+Qo2RuF/mQ5A4316C8o9YpAHDXF0h9HNUpd08CAHnMqc8DAPV3AwD318RdhwBAGOcBgLFY7D7ZkQBQCmVT0BFRQUSCK9B7gkj+f3A2iRQXRFAp8SfmIAWIeK5aS3IGEBLiBCSJ4i6LOIGBZG2JkDEF70iAuE1ksz9lT0ijRNZYwmmy9hPrjUb5bm02H7+6WkeFPup8t3p+oASAQBDbzYPy60GOI9+b8gsTmtjvSvwIfK7uWffz4uPLdSjo9+S//tE6KgB8+sHVOhoAWEYFz2hfzDxFGivpgwOoIWPPjE9VI2Qdnsi3ri8QH0drb8bcDJAg9VfOk/xo4dQ1lXsVcFX7QJpyspagJqJ8NFHbyT6jewKgo4aEq2A9ZVyCPVU1t7cO8kd2la+A75K1IfdXNVH1C6h3AP5ydhzeHKRGq7nVdSCAGcSr+lz2X533VXmMfE5iwK13pGYFAMZisTtvAYCiSAQAyj0JANR7KoVaAGAA4CDHke9N+UUAYACgEZ+qRsg6PJFvXV8gPo7W3oy5AEDod2RvAwBPRgAgGwGAnbkFAAYAxmKxGLUAQFEkAgDlngQA6j2VQi0AMABwkOPI96b8IgAwANCIT1UjZB2eyLeuLxAfR2tvxlwAIPQ7srcBgCcjAJCNAMDO3AIAAwBjsViM2qFnAIoi5QorKWrUOSVKEJMiO7oPESOiuEhBYc5X3gdAQlUcXYGjIKEquARIzAh3eQ0R30A8oDl0/JeIObInLjSR4ngw3909UetHnqXmTOKz3PPF97dx8ZPLdTz4q5fbqACwQEIFAGWDY8b60d+dWW97z02/m/Epsk4ESLz4wTYe/uzNOup5kBf/4IN1PP6H76/jwW9erePJq6t1PH/neh0V+ikASH78UNe7Z4+O1k3eQw03N9X3EOcEktxovx9p7kCjR5rK5l3MH+/cxlqCPpDr7Xo6yMV1/Zp8CGIb5RHXR0juA3tL4gA9V/kv8Dui9ZAvuHVzYu+cXIJ0BNFYrvYV70GgqdpnomvJ/sz4kRO3J7of1FYJPyf8SPrL4B4q15C9OiwmxdzrOgUAxmKxO28BgIP7kMZBiXwlFmZEkBICoJjazzWFklwH0rAAQSS/C8SIFBJqfcwGZtSkuHtCmkJX2CPhTsQoeZYpmtWaBACy9bb33PS7GZ8i6yQFfQCgXDd5D9IcBQCermcAIIptlEdcHyG5D+wtiYOjwI3r+2Q/ZS42fW1GJzjrZ8fGjPYV7xEA2JmneEeUN8H6S38Z3CMAMAAwFot9TSwAcHAf0jgoka/EwowIUkIAFFP7uaZQkutAGhYgiOR3gRiRQkKtj9nAjJoUd09IU+gKeyTciRglzzJFs1qTAEC23vaem34341NknaSgDwCU6ybvQZqjAMDT9QwARLGN8ojrIyT3gb0lcXAUuHF9n+ynzMWmr83oBGf97NiY0b7iPQIAO/MU74jyJlh/6S+DewQABgDGYrGvid0aACSihohyJaZFQzJz/1HxdO+hRDa6DxFHQPja711FKjgPEAlHceYamQ9Zf7sBIPc3YdlInJEzWRB8MUW73Fs1H9EEy3NTZs6sUb5cPq8Q79H15Toq9Hn46Zt1VAD47EfbQOcBAr9W76KgojVIXIk9IeLcjRPim8ivSW4H86mw7uHP36yjwr16HmAd6pzICpgr9Kv7Kf3FbJDrWjX3B03RMIbchpU04uS8JlVvRa6xG181xHupPIUaTzU3s2a5n6tryI+Jau/UOjhxKMGK2XDbfifu08ShqK3IN0395WootG/EX4iOI/EEdAXSBqP8Yvo6AVMyp4AfoaWPkLVx8xHIU7YuB3E+5bMgd8g9AvVmpCPQ58TXQO1Fe1u+GwAYi8XuvAUA7hf6AMAAQGfdAgD3fQr5cvk8AFBfEwAYADja5ykQEwB4+r6k7pufq2sCANtrAgA7cyDxZIKTAMAz8hHIU7YuB3E+5bMgdwQABgDGYrE7agGA+4U+ADAA0Fm3AMB9n0K+XD4PANTXBAAGAI72eQrEBACevi+p++bn6poAwPaaAMDOHEg8meAkAPCMfATylK3LQZxP+SzIHQGAAYCxWOyO2m0BQFmkgPAkAp2ACvIsJUi6sGOiYMnnk8Iuip0q1O57E/Hiij4iyuQ9yXPJ9WRuouFxfKT6iRKpZM3q9RJwg2ELKBVvR8We2cjU+1dwV8FNhX4PP9mGOt/txdvbsIGOm9cIUOtcb4td4Zf1OY1PK1g7E3umDyJ4UK8vc65nAD66vFpHAwN/+bo/PtvGo6vLdTz/4fU6GgBoQmLV6MlYFO9Ictx6T+W7AljZeV7lKQMu0fxCAASJA1Jb0TrU76p8R84MAzFKfkRRn7uQcPhjJvAdpI9Anp+5Bn3X1FbqPsQfUY4jNUXUDnV+qIK0zeciN9VrGs0x8lMFXMRz3Lyj8mGzBuCHVplfwA/bRCuha4jPEv0FnivXH+RBtf8oB4w0FKgdJD6nfvAka1lGAGAsFrvzFgDYLzABgExo2PsZACjnFQB4ev8AQLaWAYABgAGANz4nNRr4eAAgfA/iCwGAAYCDvBMAyHOlWs8AQLbGyn8DAGOx2J23AMB+gQkAZELD3s8AQDmvAMDT+wcAsrUMAAwADAC88Tmp0cDHAwDhexBfCAAMABzknQBAnivVegYAsjVW/hsAGIvF7rwdCQClkBHJV4ka0lgRUSEbMVD0u/MCQp0IHCQcQdPpCg0kZM31Q8Jn0Ix86z/dgWWkMVTDFGVKNDkNjyvmpH8pke2+k3qWelcBHkl8usKxWdcynwpiKvSpAPDiJ5fd8fjN1TqefrCN5qw3cR6ghD5gX5BvDppEEpMkp6h1ncqH4J7SXwRUIPmo7snzd7dRod/Dn15uo4LhMpSP1HMiKwyswFjFGYK7ICeSPequp9nsoDmCvCfPhiM1y4wl8t1GUwg/JXXW1RSkBs3U0G+9tQ307gqQdJ6raoGcI9EL4p5qTxCsAU2/yiMN4HLzF/mRC+y5naNFjEq/BuuP4gD4w3ANlJYisQRyJvIjoJvUD61IT03EM6kjaj/VmhNN59YDqQfUmoDcNLrHURoezRG8dwBgLBa78xYA2P88AHBO7JDiHgC4419AyKJ3Us9S7xoAGAA42FvUXAq/dvNRAOBOniBrD+oF2vNyTQDg6ZzVmKmhAYABgKPryfqjOAD+MFwDpaVILIGcGQAYADi8D5kjeO8AwFgsductALD/eQDgnNghxT0AcMe/gJBF76Sepd41ADAAcLC3qLkUfu3mowDAnTxB1h7UC7Tn5ZoAwNM5qzFTQwMAAwBH15P1R3EA/GG4BkpLkVgCOTMAMABweB8yR/DeAYCxWOzO222dAYiSsiqIptAnIgsJpZFQBkWENHCoqIEGUQoNt6EEcyCihjQPak+I0Ffr3MCk0jQhIQOEEhEtvYZS3U9BMCKmSbOAGlMBuFyB5vqdeq/arFUAWKHM0w+v1vHo+rI7Hr+6WsfT97dRgU69fx0qthwAvOdTqvGw/J58rvZHwRfVjIC8hvICaMrUsyqsffLR1TouPr5cR93/eh5kPQPQBYDNeYDqnK0CJ0mtIbWJrGe37oF1Jf4ia6k6I0o12SrHgRpH5u+uNxrmGqIcTd5LrYPSAKCuDBtqkM/dtSdNvPRvUc/de6ofEsmZuk0dvOVaTPKjvIb4kavRVG7o3B/N3cz5ZJ9lLzDxo6U7N1VP7dwH/E6eVQh8gehpsj7yc6PPkfOt70pqBNCR0l+E9lFrHAAYi8XuvAUAChE3KPikGI0KIxFbJ8U2APBknQMAd/ZNNSABgAGAAYABgDdztaqlAYD76xkAOH7mjg8GAHb2XF1D/MjVaCo3dO6P5h4AGADY2Te1rgGAAYCxWOwrtgBAIeIGBZ8Uo1FhJGLrpNgGAJ6scwDgzr6pBiQAMAAwADAA8GauVrU0AHB/PQMAx8/c8cEAwM6eq2uIH7kaTeWGzv3R3AMAAwA7+6bWNQAwADAWi33F9pUDQJL0VXIHhUmemwOgoiNMZsQZWSdSNKUgqsJDNG5SNIHnkiEFiBKGan3MBkMKdAA/EDAeCGjbz4AIR00HWT9X4Jqi2W2+JfQrZ73Vc/weXV2uo4KeegZchUFPXl2to4E7BSohEOo2DCSeeutGrgWAWcYDuZ74r1iDup91kDhQvlABXT0Dsu75g89er6OeDfjgty/XUf2l+oU6J7I5A9AEpzNxQ0ASaeJGPiX336xrKp/LH2VGMbDjm+TMYPJjBvkBRtUv0pTfRlyifKrOMO1oA+QLwv/IvqF7qlxWG3QTZLjwRc1N3cfdH1e/WrG9F+sAnBCNNsxlIJ7VXOrzm3oBag3JsSgPixhG7whqsfQXd89BLKJ1mNgj+axR/QBroO6BekS1TuL9SE4JAIzFYnfeAgAHgg4U1QDA0xEACP1sBgoAoYz8zn1XIsqBjwcA3li3AMAAwABAObcAwEE+DQAMAAwAHK6xvD4AcHeP5LNG9QOsgbpHAGAsFovdkgUADgQdKKoBgKcjABD62QwUAEIZ+Z37rkSUAx8PALyxbgGAAYABgHJuAYCDfBoAGAAYADhcY3l9AODuHslnjeoHWAN1jwDAWCwWuyU7FACCoiML3wREO7s52hGn3TmCRhDBArAGrsCRAoF8V62N+Vy3ybL3x5wnWX80H9WQdMQj8l3VODqw6KaoEY2pmgNqjlS8EeErGnHis7WRbc6AK+Cmgp6HP9vGo8urdUgAKM53U02Iei/lC26eGq23GhJGmHGFGlYXDBLfEXHV7EO5vsLAegZg4wt//dE6KgB88OtX2/jF63XUcyKfv3O9jgoDkS+DmoL8BfjOKI80P4JNQEQ1r+ZHJfUs0+/UezfwReQdNzc1IHEUkzvzJPma7DnRAPLd3Rh1fBfUefJd9a5EE8n1M+s5mbM7/ybmhE9JkAhyitrbmTVRMJPsteXfRHcoHQR0hAT0JjCeycPoB8M6t7f6A8UTya3CX8g7krhUf5hA5VYrlsz3JvrFzVl1bgGAsVjszlsAYP8+3TkGAOJ9CwCEzwwADAAcrLdsvgIAAwA7eSQAcD83BQBC3wV1nnxXvSvRRAGAp3sbABgAOHqXAEA/Z9W5BQDGYrE7bwGA/ft05xgAiPctABA+MwAwAHCw3rL5CgAMAOzkkQDA/dwUAAh9F9R58l31rkQTBQCe7m0AYADg6F0CAP2cVecWABiLxe68HQkA3WKtrmkKDTmrjhRutwiNCiO4N4FgpEGQooZAyIGA23sXUqDlAOIOrScQtVJwiUYVrYPwL+WP1tqbIggJNbWHpNEgsQqEoxqNWAQCugLAFz/YRgMAP32zjgp0Ln5yuY4Kd9SZbmS/SKNEYnGUg2biFu2PEsRENLvQz1zX5nMBOyqUu/jx5Trq+X71PMAHv3q1jV++Xkc9S/LZe9frqGBYQWIE1MBayc8BgB3WN+AvpB6R+uXmZ7nnM40vyb9gbhKOkNh29QiIM7U+Kp8SCDXM1QBMuPUZ5UmzBiE/Ar4g5zbjs2KvZB1UvkPWX8yTnKkn33fg78rPUJ5Xa2/WVfV+rn5xfZDEElmHoY7cq7mmD7p6zfU7R7eQH2jId4e1EcaPeqcAwFgsductAHC/GLiFnTRT6hrSmJBmwSnIe+/iFmgkst31JCJOvG8A4HUAYABgd77K1wMAAwADAFnckH2TeiQAkPmmWQdlbgL7FgDY+byzbgGAAYDueo5qO1q/AMBYLBY7zgIA94uBW9hJM6WuIY0JaRacgrz3Lm6BRiLbXU8i4sT7BgBeBwAGAHbnq3w9ADAAMACQxQ3ZN6lHAgCZb5p1UOYmsG8BgJ3PO+sWABgA6K7nqLaj9QsAjMVisePsUABoAikiuGbuSZqH4TVfIWQjTRMSjhNNkFs07cYA7BURZRKKTjQqZB1IY9B9P3BeDPJRIArRHhLfUSJLCWUg7tUaN2fwCQD4+M3VOuq5f/U8uEfX26gAsJ4lWO+PcpAaSsx+R4yRv4j/jxp4M5fa4hv4XV1XBIzE/asvVBBXAWCFeM1Zf7951R8FEtfvPv3wah3V1+pz3XUmuQbVgFGecCFSPUdMnRlKaoHIa26NVesx1cSLHET2wa3vbhM/8zmq6WCtRoBTNtk1PkucKx9pIBHIL+RHYpl3Sr4gtVV+F1yvcrF6rqyPbvyDXIxqE8j7ElQO9pCsvTsX+1kgfoi/IwgN9J2KMwmGlS+IuRHdjDTDQTWrt4+oXsy8hzkv8qwAwFjsftvfWZblz5dleW9Zlv9mWZZ/sizL334xfg/v8e3yndH4trjHRbnmonz+5Wd/BufStQDAwTWuIAcDiT/SxBOIAwo7avpmRJy5V6RJCAAcPx+LP7AeAYCdEQDY7mEAIM41qAaM8oQLlwIAd/fBre8BgNpHAgDb9Q4A5APdn8Q8uCYAcJBrTJ/t7SOqFzPvYc6LPCsAMBa737YH634P7/HtwX0CAI2m1b0nEkqja1xBDgYSf6SJJxAHFHbU9M2IOHOvSJMQADh+PhZ/YD0CADsjALDdwwBAnGtQDRjlCRcuBQDu7oNb3wMAtY8EALbrHQDIB7o/iXlwTQDgINeYPtvbR1QvZt7DnBd5VgBgLHa/rcK5/31Zlv92mQOA/+6yLN/aGf+yuMfF8g0BgG6RIqJPCkDVDJhNwlBwkWKoxDxogmy4Axo0UjTJehPIRubmFnQifO37E4FBoJUSgMa+ueJFnoNpiLCb17sAFYlItU5F9MmzicocaoP57EdX63j48zfbKGcA1nP/6tlw9czABu4UGOgCDJQbxJpIKNaJGQVo5J6bYNjOIyDHuXFLfKf6y/N3tlFBbz3frzn3rwLAck0Fxo9fXa2jOQ+w+EgDA0W+RpBWDAS8OmvePFOBG7c5MmtEMy8wB9fXZJ5S1wjfsfMaWCu55yAWZVNsvpcaw/gj8a+uqTAQnMXm+t2f/sU2UP0nOdbUHa4WaNZB7CfKmyqnk/hWPzKKukLesRt/Yg1UrMpaRtZGaXW1t2ANyHuj/SExD2q3+47y87rmCjCCWox0tjFnpBHI2ph5iqyTGgGAsdj9tneXz/8K8L/yxX9fLHMA8OLMedTn1nsEAB5RQEdFQlyrir8UmgGAu/uJREIAIIoH4gsBgAGAVh4JAAwAHOXbAMCTfEHeMQCwHQGA16c5PQBQD5WDJnQe2h8S86B2u+8oP69rHgCI1kmNAMBYLFbtYgkADAAcFH8pNAMAd/cTiYQAQBQPxBcCAAMArTwSABgAOMq3AYAn+YK8YwBgOwIAr09zegCgHioHTeg8tD8k5kHtdt9Rfl7XPAAQrZMaAYCxWKzaxRIAuA8AzSSrEr1slIqQkGIDCEBZHDuFyi6MoMDJoSChahaBuFDFVzZWSryqvVIAcwZIqPurdwTPdUWIe77TaD+JL6D9UQ2LGSfunqj3UrFEmkf1eYUvFQBW0Pfgs9frqOcBVjBUzwx8/u71OuR5gOLsPhkf9Uw1IbLR/g78WO6zmQvIfVCDoJpOMYdRjr05mjMg395GPdPx0eU2Hvz61TYqDPzdy20UGFj9pQLAChjrqACwDrchaSAByK3nNo8kR6DaJPaW5F7iO+i9zZorcyuZ80TjKdcW5IL6uYR4E/l6uG7ley6MlvtGgJVYG/LDsHw/0vTX9wU/tBCoVM8SVTWF+K8CdOSHM7SPyjeF7uvGh1mPiLZ38wWKbaBZiI+g+Fd5ynz3w3KQmQvQvoDc3f2uGf/u+im9q55F4jAAMBaLVbtYAgADAAMAUTMVAKj9hcwrADAAMAAwAHC4p7QJg7mD7C3JvcR30HsHAE7n6+G6le8FAHbmGQAYADiK/wBA/Swz/t31CwCMxWK3bRfLHAD8H5dl+T+XZfl/lmX5J8uy/ONlWd5fluXvGs+9KJ8HAAYAnl38AwD39ygAkAm3AMDrAMAAQLTmAYDee+w21madRXM+qvkm7y7uGQAYABgAOM4XKLaBZiE+guI/AFA/y4x/d/0CAGOx2G3bxTIHANX4Z8uy/MeHztSwWwOAoHi5Io4UDyVIvvXWNpCAdhqEiXdF60GErymg3PV2xV0VwbLxnRA+toBS9zSbweH6E1EInn+UXxCQpNZGNaPqfdU+yyZIrFX1nebct6vLdVSI05z79ovX66jX1wbtxfev1yHPAyTNEYktEE+9e0ghC0Q+Eb4I7piCn8QSigmx3g0MLuf41fMgH/70ch3VFx781ct11Osfv75ax5OPtqHOA2zmNtFgkBiVa94D08ovAKCTMane1fR7dc96jQIx0i9ATlTrV2OryXHCr8kZrG5ji3IiiD/pI4O9ntFe7lyafa6aDJwNR3wN5ZRB7j35HNRl4gvyvdQPTO6+mBCF+NpIM6CcpmKDxAnwaVfvyB9Cge/U3gHpqYk1IVrzqM9lvlM/6prvNcxpE37vvjfKX+W7AYCxWKzaxXIeAPxfl2V5syzLv78sy7/9xfgPl2X5R8uy/H/lnn/vyMlSCwAUhSoAUK6lFGjl+gBAJi4DAE/XKgAwADAAcGfNAwBRTlTrFwC4s36g9rpzafY5ADAAcBQnwKddvRMAuO8XKg4CAAMAY7HYeQDwX1qW5V/Y+f9/vnz+V4L/dlmWf7osy796/vTOswBAUagCAOVaSoFWrg8AZOIyAPB0rQIAAwADAHfWPAAQ5US1fgGAO+sHaq87l2afAwADAEdxAnza1TsBgPt+oeIgADAAMBaLnQcAiX2v3Pd7B953WZbl3xqNP/qjP/p/l4MAYHN+CREApGiS5sgVHk4hVqJAFUnSHINiK2EQEE1uAScF2hVNak/Q3ABscK8n7+WujyUuxP6gfQAC3m3c0Pl1ABIRuCtBophzvb7Cuicvr9bRgJ5y7tvDn79ZR4U7FR5VoFPPdGv2kpzdJNZBXaMazxGAUEM2NabvuKBHvYdq1mQTZ4KSegZgPQ+y7nkD/X77chsFEisAWO9ffaSeQ9isFQBSM9BqdA7pTH6TfgRyEPEv6SNqPmqdlE8pfyc5HGgKGXfqhwE3X5t53I71wT2JjnCBi9Qs7v6IdW1AjALJopbJWkzAszn/W/FNMYi+a9ZE/LiCtERPv5Y9sWFReT4CdCp+QCzJGBZ5UF5v5g4yZxJbaM9BfiE/LLrzsfbCXAOkX8heEf8u9/mqAeAXffioX4/FYn8gu1huBwD+nWX7q8D/3YH3XZbx+YPrCAAUhRuIqgDA/UHe1xVxtugjQtxcn12/2RkBgPsxHADIclQAYADguflN+hHIQcS/AgD3Y87N4wGAAYC9EQDIYknGsMiD8voAwADAWwCAcMRisT+QXSy3AwCXZVn+ry/u+78cfN8AwDPHqGAFAHIhQN7XFXG26CNC3FyfXb/ZGQGA+zEcAMhyVABgAOC5+U36EchBxL8CAPdjzs3jAYABgL0RAMhiScawyIPy+gDAAMAAwFjs3tnFcnsA8P9ebgcAfqV/BZgUBVIcXVGJ7nmuIFWFlxR8sxGQhdd8bxf6zbwXaUzIfVQRR9cQYSDWlsAMVzycKxwJQEd7CGJpxr+OWm/i+w0ALGe0Pbq+XEeFQfVsuAp36lmCDdApa9LAQNEozYjjoV8Tvxf+RRrZBtYSwV3nYEJCEgf1GvXDQJ3z83e3Ufe27n8DAOvZkJ+9Xkc9P5JA4jrnej6lfC+3Zpmx2MvVqL6AhlJeU3MTiQcV/+I8LZIfib5Audr0RxTz1fcF2EANtDt/En+d9yK5BukI8h517uSHFbc2mfVuyo+AP8748ky+QM8yc7SlZU0tQPSFm2vUO9m5EtzTrqHgPnJNlNYDflpzt6u/5Du6sWKs/UwOdH9wU9fnrwDHYrFqF8vt/xXg//7A+yK7tX8EBAicGYGOiiYo6MOiVj4LAOyIiwBA/b4BgLvrTXw/AHBnXwIAAwCd+hIAiPVFAGAAoFP/US0g353IF+hZZo62tKypBYi+CAA8HQGAO+v3DQWA+UdAYrGvt10stwMA3y73ffvA+yILABwUtfJZAGBHXAQA6vcNANxdb+L7AYA7+xIAGADo1JcAQKwvAgADAJ36j2oB+e5EvkDPMnO0pWVNLUD0RQDg6QgA3Fm/AMBYLHYLdrF4APBiWZZ/Y3DNny/L8s+/uOc/W5bl7549uzPt1gCgW7yIgAIFyBXHTrFTwl6BG3T2GRAL6rsI+gBB4YpIW9Cp54pmQDYhQBi41xOfasCJmnPnrDwk+FyRCu5/22La/i4RYvX+ZY0rrHt0dbmOeu7bw0+2Ua+pZwY+e+96HfWeFfrVfSZ77r77aI/Q+h0lsoUIlnsi9gc1ceIsSeJfdR/qGX3N/pfzIOv5fhUG1usvfny5jsdvrtZR71/Bc4V+JKeTNZHfNc4VRLGk1tg9vw7UQTv/T/j7jEYgNQLpiLKGyi9QAw1yPZqzsZ4oX4n3JhpOriWBYyCvkbxK3kXGGAA0o/jE536CPGIBur39JblhNGfhC7ZPkVoqchapca4OlnELfJnECtoHkotJ3Sd13IyJmXVzYtKNeVQvSDyUEQAYi91v+3eWZfl2GX+5bADwf7rx/77d+f6ffXHt/7wsy3eXZfn3lmX5N5fP/y7/f7Asyz9atr/6+7fLsvwnx7/C2AIARfEyGp8AQFb8T54bABgA2JtbAKAvlInvqLkHAAYAGvMNADzdqwDAHZ8OADxr/2XsBgCiGhcA2FmHAEAUVwGAsdj9tt8vxr+i2/n+n8Hv/dNlWf7erb3FwAIARfEyGp8AQFb8T54bABgA2JtbAKAvlInvqLkHAAYAGvMNADzdqwDAHZ8OADxr/2XsBgCiGhcA2FmHAEAUVwGAsdj9tt8vcwDwX1wjiRkEAAAgAElEQVSW5T9aluXny7L842VZ/rflc9j3z5dl+T+WZfkflmX5L5bP/xGQP5gdCgBNEVeHEpU1WR8lgq0ipAqQEqCkKTQK5t6aKaGhRAdpUtB7mcMVNeScErLm6tyqev8G9Ih7qvlUMLDu83f6A4l84SPq7DYVG0SMkn2wBTeIVfKOFb7Uc9kUxKkASMGden5gPUuuwkC3iTuswejcT/kZEu2kcXA/J/EJmksVb2qNqy/U/WzO9KvQr3z+4Jf9UYFxPT/w8aurdTz/4fU6mjMjxXuhH7bAHslmrdf0m/kWgVhVL0A9kvcnwNC8D4E+9vqABpPUcTdGUe4gGodAq05+UXnH/eHDzXuyRoD5uJoLxRV5d+WPJvSr1yvtRtaE5I5R3dkb3esndCp5DqkLaG/Vu7p1bSIvkBxBagoCia5eB7kGXS/uP9R/JL8ZOY2uGXmnAMBYLHbnLQBwUJBIAQ8A5CISiIsAwBvPCQAMAAwADAAMAAwA3NM4AYBsPwMAd+c2vH5Cp5LnBABeBwCekdMCAGOxWMywAMBBQSIFPACQi0ggLgIAbzwnADAAMAAwADAAMABwT+MEALL9DADcndvw+gmdSp4TAHgdAHhGTgsAjMViMcOOBIBElBFBL4WeKYJ7xYgCibVwmEKTFLIZQYyEoLseQESiAgo+V/tpQz/zue7aIjE1EEGuWHR9VPqUWicguGzxB2ISNRqigXrxg208ur5chzoDrp771sDAAnfqPf/4e2WU8wDJGqrYreAZ5b6R2BUCV/lOI3xBzLiNicwpb22DNAvqXZRfVHBbz3p88KtX2xDn/lXo14DkCgBfX62jngf4/J3rdUjAL/bWrlli3brNDAA0KobJj2kzOQX5ppkj0Luoa0pMoh9CQK0neVnWd/Is8gOMOX+ndsiYJ7UJ1BSi+YhuIhoH+Rqofe4ezvg1+Zzk7qNqdDc/A6DjztfVmqRfkGugNC6YvxuTh+k+V1sBHermMtInjHoHEsPkvV2dQupXAGAsFrvzFgC4X5TJOyGxBYRsAGAAYABg+90AwPbzAMAAwPV7AYC7taO5JgCwuYbUDhnzpDaBmkI0H9FNROMgXwO1LwAQ7vNMrTG1ZgDgYI+ADnVzGekTRr0DiWHy3q5OIfUrADAWi915CwDcL8rknZDYAkI2ADAAMACw/W4AYPt5AGAA4Pq9AMDd2tFcEwDYXENqh4x5UptATSGaj+gmonGQr4HaFwAI93mm1phaMwBwsEdAh7q5jPQJo96BxDB5b1enkPoVABiLxe68HXoGICj0brEj90TXmzBrNF9SUJDIIYVUiWNTZJPPp4QvEbV1fUjRJ40KEQaimXIhnbr/zbMAT/ZfnPkz8r89YW2DBgHZ5NxAfBKw2jTfBI6V+TRnwBVA05wBB4DOk5fbqACwOZPuFoCK2scePHKbi8b/wPme8p7mu87kNQlKB3H1J99tYXCFuxUAVtDXgMF6zc/erKOeK/jsvet1VL+rZwCS8zgVGFSD/PjR2y8EaFTMK78kDRTxC5LvVB4hzZr4LvohSbz7ufuwd3/yLDvuD4AWRNeQeohqrzmIFnB1k6w7ICe6OdSFq66Pk1yM8jvITU7Mk1giceXGg72fBIgBLSDXe2YPTV07E7szedmJXdcvUa8G9ln5I9mHAMBYLHbnLQBwX9gEAJ4WUHm9KTQDAMf+tycuAwADAFf/CwAMAAwADAAczG2Ut9GagfyCcoRbbwMAAwCd+YL9QTncnP/UHgYABgDGYrHYV2EBgPvCJgDwtIDK602hGQA49r89cRkAGAC4+l8AYABgAGAA4GBuo7yN1gzkF5Qj3HobABgA6MwX7A/K4eb8p/YwADAAMBaLxb4KOxQAKpGqAJZqTpQ4UgUAiC9yfa9AuEKNCEfVrKN3AuLLFqamEKufS4Fg7oO9n0Qw1vsAX3PFV20qeuvhAt0//YttEH+pcATFDPncbYLIegsxrc7lqs+q8OXR5dU6KgBsYGA5D7BCv3p+nFq3+lwZo6AJQc11z69V/gTxqa6p76HWuOfHNA/LuYm8SnKHmn/1hQp9G8D36zJ+/9E2ytmA1Y+efriNZz/aRj0PUvqLqGVus2HnaCee3ZxJ/Fg1uADuk3u6IM5toNU9ySC5QNYAAYbdeaL8O5o/yGOkBkr/MuuqnLsLpME8Z9bbha8oLsG7uz5rr63hXyqf2z+gTfj32X6/kwdn+g5bF7h74uoyMH/0hxvId0fvclDedusR2SuVqwMAY7HYnbcAwG0EAO7cX1wfABgAOFzvAEAWiyp/EgEtrgkADAC0cibxY3H/AMDT+QcATu5JAGAA4Jn3QX5q1ju0txN5LQBQv1MAYCwWix1oAYDbCADcub+4PgAwAHC43gGALBZV/iQCWlwTABgAaOVM4sfi/gGAp/MPAJzckwDAAMAz74P81Kx3aG8n8loAoH6nAMBYLBY70I4EgESwkDOUSHKX4geIRPXdrrAxoRm5RjbcYp3c56I5kCZVNS/1/i6cJCLOFL5IyIj3IsK2XtPsS++ewKdVI6juTb6LYgmIOdL4zAgxFasqL1ToU899e/jpm3U0AFCc7/b0g23U893qeipYRt5FzR8Jz9FeqX0mvqBiqa59BVzi/mQ9VIy5EKxeX0FcPQOwgt4Hf/VyHRf/1QfraADgb16t4+Ljy3XUcyIrAKw+os6JnPlBRa2z+4NHd5/NPDzTdBJfl7kM5HCUTx1oulNrZO5z41zlVhdgAV9AsdjxE5KTVX6R2gH4iFxjkYdJPZKQcJBv9/Kjq0FJjSB7bsX8jp+SuFTXy7U68z1Q3nP3WfzAKCEkqK0k9oj2Qe9IajqZp4pdlcdJ7lD3B4DXqU2uf7sxiQC3uGcAYCwWu/MWADgQPgGAAYDlmgDAAEAnrykfDADU6xQAeHrP4X0CAAMAib8EAKL86GpQUiPInlsxv+OnJC7V9QGA2i8CADtzG+11AGAAYCwW+/pZAOBA+AQABgCWawIAAwCdvKZ8MABQr1MA4Ok9h/cJAAwAJP4SAIjyo6tBSY0ge27F/I6fkrhU1wcAar8IAOzMbbTXAYABgLFY7Otnt3UGIBE1TQFQgMktZKDBJIV+CL7UvMA1pMi7zYK73kRkucIRrQloVFGxFuvsNiQuzCLvuF4rxJ96ppo7AcZEWDXPEvd0ReFRe1jnU6FPPbvv0dXlOirQqee+VTBUgaGCO7KpUH4qwNaMiO/GmGiI1R4S30W+7uZVFSegufvWW9tQa1bfve5hhXjNGYC/fbmNAgYf/s2H66j+cvGTy3U8+ehqHRU2Vn8kTZAbN5aP/GXfL8mY+TFLQR83B81AMAIDkM+C2tHElvBrN/c1YKvmkZqLAcBSa6XyAanX3bVxtcDE9baPKF8DwMVeGwWZwLvIPSTxamiN3bhR+detB6N8pWqBqwvUfYC/yHgGPxK7OojkKbkO5Brgv0d9170PimMjL7i+6+Yyd/0CAGOx2J23AEBRiAMAmYgnokOtN7gnEgxC9BHBEADI4gT59cQeBgDqHBEAGADYy6FoD0FNIfMKADz1azf3BQDq620fUb4WAHgaNyr/BgDqPOjm9gDAAMAAwFgs9k2yAEBRiAMAmYgnokOtN7gnEgxC9BHBEADI4gT59cQeBgDqHBEAGADYy6FoD0FNIfMKADz1azf3BQDq620fUb4WAHgaNyr/BgDqPOjm9gDAAMAAwFgs9k2yQ88AJAXIbDwOK7iqkA0aCSUoUCEjIlsUSiVekMgHTSoS/RNNpdt8ITFtijJb3IE5j65HYn4iBlx/QQ0FuEaCVbOhJ0K8nkn37L1tVFjTnAH4y9frqJ83cOfl1Tqa893q+XekeZzwQWdIQEtiz8yBCnZUQCfzncqlIB8p4Fr3pI6nH16to5712ADA3/THw7/+aB0PfvF6HeqcyAqeKwBUEEfuC1mrUQMlYtHdc1SPTHhNckrz3uL+bm0lzaibQ7+q2L6ZN+1cQxrxkSYCgN7WNTNwYeYasufqxx3ly+Z81LohcD7jp64GJBpntI8qvsF62PVrQgu6WgblLzPeZvbT9k0Fp2fyI3iue59hvQB7iAbxC7H2AYCxWOzOWwBgGQGAAYAjcTy4ngjHmRhw/UXOgcwTiOYAwNsZAYABgKNYdPcc1aMAwK9kBADu+OCEbpLPDQDcvR7F3CD/k/Ww61cAIPfNAEA7B6m1DwCMxWJ33gIAywgADAAciePB9UQ4zsSA6y9yDmSeQDQHAN7OCAAMABzForvnqB4FAH4lIwBwxwcndJN8bgDg7vUo5gb5n6yHXb8CALlvBgDaOUitfQBgLBa783ZbAFACLHLuCBADqAEARdwVZb0iIoGLKLZSFJrgzm4iXHEB5o+KdbmmaaBBIZbXq2Za7EtzH3GO04wgkQ29IbaaNa4ASM233kdcI8WuEtkqfkwBpRouBS3rff74e9uoALCe0fbgs9fdUc8ArHCnAsAKdNT5bkRMo5wC1rYLRMC5j0Qck8ZXfVfmKRVvAiSiBqp8XmO1nsVXAV09D7Ke9VjP96tgsAHGxV/qWYLVvyQArFBS5BQEGMSakH0ZxST5YcBujolviviR9yfvpfIIWUtQ/6WfHgTo3Lxp3xP4WneY3yN+OXM9mSeBQUTDoXw68b7kBzgJ/SeA14yvOYDRfibxLzcGiN+B/KhqssqVyE+Bb87kAqTRSK9k+hfJrd39MWNY5v9yPYqxCf8KAIzFYnfeAgADAKVgCQDcXysicgIAAwADAK0mOABwf19GMRkAOIgJkr8CAG2/nLmezDMAkA/X1wIA23sGAA72d1SbVC4NAAwAjMViXw8LAAwAlIIlAHB/rYjICQAMAAwAtJrgAMD9fRnFZADgICZI/goAtP1y5noyzwBAPlxfCwBs7xkAONjfUW1SuTQAMAAwFot9PexIADgjsmYEy0zSH80NFakJ6KgKpVuEUWMFCjQRPmTfSIEmDZe8HviLXBMgDKWv1dFpTt39J9CXNBHqnZoz7kiMzQhKt6kU+1+By7MfXa3j0fXlNi6vtlE+r6CnnhNXz49r4E6BjRXoyHc3Bb2EZcIHvhwuZJd5QUA5mZdJI0PmqZos5dfi+hdvb6PuYYV+FeLV0cDhcu7fw5+/WUe9vkLFCowrhG6AMYk/5VOgTo0aLvceqE6C/GU3uxPgxgETuwM0kujHQFVfRO6e+XFQ1gNxvdMUu7UU+Q6oX0TXyPm4ude9xoUTZM7uuxMwCOC068tEe45i1R5mziKxh3KiWkug4+V+kngy15DME+VN4BckH5EYGv5BD7AGM3VqppbVOQQAxmKxO28BgPtzcws1KToBgKfzDwDUe+6Kl3pNAGAAYABgAOBuHZ5omkhdCAAMAJzVYedcb18TABgAGAAo8wuJoQDAAMBYLPYNsQDA/bm5hZoUnQDA0/kHAOo9d8VLvSYAMAAwADAAcLcOTzRNpC4EAAYAzuqwc663rwkADAAMAJT5hcRQAGAAYCwW+4bYkQCwORMJCJmm0IhGVZ6zJIrOjNjoXWMXI1E8idhCwnpCcMs1M5spW8QBeIREkFgfsi/yjC6wj0RkDc9uVJDVBCVyjurMOhKHVSC+tQ0kpoVPoT2p8ynzr9CynstWwc3DT7ZR4c6DX26jXl+hXz1XrgE6Yj6oUXKFZ2cvUKMBYl7mQ3CN23RKkAnyPMmPda8a0PvJm+6o5/49+N3LbfxVGcVfnry6Wkc9Y/D5O9frePH9bagzSVHMgXxKcqLTULrPJECXzIc0gO67zDTZM9er9UEQAqwJadanckNnH+29mshv7p4TKCNrmesLRL+I69GPpaDeoTwCdBBaz+rLKhcrXx74HHk/5fduXUX7qZ6l1ts8b07OU8XWICZP5gbWkNyHzHMmj5P1H+pXM/5n6oXqU+t3AwBjsdidtwDA/cLqCg1b8BtzwQUcvGsAYEdUmAIjAFD7FNoTIXYDAGGci+cHAAYADusXqQsif5H5BACePisAEK59ACDOv67+anw5ABDNOQAwADAAMBaL3TkLANwvrK7QsAW/MRdcwMG7BgB2RIUpMAIAtU+hPRFiNwAQxrl4fgBgAOCwfpG6IPIXmU8A4OmzAgDh2gcA4vzr6q/GlwMA0ZwDAAMAAwBjsdidsyMBoDzPDBQsBPGA8CBJXzYSA6GhPrdhGijUBBjJol0gjiyI6v5AuBMxQj4nDcPMNWSgxkYIkh60tsWQ2PPm+UoI1u8qYOV+LtaJwD1XpNbPa3w20Kec9VfhXgP9fvtyGxUA/vRyHY9fXa1DnQF4G6BaxX3vu3IfJpoj2diRsydvYZB8V33h6ftX66jn/j3864/W0ex/gX4P/+bDdTz4/UfbqJCwwkBy7p+AnCgnmntXPx/BIAQLJvZN/mjh1nzQ6DVrTHIfqBFoH466J/B98l5kzm6ecGqgyiM2mCTxcNT+1JhR55+qGHaBi/Jl4b9k/mRf1F6g2JrQU8O9NbUdipOJ2tvsP9FfJD7VO6p9VmuvtADZE3BP5MtuXBr1qN6T+CXJV42/ix7HjSX13QDAWCx25y0AcL9IkHsHAHZEBPh8SoyaYtoWBqC5DgCEsaTesXweALizDwGAAYABgFM1Au3DUfcEvh8AeEv7U2MmADAAMAAQ+ZQbiwGAAYCxWOwbbgGA+0WC3DsAsCMiwOdTYtQU07YwAM11ACCMJfWO5fMAwJ19CAAMAAwAnKoRaB+Ouifw/QDAW9qfGjMBgAGAAYDIp9xYDAAMAIzFYt9wOxQAiuIrCzERiUpgiAInoaIpVLpFSjVqqniJ78p5KSGgGj0FcUBjKtePiB0gUo4Sg2TdpCACQlyuifCj0fkhttgy979ZjyKCmkYANB1E/BG/ULGt1lLGR3nui7e3Uc9lu/j4chsFBl38RIxy/dMPr9ZRz3SrcKeePeg2pHZu6Kyraubcho/kI7Q/KjeS3AQaHDLnuifVF5rzID8tQ50NqM6JLJC48RFxTqQ8A5BAN5KznCYRQFwyL9SUkZrs5nZzzjLXmH4qcyKZ25mxfU7OJWvu3seBuJYvnlHbkV4Aecr98RjFHhliPiQmZp6L9KNbD4xYsWsjeG/7DwCAZx2Vs9w8UtdVaQo7bkgdBz0RWQcS6+SHxdE9pJY254X2hOTV8nkAYCwWu/MWADgWdwGArJjOfJcInwDAG+sRABgAaIjjAMAAwG7eDgDEcz43ts/JuWTN3fsEAMLYIyMAkNVG8N4BgHxtAwCZL6A1Ft8NAIzFYnfeAgDH4i4AkBXTme8S4RMAeGM9AgADAA1xHAAYANjN2wGAeM7nxvY5OZesuXufAEAYe2QEALLaCN47AJCvbQAg8wW0xuK7AYCxWOzO25EAUBYXJeJMkVDvI8+5A0JPzq1TJIjwkvcgYqvMtzmnEAgBNR8JCZTQn9gTuxEr96x72OwtAMZI4IIGWTZWZ4ojAkTIWiqBpXxENvHKL4AobL5b9sQVxOq5jRgUQrme0ffko6t1PH7dH/XMwHru37MfbUMBQAnUlbAW/iXjT8RB1y8IvAYNiNvguHEuY1LEAclT9Zq6P/VcvkdXl+tofODNNuo1DTwuo/GReu5f8bsac6ppkXEMzqFSgFfmLGffTB9x74PelXxX5SYRV/KegzU7qRFmYyhzpFlfEHQ1G1uZlw+YL/quOcfbGDLvTORnEkPyelL3yV5MrK0bE05szfguWWOZb8kPFa6PH5Rn7bzj5hqSU0CuJ346lStHOXAm3ib2TV1T80IAYCwWu/MWAHjdbe5HBQLdAxTnOt8AwOsAwN7eAh8JAAwAdAS/3eAA4R4A2InjAED23QDAAMADhsw7E/mZxJC8PgDQjtV6TQAgHwGAbN/UNQGAsVjsXlkA4HW3uR8VCHQPUJzrfAMArwMAe3sLfCQAMADQEfx2gwOEewBgJ44DANl3AwADAA8YMu9M5GcSQ/L6AEA7Vus1AYB8BACyfVPXBADGYrF7ZV/FGYB2ATWLXfM5OM9GFoxBw62KhRQ76nwOUKiJiCBzIKKDABoiyqYKsXsfU9QQn0LrWUbTsPd8vTyfwI7baLKaMzhVAw2EtdzDiTnLuClzeP7DbTx9/2odFdw00K/AoCcvt/H83et1KLij5tBcU/2l5jgFCR2hD+KBwH15Th0Q0w6AujkfFzCQfNoAwAJxCfRVYLB+Xs/9e/7O9TrqGYAVTttQH+zp2TXRzJOHPHOvoSd1kGgB87nuHIhfu76M1oTomqPWQcyz+wOmu5ZEs4D7T93HBNgybk2NYK898EH3BwCkK4E+UrXM8lngFzIfTsQJikOyHuS9xBojPTXxjkgzkhogxlEgfOi/JBeAdSW1SX6X5PMyAgBjsdidtwBAUegDAOVeBQBenwr3AEB7zkS4BwBqn2vuHwAYADjIk4c886afkngOAMTjsHUQ8wwA1APtkbv2wAcDAP04QXEYALg7AgD1CACMxWJ33gIARaEPAJR7FQB4fSrcAwDtORPhHgCofa65fwBgAOAgTx7yzJt+SuI5ABCPw9ZBzDMAUA+0R+7aAx8MAPTjBMVhAODuCADUIwAwFovdebu1MwBJ8nWLLxCq5HPV3PdEKBJSQLASIYiKvLg/Aa5ovYkgFteT4tusp9pbAgOFKFPXE7GmricC2jmnhjSjroAnIgsJMbInE01Z813RyNSYrFCmwponr8r4SIwKAMt91Ll/zb6AtZV+TZqEgdi2RTvwY+JrrlBGeRU0I+q5Fb5ViFv3VvpCuUYBY+kjBRI3/mLuF2rKzEbVWT8yr5nrm+arnOlK8qd6V+Lj5HNUW0FskxgmMYHmrOZm+sgIzJPcgWo4mJcdGzP1X8xT/dCjwJcdK6T2zcQZ0Cxkj4i/D99XaAR3/ZSvK9+V9yT1WWluUavdOiXXnuT8CR8hvk/8F10D+gHHd91cLc+hJjFpgvIAwFgsductADAAkAgKcn0AoBYXZP9doUQaWRQPdQQABgAawh7lVeVrIN8FALLYlfkZzGvm+qZBCwDcb0LJnNXcTB8JAGw/DwDsrA/IH905BwDu63ISB2bOIjlUzYH4L7oG9AOO77q5OgAwFovFDrQAwABAIijI9QGAWlyQ/XeFEmlkUTzUEQAYAGgIe5RXla+BfBcAyGJX5mcwr5nrmwYtAHC/CSVzVnMzfSQAsP08ALCzPiB/dOccALivy0kcmDmL5FA1B+K/6BrQDzi+6+bqAMBYLBY70A49A9AUtapIKFGGoAwoNqrRH52DQootAjcTjQmBC6pQuvDALvhgzlL01bU3xZ18rlj/+ix1vpuEdAOR1ZyDUhriF98vo5wvhkAmaVLLs5B/EREJRCcRuGQ+dR0qiHn23jYa6CPGxY8v16HgjjrfrTnrTexLs7+kYah+B2Cc0xy5DZE9VBMJcrXd4NRmvUK/egakAMAV7lUAWD+/+MnlOh5db6M5D/CDbdR4rQBQgYSpxspooMj9iF+4P4jI+gnmNoJRe3lB1YWZRtJtXt1a5tZQklPkPYl/dK5HMQlqk8wXZl1AOov4OIgxtK5kP4GvSQgB6rK9t0oTgR+2nLiR8WzGmIwlM4Zl7qixRH50dfdk5pqJfDGVC8B9UGyRWB/lBRUP4P3QOeTgnVR9CQCMxWJ33gIAy/0DAA8TI27TFAB4hpCp6xcAGAA4ikN3BAAGAPbuHwAYADhYG7cuIJ1FfBzEGFpXsp/A1wIAd/YnAPCsfDGVC8B9UGwFAAYAxmKxb7YFAJb7BwAeJkbcpikA8AwhU9cvADAAcBSH7ggADADs3T8AMABwsDZuXUA6i/g4iDG0rmQ/ga8FAO7sTwDgWfliKheA+6DYCgAMAIzFYt9sOxIANuBJJeUJUSPP8SjJXYkTIgZ7zSyBkVLwmeJFrR9qQGpREw2FFFlAcJP7SMBRrpcNtFhDV6wpUUEaKwJo1DW9886IyKvX/+lfbAPBJeFTjR+Bs5Lcd50SjkAkVuBSoUwD+yroed0fT9/fhgI6LsxAeaq8lzoLr3s9gaZkLuC7Q9G+Nwi0NtepmVu5f4W1Cu7VM/3UuPj4chsFBjaQuMDGBvoVIKlgINojEDdyTQYg1l37o/yb+KDMBeTHMncOwMdR3DgN7s0ml4AN8qObimPiO0qrOOtENIsCyWDN3BiQ6+fGEpkbiVWw5ypvSl92Y2gmDoA+GeYO8x5ER6pB9Aj50Wpqn4FPkfUhP3gj0ApiAn0X1HqUvzrXyF7J1Orqenc/iW8GAMZisTtvAYDluwGATOiD56r9DADUaxwAeB0AGAAYANhbkwDAw3INipsAQKZZAgADAI17BAB+8S4BgAGAAYCxWOwPaQGA5bsBgEzog+eq/QwA1GscAHgdABgAGADYW5MAwMNyDYqbAECmWQIAAwCNewQAfvEuAYABgAGAsVjsD2mHngEoEjEpAERs2oJuBkIOCntTpFSzUN5PFbXmc1XgxHvI8+uAKHSLIxJB5hk3UqCRZgoU8Zl5EgHY+xytn2oWCDwmewhiT0Fi5ddI9JOYBKP6dT0DsDkDrsCgeh5cvabCIwX91Du6IhT5Y3mWgkdWc0HWHgBg0mjIPAxiW+2tbIgFDH7+7jbqPiu/ePymP+r1EvqJec74tRsfMuaMxk4+E+RVd+6uz6L3nviuva4z2gDk6KPyJrnPSFdMrQHJHeC79n3Id8k81dqXmCBgk9RQpLMm/IW8ezN/8wev3v2RJjPjROYm8k6khhMYCLQbynHgu0i7FUhIfhAm8BPlNQJRCQD8Mk7UOa5g7d2cOZPP6wgAjMVid94CAAfFELxTAOD1ibhEoi8AkK0xaBbc2AsAvA4A7DXHbh4Gsa32NgCQX48aJCcmAwBxLkPaAOToo/ImuU8AILxG5KwAQH3/AMDOd8U8AwADAAMAY7HY19ICAAfFELxTAOD1ibhEoi8AkK0xaBbc2AsAvA4A7DXHbh4Gsa32NgCQX48aJCcmAwBxLkPaAOToo/ImubvccxcAACAASURBVE8AILxG5KwAQH3/AMDOd8U8AwADAAMAY7HY19KOBIB1uGLQLmSiyNrwaCRC3GJLngOKql3wJ86Xqdc0ja9aT9C4KwBAzj5xh1wT0pyKJoGAxO41AOKR/Z/yOyJSSUyq+RBxacZ2c03xr3p2X4WBFfRUoFOvkQAQrJsapDFEo/PuZM3IeruNGHmWbHBJXL1VBmhqag5SAFCdB9iA4XpmpIDEz9+5XsfM2ZBqn+UeEf9Se9TLaSDvufnNrV9uc0/m6eYycn/yXfu9iL/UmBBxQN7Xrem9a0idQvV2QnfY+wbmg/IR0CCNZlFazM3LwselHjBj3dUPpAb08hGBqW7dkT5C9IiIPQKe1LsSIC1jHryj9C/gU3bsurkMxB/xteF6gNh238nVxOrHvQDAWCx25y0AcCAMgJCynwMAUAAgH0QEo8YgAJCJPLPxIfNXoiwA0F9v5AvmswIA94fbQCH/UnvUy2kg7wUADvZw5r0CAG3dYe8bmA/KRwGAJ7VPXRMAuBNjAYC7vjZcDxDb7ju5mjgAMBaL3VsLABwIAyCk7OcAABQAyAcRwagxCABkIs9sfMj8lSgLAPTXG/mC+awAwP3hNlDIv9Qe9XIayHsBgIM9nHmvAEBbd9j7BuaD8lEA4EntU9cEAO7EWADgrq8N1wPEtvtOriYOAIzFYvfWbg0ACrEjxYNZNJvPRRJ3RVbvvCwp4AGgI8Wrzqs2vnaDAIQmKsSkKJN9I+LCbV5UoQfPIs0AEtBmYzMSnVN7CBpWBEQJtFSfE6AHfE3FYT2j7dmPrtahgA4CgEK4oz0Hvo8apFFcTQw1dxfiuaC6abhAvmvyrRh/8t1t1P18+sFVd1S/qOf+Nf7y/jYafymweXRG424cg/U8JC+rnOn6iPsebo1za40Zk4cNUYtRHRQDQQVT+6icS9bTaaxnQIMbD/LzkgsItCa5esbvyJ6Q+djxX66ptWwmd5NaNvRREqsCEk/lCFJ7hU4hPQh6LoD+CBKT+CRxae6nW5tILeld79Yad51Gz9+7XuXSAMBYLHbnLQCwL1QCANn8Z4QhEoNKfAUABgAGAI7XUswrADAA8Oz3cGucW2vMmDxsBADadcHdc+J3AYD78w8A1PMJAOT76dYmUkt617u1xl2n0fP3rg8AjMVi99YCAPtCJQCQzX9GGCIxqMRXAGAAYADgeC3FvAIAAwDPfg+3xrm1xozJw0YAoF0X3D0nfhcAuD//AEA9nwBAvp9ubSK1pHe9W2vcdRo9f+/6AMBYLHZv7bYAIGmyVYIm50S5IkQJ+qbw9RpYo9CdM4jQlM06EDWy+BNhAsQIEeVk/0mDQRqSRhwLn7L9BcyzB5ol7DBBGQJWBMSpOYh5uoJPrR9633Kf+t0KaxToufjx5ToeXW+jng1Xz4/74+9towIm2cBMCO4mzkRM96CDDW7Fc1CDM9OMqDVTfgfODKvvUuO5+oICfXX/q188+MXr7nh0ebWOev/63GZfxI9N7v6jGiD2ZfUdVSdBnKPaZH7Xfm8CI0DuIDGpahZ5dzk3cAYYytdgz+19UQ3yl2sA6uERzf+eRkDxQ9YM5Dv0g4eIbRfuIT81c/TUPc1cIzXdYH9QfTGvUXmExLz8AwCgrslnifiXemoi/5L5kNzh5hc3B7m+9uWw/2ADiGd3jur+AYCxWOzOWwDgNgIAWXFEYtEUI6ToBwDuzD0AMAAwADAAMABw6O8BgAGA3T0JANzdryGAIvXFvCYAcH8+JHe4+cXNQa6vfTkCAAMAY7HYH9ACALcRAMiKIxKLphghRT8AcGfuAYABgAGAAYABgEN/DwAMAOzuSQDg7n4NARSpL+Y1AYD78yG5w80vbg5yfe3LEQAYABiLxf6A9lWcASiFEjgbRCV0VUjImW6O8LAbOzGmGnRzDkSYIpElCmhTfGeEOxELQGQ1+69Enylq0Hw6/qvmonzU3nMgjoggJkKpAQzgTMqjRG2FL/Xcvwp0Lj4u4yfbePjTbTy62kY9J7CBgeJsQOULCtI5wlfmIBDn6mw61DiSxoT4FMnt6hlqPmLtGwBYAHCz5z97s41Py/hEjHJ9hYfVR+p5gAoGzqzz2T7yl+aegEYW+Y5ZU8jcUC0ANYhcL+uyWm+1JsJnyf1RfTTnT+qyk5vIvqka60IB5Jukdih9QfSXuW+qPhLdJ+sm0FxuvMr5CMg5gn7Nd1XdA/tA9Ii6p/Q7EYf2j+JqbQQsl7FXPrfrBckXJN+Zuaz5XP3gDPqEXqzI2ANzQX4J1sP1kQDAWCx25y0AcF+IoUJDBCUoguRzMge3WSOFnTQaqMEhTV8dAYC6GQFNARLEap8DAE98IQBwJ6eoWFJxJZq4+nkA4I6fkD1RdcEECm5NIXNDtcBsDF2AItcbNKoBgHDuM75JaofSF0R/mfum6iPRfQGA7QgA7MQ/yRck35m5rPk8ADAAMBaL3X0LANwXYqjQEEEJiiD5nMzBbdZIYSeNBmpwSNNXRwCgbkZAU4AEsdrnAMATXwgA3MkpKpZUXIkmrn4eALjjJ2RPVF0wgYJbU8jcUC0wG0MXoMj1Bo1qACCc+4xvktqh9AXRX+a+qfpIdF8AYDsCADvxT/IFyXdmLms+DwAMAIzFYnffbg0AKhEHRB8piEgYiqSPhNKgsVdwhAgNCakmhClqrJQYnRHBqkCrdVACGjQMSAAIEUeaCiKmJGwczVEJkAqsiZABQpDsv7veSPQDoadGFcoVvjTQpwDACnoefPZ6HfXzComefHS1jhdvX6+DQD8kuM33tXwa5BEk+FVskKaGxA/Jz+C71RfqeY31TMcK8Rq/KAD4wS9fb+PXr7ZRzgB8/PpqHc/eu15Hc04kOQMQ1DiSj0gOHfkCyckK6BOfIvd314Os5blxtXfPb721DbQPIA8inwc1141dp0FXcX4becddPxeIklopn2XGp51Pwd5KDaCuB/Eqa5YZT/J9O+/tgiy0n+BzGdvgR0u0fm6tBDFp/4Ax2gf4I4SdW0nuHoBf+aOlmcPJHxipe66eW0eT/8s9AwBjsdidtwBAUTQDAG0xKp8LhK8rBuQ8AwDR/tviKwBwX6AfACpQ7E004gGAAYC93BsAGAAYAMji086nYG8DAHf2E3wuYzsAcNfvkC+Q3B0AGAAYi8W+eRYAKIpmAKAtRuVzgfB1xYCcZwAg2n9bfAUA7gv0A0AFir2JRjwAMACwl3sDAAMAAwBZfNr5FOxtAODOfoLPZWwHAO76HfIFkrsDAAMAY7HYN8++6jMACahQ4EQKNFGkpFB1hAco5lPXKMGq4BERza4YNd9FAcyjRCcSxKCBlg3AhD/K9R/Ny4QvZO5ItLvrYd4f7UNZpz/57jbq2WrqrLdH15frqECvOQ9QnA1YYVAFPc/fuV5HfS4SxyDvKD+VjVvvniQvKHFcYwlAPHvPSQyDxkr5wosfbOPJy6t1VF9oAKA6DxDAwIc/f7OO6nfPf3i9juacyOrL4nwnOzedWUuQX6h7uP7tNv2qZpnXyPpF8ra5JypWSd2044ysvxmj5P69OcofJNVzZvZNxIBc7zIfsicEHiKYCmKLxBOqre6eu9pwQkv0zjlUMUz2kOhFmVdBbDf1xTwvV9Uv4kczuYbUBRRzwE9diIrimOxvL+eD+oJqE/BvNS/yhxACAGOx2J20AMBBcRSiShb5AMCTfSaCS4lOIo5cwT3jjyORLa8NAAwADABsG7QAwLPyr+UXAYB4T1SskroZAAj3TcRAAKCx5642nNASAYDMj2ZyDakLAYA63oh/BwDGYrHYDQsAHBRHIapkkQ8APNlnIriU6CTiyBXcM/44Etny2gDAAMAAwLZBCwA8K/9afhEAiPdExSqpmwGAcN9EDAQAGnvuasMJLREAyPxoJteQuhAAqOON+HcAYCwWi92w2wKA6owLKTzVNR0BsiskxfVE8I6EoyzIbmMlhJoSIFKIgzmrNXbFZSOmSJNg7nkjAMD6uxCSvLv8vN5nIFTQc8T9yLsSsEIEpd2wAMGlxLEEPeUsvmc/ulpHPetNAsAK+j55s44G9JRR7/P83et11LPeRrlgz99nGpVhU2D6t73PB723bJREc1d9oULZBgBfbqOBe5/0R7Pvv3q1jd+93MZvyyifKx8hZxihBnOigends/7/mWZX5ibSiIH8L4fyl6OeS+qUaIhJo2znBXF/WQPAfern1QdUnR2diaVyONpb8h5kD10fJPqLzAHEJ6l90o9AbKP8TnyQrA/QUw2MG62H8m+3fqm1LNcg/ad8k+Rh8Tk5V06+u5qDiDmSQ9V30R9+EP5IeigrT83EocoLpEcT+y9zuxgBgLFY7E5aAOD+kMUlADAAsHM9ek4AYACgscYBgAGAvXuSxtRt2gIAr08Ahlu7UfwHAB7ngy6kmIhPUvukH4HYRvmd+CBZH6CnAgD78RMACMYRcajyQgBgLBaLzVkA4P6QxSUAMACwcz16TgBgAKCxxgGAAYC9e5LG1G3aAgCvTwCGW7tR/AcAHueDLqSYiE9S+6QfgdhG+Z34IFkfoKcCAPvxEwAIxhFxqPJCAGAsFovN2VdyBiAQ064IQsVXFDVS6B3BSpo5W/yZjYy7rjNFkxRQ9CwiEtUc3HVW13xHDCC41Jk3I2HX3OOtMsjZh0T8q/cD6+02VnYjI0aFhBUGqnPf6tltD37xehufbaNeI88ArABQ+YIQ8agZOMB3UDNKxDTYQ3LPJq+SHxhADm0gcdmTxheuLtfx8NM3/VF8pIGBv3m1jod//dE66jX1vMEKp+vcSK2ZaehIzurumwkayH3cfEsGuaf7I4e8P2iIyX3kOVGg9jU/2pRcb8NJsA7n7lcP8vzr/9k1qo1TvgZqh/yRWL2P0BfKvxTskABFvBe5HvmRGTdqrVy4gmJi8AOt3B+gC0kuaN61aiWSh4lvCkCn3lfVBXVP5SMz+1bXAcUK0RIz1xtD7Ymbq2eeJde4jADAWCx2Jy0AcCBOgGAiAocUI/JOZA723NQcAgB3xU4AIPTlAMAp30Ei3BS1ag9Ro1TzagBgAKDTiAUABgAOcgTJL/J9ALgJABw8a5TLAgA/j5sAwKl6oPYkADAWi8W+AgsAHIgTIJiIwCHFiLwTmYM9NzWHAMBdsRMACH05AHDKd5AIN0Wt2kPUKNW8GgAYAOg0YgGAAYCDHEHyi3wfAG4CAAfPGuWyAMDP4yYAcKoeqD0JAIzFYrGvwG4NAJKiL6AIKXyuYGjEQxXig6IyI7Zn5kgKUyNkxVBzRmtM9keJBfe79blK7ALwqOZTxRo508u9vwNZ5DWieZXNlxCp6rzGZi0F4FJ7okSq6+Pqfet5cBX6VCjz5JUY5ZoK+iowqucKPnvveh0VNtU5SOgD4vW2IcroOSSG7bkIH5cQlACOcr0CgE/fv1rH4zdilD1/+uE26jUNPPzpNio8biBxOQPwxfe3Id/X/KHCXf9eDnBro11rwP67e05yZQOk1PzNZ7kQb+YaAg9JHkf7MhG7I9+xQQ/xQZIPzRqKfIHkUBKrYm5NvQOwjtRNNU83FomGVfqxuy9kLSe0PcmBZA1kfJo6iOyh2h+kg9TnqnaDHEHqvq1JyTqMtBFYM/u7pk+5tTcAMBaL3UkLANwvBqTgu4U9AHB/BAC26xcAGAA4jJMAwADAwb3tWgP2391zkisDADvvZcKSI+pUAOD+c+s1AYA3nhkAeKLR3VoQAAi/a/qUW3sDAGOx2J20AMD9YkAKvlvYAwD3RwBgu34BgAGAwzgJAAwAHNzbrjVg/909J7kyALDzXiYsOaJOBQDuP7deEwB445kBgCca3a0FAYDwu6ZPubU3ADAWi91Juy0A6AqWGYFLxJQs+kpU9uYFhhRPtzGIiHfXBsA3JByAWEeQa6JwTwkJd53PFPzoGnPt3TVwYwnFqinQ6zvWM/okAHzZH48ut3Hxk8t1VAD44gfX62ignwAPci9MATtq1o7aN9XY2fnWhB0krlQebgBg2ZPnP9xG3f8K9558tI26z9UvLj6+XEdzZuAn27j48eU6KnhszgMUPoIad7EOCK7XGnPmeXQulEW+ThpE0bgj+CLmQCCbaojdmJipR+S9SHyQeoBqbsfnkC+acESdKyjHoJbv1mGhHVQeJHOQcWPEJz2frskj9bti/wlUngE3o9qH/FvEvDpzUeYsko/cmkX2Aeh4ollVDprKC2TfiI+TPkj9sAUA7zC3m35J+jlXsxBwHwAYi8XupAUAisLXmxcYAYCdPVHNSAAguyYAMADwTJ8OAAwAdHKdzPkBgGfVI/JeJD5IPUA1t+NzyBcDAAMAAwCR35EcNJUXyL4RHw8ADACMxWL31wIAReHrzQuMAMDOnqhmJACQXRMAGAB4pk8HAAYAOrlO5vwAwLPqEXkvEh+kHqCa2/E55IsBgAGAAYDI70gOmsoLZN+IjwcABgDGYrH7a7cFABEwqMJAXF8/t8/xMe8/Kk5S+JjNl9vwkXcloqBpuBXsMO9Z90StJfEFVxBJgeauiSnQpYAyIKIUMubzifCdem+3UTJjovpgBUD1/DV1jtuj6zLK5xXi1LPe6vX1jMEKd6T4NiGX7YM94a2eY+aumXwroQvIU7boL/evAPDpB1frqEC32f8CfSsArL7T+EWBfvUMwIc/f7OO+twGANazIYG/kPxO4qabf1SjVCECqV8kj5iwzs0RxC/sNRb1gqy3igN5H7CGbiy6ayvXfABQXR91G27k02fmzJvzlBqEaEdR29G7gPpu+zuoBwSKobzjaoxRvRDgSN1b+pcbV6YmkoAL6PU//YttNPnX/bGUrImZH6dyOlk3t76fcS2uh25OMWtKAGAsFruTFgAYADgjxAMArwMADeFWrwkAbNcQCVYzd83k2wDAAEAnXwQA7q+hG4vu2so1DwAMABzlHVdjjOpFAGAA4OS1uB66OSUAMBaLxQIAAwBh0VSNVQBgAKAh3Oo1AYDtGiLBauaumXwbABgA6OSLAMD9NXRj0V1bueYBgAGAo7zjaoxRvQgADACcvBbXQzenBADGYrHYLZ4BCMQxKRJE7KJ7EuEzEDgIcIn5EmDlimYbJNZrRLEjwkRBWfK5enf03Ymmgghi955DwWIKPiT4gWCV763OlCrPqlBOgidxjo8D009i8v9n782DbsvO8r5lMRSFoQKKcUgw996eEZIsJgHCDgYKZFNiKIHBqAAjVAJBBFaDuyW11MPtQT3fG1EWIEaLycLChCAhJhtBGkvMRKCAIEhFMziEOBFQSAzG0Pnju73Pu79vP3v9nrPO+dR9+nmr1h99ep+113rXO/7OveuWtdV73yrQqaBvBnru3YwKhiowqvfBqTsA0V1le4RiKNYBe3FjjQScbrxVzSv4vIK1aoPqPshqC7O7Aau9VFsAdwDWuwQrhJ7dE1nWaTduJkTrNipmo7wraCbvXCM2W8Ys1phNIsn5IznOfi+ICwSuE/0P+aIBZYjtSD8HeV6+C+Qpsmb04zGIj7L+GgDt0maVrQH9S58GeUKuc8HXie5dHyPxSOYscpcd2R/QsftDwj7yqdLhUB8C/EDuV9l1r2YF+iB+iM65fK7+8IOCvgGAkUjkICUAcD3xBACeHAGA2tZcXbqFYABgAGDPXgIAAwAX7S8AEMdl+70BgAGARhyXNqtsLQBQ56wAwNW8j2oD4Adyv8quAwADACORyCNXAgDXE08A4MkRAKhtzdWlWwgGAAYA9uwlADAAcNH+AgBxXLbfGwAYAGjEcWmzytYCAHXOCgBczfuoNgB+IPer7DoAMAAwEok8cmVfAJAUOwquqUEabrdo7iWvXTULbiJz1yuLbPJdUTSTwh01teD83aKWNFyymBrQee8Z1KSQuZWOyd06ZkHk+hWxQdQEiHWqO+DUfYCzz8t9cFfeuRkVKkrIqRoD0FSMgMFeQY6AnrCX2TwC3KKYRWwTxEHpn8Kur7lpM+p5VrhXAWC960+B4QoJFRgmcArFKWVHyg9EE7Kkc7KWXcURe04Vd3pQE8LJneVTs3YgeZPEVtfnbOjqxmIjnssfHnvQ8TioJvlRzD9UCwD9KT8k+UL6h/JtpatqmwRgmgPpYeFzpEszHiI/MWOvjLGk9jHtEcW4Mv/IeaLYAfK7HY+21KFtI0B/KGYKu3P1HQAYiUQOUgIAxToDAPWcqsAFRaQ6/6GiIwAQFbs9Ww8ALPsKAETnGQDYiVMBgMg2AwA7eg4ADAAMALRir4yxpPYx7RHFuDJ/ACCbz963su8AwEgkEpnL3v4KsCh8dlawgDntoq+TpPYBx+zmBSTEXf0xfwQ1yPxk/WZhajc4ZqNHznGpiEN/rc2Eprat1UZDFJrybEGTNQPz4F9XJIVyLdAqALzqts2ooGc2CsSZ/TXO8tdHZ3+Ns57RwF9nJEWw+mtiTqyZzUF0KZ5x7Z74EinW3Uajnkn9F3irLcwgXhkVAKu/Dl6/q2yE6JP8dXm34XLyJvoriLv6a8IKXpCYYjZict9uzDdznzor0qzL8wfvdecn75qtf+HHVBLTkO0qWwMxQr53R2de51R52YUNJCeSvbg/fiI7VRCa5DLwg9di/DdrNRULRuxbDlDjSN2S2FFjMfnxwMzRSm/E3sm5POnazejFixN/GIP465Y+Q+I/qiNUDjLrkQDASCRykBIAuP48KdoCAHmhRIp+t6hE9iP0gworAHcefjYA8KS+ZZNV3xUAKM85ADAAcOkcAgC3HC5YCQBk9VMAYABgZ98qFozYtxygxpG6JbGjxuIAQBnjXJ8h8R/VESoHmfVIAGAkEjlICQBcf54UbQGAvFAiRb9bVCL7EfpBhRWAOw8/GwB4Ut+yyarvCgCU5xwAGAC4dA4BgFsOF6wEALL6KQAwALCzbxULRuxbDlDjSN2S2FFjcQCgjHGuz5D4j+oIlYPMeiQAMBKJHKTs7Q7AkcQKnkcNLJgTwbJO8kdNzR6Kwl2BPtXIElCF5lQF0UBRI8/CaKC3sqPePK7+xNqlDsDdXbNnzDvIkJ7U88pOCQQre6n/0mq9l039K7AV9FQAVMFQhUcf9tLNkGck/Iw0GN04Yg61LrfgV8+MgEFSuJPmgsQR9a9D1zsg1X2QFQDWewKvvOPCNCoMrDaobFPCsh2dV8/PiO26dlSfl4CxfrfEF/ljg4pZYp0yHxE9gcaTnAnJBWRtBNKi+shcQ23ul2xgqI5w41c5/9m/wEnyiLJfkTddeCzjuTpPAEfU+ZCaDtUsIqfP4jgATOTHgS6cBnGE1C9uHkHxlsTHgfUP6cFdG4GipB7cQwzqftf08xGdoRraHAGAkUjkICUAMAAwANCwo948AYAn7TQAcGiQxkf6CfClAMAAwKX3BwAuDNFs2jo046+7hgBAf84AwJO6CgDU6x/SQwAgeqerswDASCQSgRIAGAAYAGjYUW+eAMCTdhoAODRI4yP9BPhSAGAA4NL7AwAXhmg2bR2a8dddQwCgP2cA4EldBQDq9Q/pIQAQvdPVWQBgJBKJQNkbABxIIrIgBcU9SZRWceImbTepgmbEbhbdBgcUL6TosHVCCn1SuJtFvH0WZqO/dfMCClzXHgnckc1CLf7FviS0Ls/Mmj6w9wpZ1L1vM9hz72ZU6FM/v/Jlm1GhorwbsEIftf6yZgkJhc4XGytS2IMGQd3FhQprEEtHfnhA9ljWX2FthXXVFirQq6Bvdh9gBcYVEpc7I6+6fTOqjZCYggCTanjd2LBtnFTNUflcQQSZJ5WtCdtU51993mouod2hfKpsFtzRh/IXaFRlPhr4kXHpXbMzAfe42jmf5EmSe4V9IZ80fZXUnWTNszhfQKwLg1H9Ip5385HjZ6geUdCXxCaVL0geVLYj9op+3CP6A3VBHbMfksC5uWehajcCA8l71b568UD9f2U76gxd33Btvc4fABiJRA5SAgCXC4YAQLaXAEBd7JCCJQDw5PoDAFfOR/l5AGAAoHHO6j0BgAs2GwDo53ySJ0nuDQBcr1/E8wGAKz4D8lEA4Pp7AwADACORyKNcAgCXC4YAQLaXAEBd7JCCJQDw5PoDAFfOR/l5AGAAoHHO6j0BgAs2GwDo53ySJ0nuDQBcr1/E8wGAKz4D8lEA4Pp7AwADACORyKNcTgUAksKQJGjVoI4k7k5RaRf84HlbH2QNYN+kIHLXpopmVPSreVRBZ8JdWdyrfYIirvsuUpwpnRGQTXRZij/S0M/WIIov9/xdv6njmhs3o97jN4N79a63cgfgua8rQ9z1ds1NF6dRASBpZpDtmEBtUR8EEChdkgYdFMRuPJLFPfm8zFPPhNwBWc/87Cvum0Y9/zPfeO806vMzSHznZswgcYGQM0jsQpkdxdNeY0/AHQJ9bpPl2tFAfN5V3lR+K9dG8hdZZ/n8yS/YjCG/BO/qxV6SexHEV7YJ4tHiD7ErcdCNO8imCNh232uu3z1bO9dv+TmxUekbJAeZZ0V82LUj0mu4+yXzkx8bkA8t5IvV9YC4j3x9QVdujUjimzpzcj7u/AGAkUjkICUAcLlIcBoKuwFx9UHWEAC4qucAQFYoBQAuxJEAQD8Ouo1ymScAMADQAQAjeVP5rVwbyV9kneXzAMBj3w0A5PYu7DQA8JjOAgADALecPwAwEokcpAQALhcJTkNhNyCuPsgaAgBX9RwAyAqlAMCFOBIA6MdBt1Eu8wQABgA6AGAkbyq/lWsj+Yuss3weAHjsuwGA3N6FnQYAHtNZAGAA4JbzBwBGIpGDlH0BQLsoJwXAQEHsFlDWGlXyHyi2ULIjiQ8UIO7z6rukCVKfq/tx3EZipJEkdqqanyVQpu6+UYBOrdcFhq5NIT8BxRRqDMXdQBX61Pv6KuipcKeOM99072a8cjMqAKogUd4BKO7lsX2XFOsLZyGLdnHmdoFL/Bzcv0OKb9c2Z/f+EVv4+vumMTv/b7lnM4otnPnWezbj2+6eah+4EAAAIABJREFURoWB9T7ACv2UjUh9EqAGnpcNbC9eibiKYpr6AcDcExnEFoitkfmR7s2cSOI10ZvMKSTPkni9sF83L8i7+MQ7lU25+VbmffHj1AgwJHfeEr2h3EF+4AG27OZ6okPrLFzQSOpasFc3Bo2szfXz+jmpa93cLWOZaQskp4/46NI7SX+092H+4BUAGIlEDlICAJcTurVGM8HZa1eFUgDg+hmC83KLowBAbb8BgOv66dmj0qVbnKPYq/w8ADAAMAAQ+QqJ1wGA+rsk38q8HwC4Oj9aWwAgWpvr5wGAx9amYhfx832MAMBIJBIJAFQJ3VqjmeDstatCKQBw/QzBebnFUQCgtt8AwHX99OxR6dItzlHsVX4eABgAGACIfIXE6wBA/V2Sb2XeDwBcnR+tLQAQrc318wDAY2tTsYv4+T5GAGAkEonsEQCOJHSzMFHJrgv0VpJ7LyG7QMxO/qSRIftQBYuYRxbBoIgghZjbrM2KKQXLgF1I6OYUMit66K7XtF2pG9WgExshBZyy6wFbkPML6HP1+c2o9/7Ve9zOfPvdm/Gvy/jme6ZRIdHsfrdyx6AEgMKnyd1QTnypscSOUSRGAP8n8RZBKgGMUANQwXA5h6tuvzCNetfjDPqVMz/zqrumce57XjaNy/7NZszspdjU7J7IYiN1PRVaz+4DBPDIPkfhK0tzk0ZcNawkr6Gm1pxT2pEJ+tR3pd+KvOCe4a7WKaG7eb5ObYCeNecmtiv1JOyFxDgXWOxqj6QeIXtBNRSJxeY8s9wg/GBp/hGoRfKLrCl68XCtBgE/ZuzKLsi+VJ3txkeiZxJ/XTuSOlnQz0i8smto4gNm7ggAjEQiBykBgGJ0klQA4HjCJXsMAFzxjQDAAMBejAD+HwAYANjLawGA6+8aWWcAoLYXEuMCALebZ5YbAgB3ZhdkXwGATK8BgJFIJLInCQAUo5OkAgDHEy7ZYwDgim8EAAYA9mIE8P8AwADAXl4LAFx/18g6AwC1vZAYFwC43Tyz3BAAuDO7IPsKAGR6DQCMRCKRPcm+ACAK0GbhpgouBV1kgUaK1k7ikI0sAZ+k2FHfrY1ybUBBYUqStltcuAW6WgOBpaiRVPaizkgU6K5OuvYE1ovsUsyj7J40tarRV/ZOnpd+AAr3atf1Driz33HXNC5/9R3TOPfdL5tGhTsVAFaQdPUtF6eB7nQDZ2H7wUKjr/Q64nu94nytKSQxCEF58nkZ9UyuuWkzKgyutlDPv4K+K7739mnUz89+553TqHcAVkhcbUTBQGXLMqZU3SrQo5qWBb2RO8ukjaqGGOQm6fMC9MxsGQAu2fSp5m3A1lDOJU2zOSepGYhfurbTs0sy5D7MGkftT/5QadYyri2Qs1X3+u5q2Psy/UDaiPDFpe+SGtut82x9CHtB+YvUi3uwNbIeF2wiWzDtgsS+bW3aHSQuuOcs1yl0HwAYiUQOUgIA15Od+l4A4En9jBQRAYDQLgMAAwAN39tLwxIAGAAYAIjOivhlAOB8/gBAY1+mH0gbEb649N0AwO1sjawnAFDvLwAwEolEdigBgOvJTn0vAPCkfkaKiABAaJcBgAGAhu/tpWEJAAwADABEZ0X8MgBwPn8AoLEv0w+kjQhfXPpuAOB2tkbWEwCo9xcAGIlEIjuUUweAI4l1JNmZhd5i8lLJkOxpoLDeVcFlr5MkzQ7UoIWGXYwAsGUPU+dLa1ZzI1Di6hvoCRVlJvTt+cxqoakK3Gqb5ZkKAOv9btd8//lpXPma26YxA0Mvv38aCgB+2Es3A+nEhXRO7FMxyoQjM5utkEicrbLZWbOr1l4/J2AYxPz6TD2fep6XvfqOaXzY/3LLNJ74gzdN4ymve+k0qr3U+wPrvYL1DsCZjZR7IpWdSt0K23H1uQQe0A9cAzFZ+oAAfXW4P5CpH7NQbDefma1VnaHYI4ll6PzNnEtiLoJuW+Zk8kPPLAaBO+WkrQ3USsQ2ZZwFtYayHZIr5fzKb8yaBeV9Va8Zdid9e6Au6NorPH9UawBfHclZ0jbNeXa2TqVDAPeIvffiLIrb6p3kR1azfiVxrT4TABiJPLblTGvt/tbaW1tr72qtvaO19vOttetaa+8L53haa+27WmsPttb+orX2B621H22tfQH47oOttYdaa88un/3Upc/Ow/cvSgDgeiIjRdtIEibfDQBc0H8AINKTXWSRcxgo9AMAV/wPFLgBgAGA3eZFrdGMyQGAJ/dIYhk6fzPnkpgbAMhsU8ZZUGso2yG5Us6v/MasWQIAmX8SXx3JWdI2zXl2tk6lwwDAAMBIJLIqz2it/XE7gm1L4zdaa5d35ri5tfbXK3O8trX2Pivff7AFANqJhBQPvURGiraRJEy+GwC4oP8AQKQnu8gi5zBQ6AcArvgfKHADAAMAu82LWqMZkwMAT+6RxDJ0/mbOJTE3AJDZpoyzoNZQtkNypZxf+Y1ZswQAMv8kvjqSs6RtmvPsbJ1KhwGAAYCRSETKU9rRn/h7qLX2p621l7SjP8n3Ka21b24bgPfW1tr7iTmeW557W2vtOa21p7bWPru19oby/757ZR0PtkcxAFQBWjaz5iDFqSp8ukACFBek4COFDNoHKCKIXlGxAAoBUoyoZK0gmwPcVhO6WUjOzlSBns5ZjBRVbhHk2r26MwwVXKBxIAUXsbUKXOq9b1d9363TeOqPvHga/+DHr5/G2e+6cxoVGNX73eqdbioW1DUoP0Z+L+LgzO8XAN3sPSrWAFsjMNAdqElRkMC0l3oOZ7/hvmn8/dfeOI2n/dgLp/GMB75qGs/5+S+Zxke9/iXTOPPtd0/j7L+6bxoVElcbmdmCyiNmc4fOsWdrI83RjuKUslkEJx1gtRa3Tf9EOc6MXzZ4ErnGjZVoLOiE5G13bhQjxL5JzCS2RiCFm+/UHpGNE5sC+lc/NhEbJHsnY6k+Q7HLjDXkcxKn0HpIDBXzIBBK4j+ITa4+lT2SOELyh/UupZt9rGUkZor1BwBGIo9N+cl2BNn+qh2Bv+NyfdsAvJsX/v8HtNb+6NL//53W2t859v/fox396b+H5/hEsY4HWwCgHAGAvl5R4QCKLFLIqiQeAKh1SZqUAMAAwADAAMAAQM8/UY4z41cAIIwRAYBb6T8AUNugilNoPQGA6/oMAAwAjEQeg/LUtgFzrxTPPK619uuXnnlHa+29jv3/CgjVXX9/r7X2Xy898zrxzIMtAFCOAEBfr6hwAEUWKWRVEg8A1LokTUoAYABgAGAAYACg558ox5nxKwAQxogAwK30HwCobVDFKbSeAMB1fQYABgBGIo9BeVnbwLuPW3nuxeW5Tzv2/9546fM/aa2998ocP3rpub9oy3+V+MH2aAOAIpiSokmCDZDoSZNL1tBNRmaD4CYj8i5ZgChAo0Cs0hlpDMi+VHEMCjG3OSE2ggoxMP/S5/WzpXu7VvVR7RgU/KTIksWrgIGocBO6Ufd4IRBfPq/znP36+6bxuW983jTu/D8+fRpf/ctfMI0Z6Cl3vV1x94VpXHPzxWnM4I5qypXNVj8DdtoDRgrWqSbMLfLJuuR3AewaAX11/nr+9Q7ACu6e/0vPmsa1v/z507j71/7xNF779idN44ZfeeY0nvADt0zjzDffM43L770wjavPX5yGBICiESNNjmqiZdzpxEfpe2BdyKZBfJY+oHI7sC/0gw6wNQKS3LxD4rJcg5lbd9Y4G2dFcinxf5RLgS0P1SbAXlTORT+oAhCG6iN3Tnd+kht6NgB8DMUaZV8mlCO1iXpG/fBM5ic/VI/ELDUP6o/InMQudmGDIKa4vo325D4vRgBgJPLYkwfaEWB7Z2vtPVeee1rbAMBby+fv3Y7+6vBD7QjwrckNZY5PXvj/D7YAQFSQBgDqxBoAyIdbSC59FgB48WRjEAAYANhZQwDgQtwJALQbPRWD3AYQNaHguwGATH8BgMac7vwkN/RsAPgYijXKvgIAV/cSAAj35D4vRgBgJPLYk//cjgDbmzvPfWDbwLvXlM+fWD5/eWeOZ5Zn/6eF//9gCwBEBWkAoE6sAYB8uIXk0mcBgBdPNgYBgAGAnTUEAC7EnQBAu9FTMchtAFETCr4bAMj0FwBozOnOT3JDzwaAj6FYo+wrAHB1LwGAcE/u82IEAEYijy15n7YBcj8Enn/npWd/pnz2T8oc13W+/zHl2bvcxY7IadwB6A6UyEDik4mJNCS94kUVMqQIdgt4URyhO91MfaBCQDTrSj+kYCG6QrZgNugEWlhrJo2VgF12EWQCKGR3CgaQ8yEQVwHAsuZ6/1q9o+0rf/ELp/H6tz9xGt/8G/9wGp/90185jTPfcs80Lr/vwjSuvvXiNNBdbwAeyCZBwPX6fA8EyeaoM9+Jpkb5BoCd8jzNtdnNYBln/vXd07j9Lc+Yxjf+xidO44Hfvnwav/97HzyN1/zWR03jY3/0RdM48633TOOyC/dP48o7LkzjCTdcnEa1l+q79Zm65pn+6+fXbobUs5M3y/dkTCGxQ/14pAAQyCnku8Q2ZRwciOFuDlK1g8wp6r1mfpR7NKFLN8+DJp/kYbUnBFnAe0lOQb5E3kXqERIHQTwl/iTrRLOuIfXR0nulH4LP0TtVzFJ7BfMgkEX0TfS6qyHWLGsK88yJH2ydj9ScIKe4P367dueuPQAwEnlsyQe1DZD7XvD8H1569i3ls88rc3xF5/tPKM/+K3exIxIAGABIEr4qsgMA2XrVGgMALwYABgDqeBcAaDcsAYAdu1N5hORrUTvInKLea+ZHApWIbrt53my41fMBgOtnpd5L/EnWiWZdQ+qjpfdKPwSfo3eqmKX2CuYhfoL0TfS6qyHWHADIfBXtG6w9ADASeWzJh7YNkPtO8PzvXnr2beWzLy5zPKfz/cvLs9/qLnZEAgADAEnCV0V2ACBbr1pjAODFAMAAQB3vAgDthiUAsGN3Ko+QfC1qB5lT1HvN/EigEtFtN8+bDbd6PgBw/azUe4k/yTrRrGtIfbT0XumH4HP0ThWz1F7BPMRPkL6JXnc1xJoDAJmvon2DtQcARiKPLTmUPwH4Mb3x+Mc//q/bHgDgrMCt91mBoGzfcUGSGijElgo6VASTBgQUC2TtqOES8xNYNzsHUWjMGkyiE1AAoAIEFCOqkCD3tciCSzTxveIYNa9uwQoKFlQ0EegAdK90U0HJk//FZqiir8K3Ouq9bJ/3pi+fxn2/9vRp3PyrnzWNT/wP/3IaZ7/jrmmce/n907j8ngvTuOq2i9OY3Q1Y7p6rcEeBHre5WzpT0hwr/RF/ngGo4tvKn9GZg3epdc4AmohN19y0GRXW1TP/+rf+o2l8/9s+YnG86M2fM43/8d9fN43LXn3HNOp9kxUYVxu56vYL0yDwWMYpkINk3lwY6B5X1XyDtbj5a1fNrrJre21gX9LGzXzt7l3GZdCokli/+LzQa41vs7z5NcvDzdturTSiV1R3gpqC1DikBkW2IL6rfqiWNQPRs5GbXP9HdYTYH6nVuvZ9/JzJdwGcRHWZOjczBg3pFtggyk07WBvSJaif5B/WcGtlElfLnKcBAC/14b1+PRKJnIIcyh2AD9ERAHhszgDAAMCFeQIAta8GAK4XsL1CPAAwAHAWdwIAAwB7jSqI9YvPBwAGABq5yfV/VEeI/QUAdnzCrNHs9wYAnjoAhCMSiZySjP4rwE8qn4/+K8DbSgBgJ9HL+QMAAwAX5gkA1L4aALhewPYK8QDAAMBZ3AkADADsNaog1i8+HwAYAGjkJtf/UR0h9hcA2PEJs0az3xsAGAAYiTzG5YF25HTvbK2958pzT2sbB721fP7erbX/eunzH+2864Yyxydvud4lebf9FWCSOFSB6RYPak6ZBEUT6hQ1CFKqxGQmbZT8wTMkgZKClSTQescVKS7cZo0U9GROBXFI49lr5oiOSWFPzlb6ALA19DyxC+FjBJRVgFKhz9lX3DeNp/3YC6fxrJ957jSe8/NfMo1P+8kXTONz3/i8adR73675/vPTOPNtd0/j3NfdP40r7rowjatvuTiNCn0k5DJ9xSrIQawh/q/WWOOhjHHgbKWPgWag2sKVL7swjQoAn/HAV03jmf/xK6bx7J979jSu/eXPn8Zzf+GLp1HvkqzPfNJPfO00nvK6l07j7HfdOY0z33jvNKq91Hsl6/rR+Zv6WYyBJE6S5ks1VmKQfIsaU9PGSfO9s/gFco18l9LVQJ5V9zSS9fRyh5uD1A9Adjwkugc11Ihd2HOCGC1rHPA5ih0EQpI1g7rCqhfcfYCabOhMgN2hH+AGzkru16gvaa5X9eDIHl3f6v7gTt4vzkfGC1Jng3xUP89fAY5EHntyZ9tAuY9bee7F5bmnH/t/b7r0+Z+0IyCo5EcvPfcXrbX333K9W8lp/yMgMjEFAKJkNPJMAODCvgIAAwADAKcRABgAuGR3AYAL50DeFQDI5ie6BzXUiF3Yc4IYLWsc8DmKHQGA/v7M/DiS29F+AwCRnx8yAMw/AhKJPLLkY9sG7L1SPPO41tqvX3rmj1pr73Xs/7+wzPEFYo6/1zZ/UvD1Y0v2JQAwADAA8GSxGQDI/E3qOAAQ+8q2zaXbFAQABgAu5qYAwPX4BXKNfFcAIJuf6B7UUCN2Yc8JYrSsccDnKHYEAPr7M/PjSG5H+w0ARH4eABiJRE5THv5rwH/Vjv6q73G5vm0A3/mF///41tofX/r/D7bW/ttj//89Wmuvbfv5679I9gYAa4BWCR0EX7vYIUWIKiQWvqv+/wwcinvhVOIlhQAqRuu76t08KuG/aHnU9aAkC4og9V55D6FZDLiFIQJtoCnrzS9thABFBVZUYyXOcKSwQ/c7geIPFcFl/RWy1Tv6Ln/1HdP41DdcO40K/Z73i180ja/+5S+YxvN/6VnT+MKffc40KiScwcBvuncal128fxr1DrgKd9QddsTXF327woJ6f5U6Z2FHKhagYt4t+Acaq/p81V+9i3EGZf/tbdP49P/tq6dRbaGec70nsN4ZWe8MfPVvffQ06vMVElbwfO57XjaNs99w3zQqMJ7dJVnvBjSbu17MVfGF+CR6D2koyw89Mr6ARrznGzTukPUTm0XrB35AfnRTMZ3oxD277jsHwCeJFygfEcChciWxI3PNu4qPcm3u/CO53qzjujlcxS5Qa6BnTLBq5zWzfrHXbz6D1m/6IrJTd+8OXAVrd+vzbnyDNkj8NgAwEnlsyke21v6sHcG5P21Hd/V9fDsCdd/UNuDuN5v+q7vPK8+9rbX2pe3o7/N/VmvtDeX//Zt9bWJNAgDXizL1/wMA14uUAMAAwG7zEAAobToAMAAwANCPO2T9qMEk6wd+EAC4shbXXtS+AwB5rg8A9GPNyPrNZ9D6AwD78S0AMBKJ7EA+sx3d4af+ZZ7fbK1d2Znj1tba36zM8frW2vvsYe1dCQBcL8rU/w8AXC9SAgADALvNQwCgtOkAwADAAEA/7pD1owaTrB/4QQDgylpce1H7DgDkuT4A0I81I+s3n0HrDwDsx7cAwEgksiM521q72I5g37va0X1/v9CO7vh7XzjHJ7TWvqe19ruttb9srf1ha+3HW2vP2vViHTmNOwDt5mQgQdvND0jETnJ2mxGSEF2gUD+fNd+q6RvQx2zNLjxyixG34Roo6BTQkXq71IAo8KmalxnoEUUVKbxmZ17vXzT9TY66ZqUPUFipxu3DXroZV9xzYRrnvvtl0/jE//Avp1HvAKzQ75//3JdOo4K+j/ihl0zjzKvu2oxyp9tl91+YxuxOt5cuD/kjwJbFJrFd6fPAh0lMJs20jM/Kt01bqzD43Mvvn0aFtRUAft6bvnwaFdxd9+Z/Oo1b3/IZ06igr94TWUHfZa++Yxrq3r96P2G1iwoAZz9+3LAZKDd0zs7NBQQWuTFZNm6mXdRB9GTHMtM/3NxBagD541pdh/qxRw3lr8ZeVExGuRrUVfIZsy50Y4qcUwzXP4gdEbAhz820a7kvUD+Qs+76jFqvsFEUOwb8EMU+sn5gs+452/ma2PiOfAX9YQVgU90YtSN7HYJ+YH8BgJFI5CAlAHC74RZMKMGJJBwAuPCMmCcAMAAwALAfswIAAwC7ZwhiRwBgJ96JXCzPKABwZzFFzilGAOD6WXd9Rq03ABCvB+2FxO4BXwkAnI8AwEgkcpASALjdcAsmlOBEEg4AXHhGzBMAGAAYANiPWQGAAYDdMwSxIwCwE+9ELpZnFAC4s5gi5xQjAHD9rLs+o9YbAIjXg/ZCYveArwQAzkcAYCQSOUg5DQC4qzFSBMviu5c8QONDkr/d0LuFklm8oPWT4qvofgazQFGDGswdQUW1NrdJ6BbE4p3uGp13rhaFQGfVLirUUu9F/mraTm36r7r9wjTOfsdd03jGA181jQp9nvsLXzyNCgA/+odvmMaZb7lnGme//r5p1Pv9Knia3fVX1ub6HNHh5JP1PjXVdJi6t5vsHTUU6EcF8UzVfYVsV/+7W6ehAGA9/xt/9bOnUaFfvRvyU97wNdO46vtuncbZV9w3jboGdR+kykHIdsQPBb0YYNsCicnkzE2Is7Omk/gB8Df1A4ZcgwsPB/yJ+NaIfrp+qGCgOCs7z4/YF3ke6El+dwCmynW652/WNSPnv7Xfk1pD+Juqw+WPX6SOIDWRqQMXGKr9IhsZsOWdxfQ9zint26xrkU+SehfUIPX5AMBIJHKQEgDYSQBuUQOKNlmMiIQYABgA6BRKdkEUABgAaJwbiskBgA99+PUBgKvvrbEvABD71oh+un4YABgA2NMzqTWEvwUA7taWdxbT9zintG+zrkU+SepdUIPU5wMAI5HIQUoAYCcBuEUNKNpkMSISYgBgAKBTKNkFUQBgAKBxbigmBwA+9OHXBwCuvrfGvgBA7Fsj+un6YQBgAGBPz6TWEP4WALhbW95ZTN/jnNK+zboW+SSpd0ENUp8PAIxEIgcp+wKAqCACBYMsSHdU4PQSjCp2UdIhxYtKQAOFj9QHgRHlc3QOZsJ1dUX0jwordUdbLfpNcNMdoFkgxc6scAaQVTYFQMeufaFzFjqpcKSOq89vRr0D8JN+4munUQHQs3/u2dP47J/+ymmc/a47N6NAvwp0rrnp4jTU/X7oHMk9Nx17VOcw8wESA4lNq7vGlG0KH5PwoHx3BsGUfdX7IAUAvPzVd0yj3u9YwXC90+95v/hF06jQrz5ToV+FxPU+yJmNlLVVfc4+J/FX6UrcK7l4jjvyVbchsuE0iAXku3KPACQQnyTfJU2om4tHcmjNBxKikHM39jQCYlVek3tV9kLyP/A3+73ExtXeyf2KYE70LhADyI/Ajo2g8xzYB6lr3NoHgT6wTtte3DPfc9wk+nHiiMx7JDe5OWjkjkEVj8rzAYCRSOQgJQBwvcgJAAwAdG2qV6gFAB6NAMC5PQYAXgwADACUz5AGMwAwAHBxDQGAJ0YAILMLsk7bXtwz33PcJPpx4ojMeyQ3BQBGIpHI/iUAcL3ICQAMAHRtqleoBQAejQDAuT0GAF4MAAwAlM+QBjMAMABwcQ0BgCdGACCzC7JO217cM99z3CT6ceKIzHskNwUARiKRyP5lb3cAisKAJBSS7OR9WSK4P/kFm4GSU69wBAUoSXZuoSSbr/qMKDRRczRQmNQzcYsXdP/OPopyUACoMYNECzomxb96pwRQZqFG7j50wafrq7I4FNCngrh6F9sTfuCWaSgY+BE/9JJpnHnlvdO48o4L01B3/UngQvxVFd8AqDnAgtiUeqeE6aAQVzbrwndlC9Xe66hndfYb7pvGR73+JdOo0PeZ//ErpvHP3vRl06g28uH/683TqGD4irsuTOPqWy9OQ90HaZ8/yFMkPnb908xHyi5dfybxU77LzZtu/gL+4c5D1iOhDzlnM9/tZC8gT47Ef/m8W+/s6nxGzhzYFMnXI/UO8mkzj3fPHQBXdLbAvtAaQd6WcBLEZ3uPJNYQexkYIzbufteKEaZ9y54F/Mg54qv18wDASCRykBIAuBz0ew28KlLRnkAitQtikRxRMnULUHAmMhGDxmekICZrVjYSAMjswvVVWRwGAAYAXhoBgAtxX+iw658BgOt5NgDQ3weZG9iLfN6td3Z1PiNnDmyK5OuRegf5tJnHu+ceALg+SKwJAET2HQAYiUQie5IAwOWg32vgVZGK9gQSqV0Qi+SIkqlbgIIzkYkYND4jBTFZs7KRAEBmF66vyuIwADAA8NIIAFyI+0KHXf8MAFzPswGA/j7I3MBe5PNuvbOr8xk5c2BTJF+P1DvIp8083j33AMD1QWJNACCy7wDASCQS2ZOcyh2AIEmRhELuuCHzk3vUenPXoe7hUZBSrnehyVtNiKqYAwX0rJEt71U6duEYKdZIUq66VftS86DCjRQbQodLzyObNtc40iwou5hBHAFoiK2pQqx+vgRKn3jd/JkK/a6888I0KsT76B++YRoV6Pzzn/vSaXzmA8+fRr3fTd0BWAGT8gm5R+LTWzYSSvfEjklhLe3UhUegwZF2LWzkmhs34/J7LkzjzKvumsY/+PHrp1EB4HN+/kumccOvPHNxVBu55vvPT6MCxivuvjCNeidlXZu6w9IFTMSnZzlrKZ4LH5PQF+RkFPOB3StbmOVKkNvJPCTmuraM8p2I17M7Hc31qHNE++28S8YLko/c5p6sUenb/a7pVySeE92P7JfsRa5ZAWMzH2xrDy74lLpRPwC785D6C/gJsiNip27tBuKpuwa7Rif5y7AjtHbTLl2fR58LfQcARiKRg5QAwE6CAwkrANAoLgIAAwAfnicAUMeUAMAAQJWzAgCRr7iNeAAgizUoB4kh1wjgAvqu6VcBgMZwahPwHllHjMxD6i/gJ8iOiJ0GALK1m3bp+jz6XOg7ADASiRykBAB2EhxIWAGARnERABgA+PA8AYA6pgQABgCqnBUAiHzFbcQDAFmsQTlIDLlGABfQd00fEsgaAAAgAElEQVS/CgA0hlObgPfIOmJkHlJ/AT9BdkTsNACQrd20S9fn0edC3wGAkUjkIGVvAFAlWXBfh9tgqKaSFEoSPC00TaTYmd0ppopLsV6yVwRBjQKOFgLyLjm1ZlBMK/3IogwURPK8CKwBa1CwtPdOt4CTuqyNbwcKrO0bNR0DxbfSX/WPa27ejHrnWoV1T/uxF07ja//3z5vGrW/5jGl8229+wjR+8revnMaFX//UaVRgeOVrbpuGvCdQ3AFnN/fAfntNgXpGwR155iB+yc+VXYl4O7vLT4CyCtMqiK138Z39jrum8Y9/6l9M475fe/o0XvNbHzWNH3n7E6bxjv/0IdP46z+4chp/8X9dNo03/vZmVEj4pB+8aRpnvvWeaVx+74VpXHXbxWlUgE3ynWp4UWztPKuAhWtrqBEU9mXHGjPu7Ko5lmszm9Ntz23NX0fm7+3drRGIraFYU59RP7Kod6kfA8vzNhwFdYTUFRjkzMn5Ex91z474+uKZurpRvqRsFNiCirGz+gj8iEaA7q5ytHqvG3PdPILOFsSjreP4gO6H/IHYo4hZ9ZkAwEgkcpASALicHAMA52sOADxpRwGAeh6lvwDAk/a7i+YCFfAgfsnPlV0FAAYALjVQu2gcAwC3nj8AcIszJ/o2BzlzBC2AjwYAzucMADTOFsSjreP4gO6H/IHYo4hZAYCRSOTgJQBwOTkGAM7XHAB40o4CAPU8Sn8BgCftdxfNBSrgQfySnyu7CgAMAFxqoHbROAYAbj1/AOAWZ070bQ5y5ghaAB8NAJzPGQBonC2IR1vH8QHdD/kDsUcRswIAI5HIwctpAEBUMAqwomBZfebJL9iMXSXuVcizlmhAsUOKUZlsATCS+wNrkAkawD1SjKI1uAWAWUCTNauzVs31EghCujGLZgREB2xNrVm+VxWg5fMZDCqjQrZzL79/Gpe9+o5pPOtnnjuNF735c6bx9W/9R9N4/dufOI0Hfvvyadz8q581jXpnnLobsIKnCicrAJzBQFJ8d+LLCfDfi0tk7oH3I0DfWfvxNdQzr/qr0O+q2y9Mo97FV+/oe94vftE0KgCsZ/47v/fB06jQ70//05lp/MHv//fTqPDw+b/0rGk89UdePI169+Dl912YRrWRa27ajLpHZfu7aLhQXgBD5jjRWLtQy47t5l6QHwzkCBV/3X2N5DgEIUFNsos8KfdBapBqd1+zPFxdEr3uzE4HapldzY/OyIXK28YPAFPIj9zuuoi+XbhHbGTIb924BvKsvZcy3Pqe1PSLz5Nzc+3e7SNAX6P2EQAYiUQOUgIARbEWABgAuHDWAYDaJ2dzBQCu6zYAMACwk0t654jyAhgBgHw9AYAr+yA1SLW7AMCt5kdnFAAYANgZAYBsHwGAkUjkICUAUBRrAYABgAtnHQCofXI2VwDgum4DAAMAO7mkd44oL4ARAMjXEwC4sg9Sg1S7CwDcan50RgGAAYCdEQDI9hEAGIlEDlL2BgBV86gSKwjECKKAQG/dPQPgi3ynSnxCN6r5thO+au7FHTqoiAPnJhMrKO521STK+Ukzq/YLCpVJx9duhiqCbbtXDYVbmIIClBS+0q9AAV3hSIU+l9+zGWe+6d5pVFhX7wN87i988TSue/M/nUb9fAZxyj1uV955YRozqFfucZvBmn2D7Y4PELu0C2URA3dlR8qvZvcAFh1XgHbF3RemceZb7pnGE3/wpml82k++YBr1zNXdkN/5f37cNCpI/vuvvXEa1e6uuOfCNAjcQ2cEGnSUm4wm0o0pJK/KNRIAZdrvyDPbxvBVW3Z9Gwy5NhKjiU46tmnvG0AzYvfKdtA5ghpK2izQN/FVkgflGZJYIParfoR0AaBt1wt6QrWAOnNlO26tBGIcORMCDInfqveqc0PxSNTZ7h9QIPp3axyUP3YQA1EsULp3e5/y3QDASCRykBIA2EmIopFV6w0ADAAMANTzBADqcyHnTJpjdeYqRgQABgB2z5bkzwDArYZcG4nRRCcBgAGAu7DrBT0FAJ60I/XeAEBflyjOBwBGIpGILwGAnYQoGlm13gDAAMAAQD1PAKA+F3LOpDlWZ65iRABgAGD3bEn+DADcasi1kRhNdBIAGAC4C7te0FMA4Ek7Uu8NAPR1ieJ8AGAkEon4si8AKJMFSCI1SdnFjgjuMlGWURu6bgJSRe2OEqNb4M7WPlIElUSpiheZrEEBqPZICh9SrJPvogITFF/d8xJ6UmdF7AXtdUcFLnkvsf0KfSpkq3eoVeBSYd3Z77hrGk/4gVum8ZTXvXQan/qGa6fxmQ88fxr13r+z33nnNCpgUnf9KbsYsWtS5PbOChXKBHaTtZCCXzUXqukrYwaDb9uMc//z/dM48+13T+OK7719Gh/xQy+ZRj3nT3nD10zjC3/2OdO4/S3PmMYNv/LMaXz8j71wGvVd6q6/GQAsdi0hKmgwUDO4NI/Kb0X3xKZJjkMxgjRoqlkz4SF5huQpNw4qHyU/fild2SC5DgCMLdCkfjw0f/SRMQt8LvVKbA28i8SynQ1ia8DGlU5IXWuPTj3t5g6VG1EuA2eFbET5hmsLTnymsVLkStcnkE7Ku9CPnOosqj2QM+3pieQj07edeLjWOwYARiKRg5QAwM0IAAwA7K0hAHBl38K+AgBPfrd3XgGAAYDd2KfyWwDgyXxHmlBzBACu6FvFLPB5ACDXSQBgAKClkwDAAMBIJBJpLQBQFeJOcxQAeHLIglLsERUGoKgk3w0AZDZI3hsAyO0aNU69Ap40TQGAAYABgKwZNeOg8tEAQH0+7ucBgFwnAYABgJZOAgADACORSKS1dy8AJMlR3t1AkqlIDKRoWizOAIhTSZjoYJaQwdpJgT7TE7l/BRSIEjaCQoC81y2OCeRQNiWLKTFP73kJPoCNksJO2quwU6JjVBCbjczMrm9YHhVOXH3rZtT7AGcw6Bvvnca5l98/jbOvuG8zvqGM8vllF++fRoVN9X431IjvSrcdfbqFL7Fd0gShGKEKaGCzVcezOwBv3Iwr77gwjQqGqy3U86/jzCvv3YxiLxUAX/7qO6Zx5lV3TePc190/jWqP8t4/9UOC0JXUj5hnW2Av7dVsWAm4c9a1tk43nsvcB2IT8skyZL0gdItysQv6yN6NM0VnDuIV2Qc5W7UeWUOps3Xt1M1rZl2LdEL8Q9kv2O8MGtV6GsSgxTWAsyIxcCiOKH8zfR7ldhcemj2Obb+mD5E1uL2Bs2bXh9F6Tb9SvRWxxwDASCRykBIA2EkkItEFAAYALj0fALhg1wGAq+dlnfOAzwQABgA6jWMA4MUTgIHoNgDQP1u1ngDAk/OTWkLpMABwZQQABgAufB4AGIlEDlICADuJRCS6AMAAwKXnAwAX7DoAcPW8rHMe8JkAwABAp3EMALx4AjAQ3QYA+mer1hMAeHJ+UksoHQYArowAwADAhc8DACORyEHKvgCgW6SQ4pskelSIq4JuIQmq/y/vcVOJsTZ24p49G9CpBk0Vc+Y5uBDEPR+30BgpstXdKiMF3WxOp0kFTQRpxAgcJ7YjvwvOzYaWwk4rZJmBwfObccVdFzaj3ON3+b2bceWdm1HvG5QQxwRYNlBxzgXAHxIviJ/Lzwf0UYcsuIUdzYCguDPyqtsvTKOe88wWCjy+7P7NqJ/Xeer9fhVCzu73Uw0H0RWJvwQq9JpZ8B4XOo38IEHiHYlB6G5Fs9HfVW4a8bORekfaCJhfnaM1QI0z9E5Qq+3su6CmUGeC6g5w/gi6qnWa8dr1xaVakrzf3pPyQxXXRB2h9OT+SLAznxmxWRUHdxX71HmBM5Uxsfd+8/xJTJbPAFsnfhsAGIlEDlICAEuSCABEhWkA4MKcnT0FAC7YbADgfP4AwABAEPt6awkAXB+7yk0BgNruht4JarWdfRfUFAGAFwMAd+ArI+8NAIS+ZNo68dsAwEgkcpASAFiSRAAgKkwDABfm7OwpAHDBZgMA5/MHAAYAgtjXW0sA4PrYVW4KANR2N/ROUKvt7LugpggAvBgAuANfGXlvACD0JdPWid8GAEYikYOUU7kDEDTNKECToslMsihhdBqcWbMomng7CQ80aKgwLQXFbC8VbILiWOl4tndQXKgx0y0ogtQayLvIGUmovPD/3b0Su7SLI9O+1P2Iro8hAPCi5VHPvAIaBQOvfNlmXH3LxWnMgI66txIUqgSoyHM0bIA0O66f24W26Rs2MCR2VP2/nFs92xkArLZQ7g+sdz2qoaDfyJ1BdiwGNrVkg71YdOL8zXfa9++Cu7KQj5m5nbwLnSHxCaUHkuPMZp3M4/riov7ED4YzWxC2tg8blNAX5BpZH4Fc6cYmcp4ktrp5FkFIcBZVzzUO9vK1rQOgP3IOJAepNai7D8leSM3l2o67l5m9iz9A4OrZrR/R/EsxXcX8kbUPrFHGO5GPAgAjkchBSgBgPzktFhQBgCf3ooryAEC/SAEFqFtMBQAGAHaH6RsBgB2fI7EY2FQAoK9jV/fIJ5QeAgB3ZoMBgOtrCABc8T2xhgDAji24tq/mX4rpKuaPrH1gjQGAkUgk0gIASXJaLCgCAE/uRRXlAYB+kQIKULeYCgAMAOwO0zcCADs+R2IxsKkAQF/Hru6RTyg9BADuzAYDANfXEAC44ntiDQGAHVtwbV/NvxTTVcwfWfvAGgMAI5FIpO3xDkB1n10vWRxvfEQxKOEOKE6dwhA13yCJyEIAzF/vwVKA0W0uXJ2pM5mtpxYmSieqqBHnieYkjY/Sj7nOXvM1K87VXYyq8QGFr2pwCAyWn4P9kYJP+ecIQJvBwJs2Ywb6yufyHjdwX57ro3ZxDM6l904Fpnbl83YjThoBsQa3QZ+d/62boc6/AuNqL+59kApUuzkFDWKPHchG4p6yNRIP1TPqbN1zJvY4mxfcqSt1CZpQOxe4MVrVSiCOkHi99N6RMyFrIU2/OityJvZZiWeUfRH/lLWMAOcjuXhndqHsV7yr+yOq6//qHMA7XciObBbohvQaJCaSeC1/5Cb2b8Ymco5uXUHgtBVvxfmjWEB6SqDjAMBIJHKQEgBY1rCQeAIAF4qCAMCTOgkA1IVgACAvxDvvDAAMAAwADADsfq78bEvfCwBceF7VMgGAAYA9u1O2EACI8hSKBQGAkUgkoiUAsKxhIfEEAC4UBQGAJ3USAKgLwQBAXoh33hkAGAAYABgA2P1c+dmWvhcAuPC8qmUCAAMAe3anbCEAEOUpFAsCACORSETLvgCgKuLtIs58njRTMkktwCwF3EijQfZBmgJURJgFHCryQEGkhiqIyDOyGBEFILq3zmzKZaHXe94syAkoc4s8tygnPjPTgQAiCPSpecR3K8SrILwCHQV31FCN3tC9b7so1s3vkcaUwB27WRiI21X3Cr4p+6rPV9CnAGC1l9kgdqEG0DlprFFs6uXNgUbTjbcyDot9uMBoaC9mXSDfS87NjdGur7jfNfNBr2Yh509yh4ztA6AEQUt1bmq/bjwd8a36rpHYQUCYGSfUd5d0Ls9HgU+wXlm3mXrdVV6Tdgfymgsq5fkP2CnZr33+xEfVvbEduyd1u3snrbtX9XwAYCQSOUgJAFx+PgBQF1MBgCvPgwJO2mIAYACg8T3SCAQABgBuG0cCALmfubFgZ98180GvZiHnHwC4pW/VdwUAIpty9bqrvCbtDuS1AMAAwADASCTyiJcAwOXnAwB1MRUAuPI8KOCkLQYABgAa3yONQABgAOC2cSQAkPuZGwt29l0zH/RqFnL+AYBb+lZ9VwAgsilXr7vKa9LuQF4LAAwADACMRCKPeNnbHYAk4KqGQRWhe0iCszVcW0an0CSF7yyRlrlRYlf7AAl0aR+rRfNAsYiKZgFR5egUEdsUA6ooI3qQxU4HphH7Vmuf2Yt7bm4ROdBcyGbQnF/tS4K8AnRmAKiM2R2ACmaYcUrtRdogsbUtC29SvBJ7VEPakdifq2+1ttnzFQAKGIxs5OYyio3IH1pcyAX2KAEJia2dvEBsl5w/iufKB9y8AJ5xc9NQLQB8nvi5/S7Tj4kdyfX07E/YiAusXF9yYyyaU8SREZA4Yo/kB2SyL2LjLlCb1VNqnoW8XX+UGapTyHcH8iPxDTkPqYnNXEn8A8Uv4jeufkisV3Xr0n2sxL6Bnkguk/2XuicW2FoAYCQSOUgJACxrCABkxQ4orEgRHAC4UkgFAD70xOsCAAMALwYAmg2L2zQFAHKfJ35uv8v0Y2JHXdgQABgAqOopNc9C3g4AXH8GxQgQH8l73bjs5Jo1X5ydSwBgAGAkEnl0SABgWUMAICt2QGFFiuAAwJVCKgDwoSdeFwAYAHgxANBsWNymKQCQ+zzxc/tdph8TO+rChgDAAEBVT6l5FvJ2AOD6MyhGgPhI3uvGZSfXrPni7FwCAAMAI5HIo0P2BQAlDBRFR32mBnRZYIAkjhJGJyHN1lXvmiuAZqQQQA0oKRDMhgUlUFL4qD2CBtctXsg5k3lmNkUKeqNoQQUiOBNZHG8JlNbmHypAQRGJGiUwp7zTrYKeG5fH7K63gdjhFvRyvws6d22a+BXyW/Uu8LwE26L4JnYq91tiirzrTwBAAgwrYJzdT0juSyP3B7pn1zkXeSZC366/qVygnnFzk5vjbHsnjSTQj5pHgnPwLuIfro0gf+rFEaIb4A8kpqjzt/OF4TOruZjkZRK/SPxXZyued6GlmwMcX0T6IOdP4oVZCyLgasZBlJuAXkd+jLfjrPJR8l4SQ4l/GD4jbRHodWRPSpc1JgcARiKRg5QAwPVko5JCAGAnyQYA2sU5aUwCAAMAAwADAFfPJABw1Q/deBQAuGIXIH4SvQYArp9bAKCv+wDABR8l7yUxlPiH4TPSFoFeR/akdBkAGIlEDl4CANeTjUoKAYCdJBsAaBfnpDEJAAwADAAMAFw9kwDAVT9041EA4IpdgPhJ9BoAuH5uAYC+7gMAF3yUvJfEUOIfhs9IWwR6HdmT0mUAYCQSOXg5DQDoFglu0aSKUwKhVDLo3pEFmloF1khSJYXGDKCKhCjvehJ6UuuXnyuQBCCnKljV/X4y6atGAhQpBGA4BT0qnoTdk7W4PoP0PXCfjlwb0Bn5brWd2R1wAuIo6De7H7A84wJv4pcEGPRsB9kCOFviA2rtMnaAZpGsTcVttUd1ngQA13H1LZtRvzsDgAAGoljj+hwBYUugBAwCXNxYSpv6XlOG5ndhgPJVsEe3XnBjpXwvgc1An134MbJvUI8QqDkEREbOsH5u5iyie/QMARigTlDPk/fK7zoxhejGjBfET2YxWeiS5MGRmOLGGqQHM6e4tix9jkB9tZ6ezhS83FE8d3VD3lX1FAAYiUQOUgIAlwuiAMAAwF4Rum3xSgr7XfkM0ncAYADgwtoDAAMAnfjlNvdujNtVwzgEj8D5uPPMPg8A9HOEu5f6uZmziO7RMwAMkTpBPU/eK7/rxBSiGzNeED8JAOzYC6hBZs8HAEo9BQBGIpGDlADA5YIoADAAsFeEblu8ksJ+Vz6D9B0AGAC4sPYAwABAJ365zb0b43bVMA7BI3A+7jyzzwMA/Rzh7qV+buYsonv0DABDpE5Qz5P3yu86MYXoxowXxE8CADv2AmqQ2fMBgFJPAYCRSOQg5bQBoEyUA4WEaqxkQUca2F4DBZKL2gcCLmYhoz6X0A8UIBISDhRZsjFR7yWNhzjzWZFY36UgMXhvt5AghfKALkcKU9IUyLvPhE255+9C+RncERCvPlPhzjU3lyHA4NB9kAMN46JOQEFM4h4p2okvyXMG8c5t9EiOUADw6lvLOC/GLcuD2MgMQhd7qZCQgGTix+THlV4+dJtpN8Yi3wBxVa6NNGuk6at6FT8qEfuVwIWsbSRGE59T8ZTYoNEQk9whYYQJKdw6aGf26+a7gfiLBokd4vMap+Ta6vqde0PJmQOQtZdegNgs2YvyMQHKkB6I7YMfy+WPcSr2qT+4IOxO1UTu3h24j3x+RzHLHQGAkUjkICUAsF/MLCVtUmyThDxS+JLPAwADAHvFcQBgAOCSLwUABgBaACUAcD12uDGa+FwAYADgwucBgCs2S/aifCwAMAAwADASiRyCBAD2i5mlpE2KbZKQRwpf8nkAYABgrzgOAAwAXPKlAMAAQAugBACuxw43RhOfCwAMAFz4PABwxWbJXpSPBQAGAAYARiKRQ5DTAIAE7qg7PVBj4xaMpDntFFuk2EUFsShkUcEtnpdNPChGCaBz1zxUuBHdAl2pZ2Rz5551p3GQRaeCjgrWgmaaFNnqmRngUADV9Dfpq+CZGdwTcEfBwNmo0E+AGwTIwd539UyvWSBNJ9kfeS9pspFvq/lBbJe2UADgVbdf2IzbLk5jBv1uWh7qbkBpA+YPFaqBmt2Zdu1m9PwDQQcz70kAqb4D8tHI2kgOt/PRSFOpnhefI6AL5kR1BbHBzjuJjYycFbIdECeV7c/uRQYxhQCXkVwwkhPR+oU+Sd4hNtjbo4zzAzlfPkNyEIkvwO5QTAE5msyJ7EjEFOJ/6Adb8yyIvff8VtriHmI1ip/imQDASCRykBIA2EkMIKGMJBpUaIAiSCX8AMD1tQUAzp8JAFzQubn3XT3Tay4CAAMAAwCPfR4AGAAYAIjyTgAg1EEAII+hC7ah/Fba4h5iNYqf4pkAwEgkcpASANhJDCChjCQaVGiAIkgl/ADA9bUFAM6fCQBc0Lm5910902suAgADAAMAj30eABgAGACI8k4AINRBACCPoQu2ofxW2uIeYjWKn+KZAMBIJHKQcioAUBVcIPjKZDdQoMu7LBbWJhOWmUSUDlAhAwpftzFxi353TjU/aTBRYaKKDhMquAUjOoteAVLms2GtsFc1VCGo3uUWo0N2JEZdW4V18u62AnEUAJSQ8CXLYwYJQZHtnnt3HjKHeQ52M2IW/MSfZTOi5im2XM9wBvfUvX/1bkBgO/VzCY/V/UjK5t3GRp3R0pxmfEP+Cc5Q7U/GNXW/GIhZbjxy945iPjm3kTxozu/699L8JB/ZMRzEgpn/mDHOrUdQnndi8oo9ziC+sHfpW0APJJ4iqDTgWz17JT98yLrDBfe7ir1AH2R++V4zPyIQLvQzVFvXvYBYTPZrxY4d+efOcoSwnQDASCRyMBIAWBJAACAr+nfV+LhFCihYAwC1fQcABgAu2lEAYABgJ5eR2BgAuD5kHjTnd/17aX6Sj+wYDmJBAOCCbwE9kHgaALiFDwN9kPnle838GAA45p87yxEBgJFI5NAlALAkgABAVvTvqvFxixRQsAYAavsOAAwAXLSjAMAAwE4uI7ExAHB9yDxozu/699L8JB/ZMRzEggDABd8CeiDxNABwCx8G+iDzy/ea+TEAcMw/d5YjAgAjkcihy2kAQJmkQAKQxRQpQlRhK4L7UvGrEopsZEHBpyAoKRBJA60StXs/Dtm7bBhA4kYNoDhP1UzJfdV3kKZp2+ZEFYWg4EPFH7AFu+BSc5pFEypM1d6FriqIqwBIDgUDC8SZwcDy+VDjKXSIbMAoRuV8qvA1m0tij+QM0Zmbo55VBXoz0CdGPfMKIWZ3ABZ4SCCxtBfQAMqGxzijfcRtt6F3Gzr7hwelG9P2SWyvz7j3n7ox115/GQhCg1jWi0vSpsHnJF6gPGjGDpSzxA+wJLa7uQ+BbWUnwhfJ86R+UP7d3a+opWRdC/wfrR08L2tcM0YgP1ffBX/IQZ7tjuIXqgFqvq56I+tRcxr5nNRJbu1D9IHeJWw8ADASiRyMBAAur81pptxEHQB4slAKANQ6c20BNRdirwGAK2dLm5AAwABAp6Fzz71nowNxW+ZSlb9IfCGxAMTkEdt3G+gAwBWbBp+TeIHyoBk7UM4KAFz17+5+AwDX9RQAiEYAYABgJBJ5N0oA4PLanGbKTdQBgCcLpQBArTPXFlBzIfYaALhytrQJCQAMAHQaOvfcezY6ELdlLlX5i8QXEgtATB6xfbeBDgBcsWnwOYkXKA+asQPlrADAVf/u7jcAcF1PAYBoBAAGAEYikXejnPYdgKQxlGCDFHpmEdQteMX3VKGBinCxV1IckcJXFtykuBDF2ghschtG0iTKwkIV/eC7ZP1dezABGimkiM7IeQ4Ns6AkhbVqHmqDOwN34r622f1uAu7NhrgncHbvn2gSUeMGxuI81Z5c33ObAvOcyXB/3EH2VXQ/g8H1/BX4E3ah7oNUtqOeR5AFAAYUQ5fO2nkWvmdn56n0AX78IvGCxFbUMJLcQZpQEuOUHoAO5T2KKr+LZ7o/lAEdzD5X+xg4T+InaN8KVJEzrDq7djPc+g7F4gGAUXPlyI/D5KynOdwfAFTeAfu266DqM+BHf3Im9RkC30diLtIJqLNcfyJ/0MKtK5xzQ3sy96rWq37EIz1FAGAkEjkYCQAUySMAMABwYf1dewgAXPUx0hAHAAYALsW7AMBjZ+08u0UzGgB4aZ4AwADAAMDNHAGAAYDE1wMAAwAjkcgjVwIARfIIAAwAXFh/1x4CAFd9jDTEAYABgEvxLgDw2Fk7z27RjAYAXponADAAMABwM0cAYAAg8fUAwADASCTyyJXTBoCzwAruYnETtyqyVcGoPu8VykPJyEzyChjurLgcKExQ4QYKq6FCwyweZKEM1mA1xWCvM8BTizDSpIo9uY07aWpQUUbO1oS1FfooWDMDPQUMzWDPzcujFoMKPCqdoLu43Ia3o1dytgQeKvua3X2mGmgA0Em8s0dZT7WFenffVbdtxsxeFDCun5d5ZjZSod8edLLtMyjekjhvxr1Z4wh+tHIbOqU/YvsE1s3ii7jrD8VKc6i9I18ZgE1LtoHqDrUuZetg7S6wQnWHiI+7gpPEzwk8cH/YJj5E7MuuN3vnTmyd1J1EB2SvAzHFjYmznA98mORx98d11+fIHlV8R7GpkzOQL1U/UTDSrCNI3iG1dR0BgJFI5GAkAHD58wBANo9bpCPZvYQAACAASURBVBC9uTp3k34AILM1tBf3bAMAmf+BxgHZVABgAKAxSNybNWsBgHiovSNfCQBEawsAXP/uTs6d2DqpO4kOyF4HYoobEwMAO764MCfypeonAYCRSCSyfwkAXP48AJDN4xYpRG+uzt2kHwDIbA3txT3bAEDmf6BxQDYVABgAaAwS92bNWgAgHmrvyFcCANHaAgDXv7uTcye2TupOogOy14GY4sbEAMCOLy7MiXyp+kkAYCQSiexfTgMAukmWJPoeuFtNpuLzbkEKkicpwkgh6IISu/hS87xIjIFCYGQ9blGLioE9rGcJast3krMFcJwUvspOyXAbEPf8pb1X0APuAJx9Xsbsjj91H6AYs/sATahACs/eeRE9obkHil1ipyomI8gOQFl9ZmYLAujO7gAsQE/BYwWJ6zzVpmoDSGAp8VFkOx2fI/mF+C2xEQno1L24bixTsaPMo/aocvFIPlV2jfI18Es3jpPc5OxR6di2HQHcELDYkc7kfX1mbpJ2BGwE7V39kKB0CNam/ICsjQCgJVsnAN2FeyTfkjwlz0fZO1kzieFuXCMxF/ic1APRp7sXUtN15lBrsWEkqCOc9a7pIwAwEokcjAQALice2qg/8boAwG2LbLepkaBCFUdizftYTwCgf/4BgPq8iJ7Q3Gaj4dqpiskBgJ34BRoVJ1eS/EL8NgBwXScBgCt6CgAMAFyyuQDA9bgWACjt2z1/kleJbtQ8AYCRSORgJABwOfHQRv2J1wUAbltku02NBBWqOBJr3sd6AgD98w8A1OdF9ITmNhsN105VTA4A7MQv0Kg4uZLkF+K3AYDrOgkAXNFTAGAA4JLNBQCux7UAQGnf7vmTvEp0o+YJAIxEIgcjp3IHoIBKsmARSdktmmVRCZJaL9GpwtQuHEkRCQorAhVHGiKpJwAP6ndl8VqfUXeAuEUlKOJQYwCKrG0bOzQfKcIUuB2AR6hQAs+jwlc1RAAA1TvdCPSb3StY5ywwCIEKc+/Ej52mQ/kMgRQj52/7z47sSN37pwCwvPevnHOds9qFamxJk4XiEYmbyleWhhurlU0TuwD2TRpWAvFkLWCOfecLN47Lhhf86Ib8zLBNW8finSpvyybePDdiX0pPCiqg+CxqVhIL3B/XkA+J/ZLak+SV7juFbtRe3Zgl8wL5LjgTFWNHbESeIflB2LRlWTeBGor4H/oRGOSm6QdU8OOYW/sg2yR5m3y3jADASCRyMBIA2JlHFf8iGQYArr83ABCeg2mvAYABgAGAAYA4ViubJnYB7FuOAMATugoAZGdC7EvpKQCwExsMP1a6CQBcOMMAwADAAMBIJPJIlADAzjyq+BfJMABw/b0BgPAcTHsNAAwADAAMAMSxWtk0sQtg33IEAJ7QVQAgOxNiX0pPAYCd2GD4sdJNAODCGQYABgAGAEYikUeinPYdgDK5k8RKmlmQAEgi7hXKEmqSRAr0IYtptQ9QrJPnVXEh9yXeRUCf2i+Z3y5egM7tBnlpzhFAYBaXqAA1i39iO7OzUnZKilGgqwpl1L1v6h43eacfKcr34GeqwXB0Q97pNJBrDR2BfqRhIbGGFN8zW6hnrgBgGS4AlE0NufMKxBe3yepCBOJ7Yr1kzm1zJo1rav3ELoiP2esBcYFAP+Qf4pyrrZH1z/TSAYkoFohnZnc9iveoHC5joAkAdnWexO6QXQDIgWKfCcgUbER+DOqHpfe6Z+vaPfnuzDdUXHVjR61liP8DcO76maxBBnwC1QDAP4j9bjuInuQ5qDhFYo2KBWINAYCRSORgJAAQrGGhQAwADABcnDMA8KSvCD0EAPq6Ie+0i391bgGAAYCGrY3ENbV+YhfEx+z1gLgQAKjfEwDY8YkAQGn35LsBgNwnUA0A/IPY77aD6Emeg4pTAYCRSCSiJQAQrGGhQAwADABcnDMA8KSvCD0EAPq6Ie+0i391bgGAAYCGrY3ENbV+YhfEx+z1gLgQAKjfEwDY8YkAQGn35LsBgNwnUA0A/IPY77aD6Emeg4pTAYCRSCSi5TQAoGqaZCGhEjEoWEhhNSsYevfNgcJIrddtjpaaPNrIoKSminUAG8leSNGsig4EDEWxiYo+BY/dxrZXHAHbQiDbbToIeATz2MUrKQTJXlRxWuaX4KbElwp9FNyZgUHRSMzWoKAYKOLl3XwL+nSbBQSVAaRwC3S7yTKayxOj6F7e46jufQTnLwGgGTvIDxhknm392G3sSFwgcZvERqlLs+kbyTWube66wV3VDzkL4qMETnTsjMQ0CUEVeC6fz/K1qr0G/IHYF8llbqwcyYNIh+S8AJBC6+/4E7FpBCPVWsQPdOhsib0QnxxZA1iP+wOQ1K1rjzVnuT+Wg88X59zSztZ8zz1P4odENwGAkUjkYCQAMAAwALCzTqfAALYl12IWKQGAAYA93Y80tSROIXsBfiXPPwAQ+THRvXqP658kJ6M4DOx9pKGTNgVsE8U1dyj9kLMgPipA0tIaEFBSehJ2HADYsRfgiwGAx/bhni2xF+KTAYAnYwD4PAAwADASiTxKJAAwADAAsLNOp8AAtiXXYhYpAYABgD3djzS1JE4hewF+Jc8/ABD5MdG9eo/rnyQnozgM7H2koZM2BWwTxTV3KP2QsyA+KkDS0hoQUFJ6EnYcANixF+CLAYDH9uGeLbEX4pMBgCdjAPg8ADAAMBKJPErkNACgSqYqyLqFO0ma2zYYKNm6zYVZLJB3oQKXNFwgaaL1DzRQ9pmr74J7eVwddosmYJey4CfNsek/yAdEYeXqnhRfMwhGGtYyKqyrEMeFfnXU96o7t1DT6hahC/MT25VNhPGeNXDn/ijjxjLkV3Vtwj9m5y/ugCR3/SkbkT4BmnXSbMx+FBPz93SO7I/kQxGbZp8P2OPsmWs3g8ReaeMg3qFYLPxfnrlqYIluVTwFedA+357/mT/6kHxE5kc5i8RPdZ5ineTuTlf30lfIuYH8S76rYi7JB+76F2Md8CtSU6jzkTnFXTuIL27tg9YGbN+uHVx7F7py/5ABsanFPCV8hvinXBfwE/Vdsm81TwBgJBI5GAkAXE+4AYC86AgAZHYZABgAuDQ/sd06AgADALv2R/KhiE2yoTftcfZMAODJeAryoH2+AYCzEQDYeRepHwIAta0FAMq1KZ8h/inXFQAYiUQiYxIAuJ5wAwB50REAyOwyADAAcGl+Yrt1BAAGAHbtj+RDEZtkQ2/a4+yZAMCT8RTkQft8AwBnIwCw8y5SPwQAalsLAJRrUz5D/FOuKwAwEolExuRUAKAZ6BFIEkl55D67paRPkohdIIhCmSS+GYxQDRcpBEUhgArNgaRMilG3kFV6IEDHLayIHrr7G2kQSMEngPu2a6f72ocu614q6FNDgT51fxzRGyqaQZHb82m3kXGbBbV2Faek3ZkQROqDfC6AGznnGQBU0FfAQLJHEkPrvhTQU9+tsGxJtyTXkPNB9iXmIeBW3rNJGmViy2Zul/oBPkxsAfmQGYtndmTWHkvxmjxLzh/lApGTyV3P0q9APeXqj8T2IZ9QdmHai31GKgYQv1moT4mNolqgvB/1BQIqurlXrcEGYgOxFb3XPE/0ublm2+87fiJzu9i3WtfO/mDGi5aHmjMAMBKJHIwEAK4nd5SAQBEeAMiLiABAv6gJAAwAdPycxF5pdwGAOIbWfQUAaj9x43MAYABgACA8IxUDAgADAI2zQ37f8ZMAwADASCTyCJEAwPXkjhIQKMIDAHkREQDoFzUBgAGAjp+T2CvtLgAQx9C6rwBA7SdufA4ADAAMAIRnpGJAAGAAoHF2yO87fhIAGAAYiUQeIXIqAFDBHdUEmUFcNlwAlqkxPb+HO78I7CJQzk3spMlGSZ7MP1CwkjMnzQN6lwlreueOChmzoVB2QWwTwV2zMVE6QOdmFrsK+lx9y2ZUAFgbCQWAyJ2BCACZhWfXBtzC2/Vtsg9gmxJMmQAA2X75HJ1tuQNQQd965nWeqkNlC+pzu7kHcb8HuYjOUJOlGmtgj6jZJbHUtHGU/9V9g2W/BKbJd7l5E9QpMh+BeZAvduKwm8PJPCRHEBtBNSLJWcCu1btQHWnWI3bNAHyd+CiqMZdsSviSe54IHA2coVqn1Bnxe7Ae8gOG46sn/AyAKtcP5I+fYI89kCztm+SagTxF4gKpleo8AYCRSORgJACwk+ACAFcLipHmwV3zzF4CAAMAAwA93yb7ALYZABgAuBjvSAwH/uPmApn/AwADAHtD2HUA4IotC19yzzMAcEEPxM8CAAMAI5FIZFQCADsJLgBwtaAYaR7cNc/sJQAwADAA0PNtsg9gmwGAAYCL8Y7EcOA/bi6Q+T8AMACwN4RdBwCu2LLwJfc8AwAX9ED8LAAwADASiURG5bTvAETJSDWzIJG4DUmvaEUARRVYBdDIhEnWLhJfnR8Vea7uQUHvglt0tqToU/oHRTaCmaKw7Z67eL+EdWZRuK0drzVfRJfKD1x/Q42M+G4FQOiuv/L8DADV++CAL8p7pUCRLYFtp9GQfuU2uKSwFjp247Nas7rfyY1B9QxnALBCXGAjM4gnALO6w07pX95zV9Yv4bfYu8oZTt6zY6lqiIEduXbXjaVr87i5wH1X9WHht+67SJ5yYyKpAZZ8WsU3sleUJ4GeRvKR9BMFR1S9WAfYC/kBi/ww5+rErUNJLkP2uxDv5HtALiC+jUAP+a6yWbB+FLPAftU5EEiIciXQj2tHKM6SuqnX1wzkL2Tr7jMgHgUARiKRg5EAQBH0O+CDNBQBgJ0RAGgV3iN2PNpwBQBeDADsxOcAwABAx+66sXRtHjcXuO+qPhwAqHNMAODJZwIAAwAXnpHnCXwexWtgawGA0C7EegIAI5HIwUgAoAj6HfBBGooAwM4IALQK7xE7Hm24AgAvBgB24nMAYACgY3fdWLo2j5sL3HdVHw4A1DkmAPDkMwGAAYALz8jzBD6P4jWwtQBAaBdiPQGAkUjkYOQ0AKAqoFx4RCCECwO7xb9o4OUcqtAERYcNO0WhROZBTQopCkgDOFAQqQJHnQuyL6VD846RHkxxdYPsGzQOznrXzlM1OwROEhtxiz4FdGZ3AJK72wTcQXcAgnMnBe8iaDNtyvXtkUZDjgEdkO/Woe7xU3f6EQBI5iQxgoAHEtechq7OLe9WVHHPzJPE/2WeAk022jfIBcgP3NhqNqrSRuo7qr2YsbhnF2t1Uy/vKV0qyGbHJgIXzBynPkf1pfJD8qOPGXNljBgZZm4i3+3FcRKrpY6Vz6v3m3CH+JJd27nzuHkT9An2nGa95vqro0MCO8n+iB2hXDaQtwMAI5HIwUgA4PoIAOwk64EkLs8WFBoBgCvvNRsE9XwA4MWTTcWWTdNxuwsAZN+tIwBwfqZ17gDAAEBSN/XyXgDgyTMk8YusJwBwxefV+5X/gPlJbEK6dOdx8yboE+w5zXrN9VdHhwGAAYCRSOQRKAGA6yMAsJOsB5K4PFtQaAQArrzXbBDU8wGAF082FVs2TcftLgCQfbeOAMD5mda5AwADAEnd1Mt7AYAnz5DEL7KeAMAVn1fvV/4D5iexCenSncfNm6BPsOc06zXXXx0dBgAGAEYikUegnDYAJAWDXfiIJDEyZ7eRBUWVhFGk2CEJVuyDvEsmWVUIkMIBPDNS1Lj6J8/Le9lMG+meD/ncLMjJOZO7yYjtoLMiBRcp1oU/q3v81FCgz4W+quGVtl/mWWy+xedufBvxH7U/t4lwbVneMaYa7mrLAty5diHvEiR3BioIBe79cuNs93nzDEkck/4phvQr8l4TgpH5lV7VjxlybyCWEf2o85Q/rpj5F8XuhXnc/Onu1bU79Ix6F7Ej0yfJfa0ITpk2S6ClWptd9225L3tu853SV9W5ublJfO6CKrK2EXtUg9ypi6CfqIPkGZl1qONvbgwcsQUXuNbPAwAjkcjBSADg8py9dZHCJwBwYQQA6s93VHjVZwIALwYA9nQcABgAuHTO4DwDADtDnGcA4BbPqHcFAJ6wcVfPzr7suc13BgCujwDAMVsIAIxEIpEWAEgKz26jAQqKAMD1JGufs1l4yqYpABDZDi1OF88/ADAA8OGYGACI42z3efMMSRwLAFzQ7YB+1HkGAG7xjHpXAOAJG3f17OzLntt8ZwDg+ggAHLOFAMBIJBJppwMAZWIFiQE1KuC7buLuJnaziJBJTgHLgcaEJFPSgNjzl7Uh4En2qwpTAHoJ3CMF1OJ9bccLiYW1ECggbZo0O6ZtuoWm1A2ANW7RSc6BwB0EgGoBDQrGJ79gM9B5kQZ24Rn3TBy4uE2cVHZE/BCtR+kDANcZxLt5MxQYVKBv9nm9+6+CZNJMibXJXAPindL51vlTzUHsVfl/eUbGSZVHhC24OYXoFYEV8YMdiWu2/gf8yc7Xjr7dPKniEcntJB6pMwT2ovIIiTuuHbm5ntijnH/g7Jx8pM7are2U7qUuRb6Q+wD6UzHChY0k1thnIuKyjEegZyDzy5iuYi6xKaK3XkwhvgrqfzK/G1cDACORyMFIAOD6GtxCIABwoXAARaLcr9kokaLZLRICANkaSCEWAKifcc8kADAA0MqfAYABgAGAKO64dhQAyGwR6TIA8IQeAgCP7S8AMBKJRMYkAHB9DW4hEAC4UDiAIlHu12yUSNHsFgkBgGwNpBALANTPuGcSABgAaOXPAMAAwABAFHdcOwoAZLaIdBkAeEIPAYDH9hcAGIlEImNy2ncAyiIeFIkqITpJZ60wXEqm6p1oHyBhouJ1B8l2reiw12YWfe6aUVGjCmWzsB4qJDpFtatv4g/kXW7RVIs/4mMIJIi79RxdHtebvMftpjIK0JlBoAInZnBHndFAkeg2Vj07kw2XgmwKEovYJG2EAAthRxISq/lFM6LmkYC3QDwF95RN1XfNIB6wZXUWMk+ps1DDsCfy406dZwa4wfmTWK0GgkQgLlQgMhLbyTm4+RGBDTPXuHrrnRF5PwL3bt1h7pvYOzkf19Zm9lXtSMQCx2+P50cVW8k8JNejtRkxupfHsC2Ya7R/VDbXNmSzbs4ndi1yyq7OGfmxuRfHL91zmH0O/FC+GwBUtacAwEgkcjASALieDAIAefGCkqyb9M1CLwBw5bsBgAGAnUYgAPBiAGAA4FDuDgBk+iP7JvZOzse1tQDAhRjQOyvXFgIA1+06AFDrJgAwEolExiQAcD0ZBADy4gUlWTfpm4VeAODKdwMAAwA7jUAA4MUAwADAodwdAMj0R/ZN7J2cj2trAYALMaB3Vq4tBACu23UAoNZNAGAkEomMyakAQLdYU3eDmQlrKKntoNipQzZl6t4Zdw2gEETFgkrEA0AHJXdQjErouoNi5PgaULPR06vbXCrwQYpLoD+ks5FmRNi7LNYVYBJ6qFCG3O83G+JuONXcEZ33bGGtwFy6M2rWgAL97awhIvHCbXCEjZM4qODODOKK+/rqfYB1SHsBNiV91DxzO9b04vVArCNnO7NX0oCacUGdLfI3USO4+0L5Ttim/WOm0OdIjaNsh0BI54cykgOlvQibnsUFBdyA7yngjmKvWPPID7y2j4IfPIbWAJ5BMaMT95CNmLohOc6tuYgfoh8PwLDzr/kuN0fbtQHZl9L52mdr50P8BOTMkb2q/QUARiKRg5EAwPXEMJIk6wgA3K6ICABcOVtTf0hnwnbI88reZTEaABgAuGD7AYALvmvkOpRjAwDX43IAIMtZAYDreiM+GgCI8gXKO6b/BADuYF9K52ufrZ0P8ROQM0f2qvYXABiJRA5GTgMAqibbLV5JcYSSHWl4F94pk57bXIAk5a6XFGKujl3gJgtx8tdmSKMkzp8UtWjvovCsa1YgaWkfs39tVpyn/BdpVVHo2hop1EBhigo0UEDLgludYTlz9K/8FjBE/grw7K+GAl9X8BCdS+fzmZ7Iv2Bt+lWdX/1LtajxMRuoEVAiY7tpF/Wviau/9ksgIfrBpgfujp+Lyo8gvvfmVnHM1j+wKfk5ydUqt4u47b5XPa/0gxprES/kOkEsUOes/pVZmfd7dQ1ooEnN4uYOkpNJ3UHO2c2b7ncRRCXfFbFgRLduPWj5Lsn/IKcgO9rR2e4q3hG/lT6sbLzOo37YAH4zokPi31uf18jcbo2g+iKwdmLLAYCRSORgJABwPXEHAAYABgBuUTQFAK43Egufz/QUAHiyuK/zBwCiuQMAT8Ypop8AwJX5QDMt9wdycgAgjx1y/QGAWmcD8Y74bQDgsecDAAMAI5HII08CANcTdwBgAGAA4BZFUwDgeiOx8PlMTwGAJ4v7On8AIJo7APBknCL6CQBcmQ8003J/ICcHAPLYIdcfAKh1NhDviN8GAB57PgAwADASiTzy5LTvAERQCQRo0lSqBkMWDwvrtAt4MLcsiAgcA0Uh0VN9hkCoJ127GaQwQfsyE/3s/iW1HlD41u+qPRJQtXjW4pzdc1NFoZqHnDM6NwAht9YNLbjLUOCuAh11j5uy6xnQFfcEyhgkADk5655OSMFKgI595iM+LPwH+XNthOodYCJWS7hX/7VfEwxL6CfuG1Q2gnQo4OG2sGkkR9hQFswzkit3lS9UXnD8UOmbDgkVyfdd6DtQGyzZpRvPUXOv5le1hooLQsck9kndmDUIsXFiywgeOmdI92j6ZRcwgTl2FaekrZk1hZurh+zIjcVmThlaA9j7rp6x1gvyDjnbET2p7wYARiKRg5EAwOU1BADOnw8AXB+9c3bPbTZPAGAA4MI5BwAGAG6bIwIA12NTAOBK7DBjVgDgyTMMAGTrCgDsxK+RNYC97+oZa70g75CzHdGT+m4AYCQSORgJAFxeQwDg/PkAwPXRO2f33GbzBAAGAC6ccwBgAOC2OSIAcD02BQCuxA4zZgUAnjzDAEC2rgDATvwaWQPY+66esdYL8g452xE9qe8GAEYikYOR0wCA6j4rAuVGCmI7sdZ3vOjkcJsFlLzcZookPgDB5DMATsriy9xvnUfdl0fOygUxM52ru9ZU0d85L6JvOZ+652lHBZQs5oUtS30A25Gfm40Mud+N3PWnoJ/ym1kTRO7jI2faaSRlsyOgo5oP/TgCzhnZIIiDs6HuLRT2pc52dqdfAXT1zK8+vxkVEiobQSCZ7JH8CAFArtRzx8dmc5s5luQXki8UuHHzvN3QmcPOm+Cc1b7c/C5tbaE2Of7jkMw9xnpRLQPiOcrnbk2h7JfYdScOr63HrY9ULCY/hJPaxz0ju65YskvzbNG6SM2yZU22FnfUdxWERr5i2q983o1lYr8jsBztq3PWI3F7VzGI9IJEHwGAkchu5Exr7f7W2ltba+9qrb2jtfbzrbXrWmvvu/K9s621L2utfcul53+ntfZnrbU/b639Xmvtta21L26tvVfn/Q+21h5qrT3bXPe9l7738PiklWeffezZtaHWca48c658Tt7flQDA8nkAYABgp6jonRfRt5wvAPDEHgMA52cSABgAGAC4EgfNEQC4cg47ar5RPndrCmW/xK47cXhtPQGA/tmidZGaZcuabC3uqO8GAK77AVpTx8fcPY3EoADASOSRI89orf1x0zDsN1prl4vv3rHyvTp+tbV22coaHmw+AHxKa+2vjr3nk1aefzZcawCg2RiQAiMAcCXZBQAe6TwAUNqy1EcA4HozBexrab8BgCftKwBwQc8BgHYjubO8Cc5Z7SsAUM9p1xTKfoldd+Lw2noCAP2zResiNcuWNdla3FHfDQBc9wO0po6PuXsaiUEBgJHII0Oe0o7+xN9DrbU/ba29pLX2tNbap7TWvrltwNZbW2vvt/D921prb26tvaK19tx2BBM/prX2yZf++41ljrc1/acJH2weAHxcO/oThw+11v6w+QDw6a21J62MDxBznGuPcgAoiykzQZMC1024aJ6Fwqs2i6QgI4XJUBFBCkdSmJOihhQCpMgWzRFqlFSTVe8JFHPOzsW9M0p8vvge0IzIBhQUu7atC/hCznlmIwJIqfN0bUF9bt/7VgFgeS+Bh/V5ckem2/As7pc0CGbz4oI+93MCI6TPCF+dxVkB666+ZTOUXczGzZuhgOEMAIpnJHABtk98CzU/CzlF2pYbR0AMJ8DQBpwqJpJ4QdYJ9D1SO6h5qv0SnyA5g3xX7qtTC8hnQL5A6wX5Tp6nyLcqxpEf90iuJHoj/uH+kCTPBUB9Mr+ds3q2AGIHAZ8oT5l2LW2EAEOiP7AXCaGA3xCfsIequZQeto2hRE8DZyt9A8QX970BgJHImPxkOwJXf9WOwN9xub5t4NbNC///PcE7Xl7m+GrxzIPNA4DXtg2YvLP5APAcfM9xOSfmCADsNSRmER8AuLIXN4GCYiEA8Ji+AwADALccAYABgIu25cYREMMDAPk8AYArZxsAeDKeknMJALTtOgCQ26nUw7YxlOhp4GylbwQARiKPKHlq24CrV4pnHtda+/VLz7yj9e/yW5L/rrzn+8QzDzYOAD+0Hf1pxYeB2/kWABgAGABoFyxKnwGAumAZsgvR1AQABgBaBbqKNQGAq7HMzUEk7izlFGlbbhwBMTwAkM8TALhytgGAJ+MpOZcAQNuuAwC5nUo9bBtDiZ4Gzlb6RgBgJPKIkpe1Dbj6uJXnXlye+7Qt3vN+5fuvE8882DgAfN2lZ1916b/PtwDArQCgWzyQghQVO6BBWkrKqPAmCUwlcABlZOFrJuqRQkMV1qrRUwWXbACUnk2oQAoxYhekAOydDwGZci0E1pFCCRR5bnFJbEftRYJYdWdY+a6EfgroqLvbypAgXzRZxEddG3d8Q9rUSIMrmhTZsKjz7DWOa3EY2G99bz3z2d2ABfQRoKfu/ZvZXblvcGYvAK6SM1XwUMa+jo7dOEaa1JF8QeyCnDmxHeUrdvNqxPzV9ZvxGjWnQIfyXUs6A7UJ0pOwdRIb3brG1RPSvZlDld+gPEL2CHSL7AjoDUHFXu1g1pfEP93zotpqdAAAIABJREFUGcnDQ7YA5nFjkNsrodjt2sVAXLPmHtAxioED+66fBwBGItvLA+0IWr2zrf9V3qe1DeC6dYv3fFn5/n3imQcbA4Cff+m5/6+19kGXPjvfAgADAI0mghTZBC4EAHbOQhX9YF9u49w7nwDAk3sJANR6I98LALwYANjRsRvH7CbSjKvELsiZE9tRviLXCfZIYqJd47j5i9QS5F0dkKViL9KTsHUSGwMA188fxRE3H4iY3luPG8+JzlybRjnZrTVHbAHM48Ygt1cKAGR6cvddPw8AjES2l//cjqDVmzvPfWDbAK7XwLk/sLX2ka21i621/3Lpu3/ZWrtCPP9g6wPAD2it/cGl555bPj/ffAD4U+3oHw/5L621/7e19rPt6F80/pCV77cWANhPxCSIq0KlU3DZSR4kQ1VkE7gQANg5C1X0g325jXPvfAIAT+4lAFDrjXwvAPBiAGBHx24cs5tIM64SuyBnTmxH+YpcJ9gjiYl2jePmL1JLkHd1QJaKvUhPwtZJbAwAXD9/FEfcfCBiem89bjwnOnNtGuVkt9YcsQUwjxuD3F4pAJDpyd13/TwAMBLZTt6nbaDVD4Hn33np2Z9ZeeZVZc7j489aa5+3/XJba5t/lfiNrbW/VT4/33wAqMaft9aeN7jOreVUACBpSATwcBMoKU5I4+YU2yOFQ31GNtMDhYabBFUD4CbWoQKX6NaEB9KOBorpxbWJ/akGYaQYrZ/P7ppSawSfS92QQgnYHdK32JcaszvgCgCqwFABQBUXCDxUDTJqhJfs1I1pJL64MEjYo2zQVYOrdGPGSjWnuuuxAjp5T2C9DxDcBykhcRnqGWVHSrcEhCwO84ckCSncOAzyAplHNbISSLtNpVq/aackVsozr3usP3iAfODCkl5cJvHfze0y7qnaS+U+pUsSy1TOAnHT8re1WAygH7JZc7/1GeQrIJf1zl36hjjbbr29TQ1nnifxK3I+7jOoLh/Iy7M7JvcQR1AOcOzFHcC+3LiGeq7yeQBgJLKdfFDbQK/vBc//4aVn37LyzKvaMlT73tba2YG1ttbaP2yt/U07+teKn3zs/51vHAC+vR39NeTPaUf/CMpTW2v/rB39yca/KfN8+eB6t5IAwE5B4hbbZiHjFm12k0KKL7OQJXOSopkUsqTwHSoeAwD1/gIAAwCX7BfEiADAiwGAvVwgng8AXPc/uyZZ0BWJ/25uDwBc8EXTh8jaSHwPAGS6DwDkcQTlAMde3AHsy41rAYCRyOnIh7YN7PpO8PzvXnr2bSvPfEhr7UmXxie01r6itfZLl7730621q7Zc63u3zb9EfO/C/z/fGAD8b9r8Tw4el89om7+u/K7W2gf7Sx2TAMBOQeIW22Yh4xZtdpNCii+zkCVzkqKZFLKk8B0qHgMA9f4CAAMAl+wXxIgAwIsBgL1cIJ4PAFz3P7smWdAVif9ubg8AXPBF04fI2kh8DwBkug8A5HEE5QDHXtwB7MuNawGAkcjpyD7+BOCSvEdr7ZWXvvuO1tpTzO+3tgF8v9Na+9sr/3/4Dr7W2kvLXC8dnOu4fExvPP7xj//rdop3AI6AEJJYVSFmFydGwU+ecROsml8V00OJ3dST3Jco3NV66pqf/ILNmDVHoGFAjQuxLwBRemc9OwcwB9E9ahAGfMktuIldSHsRNkvWo6BPvd+t3td29fnNqDBw1lQCnczuhlPFLgBhvQJaFabSdkixC3xGnYP9PFjbLC4AP1TnUM9zdjdksYUKAGfP3bQ81B2AJG66wINAt148IHGenC05T7kWAClkw2WeP/ErpD8TEpC4PFKzKLuQvkvm6YA4df7ItwmYAn6i9lTXoAC9a+OkhiK2j/a7B59w90JytJzfGSTXjDyv9k18TL0XDBJT7DMHMcKNF2SPdmzdQ1zrnoNrO64+gF/Ju83L8/sCgJf68F6/Hok8amUfdwAqee+2+ROEbzK/+2Ht6B8Peai19lnimfNtdwDw77bNXwX+8cG5jkvv/sFpBACKZ1RSDQAMAFw4lwDAdf0FAF6UhbVqCgMAT55DAKDWt8y3qvEJADz53YFGcmjOAMAAwI59kb2QHC3ndwbJNSPPq30TH1PvBYPEFPvMQYxw4wXZox1b9xDXuufg2o6rD+BX704ACEck8qiWff4rwMfl4X/A46HW2v9gfO+bLn3n7a21LxDj35W5byufL/1pQSL/z6W5fm3L7ysJAAwA7I8AwJM6F/vtnXUA4Lr+AgAvysJaNYUBgCfPIQBQ61vmW9X4BACe/O5AIzk0ZwBgAGDHvsheSI6W8zuD5JqR59W+iY+p94JBYop95iBGuPGC7NGOrXuIa91zcG3H1QfwqwDASGS/8kA7MuR3ttbec+W5p7WN0d+65bteVuZ4mvG9VzUDnB0b57Zc68NgdNcA8BH3V4DVUI2hCtyyaDIa7hOjkxzlul4khphbwjpVKNcGuhTBSgeogBJ7lQ06AVUEWoqhdDK71wQUOGoetZ4nXbsZ8hnQIC3aGQCHqGBRegMNCymUUIFrNj6zwkroD/lTmX8G+irQEff+1efrUP6q9Ibgumq+SPO4BIgGCnUVU4itoZgCbATZCwADyt8kDBZguMLACobVd9X9kW68Uw0GASG9pmUWu0CD456PtAUQh1GMAN8l8RxBRTLM2Cr16Ta2pl+SRrW7R7Be6avKH0itZOYLkqdIviO2KdcM8q+9d/A8sruResA994WzUu+UfrsH3ZPnnbi6pntUu43Ud2Y+3ZXtk5ho63DbuGfGzyG/Ip+Xkb8CHIlsL3e2DSz7uJXnXlyee/qW73pVmeP4v+JLv3caALD+FeB/v8X3h+RU/hEQkGgCAJeLrQDAAMAAwKMRAMjORMUUYmsBgAGAvRxL4jCKEeC7AYAn9RAAqM+E7MVecwBgAKBTu43Ud2Y+3ZXtk5ho63DbuGfGzyG/Ip+XsS8AmH8EJPJYkI9tG1j2SvHM49rmX+D9o9bae23xnr/dNv+IyJ+11t53iznW5Hzb3R2AN5a5bhycy5YAwH4x1S1SAgBPFDLyXQGAYwViAGAAoNEUBAAGADqNEsmxJA6jGAG+GwB4Ug8BgPpMyF7sNQcABgA6tdtIfWfm013ZPomJtg63jXtm/BzyK/J5GQGAkciYPPzXgP+qLf/V3OvbBoidP/b//k5r7XM7879Pa+3fljm+a2CtSs63PgA811r7yM48n9E2/+DIn7fWPmQnqzPkVACgSHCksZ4VvqXhQffEiYJkBpXE89N6VbGr3ikSu9uwSOhkFjiz7wrYMXI+EniqeYAOyXfVPG4hrhooUuAsngspTFXRXG1azQOAFWkQCARzwSMpHN3mTkGiCv3kfYD13j9xf5QsHok+Xf0o392ycSAx0y2gXQBI4h2JTSg+Cpud3eVXAbC4P0zdAShtxGxCUUxRfun6WSdfyEYJ5BFkx2B/aG078qWRMyHxdHZ/KNAbykd1/SqXkeZ+ALR0fdvdB9CB/Qypp0x44J6/e1bu3q2zWlkz0oObm7ZdC3hegmxV4+7KTgngMp9H5zxQRxDdkrpm6xix4pfOPMQHiP/Y/mD6eZ0/ADASGZOPbEd/Ku+h1tqfttZuaK19fGvtk9vmH+B4qLX2m6219z/23XOX/t9vtdbubq19Tjv6q8Qf0Vr71NbaS9rRP97x8By/37x/AITK+dYHgJ906f+/qR3t8dNbax/djv4u/+e3o3/c5OG/+vtQa+35e1hnVwIAl59fKvJmCSgA8GgEAAYAGgVUAOCC7/YKe/C56zMj/iabCLNxDABc8EvXzzr5AjVtAGSRfKH2FwC48C619wBAZLMyXjjAam3vJP4HALK1gOcDADuxzNQtqWu2jhErfunMQ3yA+I/tD6af1/kDACORcfnM1tqfNH2X3m+21q5c+N65le8cH29qrV2+p/WfbxwA9sa7Wmtfvqd1diUAcPn5pSJvloACAI9GAGAAoFFABQAu+G6vsAefuz4z4m+yiTAbxwDABb90/ayTL1DTBkAWyRdqfwGAC+9Sew8ARDYr44UDrNb2TuJ/ACBbC3g+ALATy0zdkrpm6xix4pfOPMQHiP/Y/mD6eZ0/ADAS2Y2cba1dbEew713t6L6/X2itvbDpO/se147uEXxRa+2HW2tvba29ox39deI/aq39Smvt21pr/6S19rf2uPbzrQ8A37+19oWttVe01n62tfY77Wiff9la+79baz/Rjv7E4t/d4zq7choAEBX9ZjJAyZEkzV5CrI2MADQySZUCEYEsUlyYyZ8UfKSAVvtFcM8EFeRs7YJFgUoAIevnspndco12IVXnF3AMfddtQITtWL5Ez7N8XqEMufetNugKBhGdEJuS9mX+IOH4MPlc6VL6gIgFch6iJ7fRALY5g3g3Lg/3bsA6ZnBH6Zk0aKavq/jSnYcAKLe5VGeozlPFz5FGFnxO7EjqxI2b5DzJD4IkzqqYAvImsaNd5wVixyRf2CBm4Kxcfbsxzh3EX9132XkCnOmijQz40tAayedGvsVnYtod2ruKWabfuP2UfJfQG5mzGwdVrAFrd21kH/4ZABiJRA5GAgBF8l1ITAGAJ0cAYAAg9iV6nuXzAED/c6XLAMAAwADALeImOc8AQPn+AEDDjgIA2RrJ50a+xWdi2h3au4pZAYBDNrIP/wwAjEQiByMBgCL5LiSmAMCTIwAwABD7Ej3P8nkAoP+50mUAYABgAOAWcZOcZwCgfH8AoGFHAYBsjeRzI9/iMzHtDu1dxawAwCEb2Yd/BgBGIpGDkVO5A9BsNipoI9BNJcHa0BFws5RI1NrJ53Wo5hLBN7coBJCFQAqlY7dAQIUYaTDNhC7vegSFmLtfR2ek8EFwFJy5/QywBbdxk+epnhFzuqAHAUDlZ26xO6KrzvfI3O6eZDGtIKG5NmKn6l2zWCkaTHLmdVx9y2ao+yPre6V+VMOlYBxp4oieQfPTO1tii2hO0qypmC/2ZD+jYj7I7ST+IvsFMcL1RXQWKo6L8116l3o/yZnuQLo0bcrZ61ru25m9mzYo12bqk8Qgt5ZA9eaS7kktYJ4D8Vv0LmKrO4rJ7n6Hzr8OkLvdPGH9IKV0taPYQXLsCASVvUyZMwAwEokcjAQAiqTcSYzk8zoCADsFhdp7AOBQoWk/A2xB6okUdAGAAYAPPx8AONxs9vTt2iKaMwBwfU5TbyQ3Ef9T57v0LvX+AMAt7d20Qbk2U58BgPBdxFZ3FJPd/Q6dfx0BgAGAkUgkQiUAUCTlTmIkn9cRANgpKNTeAwCHCk37GWALUk+koAsADAB8+PkAwOFms6dv1xbRnAGA63OaeiO5ififOt+ld6n3BwBuae+mDcq1mfoMAITvIra6o5js7nfo/OsIAAwAjEQiESqnAQAJeFDBV4G7HohZLTDU3XwLz8tix707ToDMWcENCnu5XgIGQcInha8qcFzgptZAPh/5rl2QgsL64f+Piu36HgKRSPEPChx0/sLWhoAxKbgHQI+8D7DcGTeDSmV+GUfMxkCeL9BDD6Cjs1U+b8YUcqcTAl8qPoK4qUY9wzrqPX7X3LQZBAwqAEhyjWsL6MceEJeds0V5D8TzkVgzNEDt4MZHkq/RvszcRNbvDjfWb7tG0hzb+gO6JGsbipumP83eS3IceReIj6g2IHEZ+Ic8a+OOyyEdE78aOP8RuyD5d8TPpG+ZdZbcp8jvIzFX2kBPZ7s6ww6kxmei1hYAGIlEDlECAAMASYFLCp8AwADAns7kdwMA7cJX2rHZcAUABgD24nkAYCd+gfMn63eHG+u3XWMA4MJ7AwCHfMaOX8BXR4Ztm3uIBdK3zDpL7jMAUJ+JWlsAYCQSOUQJAAwAJAUuKXwCAAMAezqT3w0AtAtfacdmwxUAGADYi+cBgJ34Bc6frN8dbqzfdo0BgAvvDQAc8hk7fgFfHRm2be4hFkjfMussuc8AQH0mam0BgJFI5BDl1O8AFMUOSkYiKBMYqD7vNXqo+KvvEUUYuftMFdyzuxABKHUTorseonvVYKq9uM0xOudOYXJ8jNwZ6BS7yi5Ug07Wru5/sXUAzk02HeK9I1B0BnoA3JuN8oyMNeoMB2yQ2MDi+QLIgpo8FYPAPHbjAPSkYr7Uqzj/2ZmDYUPiai+mbhVgJvlj23OXEM9sTN0GjfgJifkkTpH3kudlDAJxEw1zPW58Qf5HmllgA9ueM9K9G1fVM8B/3HWS2I5iPhhyL+C9cg2gDkU66ZwR8QFSd9ZBALMLxEZswf0BaKS2dnMoySlDsUnNSermpbUNxA5XH+7+rPrs+gDASCRyQBIAGADoricAcN02esVFAOD6egIA9XsCAAMAAwDZvlAMCgAcWi+xkQDAzjkEAAYAGjmU5JSh2KTmJHXz0toGYoerD3d/Vn12fQBgJBI5IAkADAB01xMAuG4bveIiAHB9PQGA+j0BgAGAAYBsXygGBQAOrZfYSABg5xwCAAMAjRxKcspQbFJzkrp5aW0DscPVh7s/qz67PgAwEokckLw7AaAas+CrGkZQ1KjCc9tiB92hJNZIChNU5IHk/KRrNwMVrEQ3BHCQwpeAXlIQiQJEnbkEpGIN8s7GzjyqGHXf7xaXCkC4RZCywTo/eV7pgdjR7F3Et4DOSUMi7Y7EINcPFtaM/M31GQEOCHQa8n8Qs0ij5zays7MVcJ34B4HWbgMl927Ce6upAfZHPie+RIaMC25s2pX9krPdQ+4jcYqAIeJnNP4cf5bog8A9Yl8j5+/Og85TvBflphE72pGvSJ2TPNiJg8heXBhl1sdurB6KBXVt4scp4ucjMcI9czI/8huhZzVPD5rubB/ibEfyc/1c1dMBgJFI5GAkAHA58SwWIAGAO22C5DxmIRsAGADY0zlqfJTdBQD6/g9ilmyywEC2HACI7I98HgBo2L5pCwGAY+fvzoPOU7w3ABDai1njuPWxG6uHYkFdWwBgAGAAYCQSOQQJAFxOPIsFSADgTpsgOY9ZyAYABgD2dI4aH2V3AYC+/4OYJZssMJAtBwAi+yOfBwAatm/aQgDg2Pm786DzFO8NAIT2YtY4bn3sxuqhWFDXFgAYABgAGIlEDkFOAwC6gVs1cbJQBvdKLSWmE/Bu22YXFClyfyAhK9AgPxeNLyncCUxTSVaBW9TI1CKC3MVHmvje3SQrZ4cA74LduUWtazuk4XLhmBqyGBU26Pqn0qW830/c0Va/W+93k/dmCd1K/buwQeyLzNOdD5xhD54d1xlqEMzGsbe/1QJdQRBxzsRe6ph9l4BztR7hE6TJme1f+YdqWo1GVp6JgI7orMz3onznNnEjTd+IPQKdkDVIfxI2KO9gJTFrQefobM09ofi1h/Pcy3rUWZHYTmKoGyNUDeCuGcRrx5+lzYFzJmeF8ouqTdw1mHWqbY8qX+zK9s3cQOoB0jc5sXQ2jxnTiJ5G9FefVz94BwBGIpGDkQDATgI1CzhUYJGGCBQOAYDrxWYAoF5PAODCeSn9BwDaYGCoQFdAJADQbvLkmQQAbmePQCdkDdKfAgDt89zLetRZkdgeAIjOmZwVyi8BgKsxhawnAHD+fABgJBI5eAkA7CRQs4BDBRZpiEDhEAC4XmwGAOr1BAAunJfSfwCgDQaGCnQFRAIA7SZPnkkA4Hb2CHRC1iD9KQDQPs+9rEedFYntAYDonMlZofwSALgaU8h6AgDnzwcARiKRg5d3JwAkxetI84BAnyjoekWKKvhUI17fSdYlm/uB/c3utSPNLniXAoxq1PsJyfOkkCCFVX1e3d0ygwFq72ptvfWWfav3yCH2N4Nd1QZVYUWARd2faHCQPpTd1X1V6CdATP2cQJ/6jAQ9I42BCYAQPHQKezI3aIhcfagYJPc00GQR0OfawjU3lnHTZigfIvkFxXSjUVqzBacJU74nGyi38TVjtXxe+DkCCaSmAE2wuy8So4cafeU3qlZS3+3tXZyDivPS7lyfAXGNxAuyHmQ76kciUJsQPah8h85zD/p0fbo3J4qHRH+7yslC3yqWkr3Y73J9fiRf7CpmkToexNAl3bp7dXMp8RMUJ6v9iho6ADASiRyMBACW9wYA2roMAJzrTa43ADAA0GwArHUBe6nPBAAGAC7mMnCGbqyWzwcAcr9RtZL6bm/v4hwCANfPjcQ1aZsBgLZ92zlZ6FvFUrKXAMCOTXV06+41ADASiUROQQIAy3sDAG1dBgDO9SbXGwAYAGg2ANa6gL3UZwIAAwAXcxk4QzdWy+cDALnfqFpJfbe3d3EOAYDr50bimrTNAEDbvu2cLPStYinZSwBgx6Y6unX3GgAYiUQipyCnAgBFMlXBWt2/gCAHSOKymOokD5I4ULIDBYVKvKSwcgsNUiySZqcWESMglCTuWcEAgJcsxEVRToqQrXVPzs0ER+Rz1aSQOxfl86CglzAbAEAF9MiYzUkaPbPYVHqzm9Ol81fNotnkEVj7/7d399HWXGVhwJ+85IUQApWQShCVCAq1IPIR+VDsesEiCKJrFZHQVWlEEKjQ1dbUomLXCwolxdKuFhSFQkBRtKggULGiRBREaKlgKwFBQwFBCSCfJkC4/WPO8ex73vOcefadc+899/L7rTULcmfOnj0z+9l7z3PmnZO2nd42mL0Tq3Nflff4Zduk7eFHm6XSXio39FNisTJOjfX7lX6p0BdMSl503izu6gOyLwaypFLn8VaSBz19+7pj7L3m6TheqGeWjO+Zk7RfSGV9cmXs7T2m7vaV9UdJorISY6X5WuF4e89DZdzpTmB2xm7vGLeyzhvq67JxqhKf6flP5qNZ+yotvWPBhvqdyjy7dP4LbWpTDyX0xE1lP5VYrcRJ77wp20YCEDg2JADrg1flpqB30iYBKAE4eo4LZfZOBHe1KQnA8o1q5bxJAO7hsxKAZ45TY/1+541MpQ9Pt5cAXHuMvddcArDYvrL+SAJwbRvJzm3vGCcBWDzH2TFO6HckAGuxWomT3nlTto0EIHBsSADWB6/KTUHvpE0CUAJw9BwXyuydCO5qUxKA5RvVynmTANzDZyUAzxynxvr9zhuZSh+ebi8BuPYYe6+5BGCxfWX9kQTg2jaSndveMU4CsHiOs2Oc0O9IANZitRInvfOmbBsJQODYOIgEYDa4p+/9SQbuXYPBlMRNYaCc1ysbjCo3i71L74S197hLE9C2zMq75Ar17x6gs0lQcrxZndNJSjbhqiSJxiZ3U2462vKSSXtWr0rCpU2U9H62Ure0vSQxnLWd7N1tWbImfU9gss2kuOxs76XJ7Ir2V3lHX+kGZyTpuK499iYyKzdQ3TcsyTlJE4PJsqtNte8AbBKDWYKxktjsvSHpPT9j/Xl34qDzOkwZ1yp9ftZvV/re7uOacMPYW37lxj0ds7IkbeFmuWucnXAOSsmaznlHGm/ZvrJjmXANp7Tryheblf50SvtN+/psjpOct9F9VuZGSd17vwAutbvOOvReh/R4O9vglH6tMo6Xzs+m+tax+UDnXDotuzAnLl23rG8qHLcEIHBsSACuHqgkACUAJQBX11MCsN7eJQDX1KHQD0sArilDAnBvx9U7Hk0oXwIwr3tapgTg5Pab9vUSgJOuQ3cCrfL3zn6tMo5LABbbhQQg8MVKAnD1QCUBKAEoAbi6nhKA9fYuAbimDoV+WAJwTRkSgHs7rt7xaEL5EoB53dMyJQAnt9+0r5cAnHQduhNolb939muVcVwCsNguJACBL1YH8g7AbLJUuGne9Z6gZDLY3qxVblqzCVFPHSsTvu4kS7Z9Vvfks7sSPZUJbvvZ7P2Lyb6ym5E0SVg4D7vKSZJHpUl2of5TJic926YJy0KCqNJe0joWzk1p0lm4ke1OyifHmyXuskRf5Z1upYRadrydNwOV7VfuK/tc5YaicLOQxmRlv4U6lNpyb8Kg+XtvojdtF4X3CvYm17pvSAs3NlP6hp7rWfps541spQ7d9exNeGbnfsr5yfY75SY+6yOy4y2MWbvmUKv6395rVZm/FM7xlL6mkuyc0of2nuPKOD6pbpWYr8RBbxscq09njKX1TfrMyjuGd7Xr5n2WvWNNpb2nXyR3Xufu/row303n3JW5b7vvZgyqfAGTXaNV41q2vtTvZdez3b4wfmax2tv3SQACx4YE4OrBo2eiLAF45iRFArB/MlKa8BcmoJXJf+Wz6cRdArB8s1Y5XgnAvI9o/y4BWO8beq5n783opBiY0O4kAM9cKmOxBGCxXUgA1urTGWNpfSUAy32BBOCa45MABOgnAbh68OiZKEsAnjlJkQDsn4yUJvyFCWhl8l/5bDpxlwAs36xVjlcCMO8j2r9LANb7hp7r2XszOikGJrQ7CcAzl8pYLAFYbBcSgLX6dMZYWl8JwHJfIAG45vgkAAH6HXQCMBv40oROZ1Kh/Xv23q9s8rBqQMoGzzSpkU0Eem/gOm800sEueS/blDpXjqV7YlgYoNNrkUwAK5PWyuQrPd4Vk5lsffoOusI5njKx7r0pqEzuS+epMIlLE1JNzLfvaMve17brPXEbeo9bduxZIrEy6e86t73nvhDDlYl4Vt9KErfUZpP+vHIz0Pvev+wdgNk2aRsp/L3SLipJhZ4b7d6kTOVLk00lFLr7qUJ8pu8v622D2X57Y3jKmFIYi7OlMvcY/SI0++JzQr9TmhdU2lEhcVO5ia8kG0rnvDDvK7X3ynjRWedK/9J9LUb6gCntuzQWtOc7SwYWlko8jz4AcNnSQwjJuSy1x975Qme/VjrnE9pd5TyM1acyvqRzk86EbnfsFY5JAhA4NiQAJQB761yaXPYmsAqTqfRaSABKAEoAjsZwdn0q9ZUAXP93CcDiIgG4PqYLiwSgBODoeZtyLSQAd7c1CcAzrkWlr99L21pXFwlAgA2SAJQA7K1zaXLZm8AqTKbSayEBKAEoATgaw9n1qdRXAnD93yUAi4sE4PqYLiwSgBKAo+dtyrWQANzd1iQAz7hZ8SeaAAAfH0lEQVQWlb5+L21rXV0kAAE26CASgKUkVOHmtHvgawf3TUy+KxPfQoKj9xyUJnnZfguTo8qELp2gtRPizklZ7ySie+KZ7bcw8dw1ASwc42h5hUltb1Km0tbSffXeFOzDNtm5qiR9Ku93y94TNyXuK+2ltw9YFduVG/Rd7TjZPus7sv5l15cjlaRf8vdKEr+3vaTv92uTw4V3Q2btpXIzmCahsutfSXj2xsfI+qzvysbhKQnx0va9S+F8ZH1yKT4L17DSF1TGuCljYjp+VI49qX/Pl5aVc5n+PSs/G6c6Eyi95y+dgxbOXxoflXlNJeGR/H3XOZkQo+m7TSvz4xXjcuWaV461MpdNx5HO87prycbNQnvJ6pbFZGUMLbXfwgMPpTguxGXls5Vr19VfZOejMieunMtKOy3M5yQAgWNDArBj6ZgkSQD27bc06eic+Kb7lQCcNlHa0DbpJE4CUAJwRf0lAPPYrfRdEoD1a1jpCypj3JQxMR0/JAC7z58EoATg3y4SgGvjsvJZCUAJQOCIkwDsWDomSRKAffstTTo6J77pfiUAp02UNrRNOomTAJQAXFF/CcA8dit9lwRg/RpW+oLKGDdlTEzHDwnA7vMnASgB+LeLBODauKx8VgJQAhA44g4iAdguvTctpQl0YVKZ3gCM3GB0JyM7JlLLS2Wy0z0IFwbZ7pupwo1JdjPd+06XKXWrTDYrNyfdk/6RSWplYlKaZBcSOpV2VLkO6Q1F57nJJs3tNm35u5I+TaLnDk9eLN3v/ask6ArnoXSzUZlgjm3bGdvdCYJC/PQed+Wmr9R+m2tYer9fcv3TNlK4ua/cZE1qC4UxY7S9FK5Pmuws7Kfy997+q7TfzvNUSgwUxoLK9WzHsmzsK8X/hurTk9isXMMpicaetlseE9u6Fb5ULvV3lX4wS5r1tveszWb9TpaEmjC2dvf7K9b3vnO5lGQvxHnaZto5dOcXnqU+vy2nENvpvLxwrirtN/syM70PSvqpUv/SO1daUZ99GV8KsVQqv7PdSQACx4YE4PrJlATgyECZTJokAJeub+/NTmWCKAEoAbiivhKAEoCrtpUAfNbacbO3jUsATru23WNiWzcJwD2Nrd39/or1EoDrY1sCcHd99mV8KcRSqfzOdicBCBwbEoDrJ1MSgCMDZTJpkgBcur69NzuVCaIEoATgivpKAEoArtpWAvBZa8fN3jYuATjt2naPiW3dJAD3NLZ29/sr1ksAro9tCcDd9dmX8aUQS6XyO9udBCBwbBx0AnBXx5rdhCSToGzwSge1ZOBu/56+G2xkYlRKyiWDSJZAyZKBUyYLvYNgZfvK5LL3nTvZjUw6sUrOeeW4uicGnedt1XGk13xDk8LKRKayVK5JesNamECXJlxN+dl739IEUJLkqLwDMGvjpRuSQjKr68amd7JdmTRXbnAq7avQ93YnXLM+otk+vc7JDXrpPYDJ+wMr9Zz0fr+sr++I9coNf+lLjQ0d3646FBJxlfbSey6ztpPGajYWZF8eVG4eK/1goc+tjH3ZftPjXfXFZ+E6p+NCoe6VvmbScVfOZdLWuvvHQjIwPbeV5FHvHCTriytts/Ju7hXnZ9c42ZTRe0yVPitNanWOX73tOh2PCv1C+oBB5Z6hMgfMzk9lntU5Nyydnw0spfPXLLvmc519QboUzqsEIHBsSABKAPZOoCQAi+VLAEoAdrapsf6l96Yw+6wEoATgaH0lACUAx8aFQt0lAFcshXlEb18vAVhrv73tZVf5EoDr5xh7XErnr1kkAAEmkgCUAOydQEkAFsuXAJQA7GxTY/1L701h9lkJQAnA0fpKAEoAjo0LhbpLAK5YCvOI3r5eArDWfnvby67yJQDXzzH2uJTOX7NIAAJMdOAJwAmTqdJAX5ncVyaqm5hodk6IR+uSTMhKE/51k/vCNllipZL46L15qZzzdPK4oRu3UpsauZnZ1E1K701QbzndNxQbmixWjj1771uWGCy9G7AwGeyeNFdubEfafqkuhf1PmdhPOQdZQiq9gUriuXJjkF3bLDGcJQ9L7wOc0MYrcVn5++i7Uzv3n47DnX1dd3+e1TmrT+f57k24lcbfZJt0zK0kMLOkZWUuUYj7sfpM6WtKY1bHODm5HU3p+5J5Z2l+kfVfWX9XGYuzeXDz99LcsHLtOudco9entw/qbVOFZGB6T9HUs/fLwEnnNevjCm0/Sx5P6dcq9ek9lrH+t3seWek/Cw8J9CZKs7bT1l8CEDg2JACTgWpkoKtMZEv7qdyAZBOPys2IBKAEoASgBGDxWk05BxKA9UUCsFifzvMtAXhm+RKAef0lANefw5XXaMK5n9SmJAAlAFfFSWUskwAE2E0CMBmoRga6ykS2tJ/KDUg28ajcjEgASgBKAEoAFq/VlHMgAVhfJACL9ek83xKAZ5YvAZjXXwJw/TlceY0mnPtJbUoCUAJwVZxUxjIJQIDdDjoBmN5wFm6+eifKlX2NDjC9E+/CIJxNHEdv8qoT3MJgV5oIFCb06WQ0GVizz1ZuDEqTssKxlCa+nUnLscRaNkntnZClk8JsEtYZG5U2Xjofnec+O8be5E6a9Omc9Pf2R5X+YLRvKMR2KR4q57jSNxbivHeSXWpHhfIr74BME31J+8riqRLTaV9WaEfdSauOfi87juwdSqXxuTB+9vYXlTisjJVp8jBLuFT6xM4YTZNBnXOQ0nkrjOmrztWmjrW7P0rOUym5k9Q5axfp+JvNL5K2VjmW7Jrsqk+lDWaJi+xL2kLs7rlP6WyXpXjLElmFGO7uO5Jz1nv+su0rbap03nr7piz51Rl/aRwUxq9KEnqv/UupXoVxKovtUjtKypEABI4NCcBkEJIAlACUABxvd4U2LgG44jzvMbZL8VA5x5W+sRDnEoASgF1Lb8xIAK4/b4UxXQJQAnBPfUpnuyzFmwTgmedNArC/XoVxKovtUjuSAASOu5MnT+5ExM5ZcdbOTc+52b4vN7n5LSzZ8iXNcth1sVgsFotlGxdjpXN1FI512+pjsVj2vGz6fvisOGsnInZm9+EAB+oLEbFjsVgsFovFYrFYLBaLZf+XEydO7ATAAft0RHzh5MmTOxdeeOHnx5bzzz//+ph1Wueff/71lc9YLJb9W8SkxbJ9i7i0WLZrEZMWy/YtX6xxefLkyZ0TJ07s3OhGN7r+kO7/AcoujsU3Fxcfcl0AMQnbSFzCdhGTsH3EJcCW01HDdhGTsH3EJWwXMQnbR1wCbDkdNWwXMQnbR1zCdhGTsH3EJcCW01HDdhGTsH3EJWwXMQnbR1wCbDkdNWwXMQnbR1zCdhGTsH3EJcCW01HDdhGTsH3EJWwXMQnbR1wCbDkdNWwXMQnbR1zCdhGTsH3EJcCW01HDdhGTsH3EJWwXMQnbR1wCAAAAAAAAAAAAAAAAAAAAAAAAAMCW+cqI+MmIeEdEfDoiPhoRb46IyyLi3A3u54ER8asR8f6IuG72v786+3vV2RHx2Ih4fUR8OCL+JiLeHRHPjYi/31HOLSLiKRHxtoj4eER8Yvb/nzJbV3XH2b7fPavLh2d1e+ysrlXbcG6+JCLuHxE/GhEvj4i/iMXLZK8s1uE2EfGYiHheDG3ovRHxmVld3hcRvx4R3xMRJ0fKuTgifjAiXhoRb4+ID8ZwXj4ZEe+MiBdFxH0L9fnKiHh8RPzS7HOfjohrYzi/r4iIR0TfdTooYlJMRhzPmMx8WyyObSciTk8oa7+IS3EZcfzj8mREXBoRr46I/zcr75qI+OOIeH5EPKyzvP0kJsVkxPGOyW+NiF+MiD+b1efaWX1eHhHfHRFndZR1UMSluIzYrrjM3Coi/noP9drU9YZD8eDY3fCXl6si4rYT93FWRPzMmn3szNaPDWK3iIg3rSnj2oh4VKE+3xC7O6Hl5QNR+/Wk75vtMyvnD2K8E9imc/Pnaz5/5chn535i5Fjmy9sj4qvWlPP7xXJ+OSLOScp4akR8oVDGW2KYrGwLMSkm545bTGZuEhFXL5VzurOM/SYuxeXccY7LO8eQ6FtX1l8Xj3G/iUkxOXccY/KGMXx5PVbO6yLi7xSP8SCIS3E5t01xmXnZHuq1qesNh+LrY/hmZieGb6Z+JCLuHRH3i4ifjUVDfkdEnDdhP09rynprRFwSQ/BcMvvv+bqfWFPGDSLid5ttfyWGbzHuERFPjIi/nP398xHxgDXl3DoiPjTb9nMRcXlEfPNsuXz2t53ZNrdeU84DIuL6ZtsnzurywFnd5vX83Yg4saacbTo3VzdlfCgiXhl9HWLEkHT7o4h4dkQ8OoaJwMUxfNv56Ih4Q1PmuyP/JvC3Z/t8egzf7Nw/Iu42q/8PxfBN6LyclyZlPH+2/lMR8XMxPNHwTRFx94j4JzF8kzQv410xrY1vipgUk62rmzKOQ0xmnjX73Py87MR2JQDFpbhsXd2UcZzi8s4R8ZHZttfF8JTHd8YwZn5LDDd7L4nhqcDDJibFZOvqOH4x+VPNdn8Zw1OF942I+8TwL1vaY3518Rj3m7gUl62rmzIOOy5XeUicOfccq9emrjccmtfFogHfe8X6fx2LgPi3e9zHV8ciGN4SETdeWn/u7O/zetwuKefSpi7PSfbz8dn6d0X+mPQVTTmr/hnLw5r1L0jKODsi/nS2zceTOj+nKeeRSTnbdm4ui4iHxu6n4Xo76srj6f+pKfeJeyznxhHxxqacr1uxzeUxTLZumpRxg9j97eqPjezzIIjJM4nJ4xOTq9wthknktTH8M4/5508XP38QxOWZxOXxistzYvjniTsxPNlwpzVl3nBknwdBTJ5JTB6fmPzSWCSDPhoRX75im5vF7ies7jay34MgLs8kLrcjLpedF8OXWTsxJOqr9boipl9vODTfEIsG+txkmxMR8SexGID28u/r2w7rXsk292q2+S/JNv+3qUeW3X9SU85DV6y/ZQw3mjsR8Zo1dX7NbJvPzz6zrA3uJyVlnDur604M/5xmlW06N5nejrrilk25/21COQ9vyvmBPZZxixiedNiJ4d0Nh0lM5sTkwnGKyRtExP+Kxc3AqebzpyfUY5PEZU5cLhz1uHxys82pCfs6CGIyJyYXjnJMfkez/j+sKeefN9s9YUJ9NkFc5sTlwrbE5X+ebf87HfXa1PWGQ9M+InzPNdu1AX7/zn2cFcNLR3dieNx7natm270vznwvwdc0dfjpNWVc2Gz3khXr26dLHr6mnEua7R6zYv1LmvUXrinnuc12X7O0btvOTWY/OurzmnJfOaGcb2/K+cEJ5cy/DfvUhDI2QUzmxOTCcYrJy2bbvjMibhTbmQAUlzlxuXCU4/IGsTjHr5uwn4MiJnNicuEox+R3NevXfZn24JFyDpK4zInLhW2Iy3vE8ITtdRFxh456bep6w6F5fQwN81Ox/vHae8eiET+lcx+3bT6bfRs0176wdPklno9q1l0yUs78n7C8d8W6F0etg71Vs92LVqyfPzJ81UhdHtGU871L67bt3GT2o6NuO9BnTiinHTAfPKGct8/K+MSEMjZBTObE5MJxicmLYvGuoG+Z/e1U8/nTE+qxSeIyJy4XjnJcfnOz/p81fz83hn/qdatY/86pgyYmc2Jy4SjH5J2b9dUnAB8yoT6bIC5z4nLhsOPy7BjeKbgTw/sFe+q1qesNh+bDMTTMPxrZ7uaxaMS/3LmP9pupfzGy7b9stn3Q0rpnNuvuMlLOK2bbfSGGX5ZszZ/0qvyC3fzdBm9e+vt5sfhl2ZePlHHXWNT73y+t27Zzk9lUR33zGM7HsyLis7Myr4v8/ROrnIjhUer7RcSvNXW7KmrviFjlS2Pxvozla33QxOR6YnJwXGLyN2bb/nzzt1NNGac76rGfxOV64nJwlOOyfS/XXWN4OuI3Y/EOsp0Yfhzk+RFxm94D2gdicj0xOTjKMRmxeE/gRyLiy1asv2ksflDkz2N4iv4wicv1xOXgsONy/gTqu2P3r3BX6rWJ6w2H5pxYNPRXFbb/1GzbP+jcz+Oa/XzXyLbt4+6PXVr30mbdBSPlPLvZ9g5L6+a/2vN/xio+22YnIj649Pe/15T/7JEyLmi2/cWlddt2bjJTOuorms8vL5+J1S9PXeXqNeVcHRF33EPd5tqB7rIJ5UwlJseJycFxiMl/PNv2Y7H7/SinmnJOF+uyn8TlOHE5OMpx+cJmu8fH4kuxVcvHIuIflI9s88TkODE5OMoxGTFcr/nnPxQR/yqGMfI+MVyDefLvmoj4xmJ99ou4HCcuB4cZl7edbbcTEd+6h3pt4nrDofm7sWjo636Cfm7+89jZS0cz7bfKDxzZ9tuabZffY/HqZt05sd7lzbZ3X1o3/+dmbxqreET84WzbTy79vX3J7TNGyrhxs+3yOwm27dxk9qOjfmn0PUVw9YoyPhfDr/bebA/1mrtnLG503hd9Px2/aWJynJgcHPWYPD8W7fdxS+tONeWd7qjPfhGX48Tl4CjH5Sua7a+N4WmOy2O4WbphDE9UPDMWT6lcExG37qjXJonJcWJycJRjcu6CGH4g65MryvlsRPxk7P6F1cMiLseJy8FhxuVvRd5GK/XaxPWGQ/MVsWjoLy5sP383wbs79/NjzX7uN7Lt/Zptn7y07rebdWPvoXlqs+19ltbN/znL68cqHot3WXx+6e/tu3KeuvyhJSeabV+7tG7bzk1mSkd964i402z5xhhu9ue/+Pl7ceYLbDO3n5Vx54i4bwzn4AMxPOr94hgen+91yxiSfjsx3NSMXYP9JibHicnBUY/JF8RiArV8fk7F4vhOF+uyn8TlOHE5OMpx+dqm/juRPw3/w802Y0+q7BcxOU5MDo5yTM49Mha/yLpquTqGBM7yDzkcNHE5TlwODisuHznb7uMxvKNvL/XaxPWGQ+ObmnG+qRlM6ahXuUEsfsXqoxHx9Xss5+YxvFdhJyLeFsO7UKpuGhH/MxbH9qQ91mGTxOQ4MTk4yjF5KhYTolXvlpmv34ntSACKy3HicnCU4/JVsaj/+2b7XuXsiPiL2XbXxOEkHcTkODE5OMoxGTE83Tc/hl+LIeFxkxjO1V1j8WXaTgzv0jvMH+oRl+PE5eAw4vKCWLyj8gkT6uUJQI4072oY510Ng0131BHDPymaf/v3xgnlfG0s6vf04mfOiYjfaT637tfVDpKYHCcmB0c1Jm8Ui1+Me1by+VPN509PqMemiMtx4nJwVOMyYjjn8/UvGCnr55ttbzuhTnslJseJycFRjslvb9a/cE057RNYPzChPlOJy3HicnAYcTn/9d63RJ4or9TLOwA58g7i15raAWzKLxK134JN+UWi+VNfU3+taV6XKb/WtG3nJrMfHXVExM82Za/6dbOqd83KeFdh27Mj4teb/T5vwn73g5hcT0wOjmpMPmL2989FxKMj4pIVS3sz87Lm7181oT5Ticv1xOXgqMZlxHDO5/sY+ydo/67Z9l4T6jOFmFxPTA6Ocky2vxS87n2b58Ti/YD/e0JdNkFcricuBwcdl1/W/P3yWD33vKTZ5k+av91zaR+buN5wqOb/Nv1Tkf8EfUTEvWMRFE/p3Mdtm88+d2Tbn2m2Xb7Ze1Sz7pKRcuZPmLx3xbr5NwA7EXHhmjJu1Wz3ohXr598yXDVSl/kN705EfO/Sum07N5n96qif1pR97wnlvGFWxnUj252I3U85vDQO959LrCImc2Jy4ajG5KVN+b3LpRPqM5W4zInLhaMalxER/7TZx9NGymmThRdPqM8UYjInJheOckxeNVv3oUI5b5pt+zcT6rIJ4jInLhcOOi4vav7eu1yxtI9NXW84NE+PReNcznC3ntRst/yT2WPOiuFltzsR8Y6Rbd8x2+79ceZ7ZW7f1OGn15RxYbPdL6xY//3N+oevKaf9JuD7V6z/hah1AM9ttrv90rptOzeZ/eqor2jK/roJ5Vw9K+MjI9s9r9nfKyPi5IR97hcxmROTC0c1Ji9tyu9dLp1Qn6nEZU5cLhzVuIwYbgDn+xh7f9evNNuuepH6QRCTOTG5cJRjcv7PB68plDP/EYTDfteYuMyJy4WDjsuLmr/3Llcs7WNT1xsOzT1i0TizbwpOxPAo7E5EfCz2ljT5qWY/2T8XuVezzXOSbeb1+EhEnJts0w4qD1ux/sJY/ILPa9bU+TWzba6P1R3xdzf7yX5A4twYXka6E8MveK2yTecmsx8d9U1i8QLgz0Re5zHti3OvXLPds5rtXhvDu8i2kZjMicmF4xCTmVPN50/vsQ6bJi5z4nLhqMflW2PRfrP93DQiPjHbrvfXOzdJTObE5MJRjslXNuu/dk0558fwBOFORLx9j3XZFHGZE5cL2xqXlXpt6nrDoZo/rv25WP0Ye/uLQqdXrD/VrL8i2cftZ+XvxPDyzRsvrb/x7O/zemQ/4d0+krzqJam3i8W/t3935I+ft4/vrnpJ6sNi/JhOzvaxM9vn7VZs85ymnEuTcrbt3KzS01FfEBEPHdnmnIj4pabcn1uxzT0i4m4j5dw6FgPUTkR8X7Ld6WabN0T9HRWHRUyeSUzudtRjcp1Tsb59HxZxeSZxudtRj8v2BjR76uP5zTaXjex3v4nJM4nJ3Y5yTLZPGv1mDD9ysOzErA7z7ao/hrefxOWZxOVuhxGXm6zXJq43HKq7xpAp34nh0fEfjuGbgfvG7vcDvDNW/0z9qag18val0W+N4bHZi2f/+9Zm3brB6wYR8fvNti+LiAfEMNg+IRaZ/+tj+HnzzFdExF/FovN7RkTcZ7Y8IxYd519FxJevKedBsfgW4EOzOtxjVqeXNfX8vVndM9t0bu4Sw6DSLvMyr1qx7rylz1802/ZPYziX/yiGfwZwl4j4hxHxIxHxnqbM98fqFyjP9/uGGL5hemAMPy9/94j4joj4jzG8gHVezm/F6vf5PXFpX98UEXcaWQ77nwaLSTHZOm4xOeZUU8bpPXx+v4hLcdk6rnH56mbbV83KuGtEfGdE/EbsPv/nrCnnIIhJMdk6bjF5w1j8M82dGJ7ue0wM5+XuEfE9Mfza6Xz9h2L8F1sPgrgUl61ticuKeRlXjmy3qesNh+ohscjir1reGRFfnXz2VLPdFWv2cSIi/uuafezE8M3y2A3jBTH8mk5WxnUxDJBj7hnDz3Jn5Xww1r+/Yu4xsXj0ftXyhzE+IG/TuTk9Uo/l5aKlz1/U8dk3xvDC2lUu7SjnhZE/6n1l5/GsOqbDICbF5NzpkXoctZgcc6op5/Qey9gv4lJczp0eqcdRjcvzYnjaaF05b47t+SdNYlJMzp0eqcdRjMnbxPCLumPl/FmM/1rrQRKX4nLu9Eg9DiouK+blXFnYdlPXGw7VbWJ4T9o7I+LTMbyX4S0R8UOxfnA6FbWOeu5BMfzE+Qdi6Dg+MPvvdd8eLDs7Ih4fwzcg18Twq1fvieHnv+/YUc4FEfHjEfHHMXxL9ckYvmH78Yi4RUc5d5rt+z2zulwzq9vjou+R6G04N6djWkd9IoZvh/5NRPz3GL69/GgM34Z8LCLeFsOg9MA486WzrRvH8GLgZ8TwzwneE8P1uS4iPhxDJ//MiLjzyPFc2Xk8q47psIhJMRlx/GJyzKnmWE5PLGs/iEtxGXH84/KSGJ74+2BEfDaGJxn+Rwy/OrnuyZPDICbFZMTxjcmTMTzt94qIeF9EXDsr64MxJOsfH9v5ahtxKS4jticuK3oSgBGbu94AAAAAAAAAAAAAAAAAAAAAAAAAAAAAAAAAAAAAAAAAAAAAAAAAAAAAAAAAAAAAAAAAAAAAAAAAAAAAAAAAAAAAAAAAAAAAAAAAAAAAAAAAAAAAAAAAAAAAAAAAAAAAAAAAAAAAAAAAAAAAAAAAAAAAAAAAAAAAAAAAAAAAAAAAAAAAAAAAAAAAAAAAAAAAAAAAAAAAAAAAAAAAAAAAAAAAAAAAAAAAAAAAAAAAAAAAAAAAAAAAAAAAAAAAAAAAAAAAAAAAAAAAAAAAAAAAAAAAAAAAAAAAAAAAAAAAAAAAAAAAAAAAAAAAAAAAAAAAAAAAAAAAAAAAAAAAAAAAAAAAAAAAAAAAAAAAAAAAAAAAAAAAAAAAAAAAAAAAAAAAAAAAAAAAAAAAAAAAAAAAAAAAAAAAAAAAAAAAAAAAAAAAAAAAAAAAAAAAAAAAAAAAAAAAAAAAAAAAAAAAAAAAAAAAAAAAAAAAAAAAAAAAAAAAAAAAAAAAAAAAAAAAAAAAAAAAAAAAAAAAAAAAAAAAAAAAAAAAAAAAAAAAAAAAAAAAAAAAAAAAAAAAAAAAAAAAAAAAAAAAAAAAAAAAAAAAAAAAAAAAAAAAAAAAAAAAAAAAAAAAAAAAAAAAAAAAAAAAAAAAAAAAAAAAAAAAAAAAAAAAAAAAAAAAAAAAAAAAAAAAAAAAAAAAAAAAAAAAAAAAAAAAAAAAAAAAAAAAAAAAAAAAAAAAAAAAAAAAAAAAAAAAAAAAAAAAAAAAAAAAAAAAAAAAAAAAAAAAAAAAAAAAAAAAAAAAAAAAAAAAAAAAAAAAAAAAAAAAAAAAAAAAAAAAAAAAAAAAAAAAAAAAAAAAAAAAAAAAAAAAAAAAAAAAAAAAAAAAAAAAAAAAAAAAAAAAAAAAAAAAAAAAAAAAAAAAAAAAAAAAAAAAAAAAAAAAAAAAAMCx8v8BEBvckRIoFXYAAAAASUVORK5CYII=\" width=\"640\">"
      ],
      "text/plain": [
       "<IPython.core.display.HTML object>"
      ]
     },
     "metadata": {},
     "output_type": "display_data"
    },
    {
     "data": {
      "text/plain": [
       "<matplotlib.image.AxesImage at 0x1c1a13e208>"
      ]
     },
     "execution_count": 56,
     "metadata": {},
     "output_type": "execute_result"
    }
   ],
   "source": [
    "# Plot a subregion of the 0th exposure as a 2D image.\n",
    "my_cube[0, 200:400, :].plot()"
   ]
  },
  {
   "cell_type": "code",
   "execution_count": 57,
   "metadata": {},
   "outputs": [
    {
     "data": {
      "application/javascript": [
       "/* Put everything inside the global mpl namespace */\n",
       "window.mpl = {};\n",
       "\n",
       "\n",
       "mpl.get_websocket_type = function() {\n",
       "    if (typeof(WebSocket) !== 'undefined') {\n",
       "        return WebSocket;\n",
       "    } else if (typeof(MozWebSocket) !== 'undefined') {\n",
       "        return MozWebSocket;\n",
       "    } else {\n",
       "        alert('Your browser does not have WebSocket support.' +\n",
       "              'Please try Chrome, Safari or Firefox ≥ 6. ' +\n",
       "              'Firefox 4 and 5 are also supported but you ' +\n",
       "              'have to enable WebSockets in about:config.');\n",
       "    };\n",
       "}\n",
       "\n",
       "mpl.figure = function(figure_id, websocket, ondownload, parent_element) {\n",
       "    this.id = figure_id;\n",
       "\n",
       "    this.ws = websocket;\n",
       "\n",
       "    this.supports_binary = (this.ws.binaryType != undefined);\n",
       "\n",
       "    if (!this.supports_binary) {\n",
       "        var warnings = document.getElementById(\"mpl-warnings\");\n",
       "        if (warnings) {\n",
       "            warnings.style.display = 'block';\n",
       "            warnings.textContent = (\n",
       "                \"This browser does not support binary websocket messages. \" +\n",
       "                    \"Performance may be slow.\");\n",
       "        }\n",
       "    }\n",
       "\n",
       "    this.imageObj = new Image();\n",
       "\n",
       "    this.context = undefined;\n",
       "    this.message = undefined;\n",
       "    this.canvas = undefined;\n",
       "    this.rubberband_canvas = undefined;\n",
       "    this.rubberband_context = undefined;\n",
       "    this.format_dropdown = undefined;\n",
       "\n",
       "    this.image_mode = 'full';\n",
       "\n",
       "    this.root = $('<div/>');\n",
       "    this._root_extra_style(this.root)\n",
       "    this.root.attr('style', 'display: inline-block');\n",
       "\n",
       "    $(parent_element).append(this.root);\n",
       "\n",
       "    this._init_header(this);\n",
       "    this._init_canvas(this);\n",
       "    this._init_toolbar(this);\n",
       "\n",
       "    var fig = this;\n",
       "\n",
       "    this.waiting = false;\n",
       "\n",
       "    this.ws.onopen =  function () {\n",
       "            fig.send_message(\"supports_binary\", {value: fig.supports_binary});\n",
       "            fig.send_message(\"send_image_mode\", {});\n",
       "            if (mpl.ratio != 1) {\n",
       "                fig.send_message(\"set_dpi_ratio\", {'dpi_ratio': mpl.ratio});\n",
       "            }\n",
       "            fig.send_message(\"refresh\", {});\n",
       "        }\n",
       "\n",
       "    this.imageObj.onload = function() {\n",
       "            if (fig.image_mode == 'full') {\n",
       "                // Full images could contain transparency (where diff images\n",
       "                // almost always do), so we need to clear the canvas so that\n",
       "                // there is no ghosting.\n",
       "                fig.context.clearRect(0, 0, fig.canvas.width, fig.canvas.height);\n",
       "            }\n",
       "            fig.context.drawImage(fig.imageObj, 0, 0);\n",
       "        };\n",
       "\n",
       "    this.imageObj.onunload = function() {\n",
       "        fig.ws.close();\n",
       "    }\n",
       "\n",
       "    this.ws.onmessage = this._make_on_message_function(this);\n",
       "\n",
       "    this.ondownload = ondownload;\n",
       "}\n",
       "\n",
       "mpl.figure.prototype._init_header = function() {\n",
       "    var titlebar = $(\n",
       "        '<div class=\"ui-dialog-titlebar ui-widget-header ui-corner-all ' +\n",
       "        'ui-helper-clearfix\"/>');\n",
       "    var titletext = $(\n",
       "        '<div class=\"ui-dialog-title\" style=\"width: 100%; ' +\n",
       "        'text-align: center; padding: 3px;\"/>');\n",
       "    titlebar.append(titletext)\n",
       "    this.root.append(titlebar);\n",
       "    this.header = titletext[0];\n",
       "}\n",
       "\n",
       "\n",
       "\n",
       "mpl.figure.prototype._canvas_extra_style = function(canvas_div) {\n",
       "\n",
       "}\n",
       "\n",
       "\n",
       "mpl.figure.prototype._root_extra_style = function(canvas_div) {\n",
       "\n",
       "}\n",
       "\n",
       "mpl.figure.prototype._init_canvas = function() {\n",
       "    var fig = this;\n",
       "\n",
       "    var canvas_div = $('<div/>');\n",
       "\n",
       "    canvas_div.attr('style', 'position: relative; clear: both; outline: 0');\n",
       "\n",
       "    function canvas_keyboard_event(event) {\n",
       "        return fig.key_event(event, event['data']);\n",
       "    }\n",
       "\n",
       "    canvas_div.keydown('key_press', canvas_keyboard_event);\n",
       "    canvas_div.keyup('key_release', canvas_keyboard_event);\n",
       "    this.canvas_div = canvas_div\n",
       "    this._canvas_extra_style(canvas_div)\n",
       "    this.root.append(canvas_div);\n",
       "\n",
       "    var canvas = $('<canvas/>');\n",
       "    canvas.addClass('mpl-canvas');\n",
       "    canvas.attr('style', \"left: 0; top: 0; z-index: 0; outline: 0\")\n",
       "\n",
       "    this.canvas = canvas[0];\n",
       "    this.context = canvas[0].getContext(\"2d\");\n",
       "\n",
       "    var backingStore = this.context.backingStorePixelRatio ||\n",
       "\tthis.context.webkitBackingStorePixelRatio ||\n",
       "\tthis.context.mozBackingStorePixelRatio ||\n",
       "\tthis.context.msBackingStorePixelRatio ||\n",
       "\tthis.context.oBackingStorePixelRatio ||\n",
       "\tthis.context.backingStorePixelRatio || 1;\n",
       "\n",
       "    mpl.ratio = (window.devicePixelRatio || 1) / backingStore;\n",
       "\n",
       "    var rubberband = $('<canvas/>');\n",
       "    rubberband.attr('style', \"position: absolute; left: 0; top: 0; z-index: 1;\")\n",
       "\n",
       "    var pass_mouse_events = true;\n",
       "\n",
       "    canvas_div.resizable({\n",
       "        start: function(event, ui) {\n",
       "            pass_mouse_events = false;\n",
       "        },\n",
       "        resize: function(event, ui) {\n",
       "            fig.request_resize(ui.size.width, ui.size.height);\n",
       "        },\n",
       "        stop: function(event, ui) {\n",
       "            pass_mouse_events = true;\n",
       "            fig.request_resize(ui.size.width, ui.size.height);\n",
       "        },\n",
       "    });\n",
       "\n",
       "    function mouse_event_fn(event) {\n",
       "        if (pass_mouse_events)\n",
       "            return fig.mouse_event(event, event['data']);\n",
       "    }\n",
       "\n",
       "    rubberband.mousedown('button_press', mouse_event_fn);\n",
       "    rubberband.mouseup('button_release', mouse_event_fn);\n",
       "    // Throttle sequential mouse events to 1 every 20ms.\n",
       "    rubberband.mousemove('motion_notify', mouse_event_fn);\n",
       "\n",
       "    rubberband.mouseenter('figure_enter', mouse_event_fn);\n",
       "    rubberband.mouseleave('figure_leave', mouse_event_fn);\n",
       "\n",
       "    canvas_div.on(\"wheel\", function (event) {\n",
       "        event = event.originalEvent;\n",
       "        event['data'] = 'scroll'\n",
       "        if (event.deltaY < 0) {\n",
       "            event.step = 1;\n",
       "        } else {\n",
       "            event.step = -1;\n",
       "        }\n",
       "        mouse_event_fn(event);\n",
       "    });\n",
       "\n",
       "    canvas_div.append(canvas);\n",
       "    canvas_div.append(rubberband);\n",
       "\n",
       "    this.rubberband = rubberband;\n",
       "    this.rubberband_canvas = rubberband[0];\n",
       "    this.rubberband_context = rubberband[0].getContext(\"2d\");\n",
       "    this.rubberband_context.strokeStyle = \"#000000\";\n",
       "\n",
       "    this._resize_canvas = function(width, height) {\n",
       "        // Keep the size of the canvas, canvas container, and rubber band\n",
       "        // canvas in synch.\n",
       "        canvas_div.css('width', width)\n",
       "        canvas_div.css('height', height)\n",
       "\n",
       "        canvas.attr('width', width * mpl.ratio);\n",
       "        canvas.attr('height', height * mpl.ratio);\n",
       "        canvas.attr('style', 'width: ' + width + 'px; height: ' + height + 'px;');\n",
       "\n",
       "        rubberband.attr('width', width);\n",
       "        rubberband.attr('height', height);\n",
       "    }\n",
       "\n",
       "    // Set the figure to an initial 600x600px, this will subsequently be updated\n",
       "    // upon first draw.\n",
       "    this._resize_canvas(600, 600);\n",
       "\n",
       "    // Disable right mouse context menu.\n",
       "    $(this.rubberband_canvas).bind(\"contextmenu\",function(e){\n",
       "        return false;\n",
       "    });\n",
       "\n",
       "    function set_focus () {\n",
       "        canvas.focus();\n",
       "        canvas_div.focus();\n",
       "    }\n",
       "\n",
       "    window.setTimeout(set_focus, 100);\n",
       "}\n",
       "\n",
       "mpl.figure.prototype._init_toolbar = function() {\n",
       "    var fig = this;\n",
       "\n",
       "    var nav_element = $('<div/>')\n",
       "    nav_element.attr('style', 'width: 100%');\n",
       "    this.root.append(nav_element);\n",
       "\n",
       "    // Define a callback function for later on.\n",
       "    function toolbar_event(event) {\n",
       "        return fig.toolbar_button_onclick(event['data']);\n",
       "    }\n",
       "    function toolbar_mouse_event(event) {\n",
       "        return fig.toolbar_button_onmouseover(event['data']);\n",
       "    }\n",
       "\n",
       "    for(var toolbar_ind in mpl.toolbar_items) {\n",
       "        var name = mpl.toolbar_items[toolbar_ind][0];\n",
       "        var tooltip = mpl.toolbar_items[toolbar_ind][1];\n",
       "        var image = mpl.toolbar_items[toolbar_ind][2];\n",
       "        var method_name = mpl.toolbar_items[toolbar_ind][3];\n",
       "\n",
       "        if (!name) {\n",
       "            // put a spacer in here.\n",
       "            continue;\n",
       "        }\n",
       "        var button = $('<button/>');\n",
       "        button.addClass('ui-button ui-widget ui-state-default ui-corner-all ' +\n",
       "                        'ui-button-icon-only');\n",
       "        button.attr('role', 'button');\n",
       "        button.attr('aria-disabled', 'false');\n",
       "        button.click(method_name, toolbar_event);\n",
       "        button.mouseover(tooltip, toolbar_mouse_event);\n",
       "\n",
       "        var icon_img = $('<span/>');\n",
       "        icon_img.addClass('ui-button-icon-primary ui-icon');\n",
       "        icon_img.addClass(image);\n",
       "        icon_img.addClass('ui-corner-all');\n",
       "\n",
       "        var tooltip_span = $('<span/>');\n",
       "        tooltip_span.addClass('ui-button-text');\n",
       "        tooltip_span.html(tooltip);\n",
       "\n",
       "        button.append(icon_img);\n",
       "        button.append(tooltip_span);\n",
       "\n",
       "        nav_element.append(button);\n",
       "    }\n",
       "\n",
       "    var fmt_picker_span = $('<span/>');\n",
       "\n",
       "    var fmt_picker = $('<select/>');\n",
       "    fmt_picker.addClass('mpl-toolbar-option ui-widget ui-widget-content');\n",
       "    fmt_picker_span.append(fmt_picker);\n",
       "    nav_element.append(fmt_picker_span);\n",
       "    this.format_dropdown = fmt_picker[0];\n",
       "\n",
       "    for (var ind in mpl.extensions) {\n",
       "        var fmt = mpl.extensions[ind];\n",
       "        var option = $(\n",
       "            '<option/>', {selected: fmt === mpl.default_extension}).html(fmt);\n",
       "        fmt_picker.append(option)\n",
       "    }\n",
       "\n",
       "    // Add hover states to the ui-buttons\n",
       "    $( \".ui-button\" ).hover(\n",
       "        function() { $(this).addClass(\"ui-state-hover\");},\n",
       "        function() { $(this).removeClass(\"ui-state-hover\");}\n",
       "    );\n",
       "\n",
       "    var status_bar = $('<span class=\"mpl-message\"/>');\n",
       "    nav_element.append(status_bar);\n",
       "    this.message = status_bar[0];\n",
       "}\n",
       "\n",
       "mpl.figure.prototype.request_resize = function(x_pixels, y_pixels) {\n",
       "    // Request matplotlib to resize the figure. Matplotlib will then trigger a resize in the client,\n",
       "    // which will in turn request a refresh of the image.\n",
       "    this.send_message('resize', {'width': x_pixels, 'height': y_pixels});\n",
       "}\n",
       "\n",
       "mpl.figure.prototype.send_message = function(type, properties) {\n",
       "    properties['type'] = type;\n",
       "    properties['figure_id'] = this.id;\n",
       "    this.ws.send(JSON.stringify(properties));\n",
       "}\n",
       "\n",
       "mpl.figure.prototype.send_draw_message = function() {\n",
       "    if (!this.waiting) {\n",
       "        this.waiting = true;\n",
       "        this.ws.send(JSON.stringify({type: \"draw\", figure_id: this.id}));\n",
       "    }\n",
       "}\n",
       "\n",
       "\n",
       "mpl.figure.prototype.handle_save = function(fig, msg) {\n",
       "    var format_dropdown = fig.format_dropdown;\n",
       "    var format = format_dropdown.options[format_dropdown.selectedIndex].value;\n",
       "    fig.ondownload(fig, format);\n",
       "}\n",
       "\n",
       "\n",
       "mpl.figure.prototype.handle_resize = function(fig, msg) {\n",
       "    var size = msg['size'];\n",
       "    if (size[0] != fig.canvas.width || size[1] != fig.canvas.height) {\n",
       "        fig._resize_canvas(size[0], size[1]);\n",
       "        fig.send_message(\"refresh\", {});\n",
       "    };\n",
       "}\n",
       "\n",
       "mpl.figure.prototype.handle_rubberband = function(fig, msg) {\n",
       "    var x0 = msg['x0'] / mpl.ratio;\n",
       "    var y0 = (fig.canvas.height - msg['y0']) / mpl.ratio;\n",
       "    var x1 = msg['x1'] / mpl.ratio;\n",
       "    var y1 = (fig.canvas.height - msg['y1']) / mpl.ratio;\n",
       "    x0 = Math.floor(x0) + 0.5;\n",
       "    y0 = Math.floor(y0) + 0.5;\n",
       "    x1 = Math.floor(x1) + 0.5;\n",
       "    y1 = Math.floor(y1) + 0.5;\n",
       "    var min_x = Math.min(x0, x1);\n",
       "    var min_y = Math.min(y0, y1);\n",
       "    var width = Math.abs(x1 - x0);\n",
       "    var height = Math.abs(y1 - y0);\n",
       "\n",
       "    fig.rubberband_context.clearRect(\n",
       "        0, 0, fig.canvas.width, fig.canvas.height);\n",
       "\n",
       "    fig.rubberband_context.strokeRect(min_x, min_y, width, height);\n",
       "}\n",
       "\n",
       "mpl.figure.prototype.handle_figure_label = function(fig, msg) {\n",
       "    // Updates the figure title.\n",
       "    fig.header.textContent = msg['label'];\n",
       "}\n",
       "\n",
       "mpl.figure.prototype.handle_cursor = function(fig, msg) {\n",
       "    var cursor = msg['cursor'];\n",
       "    switch(cursor)\n",
       "    {\n",
       "    case 0:\n",
       "        cursor = 'pointer';\n",
       "        break;\n",
       "    case 1:\n",
       "        cursor = 'default';\n",
       "        break;\n",
       "    case 2:\n",
       "        cursor = 'crosshair';\n",
       "        break;\n",
       "    case 3:\n",
       "        cursor = 'move';\n",
       "        break;\n",
       "    }\n",
       "    fig.rubberband_canvas.style.cursor = cursor;\n",
       "}\n",
       "\n",
       "mpl.figure.prototype.handle_message = function(fig, msg) {\n",
       "    fig.message.textContent = msg['message'];\n",
       "}\n",
       "\n",
       "mpl.figure.prototype.handle_draw = function(fig, msg) {\n",
       "    // Request the server to send over a new figure.\n",
       "    fig.send_draw_message();\n",
       "}\n",
       "\n",
       "mpl.figure.prototype.handle_image_mode = function(fig, msg) {\n",
       "    fig.image_mode = msg['mode'];\n",
       "}\n",
       "\n",
       "mpl.figure.prototype.updated_canvas_event = function() {\n",
       "    // Called whenever the canvas gets updated.\n",
       "    this.send_message(\"ack\", {});\n",
       "}\n",
       "\n",
       "// A function to construct a web socket function for onmessage handling.\n",
       "// Called in the figure constructor.\n",
       "mpl.figure.prototype._make_on_message_function = function(fig) {\n",
       "    return function socket_on_message(evt) {\n",
       "        if (evt.data instanceof Blob) {\n",
       "            /* FIXME: We get \"Resource interpreted as Image but\n",
       "             * transferred with MIME type text/plain:\" errors on\n",
       "             * Chrome.  But how to set the MIME type?  It doesn't seem\n",
       "             * to be part of the websocket stream */\n",
       "            evt.data.type = \"image/png\";\n",
       "\n",
       "            /* Free the memory for the previous frames */\n",
       "            if (fig.imageObj.src) {\n",
       "                (window.URL || window.webkitURL).revokeObjectURL(\n",
       "                    fig.imageObj.src);\n",
       "            }\n",
       "\n",
       "            fig.imageObj.src = (window.URL || window.webkitURL).createObjectURL(\n",
       "                evt.data);\n",
       "            fig.updated_canvas_event();\n",
       "            fig.waiting = false;\n",
       "            return;\n",
       "        }\n",
       "        else if (typeof evt.data === 'string' && evt.data.slice(0, 21) == \"data:image/png;base64\") {\n",
       "            fig.imageObj.src = evt.data;\n",
       "            fig.updated_canvas_event();\n",
       "            fig.waiting = false;\n",
       "            return;\n",
       "        }\n",
       "\n",
       "        var msg = JSON.parse(evt.data);\n",
       "        var msg_type = msg['type'];\n",
       "\n",
       "        // Call the  \"handle_{type}\" callback, which takes\n",
       "        // the figure and JSON message as its only arguments.\n",
       "        try {\n",
       "            var callback = fig[\"handle_\" + msg_type];\n",
       "        } catch (e) {\n",
       "            console.log(\"No handler for the '\" + msg_type + \"' message type: \", msg);\n",
       "            return;\n",
       "        }\n",
       "\n",
       "        if (callback) {\n",
       "            try {\n",
       "                // console.log(\"Handling '\" + msg_type + \"' message: \", msg);\n",
       "                callback(fig, msg);\n",
       "            } catch (e) {\n",
       "                console.log(\"Exception inside the 'handler_\" + msg_type + \"' callback:\", e, e.stack, msg);\n",
       "            }\n",
       "        }\n",
       "    };\n",
       "}\n",
       "\n",
       "// from http://stackoverflow.com/questions/1114465/getting-mouse-location-in-canvas\n",
       "mpl.findpos = function(e) {\n",
       "    //this section is from http://www.quirksmode.org/js/events_properties.html\n",
       "    var targ;\n",
       "    if (!e)\n",
       "        e = window.event;\n",
       "    if (e.target)\n",
       "        targ = e.target;\n",
       "    else if (e.srcElement)\n",
       "        targ = e.srcElement;\n",
       "    if (targ.nodeType == 3) // defeat Safari bug\n",
       "        targ = targ.parentNode;\n",
       "\n",
       "    // jQuery normalizes the pageX and pageY\n",
       "    // pageX,Y are the mouse positions relative to the document\n",
       "    // offset() returns the position of the element relative to the document\n",
       "    var x = e.pageX - $(targ).offset().left;\n",
       "    var y = e.pageY - $(targ).offset().top;\n",
       "\n",
       "    return {\"x\": x, \"y\": y};\n",
       "};\n",
       "\n",
       "/*\n",
       " * return a copy of an object with only non-object keys\n",
       " * we need this to avoid circular references\n",
       " * http://stackoverflow.com/a/24161582/3208463\n",
       " */\n",
       "function simpleKeys (original) {\n",
       "  return Object.keys(original).reduce(function (obj, key) {\n",
       "    if (typeof original[key] !== 'object')\n",
       "        obj[key] = original[key]\n",
       "    return obj;\n",
       "  }, {});\n",
       "}\n",
       "\n",
       "mpl.figure.prototype.mouse_event = function(event, name) {\n",
       "    var canvas_pos = mpl.findpos(event)\n",
       "\n",
       "    if (name === 'button_press')\n",
       "    {\n",
       "        this.canvas.focus();\n",
       "        this.canvas_div.focus();\n",
       "    }\n",
       "\n",
       "    var x = canvas_pos.x * mpl.ratio;\n",
       "    var y = canvas_pos.y * mpl.ratio;\n",
       "\n",
       "    this.send_message(name, {x: x, y: y, button: event.button,\n",
       "                             step: event.step,\n",
       "                             guiEvent: simpleKeys(event)});\n",
       "\n",
       "    /* This prevents the web browser from automatically changing to\n",
       "     * the text insertion cursor when the button is pressed.  We want\n",
       "     * to control all of the cursor setting manually through the\n",
       "     * 'cursor' event from matplotlib */\n",
       "    event.preventDefault();\n",
       "    return false;\n",
       "}\n",
       "\n",
       "mpl.figure.prototype._key_event_extra = function(event, name) {\n",
       "    // Handle any extra behaviour associated with a key event\n",
       "}\n",
       "\n",
       "mpl.figure.prototype.key_event = function(event, name) {\n",
       "\n",
       "    // Prevent repeat events\n",
       "    if (name == 'key_press')\n",
       "    {\n",
       "        if (event.which === this._key)\n",
       "            return;\n",
       "        else\n",
       "            this._key = event.which;\n",
       "    }\n",
       "    if (name == 'key_release')\n",
       "        this._key = null;\n",
       "\n",
       "    var value = '';\n",
       "    if (event.ctrlKey && event.which != 17)\n",
       "        value += \"ctrl+\";\n",
       "    if (event.altKey && event.which != 18)\n",
       "        value += \"alt+\";\n",
       "    if (event.shiftKey && event.which != 16)\n",
       "        value += \"shift+\";\n",
       "\n",
       "    value += 'k';\n",
       "    value += event.which.toString();\n",
       "\n",
       "    this._key_event_extra(event, name);\n",
       "\n",
       "    this.send_message(name, {key: value,\n",
       "                             guiEvent: simpleKeys(event)});\n",
       "    return false;\n",
       "}\n",
       "\n",
       "mpl.figure.prototype.toolbar_button_onclick = function(name) {\n",
       "    if (name == 'download') {\n",
       "        this.handle_save(this, null);\n",
       "    } else {\n",
       "        this.send_message(\"toolbar_button\", {name: name});\n",
       "    }\n",
       "};\n",
       "\n",
       "mpl.figure.prototype.toolbar_button_onmouseover = function(tooltip) {\n",
       "    this.message.textContent = tooltip;\n",
       "};\n",
       "mpl.toolbar_items = [[\"Home\", \"Reset original view\", \"fa fa-home icon-home\", \"home\"], [\"Back\", \"Back to  previous view\", \"fa fa-arrow-left icon-arrow-left\", \"back\"], [\"Forward\", \"Forward to next view\", \"fa fa-arrow-right icon-arrow-right\", \"forward\"], [\"\", \"\", \"\", \"\"], [\"Pan\", \"Pan axes with left mouse, zoom with right\", \"fa fa-arrows icon-move\", \"pan\"], [\"Zoom\", \"Zoom to rectangle\", \"fa fa-square-o icon-check-empty\", \"zoom\"], [\"\", \"\", \"\", \"\"], [\"Download\", \"Download plot\", \"fa fa-floppy-o icon-save\", \"download\"]];\n",
       "\n",
       "mpl.extensions = [\"eps\", \"jpeg\", \"pdf\", \"png\", \"ps\", \"raw\", \"svg\", \"tif\"];\n",
       "\n",
       "mpl.default_extension = \"png\";var comm_websocket_adapter = function(comm) {\n",
       "    // Create a \"websocket\"-like object which calls the given IPython comm\n",
       "    // object with the appropriate methods. Currently this is a non binary\n",
       "    // socket, so there is still some room for performance tuning.\n",
       "    var ws = {};\n",
       "\n",
       "    ws.close = function() {\n",
       "        comm.close()\n",
       "    };\n",
       "    ws.send = function(m) {\n",
       "        //console.log('sending', m);\n",
       "        comm.send(m);\n",
       "    };\n",
       "    // Register the callback with on_msg.\n",
       "    comm.on_msg(function(msg) {\n",
       "        //console.log('receiving', msg['content']['data'], msg);\n",
       "        // Pass the mpl event to the overriden (by mpl) onmessage function.\n",
       "        ws.onmessage(msg['content']['data'])\n",
       "    });\n",
       "    return ws;\n",
       "}\n",
       "\n",
       "mpl.mpl_figure_comm = function(comm, msg) {\n",
       "    // This is the function which gets called when the mpl process\n",
       "    // starts-up an IPython Comm through the \"matplotlib\" channel.\n",
       "\n",
       "    var id = msg.content.data.id;\n",
       "    // Get hold of the div created by the display call when the Comm\n",
       "    // socket was opened in Python.\n",
       "    var element = $(\"#\" + id);\n",
       "    var ws_proxy = comm_websocket_adapter(comm)\n",
       "\n",
       "    function ondownload(figure, format) {\n",
       "        window.open(figure.imageObj.src);\n",
       "    }\n",
       "\n",
       "    var fig = new mpl.figure(id, ws_proxy,\n",
       "                           ondownload,\n",
       "                           element.get(0));\n",
       "\n",
       "    // Call onopen now - mpl needs it, as it is assuming we've passed it a real\n",
       "    // web socket which is closed, not our websocket->open comm proxy.\n",
       "    ws_proxy.onopen();\n",
       "\n",
       "    fig.parent_element = element.get(0);\n",
       "    fig.cell_info = mpl.find_output_cell(\"<div id='\" + id + \"'></div>\");\n",
       "    if (!fig.cell_info) {\n",
       "        console.error(\"Failed to find cell for figure\", id, fig);\n",
       "        return;\n",
       "    }\n",
       "\n",
       "    var output_index = fig.cell_info[2]\n",
       "    var cell = fig.cell_info[0];\n",
       "\n",
       "};\n",
       "\n",
       "mpl.figure.prototype.handle_close = function(fig, msg) {\n",
       "    var width = fig.canvas.width/mpl.ratio\n",
       "    fig.root.unbind('remove')\n",
       "\n",
       "    // Update the output cell to use the data from the current canvas.\n",
       "    fig.push_to_output();\n",
       "    var dataURL = fig.canvas.toDataURL();\n",
       "    // Re-enable the keyboard manager in IPython - without this line, in FF,\n",
       "    // the notebook keyboard shortcuts fail.\n",
       "    IPython.keyboard_manager.enable()\n",
       "    $(fig.parent_element).html('<img src=\"' + dataURL + '\" width=\"' + width + '\">');\n",
       "    fig.close_ws(fig, msg);\n",
       "}\n",
       "\n",
       "mpl.figure.prototype.close_ws = function(fig, msg){\n",
       "    fig.send_message('closing', msg);\n",
       "    // fig.ws.close()\n",
       "}\n",
       "\n",
       "mpl.figure.prototype.push_to_output = function(remove_interactive) {\n",
       "    // Turn the data on the canvas into data in the output cell.\n",
       "    var width = this.canvas.width/mpl.ratio\n",
       "    var dataURL = this.canvas.toDataURL();\n",
       "    this.cell_info[1]['text/html'] = '<img src=\"' + dataURL + '\" width=\"' + width + '\">';\n",
       "}\n",
       "\n",
       "mpl.figure.prototype.updated_canvas_event = function() {\n",
       "    // Tell IPython that the notebook contents must change.\n",
       "    IPython.notebook.set_dirty(true);\n",
       "    this.send_message(\"ack\", {});\n",
       "    var fig = this;\n",
       "    // Wait a second, then push the new image to the DOM so\n",
       "    // that it is saved nicely (might be nice to debounce this).\n",
       "    setTimeout(function () { fig.push_to_output() }, 1000);\n",
       "}\n",
       "\n",
       "mpl.figure.prototype._init_toolbar = function() {\n",
       "    var fig = this;\n",
       "\n",
       "    var nav_element = $('<div/>')\n",
       "    nav_element.attr('style', 'width: 100%');\n",
       "    this.root.append(nav_element);\n",
       "\n",
       "    // Define a callback function for later on.\n",
       "    function toolbar_event(event) {\n",
       "        return fig.toolbar_button_onclick(event['data']);\n",
       "    }\n",
       "    function toolbar_mouse_event(event) {\n",
       "        return fig.toolbar_button_onmouseover(event['data']);\n",
       "    }\n",
       "\n",
       "    for(var toolbar_ind in mpl.toolbar_items){\n",
       "        var name = mpl.toolbar_items[toolbar_ind][0];\n",
       "        var tooltip = mpl.toolbar_items[toolbar_ind][1];\n",
       "        var image = mpl.toolbar_items[toolbar_ind][2];\n",
       "        var method_name = mpl.toolbar_items[toolbar_ind][3];\n",
       "\n",
       "        if (!name) { continue; };\n",
       "\n",
       "        var button = $('<button class=\"btn btn-default\" href=\"#\" title=\"' + name + '\"><i class=\"fa ' + image + ' fa-lg\"></i></button>');\n",
       "        button.click(method_name, toolbar_event);\n",
       "        button.mouseover(tooltip, toolbar_mouse_event);\n",
       "        nav_element.append(button);\n",
       "    }\n",
       "\n",
       "    // Add the status bar.\n",
       "    var status_bar = $('<span class=\"mpl-message\" style=\"text-align:right; float: right;\"/>');\n",
       "    nav_element.append(status_bar);\n",
       "    this.message = status_bar[0];\n",
       "\n",
       "    // Add the close button to the window.\n",
       "    var buttongrp = $('<div class=\"btn-group inline pull-right\"></div>');\n",
       "    var button = $('<button class=\"btn btn-mini btn-primary\" href=\"#\" title=\"Stop Interaction\"><i class=\"fa fa-power-off icon-remove icon-large\"></i></button>');\n",
       "    button.click(function (evt) { fig.handle_close(fig, {}); } );\n",
       "    button.mouseover('Stop Interaction', toolbar_mouse_event);\n",
       "    buttongrp.append(button);\n",
       "    var titlebar = this.root.find($('.ui-dialog-titlebar'));\n",
       "    titlebar.prepend(buttongrp);\n",
       "}\n",
       "\n",
       "mpl.figure.prototype._root_extra_style = function(el){\n",
       "    var fig = this\n",
       "    el.on(\"remove\", function(){\n",
       "\tfig.close_ws(fig, {});\n",
       "    });\n",
       "}\n",
       "\n",
       "mpl.figure.prototype._canvas_extra_style = function(el){\n",
       "    // this is important to make the div 'focusable\n",
       "    el.attr('tabindex', 0)\n",
       "    // reach out to IPython and tell the keyboard manager to turn it's self\n",
       "    // off when our div gets focus\n",
       "\n",
       "    // location in version 3\n",
       "    if (IPython.notebook.keyboard_manager) {\n",
       "        IPython.notebook.keyboard_manager.register_events(el);\n",
       "    }\n",
       "    else {\n",
       "        // location in version 2\n",
       "        IPython.keyboard_manager.register_events(el);\n",
       "    }\n",
       "\n",
       "}\n",
       "\n",
       "mpl.figure.prototype._key_event_extra = function(event, name) {\n",
       "    var manager = IPython.notebook.keyboard_manager;\n",
       "    if (!manager)\n",
       "        manager = IPython.keyboard_manager;\n",
       "\n",
       "    // Check for shift+enter\n",
       "    if (event.shiftKey && event.which == 13) {\n",
       "        this.canvas_div.blur();\n",
       "        event.shiftKey = false;\n",
       "        // Send a \"J\" for go to next cell\n",
       "        event.which = 74;\n",
       "        event.keyCode = 74;\n",
       "        manager.command_mode();\n",
       "        manager.handle_keydown(event);\n",
       "    }\n",
       "}\n",
       "\n",
       "mpl.figure.prototype.handle_save = function(fig, msg) {\n",
       "    fig.ondownload(fig, null);\n",
       "}\n",
       "\n",
       "\n",
       "mpl.find_output_cell = function(html_output) {\n",
       "    // Return the cell and output element which can be found *uniquely* in the notebook.\n",
       "    // Note - this is a bit hacky, but it is done because the \"notebook_saving.Notebook\"\n",
       "    // IPython event is triggered only after the cells have been serialised, which for\n",
       "    // our purposes (turning an active figure into a static one), is too late.\n",
       "    var cells = IPython.notebook.get_cells();\n",
       "    var ncells = cells.length;\n",
       "    for (var i=0; i<ncells; i++) {\n",
       "        var cell = cells[i];\n",
       "        if (cell.cell_type === 'code'){\n",
       "            for (var j=0; j<cell.output_area.outputs.length; j++) {\n",
       "                var data = cell.output_area.outputs[j];\n",
       "                if (data.data) {\n",
       "                    // IPython >= 3 moved mimebundle to data attribute of output\n",
       "                    data = data.data;\n",
       "                }\n",
       "                if (data['text/html'] == html_output) {\n",
       "                    return [cell, data, j];\n",
       "                }\n",
       "            }\n",
       "        }\n",
       "    }\n",
       "}\n",
       "\n",
       "// Register the function which deals with the matplotlib target/channel.\n",
       "// The kernel may be null if the page has been refreshed.\n",
       "if (IPython.notebook.kernel != null) {\n",
       "    IPython.notebook.kernel.comm_manager.register_target('matplotlib', mpl.mpl_figure_comm);\n",
       "}\n"
      ],
      "text/plain": [
       "<IPython.core.display.Javascript object>"
      ]
     },
     "metadata": {},
     "output_type": "display_data"
    },
    {
     "data": {
      "text/html": [
       "<img src=\"data:image/png;base64,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\" width=\"640\">"
      ],
      "text/plain": [
       "<IPython.core.display.HTML object>"
      ]
     },
     "metadata": {},
     "output_type": "display_data"
    },
    {
     "data": {
      "text/plain": [
       "[<matplotlib.lines.Line2D at 0x1c1c8372e8>]"
      ]
     },
     "execution_count": 57,
     "metadata": {},
     "output_type": "execute_result"
    }
   ],
   "source": [
    "# Plot a 1D spectrum from a single latitude in the 0th exposure.\n",
    "my_cube[0, 350, :].plot()"
   ]
  },
  {
   "cell_type": "markdown",
   "metadata": {},
   "source": [
    "In addition, some optional kwargs can be used to customize the plot.  The ``axis_ranges`` kwarg can be used to set the axes ticklabels.  See the `~sunpy.visualization.imageanimator.ImageAnimatorWCS` documentation for more detail.  However, if this is not set, the axis ticklabels are automatically derived in real world coordinates from the WCS object within the `NDCube`.\n",
    "\n",
    "By default the final two data dimensions are used for the plot axes in 2-D or greater visualizations, but this can be set by the user using the ``images_axes`` kwarg:"
   ]
  },
  {
   "cell_type": "code",
   "execution_count": 58,
   "metadata": {},
   "outputs": [
    {
     "data": {
      "application/javascript": [
       "/* Put everything inside the global mpl namespace */\n",
       "window.mpl = {};\n",
       "\n",
       "\n",
       "mpl.get_websocket_type = function() {\n",
       "    if (typeof(WebSocket) !== 'undefined') {\n",
       "        return WebSocket;\n",
       "    } else if (typeof(MozWebSocket) !== 'undefined') {\n",
       "        return MozWebSocket;\n",
       "    } else {\n",
       "        alert('Your browser does not have WebSocket support.' +\n",
       "              'Please try Chrome, Safari or Firefox ≥ 6. ' +\n",
       "              'Firefox 4 and 5 are also supported but you ' +\n",
       "              'have to enable WebSockets in about:config.');\n",
       "    };\n",
       "}\n",
       "\n",
       "mpl.figure = function(figure_id, websocket, ondownload, parent_element) {\n",
       "    this.id = figure_id;\n",
       "\n",
       "    this.ws = websocket;\n",
       "\n",
       "    this.supports_binary = (this.ws.binaryType != undefined);\n",
       "\n",
       "    if (!this.supports_binary) {\n",
       "        var warnings = document.getElementById(\"mpl-warnings\");\n",
       "        if (warnings) {\n",
       "            warnings.style.display = 'block';\n",
       "            warnings.textContent = (\n",
       "                \"This browser does not support binary websocket messages. \" +\n",
       "                    \"Performance may be slow.\");\n",
       "        }\n",
       "    }\n",
       "\n",
       "    this.imageObj = new Image();\n",
       "\n",
       "    this.context = undefined;\n",
       "    this.message = undefined;\n",
       "    this.canvas = undefined;\n",
       "    this.rubberband_canvas = undefined;\n",
       "    this.rubberband_context = undefined;\n",
       "    this.format_dropdown = undefined;\n",
       "\n",
       "    this.image_mode = 'full';\n",
       "\n",
       "    this.root = $('<div/>');\n",
       "    this._root_extra_style(this.root)\n",
       "    this.root.attr('style', 'display: inline-block');\n",
       "\n",
       "    $(parent_element).append(this.root);\n",
       "\n",
       "    this._init_header(this);\n",
       "    this._init_canvas(this);\n",
       "    this._init_toolbar(this);\n",
       "\n",
       "    var fig = this;\n",
       "\n",
       "    this.waiting = false;\n",
       "\n",
       "    this.ws.onopen =  function () {\n",
       "            fig.send_message(\"supports_binary\", {value: fig.supports_binary});\n",
       "            fig.send_message(\"send_image_mode\", {});\n",
       "            if (mpl.ratio != 1) {\n",
       "                fig.send_message(\"set_dpi_ratio\", {'dpi_ratio': mpl.ratio});\n",
       "            }\n",
       "            fig.send_message(\"refresh\", {});\n",
       "        }\n",
       "\n",
       "    this.imageObj.onload = function() {\n",
       "            if (fig.image_mode == 'full') {\n",
       "                // Full images could contain transparency (where diff images\n",
       "                // almost always do), so we need to clear the canvas so that\n",
       "                // there is no ghosting.\n",
       "                fig.context.clearRect(0, 0, fig.canvas.width, fig.canvas.height);\n",
       "            }\n",
       "            fig.context.drawImage(fig.imageObj, 0, 0);\n",
       "        };\n",
       "\n",
       "    this.imageObj.onunload = function() {\n",
       "        fig.ws.close();\n",
       "    }\n",
       "\n",
       "    this.ws.onmessage = this._make_on_message_function(this);\n",
       "\n",
       "    this.ondownload = ondownload;\n",
       "}\n",
       "\n",
       "mpl.figure.prototype._init_header = function() {\n",
       "    var titlebar = $(\n",
       "        '<div class=\"ui-dialog-titlebar ui-widget-header ui-corner-all ' +\n",
       "        'ui-helper-clearfix\"/>');\n",
       "    var titletext = $(\n",
       "        '<div class=\"ui-dialog-title\" style=\"width: 100%; ' +\n",
       "        'text-align: center; padding: 3px;\"/>');\n",
       "    titlebar.append(titletext)\n",
       "    this.root.append(titlebar);\n",
       "    this.header = titletext[0];\n",
       "}\n",
       "\n",
       "\n",
       "\n",
       "mpl.figure.prototype._canvas_extra_style = function(canvas_div) {\n",
       "\n",
       "}\n",
       "\n",
       "\n",
       "mpl.figure.prototype._root_extra_style = function(canvas_div) {\n",
       "\n",
       "}\n",
       "\n",
       "mpl.figure.prototype._init_canvas = function() {\n",
       "    var fig = this;\n",
       "\n",
       "    var canvas_div = $('<div/>');\n",
       "\n",
       "    canvas_div.attr('style', 'position: relative; clear: both; outline: 0');\n",
       "\n",
       "    function canvas_keyboard_event(event) {\n",
       "        return fig.key_event(event, event['data']);\n",
       "    }\n",
       "\n",
       "    canvas_div.keydown('key_press', canvas_keyboard_event);\n",
       "    canvas_div.keyup('key_release', canvas_keyboard_event);\n",
       "    this.canvas_div = canvas_div\n",
       "    this._canvas_extra_style(canvas_div)\n",
       "    this.root.append(canvas_div);\n",
       "\n",
       "    var canvas = $('<canvas/>');\n",
       "    canvas.addClass('mpl-canvas');\n",
       "    canvas.attr('style', \"left: 0; top: 0; z-index: 0; outline: 0\")\n",
       "\n",
       "    this.canvas = canvas[0];\n",
       "    this.context = canvas[0].getContext(\"2d\");\n",
       "\n",
       "    var backingStore = this.context.backingStorePixelRatio ||\n",
       "\tthis.context.webkitBackingStorePixelRatio ||\n",
       "\tthis.context.mozBackingStorePixelRatio ||\n",
       "\tthis.context.msBackingStorePixelRatio ||\n",
       "\tthis.context.oBackingStorePixelRatio ||\n",
       "\tthis.context.backingStorePixelRatio || 1;\n",
       "\n",
       "    mpl.ratio = (window.devicePixelRatio || 1) / backingStore;\n",
       "\n",
       "    var rubberband = $('<canvas/>');\n",
       "    rubberband.attr('style', \"position: absolute; left: 0; top: 0; z-index: 1;\")\n",
       "\n",
       "    var pass_mouse_events = true;\n",
       "\n",
       "    canvas_div.resizable({\n",
       "        start: function(event, ui) {\n",
       "            pass_mouse_events = false;\n",
       "        },\n",
       "        resize: function(event, ui) {\n",
       "            fig.request_resize(ui.size.width, ui.size.height);\n",
       "        },\n",
       "        stop: function(event, ui) {\n",
       "            pass_mouse_events = true;\n",
       "            fig.request_resize(ui.size.width, ui.size.height);\n",
       "        },\n",
       "    });\n",
       "\n",
       "    function mouse_event_fn(event) {\n",
       "        if (pass_mouse_events)\n",
       "            return fig.mouse_event(event, event['data']);\n",
       "    }\n",
       "\n",
       "    rubberband.mousedown('button_press', mouse_event_fn);\n",
       "    rubberband.mouseup('button_release', mouse_event_fn);\n",
       "    // Throttle sequential mouse events to 1 every 20ms.\n",
       "    rubberband.mousemove('motion_notify', mouse_event_fn);\n",
       "\n",
       "    rubberband.mouseenter('figure_enter', mouse_event_fn);\n",
       "    rubberband.mouseleave('figure_leave', mouse_event_fn);\n",
       "\n",
       "    canvas_div.on(\"wheel\", function (event) {\n",
       "        event = event.originalEvent;\n",
       "        event['data'] = 'scroll'\n",
       "        if (event.deltaY < 0) {\n",
       "            event.step = 1;\n",
       "        } else {\n",
       "            event.step = -1;\n",
       "        }\n",
       "        mouse_event_fn(event);\n",
       "    });\n",
       "\n",
       "    canvas_div.append(canvas);\n",
       "    canvas_div.append(rubberband);\n",
       "\n",
       "    this.rubberband = rubberband;\n",
       "    this.rubberband_canvas = rubberband[0];\n",
       "    this.rubberband_context = rubberband[0].getContext(\"2d\");\n",
       "    this.rubberband_context.strokeStyle = \"#000000\";\n",
       "\n",
       "    this._resize_canvas = function(width, height) {\n",
       "        // Keep the size of the canvas, canvas container, and rubber band\n",
       "        // canvas in synch.\n",
       "        canvas_div.css('width', width)\n",
       "        canvas_div.css('height', height)\n",
       "\n",
       "        canvas.attr('width', width * mpl.ratio);\n",
       "        canvas.attr('height', height * mpl.ratio);\n",
       "        canvas.attr('style', 'width: ' + width + 'px; height: ' + height + 'px;');\n",
       "\n",
       "        rubberband.attr('width', width);\n",
       "        rubberband.attr('height', height);\n",
       "    }\n",
       "\n",
       "    // Set the figure to an initial 600x600px, this will subsequently be updated\n",
       "    // upon first draw.\n",
       "    this._resize_canvas(600, 600);\n",
       "\n",
       "    // Disable right mouse context menu.\n",
       "    $(this.rubberband_canvas).bind(\"contextmenu\",function(e){\n",
       "        return false;\n",
       "    });\n",
       "\n",
       "    function set_focus () {\n",
       "        canvas.focus();\n",
       "        canvas_div.focus();\n",
       "    }\n",
       "\n",
       "    window.setTimeout(set_focus, 100);\n",
       "}\n",
       "\n",
       "mpl.figure.prototype._init_toolbar = function() {\n",
       "    var fig = this;\n",
       "\n",
       "    var nav_element = $('<div/>')\n",
       "    nav_element.attr('style', 'width: 100%');\n",
       "    this.root.append(nav_element);\n",
       "\n",
       "    // Define a callback function for later on.\n",
       "    function toolbar_event(event) {\n",
       "        return fig.toolbar_button_onclick(event['data']);\n",
       "    }\n",
       "    function toolbar_mouse_event(event) {\n",
       "        return fig.toolbar_button_onmouseover(event['data']);\n",
       "    }\n",
       "\n",
       "    for(var toolbar_ind in mpl.toolbar_items) {\n",
       "        var name = mpl.toolbar_items[toolbar_ind][0];\n",
       "        var tooltip = mpl.toolbar_items[toolbar_ind][1];\n",
       "        var image = mpl.toolbar_items[toolbar_ind][2];\n",
       "        var method_name = mpl.toolbar_items[toolbar_ind][3];\n",
       "\n",
       "        if (!name) {\n",
       "            // put a spacer in here.\n",
       "            continue;\n",
       "        }\n",
       "        var button = $('<button/>');\n",
       "        button.addClass('ui-button ui-widget ui-state-default ui-corner-all ' +\n",
       "                        'ui-button-icon-only');\n",
       "        button.attr('role', 'button');\n",
       "        button.attr('aria-disabled', 'false');\n",
       "        button.click(method_name, toolbar_event);\n",
       "        button.mouseover(tooltip, toolbar_mouse_event);\n",
       "\n",
       "        var icon_img = $('<span/>');\n",
       "        icon_img.addClass('ui-button-icon-primary ui-icon');\n",
       "        icon_img.addClass(image);\n",
       "        icon_img.addClass('ui-corner-all');\n",
       "\n",
       "        var tooltip_span = $('<span/>');\n",
       "        tooltip_span.addClass('ui-button-text');\n",
       "        tooltip_span.html(tooltip);\n",
       "\n",
       "        button.append(icon_img);\n",
       "        button.append(tooltip_span);\n",
       "\n",
       "        nav_element.append(button);\n",
       "    }\n",
       "\n",
       "    var fmt_picker_span = $('<span/>');\n",
       "\n",
       "    var fmt_picker = $('<select/>');\n",
       "    fmt_picker.addClass('mpl-toolbar-option ui-widget ui-widget-content');\n",
       "    fmt_picker_span.append(fmt_picker);\n",
       "    nav_element.append(fmt_picker_span);\n",
       "    this.format_dropdown = fmt_picker[0];\n",
       "\n",
       "    for (var ind in mpl.extensions) {\n",
       "        var fmt = mpl.extensions[ind];\n",
       "        var option = $(\n",
       "            '<option/>', {selected: fmt === mpl.default_extension}).html(fmt);\n",
       "        fmt_picker.append(option)\n",
       "    }\n",
       "\n",
       "    // Add hover states to the ui-buttons\n",
       "    $( \".ui-button\" ).hover(\n",
       "        function() { $(this).addClass(\"ui-state-hover\");},\n",
       "        function() { $(this).removeClass(\"ui-state-hover\");}\n",
       "    );\n",
       "\n",
       "    var status_bar = $('<span class=\"mpl-message\"/>');\n",
       "    nav_element.append(status_bar);\n",
       "    this.message = status_bar[0];\n",
       "}\n",
       "\n",
       "mpl.figure.prototype.request_resize = function(x_pixels, y_pixels) {\n",
       "    // Request matplotlib to resize the figure. Matplotlib will then trigger a resize in the client,\n",
       "    // which will in turn request a refresh of the image.\n",
       "    this.send_message('resize', {'width': x_pixels, 'height': y_pixels});\n",
       "}\n",
       "\n",
       "mpl.figure.prototype.send_message = function(type, properties) {\n",
       "    properties['type'] = type;\n",
       "    properties['figure_id'] = this.id;\n",
       "    this.ws.send(JSON.stringify(properties));\n",
       "}\n",
       "\n",
       "mpl.figure.prototype.send_draw_message = function() {\n",
       "    if (!this.waiting) {\n",
       "        this.waiting = true;\n",
       "        this.ws.send(JSON.stringify({type: \"draw\", figure_id: this.id}));\n",
       "    }\n",
       "}\n",
       "\n",
       "\n",
       "mpl.figure.prototype.handle_save = function(fig, msg) {\n",
       "    var format_dropdown = fig.format_dropdown;\n",
       "    var format = format_dropdown.options[format_dropdown.selectedIndex].value;\n",
       "    fig.ondownload(fig, format);\n",
       "}\n",
       "\n",
       "\n",
       "mpl.figure.prototype.handle_resize = function(fig, msg) {\n",
       "    var size = msg['size'];\n",
       "    if (size[0] != fig.canvas.width || size[1] != fig.canvas.height) {\n",
       "        fig._resize_canvas(size[0], size[1]);\n",
       "        fig.send_message(\"refresh\", {});\n",
       "    };\n",
       "}\n",
       "\n",
       "mpl.figure.prototype.handle_rubberband = function(fig, msg) {\n",
       "    var x0 = msg['x0'] / mpl.ratio;\n",
       "    var y0 = (fig.canvas.height - msg['y0']) / mpl.ratio;\n",
       "    var x1 = msg['x1'] / mpl.ratio;\n",
       "    var y1 = (fig.canvas.height - msg['y1']) / mpl.ratio;\n",
       "    x0 = Math.floor(x0) + 0.5;\n",
       "    y0 = Math.floor(y0) + 0.5;\n",
       "    x1 = Math.floor(x1) + 0.5;\n",
       "    y1 = Math.floor(y1) + 0.5;\n",
       "    var min_x = Math.min(x0, x1);\n",
       "    var min_y = Math.min(y0, y1);\n",
       "    var width = Math.abs(x1 - x0);\n",
       "    var height = Math.abs(y1 - y0);\n",
       "\n",
       "    fig.rubberband_context.clearRect(\n",
       "        0, 0, fig.canvas.width, fig.canvas.height);\n",
       "\n",
       "    fig.rubberband_context.strokeRect(min_x, min_y, width, height);\n",
       "}\n",
       "\n",
       "mpl.figure.prototype.handle_figure_label = function(fig, msg) {\n",
       "    // Updates the figure title.\n",
       "    fig.header.textContent = msg['label'];\n",
       "}\n",
       "\n",
       "mpl.figure.prototype.handle_cursor = function(fig, msg) {\n",
       "    var cursor = msg['cursor'];\n",
       "    switch(cursor)\n",
       "    {\n",
       "    case 0:\n",
       "        cursor = 'pointer';\n",
       "        break;\n",
       "    case 1:\n",
       "        cursor = 'default';\n",
       "        break;\n",
       "    case 2:\n",
       "        cursor = 'crosshair';\n",
       "        break;\n",
       "    case 3:\n",
       "        cursor = 'move';\n",
       "        break;\n",
       "    }\n",
       "    fig.rubberband_canvas.style.cursor = cursor;\n",
       "}\n",
       "\n",
       "mpl.figure.prototype.handle_message = function(fig, msg) {\n",
       "    fig.message.textContent = msg['message'];\n",
       "}\n",
       "\n",
       "mpl.figure.prototype.handle_draw = function(fig, msg) {\n",
       "    // Request the server to send over a new figure.\n",
       "    fig.send_draw_message();\n",
       "}\n",
       "\n",
       "mpl.figure.prototype.handle_image_mode = function(fig, msg) {\n",
       "    fig.image_mode = msg['mode'];\n",
       "}\n",
       "\n",
       "mpl.figure.prototype.updated_canvas_event = function() {\n",
       "    // Called whenever the canvas gets updated.\n",
       "    this.send_message(\"ack\", {});\n",
       "}\n",
       "\n",
       "// A function to construct a web socket function for onmessage handling.\n",
       "// Called in the figure constructor.\n",
       "mpl.figure.prototype._make_on_message_function = function(fig) {\n",
       "    return function socket_on_message(evt) {\n",
       "        if (evt.data instanceof Blob) {\n",
       "            /* FIXME: We get \"Resource interpreted as Image but\n",
       "             * transferred with MIME type text/plain:\" errors on\n",
       "             * Chrome.  But how to set the MIME type?  It doesn't seem\n",
       "             * to be part of the websocket stream */\n",
       "            evt.data.type = \"image/png\";\n",
       "\n",
       "            /* Free the memory for the previous frames */\n",
       "            if (fig.imageObj.src) {\n",
       "                (window.URL || window.webkitURL).revokeObjectURL(\n",
       "                    fig.imageObj.src);\n",
       "            }\n",
       "\n",
       "            fig.imageObj.src = (window.URL || window.webkitURL).createObjectURL(\n",
       "                evt.data);\n",
       "            fig.updated_canvas_event();\n",
       "            fig.waiting = false;\n",
       "            return;\n",
       "        }\n",
       "        else if (typeof evt.data === 'string' && evt.data.slice(0, 21) == \"data:image/png;base64\") {\n",
       "            fig.imageObj.src = evt.data;\n",
       "            fig.updated_canvas_event();\n",
       "            fig.waiting = false;\n",
       "            return;\n",
       "        }\n",
       "\n",
       "        var msg = JSON.parse(evt.data);\n",
       "        var msg_type = msg['type'];\n",
       "\n",
       "        // Call the  \"handle_{type}\" callback, which takes\n",
       "        // the figure and JSON message as its only arguments.\n",
       "        try {\n",
       "            var callback = fig[\"handle_\" + msg_type];\n",
       "        } catch (e) {\n",
       "            console.log(\"No handler for the '\" + msg_type + \"' message type: \", msg);\n",
       "            return;\n",
       "        }\n",
       "\n",
       "        if (callback) {\n",
       "            try {\n",
       "                // console.log(\"Handling '\" + msg_type + \"' message: \", msg);\n",
       "                callback(fig, msg);\n",
       "            } catch (e) {\n",
       "                console.log(\"Exception inside the 'handler_\" + msg_type + \"' callback:\", e, e.stack, msg);\n",
       "            }\n",
       "        }\n",
       "    };\n",
       "}\n",
       "\n",
       "// from http://stackoverflow.com/questions/1114465/getting-mouse-location-in-canvas\n",
       "mpl.findpos = function(e) {\n",
       "    //this section is from http://www.quirksmode.org/js/events_properties.html\n",
       "    var targ;\n",
       "    if (!e)\n",
       "        e = window.event;\n",
       "    if (e.target)\n",
       "        targ = e.target;\n",
       "    else if (e.srcElement)\n",
       "        targ = e.srcElement;\n",
       "    if (targ.nodeType == 3) // defeat Safari bug\n",
       "        targ = targ.parentNode;\n",
       "\n",
       "    // jQuery normalizes the pageX and pageY\n",
       "    // pageX,Y are the mouse positions relative to the document\n",
       "    // offset() returns the position of the element relative to the document\n",
       "    var x = e.pageX - $(targ).offset().left;\n",
       "    var y = e.pageY - $(targ).offset().top;\n",
       "\n",
       "    return {\"x\": x, \"y\": y};\n",
       "};\n",
       "\n",
       "/*\n",
       " * return a copy of an object with only non-object keys\n",
       " * we need this to avoid circular references\n",
       " * http://stackoverflow.com/a/24161582/3208463\n",
       " */\n",
       "function simpleKeys (original) {\n",
       "  return Object.keys(original).reduce(function (obj, key) {\n",
       "    if (typeof original[key] !== 'object')\n",
       "        obj[key] = original[key]\n",
       "    return obj;\n",
       "  }, {});\n",
       "}\n",
       "\n",
       "mpl.figure.prototype.mouse_event = function(event, name) {\n",
       "    var canvas_pos = mpl.findpos(event)\n",
       "\n",
       "    if (name === 'button_press')\n",
       "    {\n",
       "        this.canvas.focus();\n",
       "        this.canvas_div.focus();\n",
       "    }\n",
       "\n",
       "    var x = canvas_pos.x * mpl.ratio;\n",
       "    var y = canvas_pos.y * mpl.ratio;\n",
       "\n",
       "    this.send_message(name, {x: x, y: y, button: event.button,\n",
       "                             step: event.step,\n",
       "                             guiEvent: simpleKeys(event)});\n",
       "\n",
       "    /* This prevents the web browser from automatically changing to\n",
       "     * the text insertion cursor when the button is pressed.  We want\n",
       "     * to control all of the cursor setting manually through the\n",
       "     * 'cursor' event from matplotlib */\n",
       "    event.preventDefault();\n",
       "    return false;\n",
       "}\n",
       "\n",
       "mpl.figure.prototype._key_event_extra = function(event, name) {\n",
       "    // Handle any extra behaviour associated with a key event\n",
       "}\n",
       "\n",
       "mpl.figure.prototype.key_event = function(event, name) {\n",
       "\n",
       "    // Prevent repeat events\n",
       "    if (name == 'key_press')\n",
       "    {\n",
       "        if (event.which === this._key)\n",
       "            return;\n",
       "        else\n",
       "            this._key = event.which;\n",
       "    }\n",
       "    if (name == 'key_release')\n",
       "        this._key = null;\n",
       "\n",
       "    var value = '';\n",
       "    if (event.ctrlKey && event.which != 17)\n",
       "        value += \"ctrl+\";\n",
       "    if (event.altKey && event.which != 18)\n",
       "        value += \"alt+\";\n",
       "    if (event.shiftKey && event.which != 16)\n",
       "        value += \"shift+\";\n",
       "\n",
       "    value += 'k';\n",
       "    value += event.which.toString();\n",
       "\n",
       "    this._key_event_extra(event, name);\n",
       "\n",
       "    this.send_message(name, {key: value,\n",
       "                             guiEvent: simpleKeys(event)});\n",
       "    return false;\n",
       "}\n",
       "\n",
       "mpl.figure.prototype.toolbar_button_onclick = function(name) {\n",
       "    if (name == 'download') {\n",
       "        this.handle_save(this, null);\n",
       "    } else {\n",
       "        this.send_message(\"toolbar_button\", {name: name});\n",
       "    }\n",
       "};\n",
       "\n",
       "mpl.figure.prototype.toolbar_button_onmouseover = function(tooltip) {\n",
       "    this.message.textContent = tooltip;\n",
       "};\n",
       "mpl.toolbar_items = [[\"Home\", \"Reset original view\", \"fa fa-home icon-home\", \"home\"], [\"Back\", \"Back to  previous view\", \"fa fa-arrow-left icon-arrow-left\", \"back\"], [\"Forward\", \"Forward to next view\", \"fa fa-arrow-right icon-arrow-right\", \"forward\"], [\"\", \"\", \"\", \"\"], [\"Pan\", \"Pan axes with left mouse, zoom with right\", \"fa fa-arrows icon-move\", \"pan\"], [\"Zoom\", \"Zoom to rectangle\", \"fa fa-square-o icon-check-empty\", \"zoom\"], [\"\", \"\", \"\", \"\"], [\"Download\", \"Download plot\", \"fa fa-floppy-o icon-save\", \"download\"]];\n",
       "\n",
       "mpl.extensions = [\"eps\", \"jpeg\", \"pdf\", \"png\", \"ps\", \"raw\", \"svg\", \"tif\"];\n",
       "\n",
       "mpl.default_extension = \"png\";var comm_websocket_adapter = function(comm) {\n",
       "    // Create a \"websocket\"-like object which calls the given IPython comm\n",
       "    // object with the appropriate methods. Currently this is a non binary\n",
       "    // socket, so there is still some room for performance tuning.\n",
       "    var ws = {};\n",
       "\n",
       "    ws.close = function() {\n",
       "        comm.close()\n",
       "    };\n",
       "    ws.send = function(m) {\n",
       "        //console.log('sending', m);\n",
       "        comm.send(m);\n",
       "    };\n",
       "    // Register the callback with on_msg.\n",
       "    comm.on_msg(function(msg) {\n",
       "        //console.log('receiving', msg['content']['data'], msg);\n",
       "        // Pass the mpl event to the overriden (by mpl) onmessage function.\n",
       "        ws.onmessage(msg['content']['data'])\n",
       "    });\n",
       "    return ws;\n",
       "}\n",
       "\n",
       "mpl.mpl_figure_comm = function(comm, msg) {\n",
       "    // This is the function which gets called when the mpl process\n",
       "    // starts-up an IPython Comm through the \"matplotlib\" channel.\n",
       "\n",
       "    var id = msg.content.data.id;\n",
       "    // Get hold of the div created by the display call when the Comm\n",
       "    // socket was opened in Python.\n",
       "    var element = $(\"#\" + id);\n",
       "    var ws_proxy = comm_websocket_adapter(comm)\n",
       "\n",
       "    function ondownload(figure, format) {\n",
       "        window.open(figure.imageObj.src);\n",
       "    }\n",
       "\n",
       "    var fig = new mpl.figure(id, ws_proxy,\n",
       "                           ondownload,\n",
       "                           element.get(0));\n",
       "\n",
       "    // Call onopen now - mpl needs it, as it is assuming we've passed it a real\n",
       "    // web socket which is closed, not our websocket->open comm proxy.\n",
       "    ws_proxy.onopen();\n",
       "\n",
       "    fig.parent_element = element.get(0);\n",
       "    fig.cell_info = mpl.find_output_cell(\"<div id='\" + id + \"'></div>\");\n",
       "    if (!fig.cell_info) {\n",
       "        console.error(\"Failed to find cell for figure\", id, fig);\n",
       "        return;\n",
       "    }\n",
       "\n",
       "    var output_index = fig.cell_info[2]\n",
       "    var cell = fig.cell_info[0];\n",
       "\n",
       "};\n",
       "\n",
       "mpl.figure.prototype.handle_close = function(fig, msg) {\n",
       "    var width = fig.canvas.width/mpl.ratio\n",
       "    fig.root.unbind('remove')\n",
       "\n",
       "    // Update the output cell to use the data from the current canvas.\n",
       "    fig.push_to_output();\n",
       "    var dataURL = fig.canvas.toDataURL();\n",
       "    // Re-enable the keyboard manager in IPython - without this line, in FF,\n",
       "    // the notebook keyboard shortcuts fail.\n",
       "    IPython.keyboard_manager.enable()\n",
       "    $(fig.parent_element).html('<img src=\"' + dataURL + '\" width=\"' + width + '\">');\n",
       "    fig.close_ws(fig, msg);\n",
       "}\n",
       "\n",
       "mpl.figure.prototype.close_ws = function(fig, msg){\n",
       "    fig.send_message('closing', msg);\n",
       "    // fig.ws.close()\n",
       "}\n",
       "\n",
       "mpl.figure.prototype.push_to_output = function(remove_interactive) {\n",
       "    // Turn the data on the canvas into data in the output cell.\n",
       "    var width = this.canvas.width/mpl.ratio\n",
       "    var dataURL = this.canvas.toDataURL();\n",
       "    this.cell_info[1]['text/html'] = '<img src=\"' + dataURL + '\" width=\"' + width + '\">';\n",
       "}\n",
       "\n",
       "mpl.figure.prototype.updated_canvas_event = function() {\n",
       "    // Tell IPython that the notebook contents must change.\n",
       "    IPython.notebook.set_dirty(true);\n",
       "    this.send_message(\"ack\", {});\n",
       "    var fig = this;\n",
       "    // Wait a second, then push the new image to the DOM so\n",
       "    // that it is saved nicely (might be nice to debounce this).\n",
       "    setTimeout(function () { fig.push_to_output() }, 1000);\n",
       "}\n",
       "\n",
       "mpl.figure.prototype._init_toolbar = function() {\n",
       "    var fig = this;\n",
       "\n",
       "    var nav_element = $('<div/>')\n",
       "    nav_element.attr('style', 'width: 100%');\n",
       "    this.root.append(nav_element);\n",
       "\n",
       "    // Define a callback function for later on.\n",
       "    function toolbar_event(event) {\n",
       "        return fig.toolbar_button_onclick(event['data']);\n",
       "    }\n",
       "    function toolbar_mouse_event(event) {\n",
       "        return fig.toolbar_button_onmouseover(event['data']);\n",
       "    }\n",
       "\n",
       "    for(var toolbar_ind in mpl.toolbar_items){\n",
       "        var name = mpl.toolbar_items[toolbar_ind][0];\n",
       "        var tooltip = mpl.toolbar_items[toolbar_ind][1];\n",
       "        var image = mpl.toolbar_items[toolbar_ind][2];\n",
       "        var method_name = mpl.toolbar_items[toolbar_ind][3];\n",
       "\n",
       "        if (!name) { continue; };\n",
       "\n",
       "        var button = $('<button class=\"btn btn-default\" href=\"#\" title=\"' + name + '\"><i class=\"fa ' + image + ' fa-lg\"></i></button>');\n",
       "        button.click(method_name, toolbar_event);\n",
       "        button.mouseover(tooltip, toolbar_mouse_event);\n",
       "        nav_element.append(button);\n",
       "    }\n",
       "\n",
       "    // Add the status bar.\n",
       "    var status_bar = $('<span class=\"mpl-message\" style=\"text-align:right; float: right;\"/>');\n",
       "    nav_element.append(status_bar);\n",
       "    this.message = status_bar[0];\n",
       "\n",
       "    // Add the close button to the window.\n",
       "    var buttongrp = $('<div class=\"btn-group inline pull-right\"></div>');\n",
       "    var button = $('<button class=\"btn btn-mini btn-primary\" href=\"#\" title=\"Stop Interaction\"><i class=\"fa fa-power-off icon-remove icon-large\"></i></button>');\n",
       "    button.click(function (evt) { fig.handle_close(fig, {}); } );\n",
       "    button.mouseover('Stop Interaction', toolbar_mouse_event);\n",
       "    buttongrp.append(button);\n",
       "    var titlebar = this.root.find($('.ui-dialog-titlebar'));\n",
       "    titlebar.prepend(buttongrp);\n",
       "}\n",
       "\n",
       "mpl.figure.prototype._root_extra_style = function(el){\n",
       "    var fig = this\n",
       "    el.on(\"remove\", function(){\n",
       "\tfig.close_ws(fig, {});\n",
       "    });\n",
       "}\n",
       "\n",
       "mpl.figure.prototype._canvas_extra_style = function(el){\n",
       "    // this is important to make the div 'focusable\n",
       "    el.attr('tabindex', 0)\n",
       "    // reach out to IPython and tell the keyboard manager to turn it's self\n",
       "    // off when our div gets focus\n",
       "\n",
       "    // location in version 3\n",
       "    if (IPython.notebook.keyboard_manager) {\n",
       "        IPython.notebook.keyboard_manager.register_events(el);\n",
       "    }\n",
       "    else {\n",
       "        // location in version 2\n",
       "        IPython.keyboard_manager.register_events(el);\n",
       "    }\n",
       "\n",
       "}\n",
       "\n",
       "mpl.figure.prototype._key_event_extra = function(event, name) {\n",
       "    var manager = IPython.notebook.keyboard_manager;\n",
       "    if (!manager)\n",
       "        manager = IPython.keyboard_manager;\n",
       "\n",
       "    // Check for shift+enter\n",
       "    if (event.shiftKey && event.which == 13) {\n",
       "        this.canvas_div.blur();\n",
       "        event.shiftKey = false;\n",
       "        // Send a \"J\" for go to next cell\n",
       "        event.which = 74;\n",
       "        event.keyCode = 74;\n",
       "        manager.command_mode();\n",
       "        manager.handle_keydown(event);\n",
       "    }\n",
       "}\n",
       "\n",
       "mpl.figure.prototype.handle_save = function(fig, msg) {\n",
       "    fig.ondownload(fig, null);\n",
       "}\n",
       "\n",
       "\n",
       "mpl.find_output_cell = function(html_output) {\n",
       "    // Return the cell and output element which can be found *uniquely* in the notebook.\n",
       "    // Note - this is a bit hacky, but it is done because the \"notebook_saving.Notebook\"\n",
       "    // IPython event is triggered only after the cells have been serialised, which for\n",
       "    // our purposes (turning an active figure into a static one), is too late.\n",
       "    var cells = IPython.notebook.get_cells();\n",
       "    var ncells = cells.length;\n",
       "    for (var i=0; i<ncells; i++) {\n",
       "        var cell = cells[i];\n",
       "        if (cell.cell_type === 'code'){\n",
       "            for (var j=0; j<cell.output_area.outputs.length; j++) {\n",
       "                var data = cell.output_area.outputs[j];\n",
       "                if (data.data) {\n",
       "                    // IPython >= 3 moved mimebundle to data attribute of output\n",
       "                    data = data.data;\n",
       "                }\n",
       "                if (data['text/html'] == html_output) {\n",
       "                    return [cell, data, j];\n",
       "                }\n",
       "            }\n",
       "        }\n",
       "    }\n",
       "}\n",
       "\n",
       "// Register the function which deals with the matplotlib target/channel.\n",
       "// The kernel may be null if the page has been refreshed.\n",
       "if (IPython.notebook.kernel != null) {\n",
       "    IPython.notebook.kernel.comm_manager.register_target('matplotlib', mpl.mpl_figure_comm);\n",
       "}\n"
      ],
      "text/plain": [
       "<IPython.core.display.Javascript object>"
      ]
     },
     "metadata": {},
     "output_type": "display_data"
    },
    {
     "data": {
      "text/html": [
       "<img src=\"data:image/png;base64,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\" width=\"640\">"
      ],
      "text/plain": [
       "<IPython.core.display.HTML object>"
      ]
     },
     "metadata": {},
     "output_type": "display_data"
    },
    {
     "data": {
      "text/plain": [
       "<sunpy.visualization.imageanimator.ImageAnimatorWCS at 0x1c1c852898>"
      ]
     },
     "execution_count": 58,
     "metadata": {},
     "output_type": "execute_result"
    }
   ],
   "source": [
    "my_cube.plot(image_axes=[0,1])"
   ]
  },
  {
   "cell_type": "markdown",
   "metadata": {},
   "source": [
    "where the first entry in the list gives the index of the data index to go on the x-axis, and the second entry gives the index of the data axis to go on the y-axis.\n",
    "\n",
    "In addition, the units of the axes or the data can be set by the ``unit_x_axis``, ``unit_y_axis``, unit kwargs.  However, if not set, these are derived from the `NDCube` wcs and unit attributes."
   ]
  },
  {
   "cell_type": "markdown",
   "metadata": {},
   "source": [
    "### Coordinate Transformations"
   ]
  },
  {
   "cell_type": "markdown",
   "metadata": {},
   "source": [
    "The fundamental point the WCS system is the ability to easily translate between pixel and real world coordinates.  For this purpose, `NDCube` provides convenience wrappers for the better known astropy functions, `astropy.wcs.WCS.all_pix2world` and `astropy.wcs.WCS.all_world2pix`. These are `NDCube.pixel_to_world`, `NDCube.world_to_pixel`, and `NDCube.all_world_coords`. It is highly recommended that when using `NDCube` these convenience wrappers are used rather than the original astropy functions for a few reasons. For example, they can track house-keeping data, are aware of \"missing\" WCS axis, are unit-aware, etc.\n",
    "\n",
    "To use `pixel_to_world`, simply input `Quantity` objects with pixel units. Each `Quantity` corresponds to an axis so the number of `Quantity` objects should equal the number of data axes.  Also, the order of the quantities should correspond to the data axes' order, not the WCS order.  The nth element of each `Quantity` describes the pixel coordinate in that axis. For example, if we wanted to transform the pixel coordinates of the pixel (2, 3, 4) in ``my_cube`` we would do:"
   ]
  },
  {
   "cell_type": "code",
   "execution_count": 59,
   "metadata": {},
   "outputs": [],
   "source": [
    "real_world_coords = my_cube.pixel_to_world(u.Quantity([2], unit=u.pix), \n",
    "                                           u.Quantity([3], unit=u.pix), \n",
    "                                           u.Quantity([4], unit=u.pix))"
   ]
  },
  {
   "cell_type": "code",
   "execution_count": 60,
   "metadata": {},
   "outputs": [
    {
     "data": {
      "text/plain": [
       "[<Quantity [0.00285699] deg>,\n",
       " <Quantity [-0.09746126] deg>,\n",
       " <Quantity [1.33200384e-07] m>]"
      ]
     },
     "execution_count": 60,
     "metadata": {},
     "output_type": "execute_result"
    }
   ],
   "source": [
    "real_world_coords"
   ]
  },
  {
   "cell_type": "markdown",
   "metadata": {},
   "source": [
    "To convert two pixels with pixel coordinates (2, 3, 4) and (5, 6, 7), we would call pixel_to_world like so:"
   ]
  },
  {
   "cell_type": "code",
   "execution_count": 61,
   "metadata": {},
   "outputs": [],
   "source": [
    "real_world_coords = my_cube.pixel_to_world(u.Quantity([2, 5], unit=u.pix), \n",
    "                                           u.Quantity([3, 6], unit=u.pix), \n",
    "                                           u.Quantity([4, 7], unit=u.pix))"
   ]
  },
  {
   "cell_type": "code",
   "execution_count": 62,
   "metadata": {},
   "outputs": [
    {
     "data": {
      "text/plain": [
       "[<Quantity [0.00285699, 0.0036915 ] deg>,\n",
       " <Quantity [-0.09746126, -0.0971934 ] deg>,\n",
       " <Quantity [1.33200384e-07, 1.33208172e-07] m>]"
      ]
     },
     "execution_count": 62,
     "metadata": {},
     "output_type": "execute_result"
    }
   ],
   "source": [
    "real_world_coords"
   ]
  },
  {
   "cell_type": "markdown",
   "metadata": {},
   "source": [
    "As can be seen, since each `Quantity` describes a different pixel coordinate of the same number of pixels, the lengths\n",
    "of each `Quantity` must be the same."
   ]
  },
  {
   "cell_type": "markdown",
   "metadata": {},
   "source": [
    "The exact units used are defined within the `NDCube` instance's `WCS` object.  Once again, the coordinates of the nth pixel is given by the nth element of each of the `Quantity` objects returned.\n",
    "\n",
    "Using `world_to_pixel` to convert real world coordinates to pixel coordinates is exactly the same, but in reverse. This time the input `Quantity` objects must be in real world coordinates compatible with those defined in the `NDCube` instance's `WCS` object.  The output is a list of `Quantity` objects in pixel units."
   ]
  },
  {
   "cell_type": "code",
   "execution_count": 63,
   "metadata": {},
   "outputs": [],
   "source": [
    "pixel_coords = my_cube.world_to_pixel(u.Quantity(1.40006967, unit=\"deg\"), \n",
    "                                      u.Quantity(1.49986193, unit=\"deg\"),\n",
    "                                      u.Quantity(1.10000000e-09,  unit=\"m\"))"
   ]
  },
  {
   "cell_type": "code",
   "execution_count": 64,
   "metadata": {},
   "outputs": [
    {
     "data": {
      "text/plain": [
       "[<Quantity 4979.25113962 pix>,\n",
       " <Quantity 17465.4751099 pix>,\n",
       " <Quantity -50882.12634823 pix>]"
      ]
     },
     "execution_count": 64,
     "metadata": {},
     "output_type": "execute_result"
    }
   ],
   "source": [
    "pixel_coords"
   ]
  },
  {
   "cell_type": "markdown",
   "metadata": {},
   "source": [
    "Note that both `pixel_to_pixel` and `world_to_pixel` can handle non-integer pixels. Moreover, they can also handle pixel beyond the bounds of the `NDCube` and even negative pixels.  This is because the WCS translations should be valid anywhere in space, and not just within the field of view of the `NDCube`.  This capability has many useful applications, for example, in comparing observations from different instruments with overlapping fields of view."
   ]
  },
  {
   "cell_type": "markdown",
   "metadata": {},
   "source": [
    "There are times however, when you only want to know the real world coordinates of the `NDCube` field of view.  To make this easy, `NDCube` has a another coordinate transformation method `NDCube.all_world_coords`.  This method returns the real world coordinates for each pixel along a given data axis.  So in the case of ``my_cube``, if we wanted the wavelength axis we could call:"
   ]
  },
  {
   "cell_type": "code",
   "execution_count": 67,
   "metadata": {},
   "outputs": [
    {
     "data": {
      "text/latex": [
       "$[1.3319 \\times 10^{-7},~1.331926 \\times 10^{-7},~1.3319519 \\times 10^{-7},~\\dots,~1.3404668 \\times 10^{-7},~1.3404928 \\times 10^{-7},~1.3405187 \\times 10^{-7}] \\; \\mathrm{m}$"
      ],
      "text/plain": [
       "<Quantity [1.33190000e-07, 1.33192596e-07, 1.33195192e-07, 1.33197788e-07,\n",
       "           1.33200384e-07, 1.33202980e-07, 1.33205576e-07, 1.33208172e-07,\n",
       "           1.33210768e-07, 1.33213364e-07, 1.33215960e-07, 1.33218556e-07,\n",
       "           1.33221152e-07, 1.33223748e-07, 1.33226344e-07, 1.33228940e-07,\n",
       "           1.33231536e-07, 1.33234132e-07, 1.33236728e-07, 1.33239324e-07,\n",
       "           1.33241920e-07, 1.33244516e-07, 1.33247112e-07, 1.33249708e-07,\n",
       "           1.33252304e-07, 1.33254900e-07, 1.33257496e-07, 1.33260092e-07,\n",
       "           1.33262688e-07, 1.33265284e-07, 1.33267880e-07, 1.33270476e-07,\n",
       "           1.33273072e-07, 1.33275668e-07, 1.33278264e-07, 1.33280860e-07,\n",
       "           1.33283456e-07, 1.33286052e-07, 1.33288648e-07, 1.33291244e-07,\n",
       "           1.33293840e-07, 1.33296436e-07, 1.33299032e-07, 1.33301628e-07,\n",
       "           1.33304224e-07, 1.33306820e-07, 1.33309416e-07, 1.33312012e-07,\n",
       "           1.33314608e-07, 1.33317204e-07, 1.33319800e-07, 1.33322396e-07,\n",
       "           1.33324992e-07, 1.33327588e-07, 1.33330184e-07, 1.33332780e-07,\n",
       "           1.33335376e-07, 1.33337972e-07, 1.33340568e-07, 1.33343164e-07,\n",
       "           1.33345760e-07, 1.33348356e-07, 1.33350952e-07, 1.33353548e-07,\n",
       "           1.33356144e-07, 1.33358740e-07, 1.33361336e-07, 1.33363932e-07,\n",
       "           1.33366528e-07, 1.33369124e-07, 1.33371720e-07, 1.33374316e-07,\n",
       "           1.33376912e-07, 1.33379508e-07, 1.33382104e-07, 1.33384700e-07,\n",
       "           1.33387296e-07, 1.33389892e-07, 1.33392488e-07, 1.33395084e-07,\n",
       "           1.33397680e-07, 1.33400276e-07, 1.33402872e-07, 1.33405468e-07,\n",
       "           1.33408064e-07, 1.33410660e-07, 1.33413256e-07, 1.33415852e-07,\n",
       "           1.33418448e-07, 1.33421044e-07, 1.33423640e-07, 1.33426236e-07,\n",
       "           1.33428832e-07, 1.33431428e-07, 1.33434024e-07, 1.33436620e-07,\n",
       "           1.33439216e-07, 1.33441812e-07, 1.33444408e-07, 1.33447004e-07,\n",
       "           1.33449600e-07, 1.33452196e-07, 1.33454792e-07, 1.33457388e-07,\n",
       "           1.33459984e-07, 1.33462580e-07, 1.33465176e-07, 1.33467772e-07,\n",
       "           1.33470368e-07, 1.33472964e-07, 1.33475560e-07, 1.33478156e-07,\n",
       "           1.33480752e-07, 1.33483348e-07, 1.33485944e-07, 1.33488540e-07,\n",
       "           1.33491136e-07, 1.33493732e-07, 1.33496328e-07, 1.33498924e-07,\n",
       "           1.33501520e-07, 1.33504116e-07, 1.33506712e-07, 1.33509308e-07,\n",
       "           1.33511904e-07, 1.33514500e-07, 1.33517096e-07, 1.33519692e-07,\n",
       "           1.33522288e-07, 1.33524884e-07, 1.33527480e-07, 1.33530076e-07,\n",
       "           1.33532672e-07, 1.33535268e-07, 1.33537864e-07, 1.33540460e-07,\n",
       "           1.33543056e-07, 1.33545652e-07, 1.33548248e-07, 1.33550844e-07,\n",
       "           1.33553440e-07, 1.33556036e-07, 1.33558632e-07, 1.33561228e-07,\n",
       "           1.33563824e-07, 1.33566420e-07, 1.33569016e-07, 1.33571612e-07,\n",
       "           1.33574208e-07, 1.33576804e-07, 1.33579400e-07, 1.33581996e-07,\n",
       "           1.33584592e-07, 1.33587188e-07, 1.33589784e-07, 1.33592380e-07,\n",
       "           1.33594976e-07, 1.33597572e-07, 1.33600168e-07, 1.33602764e-07,\n",
       "           1.33605360e-07, 1.33607956e-07, 1.33610552e-07, 1.33613148e-07,\n",
       "           1.33615744e-07, 1.33618340e-07, 1.33620936e-07, 1.33623532e-07,\n",
       "           1.33626128e-07, 1.33628724e-07, 1.33631320e-07, 1.33633916e-07,\n",
       "           1.33636512e-07, 1.33639108e-07, 1.33641704e-07, 1.33644300e-07,\n",
       "           1.33646896e-07, 1.33649492e-07, 1.33652088e-07, 1.33654684e-07,\n",
       "           1.33657280e-07, 1.33659876e-07, 1.33662472e-07, 1.33665068e-07,\n",
       "           1.33667664e-07, 1.33670260e-07, 1.33672856e-07, 1.33675452e-07,\n",
       "           1.33678048e-07, 1.33680644e-07, 1.33683240e-07, 1.33685836e-07,\n",
       "           1.33688432e-07, 1.33691028e-07, 1.33693624e-07, 1.33696220e-07,\n",
       "           1.33698816e-07, 1.33701412e-07, 1.33704008e-07, 1.33706604e-07,\n",
       "           1.33709200e-07, 1.33711796e-07, 1.33714392e-07, 1.33716988e-07,\n",
       "           1.33719584e-07, 1.33722180e-07, 1.33724776e-07, 1.33727372e-07,\n",
       "           1.33729968e-07, 1.33732564e-07, 1.33735160e-07, 1.33737756e-07,\n",
       "           1.33740352e-07, 1.33742948e-07, 1.33745544e-07, 1.33748140e-07,\n",
       "           1.33750736e-07, 1.33753332e-07, 1.33755928e-07, 1.33758524e-07,\n",
       "           1.33761120e-07, 1.33763716e-07, 1.33766312e-07, 1.33768908e-07,\n",
       "           1.33771504e-07, 1.33774100e-07, 1.33776696e-07, 1.33779292e-07,\n",
       "           1.33781888e-07, 1.33784484e-07, 1.33787080e-07, 1.33789676e-07,\n",
       "           1.33792272e-07, 1.33794868e-07, 1.33797464e-07, 1.33800060e-07,\n",
       "           1.33802656e-07, 1.33805252e-07, 1.33807848e-07, 1.33810444e-07,\n",
       "           1.33813040e-07, 1.33815636e-07, 1.33818232e-07, 1.33820828e-07,\n",
       "           1.33823424e-07, 1.33826020e-07, 1.33828616e-07, 1.33831212e-07,\n",
       "           1.33833808e-07, 1.33836404e-07, 1.33839000e-07, 1.33841596e-07,\n",
       "           1.33844192e-07, 1.33846788e-07, 1.33849384e-07, 1.33851980e-07,\n",
       "           1.33854576e-07, 1.33857172e-07, 1.33859768e-07, 1.33862364e-07,\n",
       "           1.33864960e-07, 1.33867556e-07, 1.33870152e-07, 1.33872748e-07,\n",
       "           1.33875344e-07, 1.33877940e-07, 1.33880536e-07, 1.33883132e-07,\n",
       "           1.33885728e-07, 1.33888324e-07, 1.33890920e-07, 1.33893516e-07,\n",
       "           1.33896112e-07, 1.33898708e-07, 1.33901304e-07, 1.33903900e-07,\n",
       "           1.33906496e-07, 1.33909092e-07, 1.33911688e-07, 1.33914284e-07,\n",
       "           1.33916880e-07, 1.33919476e-07, 1.33922072e-07, 1.33924668e-07,\n",
       "           1.33927264e-07, 1.33929860e-07, 1.33932456e-07, 1.33935052e-07,\n",
       "           1.33937648e-07, 1.33940244e-07, 1.33942840e-07, 1.33945436e-07,\n",
       "           1.33948032e-07, 1.33950628e-07, 1.33953224e-07, 1.33955820e-07,\n",
       "           1.33958416e-07, 1.33961012e-07, 1.33963608e-07, 1.33966204e-07,\n",
       "           1.33968800e-07, 1.33971396e-07, 1.33973992e-07, 1.33976588e-07,\n",
       "           1.33979184e-07, 1.33981780e-07, 1.33984376e-07, 1.33986972e-07,\n",
       "           1.33989568e-07, 1.33992164e-07, 1.33994760e-07, 1.33997356e-07,\n",
       "           1.33999952e-07, 1.34002548e-07, 1.34005144e-07, 1.34007740e-07,\n",
       "           1.34010336e-07, 1.34012932e-07, 1.34015528e-07, 1.34018124e-07,\n",
       "           1.34020720e-07, 1.34023316e-07, 1.34025912e-07, 1.34028508e-07,\n",
       "           1.34031104e-07, 1.34033700e-07, 1.34036296e-07, 1.34038892e-07,\n",
       "           1.34041488e-07, 1.34044084e-07, 1.34046680e-07, 1.34049276e-07,\n",
       "           1.34051872e-07] m>"
      ]
     },
     "execution_count": 67,
     "metadata": {},
     "output_type": "execute_result"
    }
   ],
   "source": [
    "my_cube.axis_world_coords(2)"
   ]
  },
  {
   "cell_type": "markdown",
   "metadata": {},
   "source": [
    "Note we set ``axes`` to ``2`` since ``axes`` is defined in data axis order.  We can also define the axis using any unique substring from the axis names defined in `NDCube.world_axis_physical_types`:"
   ]
  },
  {
   "cell_type": "code",
   "execution_count": 68,
   "metadata": {},
   "outputs": [
    {
     "data": {
      "text/plain": [
       "('custom:pos.helioprojective.lon', 'custom:pos.helioprojective.lat', 'em.wl')"
      ]
     },
     "execution_count": 68,
     "metadata": {},
     "output_type": "execute_result"
    }
   ],
   "source": [
    "my_cube.world_axis_physical_types"
   ]
  },
  {
   "cell_type": "code",
   "execution_count": 70,
   "metadata": {},
   "outputs": [
    {
     "data": {
      "text/latex": [
       "$[1.3319 \\times 10^{-7},~1.331926 \\times 10^{-7},~1.3319519 \\times 10^{-7},~\\dots,~1.3404668 \\times 10^{-7},~1.3404928 \\times 10^{-7},~1.3405187 \\times 10^{-7}] \\; \\mathrm{m}$"
      ],
      "text/plain": [
       "<Quantity [1.33190000e-07, 1.33192596e-07, 1.33195192e-07, 1.33197788e-07,\n",
       "           1.33200384e-07, 1.33202980e-07, 1.33205576e-07, 1.33208172e-07,\n",
       "           1.33210768e-07, 1.33213364e-07, 1.33215960e-07, 1.33218556e-07,\n",
       "           1.33221152e-07, 1.33223748e-07, 1.33226344e-07, 1.33228940e-07,\n",
       "           1.33231536e-07, 1.33234132e-07, 1.33236728e-07, 1.33239324e-07,\n",
       "           1.33241920e-07, 1.33244516e-07, 1.33247112e-07, 1.33249708e-07,\n",
       "           1.33252304e-07, 1.33254900e-07, 1.33257496e-07, 1.33260092e-07,\n",
       "           1.33262688e-07, 1.33265284e-07, 1.33267880e-07, 1.33270476e-07,\n",
       "           1.33273072e-07, 1.33275668e-07, 1.33278264e-07, 1.33280860e-07,\n",
       "           1.33283456e-07, 1.33286052e-07, 1.33288648e-07, 1.33291244e-07,\n",
       "           1.33293840e-07, 1.33296436e-07, 1.33299032e-07, 1.33301628e-07,\n",
       "           1.33304224e-07, 1.33306820e-07, 1.33309416e-07, 1.33312012e-07,\n",
       "           1.33314608e-07, 1.33317204e-07, 1.33319800e-07, 1.33322396e-07,\n",
       "           1.33324992e-07, 1.33327588e-07, 1.33330184e-07, 1.33332780e-07,\n",
       "           1.33335376e-07, 1.33337972e-07, 1.33340568e-07, 1.33343164e-07,\n",
       "           1.33345760e-07, 1.33348356e-07, 1.33350952e-07, 1.33353548e-07,\n",
       "           1.33356144e-07, 1.33358740e-07, 1.33361336e-07, 1.33363932e-07,\n",
       "           1.33366528e-07, 1.33369124e-07, 1.33371720e-07, 1.33374316e-07,\n",
       "           1.33376912e-07, 1.33379508e-07, 1.33382104e-07, 1.33384700e-07,\n",
       "           1.33387296e-07, 1.33389892e-07, 1.33392488e-07, 1.33395084e-07,\n",
       "           1.33397680e-07, 1.33400276e-07, 1.33402872e-07, 1.33405468e-07,\n",
       "           1.33408064e-07, 1.33410660e-07, 1.33413256e-07, 1.33415852e-07,\n",
       "           1.33418448e-07, 1.33421044e-07, 1.33423640e-07, 1.33426236e-07,\n",
       "           1.33428832e-07, 1.33431428e-07, 1.33434024e-07, 1.33436620e-07,\n",
       "           1.33439216e-07, 1.33441812e-07, 1.33444408e-07, 1.33447004e-07,\n",
       "           1.33449600e-07, 1.33452196e-07, 1.33454792e-07, 1.33457388e-07,\n",
       "           1.33459984e-07, 1.33462580e-07, 1.33465176e-07, 1.33467772e-07,\n",
       "           1.33470368e-07, 1.33472964e-07, 1.33475560e-07, 1.33478156e-07,\n",
       "           1.33480752e-07, 1.33483348e-07, 1.33485944e-07, 1.33488540e-07,\n",
       "           1.33491136e-07, 1.33493732e-07, 1.33496328e-07, 1.33498924e-07,\n",
       "           1.33501520e-07, 1.33504116e-07, 1.33506712e-07, 1.33509308e-07,\n",
       "           1.33511904e-07, 1.33514500e-07, 1.33517096e-07, 1.33519692e-07,\n",
       "           1.33522288e-07, 1.33524884e-07, 1.33527480e-07, 1.33530076e-07,\n",
       "           1.33532672e-07, 1.33535268e-07, 1.33537864e-07, 1.33540460e-07,\n",
       "           1.33543056e-07, 1.33545652e-07, 1.33548248e-07, 1.33550844e-07,\n",
       "           1.33553440e-07, 1.33556036e-07, 1.33558632e-07, 1.33561228e-07,\n",
       "           1.33563824e-07, 1.33566420e-07, 1.33569016e-07, 1.33571612e-07,\n",
       "           1.33574208e-07, 1.33576804e-07, 1.33579400e-07, 1.33581996e-07,\n",
       "           1.33584592e-07, 1.33587188e-07, 1.33589784e-07, 1.33592380e-07,\n",
       "           1.33594976e-07, 1.33597572e-07, 1.33600168e-07, 1.33602764e-07,\n",
       "           1.33605360e-07, 1.33607956e-07, 1.33610552e-07, 1.33613148e-07,\n",
       "           1.33615744e-07, 1.33618340e-07, 1.33620936e-07, 1.33623532e-07,\n",
       "           1.33626128e-07, 1.33628724e-07, 1.33631320e-07, 1.33633916e-07,\n",
       "           1.33636512e-07, 1.33639108e-07, 1.33641704e-07, 1.33644300e-07,\n",
       "           1.33646896e-07, 1.33649492e-07, 1.33652088e-07, 1.33654684e-07,\n",
       "           1.33657280e-07, 1.33659876e-07, 1.33662472e-07, 1.33665068e-07,\n",
       "           1.33667664e-07, 1.33670260e-07, 1.33672856e-07, 1.33675452e-07,\n",
       "           1.33678048e-07, 1.33680644e-07, 1.33683240e-07, 1.33685836e-07,\n",
       "           1.33688432e-07, 1.33691028e-07, 1.33693624e-07, 1.33696220e-07,\n",
       "           1.33698816e-07, 1.33701412e-07, 1.33704008e-07, 1.33706604e-07,\n",
       "           1.33709200e-07, 1.33711796e-07, 1.33714392e-07, 1.33716988e-07,\n",
       "           1.33719584e-07, 1.33722180e-07, 1.33724776e-07, 1.33727372e-07,\n",
       "           1.33729968e-07, 1.33732564e-07, 1.33735160e-07, 1.33737756e-07,\n",
       "           1.33740352e-07, 1.33742948e-07, 1.33745544e-07, 1.33748140e-07,\n",
       "           1.33750736e-07, 1.33753332e-07, 1.33755928e-07, 1.33758524e-07,\n",
       "           1.33761120e-07, 1.33763716e-07, 1.33766312e-07, 1.33768908e-07,\n",
       "           1.33771504e-07, 1.33774100e-07, 1.33776696e-07, 1.33779292e-07,\n",
       "           1.33781888e-07, 1.33784484e-07, 1.33787080e-07, 1.33789676e-07,\n",
       "           1.33792272e-07, 1.33794868e-07, 1.33797464e-07, 1.33800060e-07,\n",
       "           1.33802656e-07, 1.33805252e-07, 1.33807848e-07, 1.33810444e-07,\n",
       "           1.33813040e-07, 1.33815636e-07, 1.33818232e-07, 1.33820828e-07,\n",
       "           1.33823424e-07, 1.33826020e-07, 1.33828616e-07, 1.33831212e-07,\n",
       "           1.33833808e-07, 1.33836404e-07, 1.33839000e-07, 1.33841596e-07,\n",
       "           1.33844192e-07, 1.33846788e-07, 1.33849384e-07, 1.33851980e-07,\n",
       "           1.33854576e-07, 1.33857172e-07, 1.33859768e-07, 1.33862364e-07,\n",
       "           1.33864960e-07, 1.33867556e-07, 1.33870152e-07, 1.33872748e-07,\n",
       "           1.33875344e-07, 1.33877940e-07, 1.33880536e-07, 1.33883132e-07,\n",
       "           1.33885728e-07, 1.33888324e-07, 1.33890920e-07, 1.33893516e-07,\n",
       "           1.33896112e-07, 1.33898708e-07, 1.33901304e-07, 1.33903900e-07,\n",
       "           1.33906496e-07, 1.33909092e-07, 1.33911688e-07, 1.33914284e-07,\n",
       "           1.33916880e-07, 1.33919476e-07, 1.33922072e-07, 1.33924668e-07,\n",
       "           1.33927264e-07, 1.33929860e-07, 1.33932456e-07, 1.33935052e-07,\n",
       "           1.33937648e-07, 1.33940244e-07, 1.33942840e-07, 1.33945436e-07,\n",
       "           1.33948032e-07, 1.33950628e-07, 1.33953224e-07, 1.33955820e-07,\n",
       "           1.33958416e-07, 1.33961012e-07, 1.33963608e-07, 1.33966204e-07,\n",
       "           1.33968800e-07, 1.33971396e-07, 1.33973992e-07, 1.33976588e-07,\n",
       "           1.33979184e-07, 1.33981780e-07, 1.33984376e-07, 1.33986972e-07,\n",
       "           1.33989568e-07, 1.33992164e-07, 1.33994760e-07, 1.33997356e-07,\n",
       "           1.33999952e-07, 1.34002548e-07, 1.34005144e-07, 1.34007740e-07,\n",
       "           1.34010336e-07, 1.34012932e-07, 1.34015528e-07, 1.34018124e-07,\n",
       "           1.34020720e-07, 1.34023316e-07, 1.34025912e-07, 1.34028508e-07,\n",
       "           1.34031104e-07, 1.34033700e-07, 1.34036296e-07, 1.34038892e-07,\n",
       "           1.34041488e-07, 1.34044084e-07, 1.34046680e-07, 1.34049276e-07,\n",
       "           1.34051872e-07] m>"
      ]
     },
     "execution_count": 70,
     "metadata": {},
     "output_type": "execute_result"
    }
   ],
   "source": [
    "# Since 'wl' is unique to the wavelength axis name, let's use that.\n",
    "my_cube.axis_world_coords('wl')"
   ]
  },
  {
   "cell_type": "markdown",
   "metadata": {},
   "source": [
    "Notice how this returns the same result as when we set ``axes`` to the corresponding data axis number."
   ]
  },
  {
   "cell_type": "markdown",
   "metadata": {},
   "source": [
    "As discussed above, some WCS axes are not independent.  For those axes, `all_world_coords` returns a `Quantity` with the same number of dimensions as dependent axes.  For example, helioprojective longitude and latitude are dependent.  Therefore if we ask for longitude, we will get back a 2D `Quantity` with the same shape as the longitude $\\times$ latitude axes lengths.  For example:"
   ]
  },
  {
   "cell_type": "code",
   "execution_count": 72,
   "metadata": {},
   "outputs": [],
   "source": [
    "longitude = my_cube.axis_world_coords('lon')"
   ]
  },
  {
   "cell_type": "code",
   "execution_count": 73,
   "metadata": {},
   "outputs": [
    {
     "data": {
      "text/latex": [
       "$[8,~548,~333] \\; \\mathrm{pix}$"
      ],
      "text/plain": [
       "<Quantity [  8., 548., 333.] pix>"
      ]
     },
     "execution_count": 73,
     "metadata": {},
     "output_type": "execute_result"
    }
   ],
   "source": [
    "my_cube.dimensions"
   ]
  },
  {
   "cell_type": "code",
   "execution_count": 74,
   "metadata": {},
   "outputs": [
    {
     "data": {
      "text/plain": [
       "(8, 548, 333)"
      ]
     },
     "execution_count": 74,
     "metadata": {},
     "output_type": "execute_result"
    }
   ],
   "source": [
    "longitude.shape"
   ]
  },
  {
   "cell_type": "code",
   "execution_count": 75,
   "metadata": {},
   "outputs": [
    {
     "data": {
      "text/latex": [
       "$[[[0.0022996091,~0.0022996091,~0.0022996091,~\\dots,~0.0022996091,~0.0022996091,~0.0022996091],~\n",
       "  [0.0023006516,~0.0023006516,~0.0023006516,~\\dots,~0.0023006516,~0.0023006516,~0.0023006516],~\n",
       "  [0.0023016941,~0.0023016941,~0.0023016941,~\\dots,~0.0023016941,~0.0023016941,~0.0023016941],~\n",
       "  \\dots,~\n",
       "  [0.0028677623,~0.0028677623,~0.0028677623,~\\dots,~0.0028677623,~0.0028677623,~0.0028677623],~\n",
       "  [0.0028688048,~0.0028688048,~0.0028688048,~\\dots,~0.0028688048,~0.0028688048,~0.0028688048],~\n",
       "  [0.0028698473,~0.0028698473,~0.0028698473,~\\dots,~0.0028698473,~0.0028698473,~0.0028698473]],~\n",
       "\n",
       " [[0.0025767369,~0.0025767369,~0.0025767369,~\\dots,~0.0025767369,~0.0025767369,~0.0025767369],~\n",
       "  [0.0025777793,~0.0025777793,~0.0025777793,~\\dots,~0.0025777793,~0.0025777793,~0.0025777793],~\n",
       "  [0.0025788218,~0.0025788218,~0.0025788218,~\\dots,~0.0025788218,~0.0025788218,~0.0025788218],~\n",
       "  \\dots,~\n",
       "  [0.0031448897,~0.0031448897,~0.0031448897,~\\dots,~0.0031448897,~0.0031448897,~0.0031448897],~\n",
       "  [0.0031459322,~0.0031459322,~0.0031459322,~\\dots,~0.0031459322,~0.0031459322,~0.0031459322],~\n",
       "  [0.0031469747,~0.0031469747,~0.0031469747,~\\dots,~0.0031469747,~0.0031469747,~0.0031469747]],~\n",
       "\n",
       " [[0.0028538646,~0.0028538646,~0.0028538646,~\\dots,~0.0028538646,~0.0028538646,~0.0028538646],~\n",
       "  [0.0028549071,~0.0028549071,~0.0028549071,~\\dots,~0.0028549071,~0.0028549071,~0.0028549071],~\n",
       "  [0.0028559496,~0.0028559496,~0.0028559496,~\\dots,~0.0028559496,~0.0028559496,~0.0028559496],~\n",
       "  \\dots,~\n",
       "  [0.0034220172,~0.0034220172,~0.0034220172,~\\dots,~0.0034220172,~0.0034220172,~0.0034220172],~\n",
       "  [0.0034230597,~0.0034230597,~0.0034230597,~\\dots,~0.0034230597,~0.0034230597,~0.0034230597],~\n",
       "  [0.0034241021,~0.0034241021,~0.0034241021,~\\dots,~0.0034241021,~0.0034241021,~0.0034241021]],~\n",
       "\n",
       " \\dots,~\n",
       "\n",
       " [[0.0036852478,~0.0036852478,~0.0036852478,~\\dots,~0.0036852478,~0.0036852478,~0.0036852478],~\n",
       "  [0.0036862903,~0.0036862903,~0.0036862903,~\\dots,~0.0036862903,~0.0036862903,~0.0036862903],~\n",
       "  [0.0036873328,~0.0036873328,~0.0036873328,~\\dots,~0.0036873328,~0.0036873328,~0.0036873328],~\n",
       "  \\dots,~\n",
       "  [0.0042533995,~0.0042533995,~0.0042533995,~\\dots,~0.0042533995,~0.0042533995,~0.0042533995],~\n",
       "  [0.0042544419,~0.0042544419,~0.0042544419,~\\dots,~0.0042544419,~0.0042544419,~0.0042544419],~\n",
       "  [0.0042554844,~0.0042554844,~0.0042554844,~\\dots,~0.0042554844,~0.0042554844,~0.0042554844]],~\n",
       "\n",
       " [[0.0039623756,~0.0039623756,~0.0039623756,~\\dots,~0.0039623756,~0.0039623756,~0.0039623756],~\n",
       "  [0.003963418,~0.003963418,~0.003963418,~\\dots,~0.003963418,~0.003963418,~0.003963418],~\n",
       "  [0.0039644605,~0.0039644605,~0.0039644605,~\\dots,~0.0039644605,~0.0039644605,~0.0039644605],~\n",
       "  \\dots,~\n",
       "  [0.0045305269,~0.0045305269,~0.0045305269,~\\dots,~0.0045305269,~0.0045305269,~0.0045305269],~\n",
       "  [0.0045315694,~0.0045315694,~0.0045315694,~\\dots,~0.0045315694,~0.0045315694,~0.0045315694],~\n",
       "  [0.0045326119,~0.0045326119,~0.0045326119,~\\dots,~0.0045326119,~0.0045326119,~0.0045326119]],~\n",
       "\n",
       " [[0.0042395033,~0.0042395033,~0.0042395033,~\\dots,~0.0042395033,~0.0042395033,~0.0042395033],~\n",
       "  [0.0042405458,~0.0042405458,~0.0042405458,~\\dots,~0.0042405458,~0.0042405458,~0.0042405458],~\n",
       "  [0.0042415883,~0.0042415883,~0.0042415883,~\\dots,~0.0042415883,~0.0042415883,~0.0042415883],~\n",
       "  \\dots,~\n",
       "  [0.0048076543,~0.0048076543,~0.0048076543,~\\dots,~0.0048076543,~0.0048076543,~0.0048076543],~\n",
       "  [0.0048086968,~0.0048086968,~0.0048086968,~\\dots,~0.0048086968,~0.0048086968,~0.0048086968],~\n",
       "  [0.0048097393,~0.0048097393,~0.0048097393,~\\dots,~0.0048097393,~0.0048097393,~0.0048097393]]] \\; \\mathrm{{}^{\\circ}}$"
      ],
      "text/plain": [
       "<Quantity [[[0.00229961, 0.00229961, 0.00229961, ..., 0.00229961,\n",
       "             0.00229961, 0.00229961],\n",
       "            [0.00230065, 0.00230065, 0.00230065, ..., 0.00230065,\n",
       "             0.00230065, 0.00230065],\n",
       "            [0.00230169, 0.00230169, 0.00230169, ..., 0.00230169,\n",
       "             0.00230169, 0.00230169],\n",
       "            ...,\n",
       "            [0.00286776, 0.00286776, 0.00286776, ..., 0.00286776,\n",
       "             0.00286776, 0.00286776],\n",
       "            [0.0028688 , 0.0028688 , 0.0028688 , ..., 0.0028688 ,\n",
       "             0.0028688 , 0.0028688 ],\n",
       "            [0.00286985, 0.00286985, 0.00286985, ..., 0.00286985,\n",
       "             0.00286985, 0.00286985]],\n",
       "\n",
       "           [[0.00257674, 0.00257674, 0.00257674, ..., 0.00257674,\n",
       "             0.00257674, 0.00257674],\n",
       "            [0.00257778, 0.00257778, 0.00257778, ..., 0.00257778,\n",
       "             0.00257778, 0.00257778],\n",
       "            [0.00257882, 0.00257882, 0.00257882, ..., 0.00257882,\n",
       "             0.00257882, 0.00257882],\n",
       "            ...,\n",
       "            [0.00314489, 0.00314489, 0.00314489, ..., 0.00314489,\n",
       "             0.00314489, 0.00314489],\n",
       "            [0.00314593, 0.00314593, 0.00314593, ..., 0.00314593,\n",
       "             0.00314593, 0.00314593],\n",
       "            [0.00314697, 0.00314697, 0.00314697, ..., 0.00314697,\n",
       "             0.00314697, 0.00314697]],\n",
       "\n",
       "           [[0.00285386, 0.00285386, 0.00285386, ..., 0.00285386,\n",
       "             0.00285386, 0.00285386],\n",
       "            [0.00285491, 0.00285491, 0.00285491, ..., 0.00285491,\n",
       "             0.00285491, 0.00285491],\n",
       "            [0.00285595, 0.00285595, 0.00285595, ..., 0.00285595,\n",
       "             0.00285595, 0.00285595],\n",
       "            ...,\n",
       "            [0.00342202, 0.00342202, 0.00342202, ..., 0.00342202,\n",
       "             0.00342202, 0.00342202],\n",
       "            [0.00342306, 0.00342306, 0.00342306, ..., 0.00342306,\n",
       "             0.00342306, 0.00342306],\n",
       "            [0.0034241 , 0.0034241 , 0.0034241 , ..., 0.0034241 ,\n",
       "             0.0034241 , 0.0034241 ]],\n",
       "\n",
       "           ...,\n",
       "\n",
       "           [[0.00368525, 0.00368525, 0.00368525, ..., 0.00368525,\n",
       "             0.00368525, 0.00368525],\n",
       "            [0.00368629, 0.00368629, 0.00368629, ..., 0.00368629,\n",
       "             0.00368629, 0.00368629],\n",
       "            [0.00368733, 0.00368733, 0.00368733, ..., 0.00368733,\n",
       "             0.00368733, 0.00368733],\n",
       "            ...,\n",
       "            [0.0042534 , 0.0042534 , 0.0042534 , ..., 0.0042534 ,\n",
       "             0.0042534 , 0.0042534 ],\n",
       "            [0.00425444, 0.00425444, 0.00425444, ..., 0.00425444,\n",
       "             0.00425444, 0.00425444],\n",
       "            [0.00425548, 0.00425548, 0.00425548, ..., 0.00425548,\n",
       "             0.00425548, 0.00425548]],\n",
       "\n",
       "           [[0.00396238, 0.00396238, 0.00396238, ..., 0.00396238,\n",
       "             0.00396238, 0.00396238],\n",
       "            [0.00396342, 0.00396342, 0.00396342, ..., 0.00396342,\n",
       "             0.00396342, 0.00396342],\n",
       "            [0.00396446, 0.00396446, 0.00396446, ..., 0.00396446,\n",
       "             0.00396446, 0.00396446],\n",
       "            ...,\n",
       "            [0.00453053, 0.00453053, 0.00453053, ..., 0.00453053,\n",
       "             0.00453053, 0.00453053],\n",
       "            [0.00453157, 0.00453157, 0.00453157, ..., 0.00453157,\n",
       "             0.00453157, 0.00453157],\n",
       "            [0.00453261, 0.00453261, 0.00453261, ..., 0.00453261,\n",
       "             0.00453261, 0.00453261]],\n",
       "\n",
       "           [[0.0042395 , 0.0042395 , 0.0042395 , ..., 0.0042395 ,\n",
       "             0.0042395 , 0.0042395 ],\n",
       "            [0.00424055, 0.00424055, 0.00424055, ..., 0.00424055,\n",
       "             0.00424055, 0.00424055],\n",
       "            [0.00424159, 0.00424159, 0.00424159, ..., 0.00424159,\n",
       "             0.00424159, 0.00424159],\n",
       "            ...,\n",
       "            [0.00480765, 0.00480765, 0.00480765, ..., 0.00480765,\n",
       "             0.00480765, 0.00480765],\n",
       "            [0.0048087 , 0.0048087 , 0.0048087 , ..., 0.0048087 ,\n",
       "             0.0048087 , 0.0048087 ],\n",
       "            [0.00480974, 0.00480974, 0.00480974, ..., 0.00480974,\n",
       "             0.00480974, 0.00480974]]] deg>"
      ]
     },
     "execution_count": 75,
     "metadata": {},
     "output_type": "execute_result"
    }
   ],
   "source": [
    "longitude"
   ]
  },
  {
   "cell_type": "markdown",
   "metadata": {},
   "source": [
    "It is also possible to request more than one axis's world coordinates by setting ``axes`` to an iterable of data axis number and/or axis type strings."
   ]
  },
  {
   "cell_type": "code",
   "execution_count": 76,
   "metadata": {},
   "outputs": [
    {
     "data": {
      "text/plain": [
       "(<Quantity [[[1.33190000e-07, 1.33192596e-07, 1.33195192e-07, ...,\n",
       "              1.34046680e-07, 1.34049276e-07, 1.34051872e-07],\n",
       "             [1.33190000e-07, 1.33192596e-07, 1.33195192e-07, ...,\n",
       "              1.34046680e-07, 1.34049276e-07, 1.34051872e-07],\n",
       "             [1.33190000e-07, 1.33192596e-07, 1.33195192e-07, ...,\n",
       "              1.34046680e-07, 1.34049276e-07, 1.34051872e-07],\n",
       "             ...,\n",
       "             [1.33190000e-07, 1.33192596e-07, 1.33195192e-07, ...,\n",
       "              1.34046680e-07, 1.34049276e-07, 1.34051872e-07],\n",
       "             [1.33190000e-07, 1.33192596e-07, 1.33195192e-07, ...,\n",
       "              1.34046680e-07, 1.34049276e-07, 1.34051872e-07],\n",
       "             [1.33190000e-07, 1.33192596e-07, 1.33195192e-07, ...,\n",
       "              1.34046680e-07, 1.34049276e-07, 1.34051872e-07]],\n",
       " \n",
       "            [[1.33190000e-07, 1.33192596e-07, 1.33195192e-07, ...,\n",
       "              1.34046680e-07, 1.34049276e-07, 1.34051872e-07],\n",
       "             [1.33190000e-07, 1.33192596e-07, 1.33195192e-07, ...,\n",
       "              1.34046680e-07, 1.34049276e-07, 1.34051872e-07],\n",
       "             [1.33190000e-07, 1.33192596e-07, 1.33195192e-07, ...,\n",
       "              1.34046680e-07, 1.34049276e-07, 1.34051872e-07],\n",
       "             ...,\n",
       "             [1.33190000e-07, 1.33192596e-07, 1.33195192e-07, ...,\n",
       "              1.34046680e-07, 1.34049276e-07, 1.34051872e-07],\n",
       "             [1.33190000e-07, 1.33192596e-07, 1.33195192e-07, ...,\n",
       "              1.34046680e-07, 1.34049276e-07, 1.34051872e-07],\n",
       "             [1.33190000e-07, 1.33192596e-07, 1.33195192e-07, ...,\n",
       "              1.34046680e-07, 1.34049276e-07, 1.34051872e-07]],\n",
       " \n",
       "            [[1.33190000e-07, 1.33192596e-07, 1.33195192e-07, ...,\n",
       "              1.34046680e-07, 1.34049276e-07, 1.34051872e-07],\n",
       "             [1.33190000e-07, 1.33192596e-07, 1.33195192e-07, ...,\n",
       "              1.34046680e-07, 1.34049276e-07, 1.34051872e-07],\n",
       "             [1.33190000e-07, 1.33192596e-07, 1.33195192e-07, ...,\n",
       "              1.34046680e-07, 1.34049276e-07, 1.34051872e-07],\n",
       "             ...,\n",
       "             [1.33190000e-07, 1.33192596e-07, 1.33195192e-07, ...,\n",
       "              1.34046680e-07, 1.34049276e-07, 1.34051872e-07],\n",
       "             [1.33190000e-07, 1.33192596e-07, 1.33195192e-07, ...,\n",
       "              1.34046680e-07, 1.34049276e-07, 1.34051872e-07],\n",
       "             [1.33190000e-07, 1.33192596e-07, 1.33195192e-07, ...,\n",
       "              1.34046680e-07, 1.34049276e-07, 1.34051872e-07]],\n",
       " \n",
       "            ...,\n",
       " \n",
       "            [[1.33190000e-07, 1.33192596e-07, 1.33195192e-07, ...,\n",
       "              1.34046680e-07, 1.34049276e-07, 1.34051872e-07],\n",
       "             [1.33190000e-07, 1.33192596e-07, 1.33195192e-07, ...,\n",
       "              1.34046680e-07, 1.34049276e-07, 1.34051872e-07],\n",
       "             [1.33190000e-07, 1.33192596e-07, 1.33195192e-07, ...,\n",
       "              1.34046680e-07, 1.34049276e-07, 1.34051872e-07],\n",
       "             ...,\n",
       "             [1.33190000e-07, 1.33192596e-07, 1.33195192e-07, ...,\n",
       "              1.34046680e-07, 1.34049276e-07, 1.34051872e-07],\n",
       "             [1.33190000e-07, 1.33192596e-07, 1.33195192e-07, ...,\n",
       "              1.34046680e-07, 1.34049276e-07, 1.34051872e-07],\n",
       "             [1.33190000e-07, 1.33192596e-07, 1.33195192e-07, ...,\n",
       "              1.34046680e-07, 1.34049276e-07, 1.34051872e-07]],\n",
       " \n",
       "            [[1.33190000e-07, 1.33192596e-07, 1.33195192e-07, ...,\n",
       "              1.34046680e-07, 1.34049276e-07, 1.34051872e-07],\n",
       "             [1.33190000e-07, 1.33192596e-07, 1.33195192e-07, ...,\n",
       "              1.34046680e-07, 1.34049276e-07, 1.34051872e-07],\n",
       "             [1.33190000e-07, 1.33192596e-07, 1.33195192e-07, ...,\n",
       "              1.34046680e-07, 1.34049276e-07, 1.34051872e-07],\n",
       "             ...,\n",
       "             [1.33190000e-07, 1.33192596e-07, 1.33195192e-07, ...,\n",
       "              1.34046680e-07, 1.34049276e-07, 1.34051872e-07],\n",
       "             [1.33190000e-07, 1.33192596e-07, 1.33195192e-07, ...,\n",
       "              1.34046680e-07, 1.34049276e-07, 1.34051872e-07],\n",
       "             [1.33190000e-07, 1.33192596e-07, 1.33195192e-07, ...,\n",
       "              1.34046680e-07, 1.34049276e-07, 1.34051872e-07]],\n",
       " \n",
       "            [[1.33190000e-07, 1.33192596e-07, 1.33195192e-07, ...,\n",
       "              1.34046680e-07, 1.34049276e-07, 1.34051872e-07],\n",
       "             [1.33190000e-07, 1.33192596e-07, 1.33195192e-07, ...,\n",
       "              1.34046680e-07, 1.34049276e-07, 1.34051872e-07],\n",
       "             [1.33190000e-07, 1.33192596e-07, 1.33195192e-07, ...,\n",
       "              1.34046680e-07, 1.34049276e-07, 1.34051872e-07],\n",
       "             ...,\n",
       "             [1.33190000e-07, 1.33192596e-07, 1.33195192e-07, ...,\n",
       "              1.34046680e-07, 1.34049276e-07, 1.34051872e-07],\n",
       "             [1.33190000e-07, 1.33192596e-07, 1.33195192e-07, ...,\n",
       "              1.34046680e-07, 1.34049276e-07, 1.34051872e-07],\n",
       "             [1.33190000e-07, 1.33192596e-07, 1.33195192e-07, ...,\n",
       "              1.34046680e-07, 1.34049276e-07, 1.34051872e-07]]] m>,\n",
       " <Quantity [[[0.00229961, 0.00229961, 0.00229961, ..., 0.00229961,\n",
       "              0.00229961, 0.00229961],\n",
       "             [0.00230065, 0.00230065, 0.00230065, ..., 0.00230065,\n",
       "              0.00230065, 0.00230065],\n",
       "             [0.00230169, 0.00230169, 0.00230169, ..., 0.00230169,\n",
       "              0.00230169, 0.00230169],\n",
       "             ...,\n",
       "             [0.00286776, 0.00286776, 0.00286776, ..., 0.00286776,\n",
       "              0.00286776, 0.00286776],\n",
       "             [0.0028688 , 0.0028688 , 0.0028688 , ..., 0.0028688 ,\n",
       "              0.0028688 , 0.0028688 ],\n",
       "             [0.00286985, 0.00286985, 0.00286985, ..., 0.00286985,\n",
       "              0.00286985, 0.00286985]],\n",
       " \n",
       "            [[0.00257674, 0.00257674, 0.00257674, ..., 0.00257674,\n",
       "              0.00257674, 0.00257674],\n",
       "             [0.00257778, 0.00257778, 0.00257778, ..., 0.00257778,\n",
       "              0.00257778, 0.00257778],\n",
       "             [0.00257882, 0.00257882, 0.00257882, ..., 0.00257882,\n",
       "              0.00257882, 0.00257882],\n",
       "             ...,\n",
       "             [0.00314489, 0.00314489, 0.00314489, ..., 0.00314489,\n",
       "              0.00314489, 0.00314489],\n",
       "             [0.00314593, 0.00314593, 0.00314593, ..., 0.00314593,\n",
       "              0.00314593, 0.00314593],\n",
       "             [0.00314697, 0.00314697, 0.00314697, ..., 0.00314697,\n",
       "              0.00314697, 0.00314697]],\n",
       " \n",
       "            [[0.00285386, 0.00285386, 0.00285386, ..., 0.00285386,\n",
       "              0.00285386, 0.00285386],\n",
       "             [0.00285491, 0.00285491, 0.00285491, ..., 0.00285491,\n",
       "              0.00285491, 0.00285491],\n",
       "             [0.00285595, 0.00285595, 0.00285595, ..., 0.00285595,\n",
       "              0.00285595, 0.00285595],\n",
       "             ...,\n",
       "             [0.00342202, 0.00342202, 0.00342202, ..., 0.00342202,\n",
       "              0.00342202, 0.00342202],\n",
       "             [0.00342306, 0.00342306, 0.00342306, ..., 0.00342306,\n",
       "              0.00342306, 0.00342306],\n",
       "             [0.0034241 , 0.0034241 , 0.0034241 , ..., 0.0034241 ,\n",
       "              0.0034241 , 0.0034241 ]],\n",
       " \n",
       "            ...,\n",
       " \n",
       "            [[0.00368525, 0.00368525, 0.00368525, ..., 0.00368525,\n",
       "              0.00368525, 0.00368525],\n",
       "             [0.00368629, 0.00368629, 0.00368629, ..., 0.00368629,\n",
       "              0.00368629, 0.00368629],\n",
       "             [0.00368733, 0.00368733, 0.00368733, ..., 0.00368733,\n",
       "              0.00368733, 0.00368733],\n",
       "             ...,\n",
       "             [0.0042534 , 0.0042534 , 0.0042534 , ..., 0.0042534 ,\n",
       "              0.0042534 , 0.0042534 ],\n",
       "             [0.00425444, 0.00425444, 0.00425444, ..., 0.00425444,\n",
       "              0.00425444, 0.00425444],\n",
       "             [0.00425548, 0.00425548, 0.00425548, ..., 0.00425548,\n",
       "              0.00425548, 0.00425548]],\n",
       " \n",
       "            [[0.00396238, 0.00396238, 0.00396238, ..., 0.00396238,\n",
       "              0.00396238, 0.00396238],\n",
       "             [0.00396342, 0.00396342, 0.00396342, ..., 0.00396342,\n",
       "              0.00396342, 0.00396342],\n",
       "             [0.00396446, 0.00396446, 0.00396446, ..., 0.00396446,\n",
       "              0.00396446, 0.00396446],\n",
       "             ...,\n",
       "             [0.00453053, 0.00453053, 0.00453053, ..., 0.00453053,\n",
       "              0.00453053, 0.00453053],\n",
       "             [0.00453157, 0.00453157, 0.00453157, ..., 0.00453157,\n",
       "              0.00453157, 0.00453157],\n",
       "             [0.00453261, 0.00453261, 0.00453261, ..., 0.00453261,\n",
       "              0.00453261, 0.00453261]],\n",
       " \n",
       "            [[0.0042395 , 0.0042395 , 0.0042395 , ..., 0.0042395 ,\n",
       "              0.0042395 , 0.0042395 ],\n",
       "             [0.00424055, 0.00424055, 0.00424055, ..., 0.00424055,\n",
       "              0.00424055, 0.00424055],\n",
       "             [0.00424159, 0.00424159, 0.00424159, ..., 0.00424159,\n",
       "              0.00424159, 0.00424159],\n",
       "             ...,\n",
       "             [0.00480765, 0.00480765, 0.00480765, ..., 0.00480765,\n",
       "              0.00480765, 0.00480765],\n",
       "             [0.0048087 , 0.0048087 , 0.0048087 , ..., 0.0048087 ,\n",
       "              0.0048087 , 0.0048087 ],\n",
       "             [0.00480974, 0.00480974, 0.00480974, ..., 0.00480974,\n",
       "              0.00480974, 0.00480974]]] deg>)"
      ]
     },
     "execution_count": 76,
     "metadata": {},
     "output_type": "execute_result"
    }
   ],
   "source": [
    "my_cube.axis_world_coords(2, 'lon')"
   ]
  },
  {
   "cell_type": "markdown",
   "metadata": {},
   "source": [
    "Notice that the axes' coordinates have been returned in the same order in which they were requested."
   ]
  },
  {
   "cell_type": "markdown",
   "metadata": {},
   "source": [
    "Finally, if the user wants the world coordinates for all the axes, ``axes`` can be set to ``None``, which is in fact the default."
   ]
  },
  {
   "cell_type": "code",
   "execution_count": 77,
   "metadata": {},
   "outputs": [
    {
     "data": {
      "text/plain": [
       "(<Quantity [[[0.00229961, 0.00229961, 0.00229961, ..., 0.00229961,\n",
       "              0.00229961, 0.00229961],\n",
       "             [0.00230065, 0.00230065, 0.00230065, ..., 0.00230065,\n",
       "              0.00230065, 0.00230065],\n",
       "             [0.00230169, 0.00230169, 0.00230169, ..., 0.00230169,\n",
       "              0.00230169, 0.00230169],\n",
       "             ...,\n",
       "             [0.00286776, 0.00286776, 0.00286776, ..., 0.00286776,\n",
       "              0.00286776, 0.00286776],\n",
       "             [0.0028688 , 0.0028688 , 0.0028688 , ..., 0.0028688 ,\n",
       "              0.0028688 , 0.0028688 ],\n",
       "             [0.00286985, 0.00286985, 0.00286985, ..., 0.00286985,\n",
       "              0.00286985, 0.00286985]],\n",
       " \n",
       "            [[0.00257674, 0.00257674, 0.00257674, ..., 0.00257674,\n",
       "              0.00257674, 0.00257674],\n",
       "             [0.00257778, 0.00257778, 0.00257778, ..., 0.00257778,\n",
       "              0.00257778, 0.00257778],\n",
       "             [0.00257882, 0.00257882, 0.00257882, ..., 0.00257882,\n",
       "              0.00257882, 0.00257882],\n",
       "             ...,\n",
       "             [0.00314489, 0.00314489, 0.00314489, ..., 0.00314489,\n",
       "              0.00314489, 0.00314489],\n",
       "             [0.00314593, 0.00314593, 0.00314593, ..., 0.00314593,\n",
       "              0.00314593, 0.00314593],\n",
       "             [0.00314697, 0.00314697, 0.00314697, ..., 0.00314697,\n",
       "              0.00314697, 0.00314697]],\n",
       " \n",
       "            [[0.00285386, 0.00285386, 0.00285386, ..., 0.00285386,\n",
       "              0.00285386, 0.00285386],\n",
       "             [0.00285491, 0.00285491, 0.00285491, ..., 0.00285491,\n",
       "              0.00285491, 0.00285491],\n",
       "             [0.00285595, 0.00285595, 0.00285595, ..., 0.00285595,\n",
       "              0.00285595, 0.00285595],\n",
       "             ...,\n",
       "             [0.00342202, 0.00342202, 0.00342202, ..., 0.00342202,\n",
       "              0.00342202, 0.00342202],\n",
       "             [0.00342306, 0.00342306, 0.00342306, ..., 0.00342306,\n",
       "              0.00342306, 0.00342306],\n",
       "             [0.0034241 , 0.0034241 , 0.0034241 , ..., 0.0034241 ,\n",
       "              0.0034241 , 0.0034241 ]],\n",
       " \n",
       "            ...,\n",
       " \n",
       "            [[0.00368525, 0.00368525, 0.00368525, ..., 0.00368525,\n",
       "              0.00368525, 0.00368525],\n",
       "             [0.00368629, 0.00368629, 0.00368629, ..., 0.00368629,\n",
       "              0.00368629, 0.00368629],\n",
       "             [0.00368733, 0.00368733, 0.00368733, ..., 0.00368733,\n",
       "              0.00368733, 0.00368733],\n",
       "             ...,\n",
       "             [0.0042534 , 0.0042534 , 0.0042534 , ..., 0.0042534 ,\n",
       "              0.0042534 , 0.0042534 ],\n",
       "             [0.00425444, 0.00425444, 0.00425444, ..., 0.00425444,\n",
       "              0.00425444, 0.00425444],\n",
       "             [0.00425548, 0.00425548, 0.00425548, ..., 0.00425548,\n",
       "              0.00425548, 0.00425548]],\n",
       " \n",
       "            [[0.00396238, 0.00396238, 0.00396238, ..., 0.00396238,\n",
       "              0.00396238, 0.00396238],\n",
       "             [0.00396342, 0.00396342, 0.00396342, ..., 0.00396342,\n",
       "              0.00396342, 0.00396342],\n",
       "             [0.00396446, 0.00396446, 0.00396446, ..., 0.00396446,\n",
       "              0.00396446, 0.00396446],\n",
       "             ...,\n",
       "             [0.00453053, 0.00453053, 0.00453053, ..., 0.00453053,\n",
       "              0.00453053, 0.00453053],\n",
       "             [0.00453157, 0.00453157, 0.00453157, ..., 0.00453157,\n",
       "              0.00453157, 0.00453157],\n",
       "             [0.00453261, 0.00453261, 0.00453261, ..., 0.00453261,\n",
       "              0.00453261, 0.00453261]],\n",
       " \n",
       "            [[0.0042395 , 0.0042395 , 0.0042395 , ..., 0.0042395 ,\n",
       "              0.0042395 , 0.0042395 ],\n",
       "             [0.00424055, 0.00424055, 0.00424055, ..., 0.00424055,\n",
       "              0.00424055, 0.00424055],\n",
       "             [0.00424159, 0.00424159, 0.00424159, ..., 0.00424159,\n",
       "              0.00424159, 0.00424159],\n",
       "             ...,\n",
       "             [0.00480765, 0.00480765, 0.00480765, ..., 0.00480765,\n",
       "              0.00480765, 0.00480765],\n",
       "             [0.0048087 , 0.0048087 , 0.0048087 , ..., 0.0048087 ,\n",
       "              0.0048087 , 0.0048087 ],\n",
       "             [0.00480974, 0.00480974, 0.00480974, ..., 0.00480974,\n",
       "              0.00480974, 0.00480974]]] deg>,\n",
       " <Quantity [[[-0.09773224, -0.09773224, -0.09773224, ..., -0.09773224,\n",
       "              -0.09773224, -0.09773224],\n",
       "             [-0.09763983, -0.09763983, -0.09763983, ..., -0.09763983,\n",
       "              -0.09763983, -0.09763983],\n",
       "             [-0.09754742, -0.09754742, -0.09754742, ..., -0.09754742,\n",
       "              -0.09754742, -0.09754742],\n",
       "             ...,\n",
       "             [-0.04736827, -0.04736827, -0.04736827, ..., -0.04736827,\n",
       "              -0.04736827, -0.04736827],\n",
       "             [-0.04727586, -0.04727586, -0.04727586, ..., -0.04727586,\n",
       "              -0.04727586, -0.04727586],\n",
       "             [-0.04718345, -0.04718345, -0.04718345, ..., -0.04718345,\n",
       "              -0.04718345, -0.04718345]],\n",
       " \n",
       "            [[-0.09773536, -0.09773536, -0.09773536, ..., -0.09773536,\n",
       "              -0.09773536, -0.09773536],\n",
       "             [-0.09764295, -0.09764295, -0.09764295, ..., -0.09764295,\n",
       "              -0.09764295, -0.09764295],\n",
       "             [-0.09755054, -0.09755054, -0.09755054, ..., -0.09755054,\n",
       "              -0.09755054, -0.09755054],\n",
       "             ...,\n",
       "             [-0.0473714 , -0.0473714 , -0.0473714 , ..., -0.0473714 ,\n",
       "              -0.0473714 , -0.0473714 ],\n",
       "             [-0.04727899, -0.04727899, -0.04727899, ..., -0.04727899,\n",
       "              -0.04727899, -0.04727899],\n",
       "             [-0.04718658, -0.04718658, -0.04718658, ..., -0.04718658,\n",
       "              -0.04718658, -0.04718658]],\n",
       " \n",
       "            [[-0.09773849, -0.09773849, -0.09773849, ..., -0.09773849,\n",
       "              -0.09773849, -0.09773849],\n",
       "             [-0.09764608, -0.09764608, -0.09764608, ..., -0.09764608,\n",
       "              -0.09764608, -0.09764608],\n",
       "             [-0.09755367, -0.09755367, -0.09755367, ..., -0.09755367,\n",
       "              -0.09755367, -0.09755367],\n",
       "             ...,\n",
       "             [-0.04737452, -0.04737452, -0.04737452, ..., -0.04737452,\n",
       "              -0.04737452, -0.04737452],\n",
       "             [-0.04728211, -0.04728211, -0.04728211, ..., -0.04728211,\n",
       "              -0.04728211, -0.04728211],\n",
       "             [-0.0471897 , -0.0471897 , -0.0471897 , ..., -0.0471897 ,\n",
       "              -0.0471897 , -0.0471897 ]],\n",
       " \n",
       "            ...,\n",
       " \n",
       "            [[-0.09774787, -0.09774787, -0.09774787, ..., -0.09774787,\n",
       "              -0.09774787, -0.09774787],\n",
       "             [-0.09765546, -0.09765546, -0.09765546, ..., -0.09765546,\n",
       "              -0.09765546, -0.09765546],\n",
       "             [-0.09756305, -0.09756305, -0.09756305, ..., -0.09756305,\n",
       "              -0.09756305, -0.09756305],\n",
       "             ...,\n",
       "             [-0.0473839 , -0.0473839 , -0.0473839 , ..., -0.0473839 ,\n",
       "              -0.0473839 , -0.0473839 ],\n",
       "             [-0.04729149, -0.04729149, -0.04729149, ..., -0.04729149,\n",
       "              -0.04729149, -0.04729149],\n",
       "             [-0.04719908, -0.04719908, -0.04719908, ..., -0.04719908,\n",
       "              -0.04719908, -0.04719908]],\n",
       " \n",
       "            [[-0.097751  , -0.097751  , -0.097751  , ..., -0.097751  ,\n",
       "              -0.097751  , -0.097751  ],\n",
       "             [-0.09765858, -0.09765858, -0.09765858, ..., -0.09765858,\n",
       "              -0.09765858, -0.09765858],\n",
       "             [-0.09756617, -0.09756617, -0.09756617, ..., -0.09756617,\n",
       "              -0.09756617, -0.09756617],\n",
       "             ...,\n",
       "             [-0.04738703, -0.04738703, -0.04738703, ..., -0.04738703,\n",
       "              -0.04738703, -0.04738703],\n",
       "             [-0.04729462, -0.04729462, -0.04729462, ..., -0.04729462,\n",
       "              -0.04729462, -0.04729462],\n",
       "             [-0.04720221, -0.04720221, -0.04720221, ..., -0.04720221,\n",
       "              -0.04720221, -0.04720221]],\n",
       " \n",
       "            [[-0.09775412, -0.09775412, -0.09775412, ..., -0.09775412,\n",
       "              -0.09775412, -0.09775412],\n",
       "             [-0.09766171, -0.09766171, -0.09766171, ..., -0.09766171,\n",
       "              -0.09766171, -0.09766171],\n",
       "             [-0.0975693 , -0.0975693 , -0.0975693 , ..., -0.0975693 ,\n",
       "              -0.0975693 , -0.0975693 ],\n",
       "             ...,\n",
       "             [-0.04739015, -0.04739015, -0.04739015, ..., -0.04739015,\n",
       "              -0.04739015, -0.04739015],\n",
       "             [-0.04729774, -0.04729774, -0.04729774, ..., -0.04729774,\n",
       "              -0.04729774, -0.04729774],\n",
       "             [-0.04720533, -0.04720533, -0.04720533, ..., -0.04720533,\n",
       "              -0.04720533, -0.04720533]]] deg>,\n",
       " <Quantity [[[1.33190000e-07, 1.33192596e-07, 1.33195192e-07, ...,\n",
       "              1.34046680e-07, 1.34049276e-07, 1.34051872e-07],\n",
       "             [1.33190000e-07, 1.33192596e-07, 1.33195192e-07, ...,\n",
       "              1.34046680e-07, 1.34049276e-07, 1.34051872e-07],\n",
       "             [1.33190000e-07, 1.33192596e-07, 1.33195192e-07, ...,\n",
       "              1.34046680e-07, 1.34049276e-07, 1.34051872e-07],\n",
       "             ...,\n",
       "             [1.33190000e-07, 1.33192596e-07, 1.33195192e-07, ...,\n",
       "              1.34046680e-07, 1.34049276e-07, 1.34051872e-07],\n",
       "             [1.33190000e-07, 1.33192596e-07, 1.33195192e-07, ...,\n",
       "              1.34046680e-07, 1.34049276e-07, 1.34051872e-07],\n",
       "             [1.33190000e-07, 1.33192596e-07, 1.33195192e-07, ...,\n",
       "              1.34046680e-07, 1.34049276e-07, 1.34051872e-07]],\n",
       " \n",
       "            [[1.33190000e-07, 1.33192596e-07, 1.33195192e-07, ...,\n",
       "              1.34046680e-07, 1.34049276e-07, 1.34051872e-07],\n",
       "             [1.33190000e-07, 1.33192596e-07, 1.33195192e-07, ...,\n",
       "              1.34046680e-07, 1.34049276e-07, 1.34051872e-07],\n",
       "             [1.33190000e-07, 1.33192596e-07, 1.33195192e-07, ...,\n",
       "              1.34046680e-07, 1.34049276e-07, 1.34051872e-07],\n",
       "             ...,\n",
       "             [1.33190000e-07, 1.33192596e-07, 1.33195192e-07, ...,\n",
       "              1.34046680e-07, 1.34049276e-07, 1.34051872e-07],\n",
       "             [1.33190000e-07, 1.33192596e-07, 1.33195192e-07, ...,\n",
       "              1.34046680e-07, 1.34049276e-07, 1.34051872e-07],\n",
       "             [1.33190000e-07, 1.33192596e-07, 1.33195192e-07, ...,\n",
       "              1.34046680e-07, 1.34049276e-07, 1.34051872e-07]],\n",
       " \n",
       "            [[1.33190000e-07, 1.33192596e-07, 1.33195192e-07, ...,\n",
       "              1.34046680e-07, 1.34049276e-07, 1.34051872e-07],\n",
       "             [1.33190000e-07, 1.33192596e-07, 1.33195192e-07, ...,\n",
       "              1.34046680e-07, 1.34049276e-07, 1.34051872e-07],\n",
       "             [1.33190000e-07, 1.33192596e-07, 1.33195192e-07, ...,\n",
       "              1.34046680e-07, 1.34049276e-07, 1.34051872e-07],\n",
       "             ...,\n",
       "             [1.33190000e-07, 1.33192596e-07, 1.33195192e-07, ...,\n",
       "              1.34046680e-07, 1.34049276e-07, 1.34051872e-07],\n",
       "             [1.33190000e-07, 1.33192596e-07, 1.33195192e-07, ...,\n",
       "              1.34046680e-07, 1.34049276e-07, 1.34051872e-07],\n",
       "             [1.33190000e-07, 1.33192596e-07, 1.33195192e-07, ...,\n",
       "              1.34046680e-07, 1.34049276e-07, 1.34051872e-07]],\n",
       " \n",
       "            ...,\n",
       " \n",
       "            [[1.33190000e-07, 1.33192596e-07, 1.33195192e-07, ...,\n",
       "              1.34046680e-07, 1.34049276e-07, 1.34051872e-07],\n",
       "             [1.33190000e-07, 1.33192596e-07, 1.33195192e-07, ...,\n",
       "              1.34046680e-07, 1.34049276e-07, 1.34051872e-07],\n",
       "             [1.33190000e-07, 1.33192596e-07, 1.33195192e-07, ...,\n",
       "              1.34046680e-07, 1.34049276e-07, 1.34051872e-07],\n",
       "             ...,\n",
       "             [1.33190000e-07, 1.33192596e-07, 1.33195192e-07, ...,\n",
       "              1.34046680e-07, 1.34049276e-07, 1.34051872e-07],\n",
       "             [1.33190000e-07, 1.33192596e-07, 1.33195192e-07, ...,\n",
       "              1.34046680e-07, 1.34049276e-07, 1.34051872e-07],\n",
       "             [1.33190000e-07, 1.33192596e-07, 1.33195192e-07, ...,\n",
       "              1.34046680e-07, 1.34049276e-07, 1.34051872e-07]],\n",
       " \n",
       "            [[1.33190000e-07, 1.33192596e-07, 1.33195192e-07, ...,\n",
       "              1.34046680e-07, 1.34049276e-07, 1.34051872e-07],\n",
       "             [1.33190000e-07, 1.33192596e-07, 1.33195192e-07, ...,\n",
       "              1.34046680e-07, 1.34049276e-07, 1.34051872e-07],\n",
       "             [1.33190000e-07, 1.33192596e-07, 1.33195192e-07, ...,\n",
       "              1.34046680e-07, 1.34049276e-07, 1.34051872e-07],\n",
       "             ...,\n",
       "             [1.33190000e-07, 1.33192596e-07, 1.33195192e-07, ...,\n",
       "              1.34046680e-07, 1.34049276e-07, 1.34051872e-07],\n",
       "             [1.33190000e-07, 1.33192596e-07, 1.33195192e-07, ...,\n",
       "              1.34046680e-07, 1.34049276e-07, 1.34051872e-07],\n",
       "             [1.33190000e-07, 1.33192596e-07, 1.33195192e-07, ...,\n",
       "              1.34046680e-07, 1.34049276e-07, 1.34051872e-07]],\n",
       " \n",
       "            [[1.33190000e-07, 1.33192596e-07, 1.33195192e-07, ...,\n",
       "              1.34046680e-07, 1.34049276e-07, 1.34051872e-07],\n",
       "             [1.33190000e-07, 1.33192596e-07, 1.33195192e-07, ...,\n",
       "              1.34046680e-07, 1.34049276e-07, 1.34051872e-07],\n",
       "             [1.33190000e-07, 1.33192596e-07, 1.33195192e-07, ...,\n",
       "              1.34046680e-07, 1.34049276e-07, 1.34051872e-07],\n",
       "             ...,\n",
       "             [1.33190000e-07, 1.33192596e-07, 1.33195192e-07, ...,\n",
       "              1.34046680e-07, 1.34049276e-07, 1.34051872e-07],\n",
       "             [1.33190000e-07, 1.33192596e-07, 1.33195192e-07, ...,\n",
       "              1.34046680e-07, 1.34049276e-07, 1.34051872e-07],\n",
       "             [1.33190000e-07, 1.33192596e-07, 1.33195192e-07, ...,\n",
       "              1.34046680e-07, 1.34049276e-07, 1.34051872e-07]]] m>)"
      ]
     },
     "execution_count": 77,
     "metadata": {},
     "output_type": "execute_result"
    }
   ],
   "source": [
    "my_cube.axis_world_coords()"
   ]
  },
  {
   "cell_type": "markdown",
   "metadata": {},
   "source": [
    "As stated previously, `NDCube` is only written to handle single arrays described by single WCS instances.  For cases where data is made up of multiple arrays, each described by different WCS translations, `ndcube` has another class, `NDCubeSequence`, which will discuss in the next section."
   ]
  },
  {
   "cell_type": "markdown",
   "metadata": {},
   "source": [
    "## NDCubeSequence"
   ]
  },
  {
   "cell_type": "markdown",
   "metadata": {},
   "source": [
    "`NDCubeSequence` is a class for handling multiple `NDCube` objects as though they were one contiguous data set. Another way of thinking about it is that `NDCubeSequence` provides the ability to manipulate a data set described by multiple separate WCS transformations.\n",
    "\n",
    "Regarding implementation, an `NDCubeSequence` instance is effectively a list of `NDCube` instances with some helper methods attached."
   ]
  },
  {
   "cell_type": "markdown",
   "metadata": {},
   "source": [
    "### Initialization"
   ]
  },
  {
   "cell_type": "markdown",
   "metadata": {},
   "source": [
    "To initialize the most basic `NDCubeSequence` object, all you need is a list of `NDCube` instances.  So let's first define three 3-D NDCubes from three IRIS rasters within the same observing campaign.  Let's also define an extra coordinate of time assigned to the 0th cube data axis and another label coordinate assigned to the cubes as wholes.  (See NDCube section of this guide of more detail.)"
   ]
  },
  {
   "cell_type": "code",
   "execution_count": 78,
   "metadata": {},
   "outputs": [],
   "source": [
    "ext_num = 1"
   ]
  },
  {
   "cell_type": "code",
   "execution_count": 79,
   "metadata": {},
   "outputs": [],
   "source": [
    "aux_ext_num = -2"
   ]
  },
  {
   "cell_type": "code",
   "execution_count": 80,
   "metadata": {},
   "outputs": [],
   "source": [
    "# Define function to extract measurement times from IRIS FITS files.\n",
    "def extract_iris_times_from_fits(hdulist, aux_ext_num=-2):\n",
    "    return np.array([parse_time(hdulist[0].header[\"STARTOBS\"]) + timedelta(seconds=i) \n",
    "                     for i in hdulist[aux_ext_num].data[:, hdulist[aux_ext_num].header[\"TIME\"]]])"
   ]
  },
  {
   "cell_type": "code",
   "execution_count": 81,
   "metadata": {},
   "outputs": [],
   "source": [
    "# Read data from file.\n",
    "hdulist0 = fits.open(filename0)\n",
    "data0 = hdulist[ext_num].data\n",
    "input_wcs0 = astropy.wcs.WCS(hdulist0[ext_num].header)\n",
    "timestamps0 = extract_iris_times_from_fits(hdulist0)\n",
    "hdulist0.close()"
   ]
  },
  {
   "cell_type": "code",
   "execution_count": 82,
   "metadata": {},
   "outputs": [],
   "source": [
    "hdulist1 = fits.open(filename1)\n",
    "data1 = hdulist1[ext_num].data\n",
    "input_wcs1 = astropy.wcs.WCS(hdulist1[ext_num].header)\n",
    "timestamps1 = extract_iris_times_from_fits(hdulist1)\n",
    "hdulist1.close()"
   ]
  },
  {
   "cell_type": "code",
   "execution_count": 83,
   "metadata": {},
   "outputs": [],
   "source": [
    "hdulist2 = fits.open(filename2)\n",
    "data2 = hdulist2[ext_num].data\n",
    "input_wcs2 = astropy.wcs.WCS(hdulist2[ext_num].header)\n",
    "timestamps2 = extract_iris_times_from_fits(hdulist2)\n",
    "hdulist2.close()"
   ]
  },
  {
   "cell_type": "code",
   "execution_count": 84,
   "metadata": {},
   "outputs": [],
   "source": [
    "cube_meta = {\"Description\": \"This is example NDCube metadata.\"}"
   ]
  },
  {
   "cell_type": "code",
   "execution_count": 85,
   "metadata": {},
   "outputs": [],
   "source": [
    "# Define extra coords into required input format\n",
    "extra_coords_input0 = [(\"time\", 0, timestamps0), (\"label\", None, \"hello\")]\n",
    "extra_coords_input1 = [(\"time\", 0, timestamps1), (\"label\", None, \"world\")]\n",
    "extra_coords_input2 = [(\"time\", 0, timestamps2), (\"label\", None, \"!\")]"
   ]
  },
  {
   "cell_type": "code",
   "execution_count": 86,
   "metadata": {},
   "outputs": [
    {
     "name": "stdout",
     "output_type": "stream",
     "text": [
      "INFO: uncertainty should have attribute uncertainty_type. [astropy.nddata.nddata]\n"
     ]
    },
    {
     "name": "stderr",
     "output_type": "stream",
     "text": [
      "/Users/dnryan/anaconda3/lib/python3.6/site-packages/ipykernel_launcher.py:2: RuntimeWarning: invalid value encountered in sqrt\n",
      "  \n"
     ]
    }
   ],
   "source": [
    "# Now define NDCubes.  Use same mask as before.\n",
    "my_cube0 = NDCube(data0, input_wcs0, uncertainty=np.sqrt(data0), mask=mask, meta=cube_meta, unit=None,\n",
    "                  extra_coords=extra_coords_input0)"
   ]
  },
  {
   "cell_type": "code",
   "execution_count": 87,
   "metadata": {},
   "outputs": [
    {
     "name": "stdout",
     "output_type": "stream",
     "text": [
      "INFO: uncertainty should have attribute uncertainty_type. [astropy.nddata.nddata]\n"
     ]
    },
    {
     "name": "stderr",
     "output_type": "stream",
     "text": [
      "/Users/dnryan/anaconda3/lib/python3.6/site-packages/ipykernel_launcher.py:1: RuntimeWarning: invalid value encountered in sqrt\n",
      "  \"\"\"Entry point for launching an IPython kernel.\n"
     ]
    }
   ],
   "source": [
    "my_cube1 = NDCube(data1, input_wcs1, uncertainty=np.sqrt(data1), mask=mask, meta=cube_meta, unit=None,\n",
    "                  extra_coords=extra_coords_input1)"
   ]
  },
  {
   "cell_type": "code",
   "execution_count": 88,
   "metadata": {},
   "outputs": [
    {
     "name": "stdout",
     "output_type": "stream",
     "text": [
      "INFO: uncertainty should have attribute uncertainty_type. [astropy.nddata.nddata]\n"
     ]
    },
    {
     "name": "stderr",
     "output_type": "stream",
     "text": [
      "/Users/dnryan/anaconda3/lib/python3.6/site-packages/ipykernel_launcher.py:1: RuntimeWarning: invalid value encountered in sqrt\n",
      "  \"\"\"Entry point for launching an IPython kernel.\n"
     ]
    }
   ],
   "source": [
    "my_cube2 = NDCube(data2, input_wcs2, uncertainty=np.sqrt(data2), mask=mask, meta=cube_meta, unit=None,\n",
    "                  extra_coords=extra_coords_input2)"
   ]
  },
  {
   "cell_type": "markdown",
   "metadata": {},
   "source": [
    "Finally, creating an `NDCubeSequence` becomes is simple."
   ]
  },
  {
   "cell_type": "code",
   "execution_count": 89,
   "metadata": {},
   "outputs": [],
   "source": [
    "my_sequence = NDCubeSequence([my_cube0, my_cube1, my_cube2])"
   ]
  },
  {
   "cell_type": "code",
   "execution_count": 90,
   "metadata": {},
   "outputs": [
    {
     "data": {
      "text/plain": [
       "NDCubeSequence\n",
       "---------------------\n",
       "Length of NDCubeSequence:  3.0 pix\n",
       "Shape of 1st NDCube: (<Quantity 8. pix>, <Quantity 548. pix>, <Quantity 333. pix>)\n",
       "Axis Types of 1st NDCube: ('custom:pos.helioprojective.lon', 'custom:pos.helioprojective.lat', 'em.wl')"
      ]
     },
     "execution_count": 90,
     "metadata": {},
     "output_type": "execute_result"
    }
   ],
   "source": [
    "my_sequence"
   ]
  },
  {
   "cell_type": "markdown",
   "metadata": {},
   "source": [
    "The data are stored as `list` of `NDCube` within the `.data` attribute."
   ]
  },
  {
   "cell_type": "markdown",
   "metadata": {},
   "source": [
    "While, each `NDCube` in the `NDCubeSequence` can have its own meta, it is also possible to supply additional metadata upon initialization of the `NDCubeSequence`.  This metadata may be common to all sub-cubes or is specific to the sequence rather than the sub-cubes. This metadata is input as a dictionary"
   ]
  },
  {
   "cell_type": "code",
   "execution_count": 91,
   "metadata": {},
   "outputs": [],
   "source": [
    "my_sequence_metadata = {\"Description\": \"This is some sample NDCubeSequence metadata.\"}"
   ]
  },
  {
   "cell_type": "code",
   "execution_count": 92,
   "metadata": {},
   "outputs": [],
   "source": [
    "my_sequence = NDCubeSequence([my_cube0, my_cube1, my_cube2], meta=my_sequence_metadata)"
   ]
  },
  {
   "cell_type": "markdown",
   "metadata": {},
   "source": [
    "and stored in the ``my_sequence.meta`` attribute."
   ]
  },
  {
   "cell_type": "code",
   "execution_count": 93,
   "metadata": {},
   "outputs": [
    {
     "data": {
      "text/plain": [
       "{'Description': 'This is some sample NDCubeSequence metadata.'}"
      ]
     },
     "execution_count": 93,
     "metadata": {},
     "output_type": "execute_result"
    }
   ],
   "source": [
    "my_sequence.meta"
   ]
  },
  {
   "cell_type": "markdown",
   "metadata": {},
   "source": [
    "Meanwhile, the `NDCube` instances are stored in ``my_sequence.data``. However, analgously to `NDCube`, it is strongly advised that the data is manipulated by slicing the `NDCubeSequence` rather than more manually delving into the ``.data`` attribute.  For more explanation, see the section on NDCubeSequence Slicing."
   ]
  },
  {
   "cell_type": "markdown",
   "metadata": {},
   "source": [
    "### Common Axis"
   ]
  },
  {
   "cell_type": "markdown",
   "metadata": {},
   "source": [
    "It is possible (although not required) to set a common axis of the `NDCubeSequence`.  A common axis is defined as the axis of the sub-cubes parallel to the axis of the sequence.\n",
    "\n",
    "For example, the 0th axis of the sub-cubes, ``my_cube0``, ``my_cube1`` and ``my_cube2`` in the `NDCubeSequence`, ``my_sequence``, represent time as we have indicated in how we have set the ``time`` extra coordinate. In this case, ``my_cube0`` represents observations taken from a period directly before ``my_cube1`` and ``my_cube2`` and the sub-cubes are ordered chronologically in the sequence.  Then moving along the 0th axis of one sub-cube and moving along the sequence axis from one cube to the next both represent movement in time.  The difference is simply the size of the steps. Therefore it can be said that the 0th axis of the sub-cubes is common to the sequence.\n",
    "\n",
    "To define a common axis, set the kwarg during intialization of the `NDCubeSequence` to the desired data axis number."
   ]
  },
  {
   "cell_type": "code",
   "execution_count": 94,
   "metadata": {},
   "outputs": [],
   "source": [
    "my_sequence = NDCubeSequence([my_cube0, my_cube1, my_cube2], meta=my_sequence_metadata, common_axis=0)"
   ]
  },
  {
   "cell_type": "markdown",
   "metadata": {},
   "source": [
    "Defining a common axis enables the full range of the `NDCubeSequence` features to be utilized including `NDCubeSequence.plot`, `NDCubeSequence.common_axis_extra_coords`, and `NDCubeSequence.index_as_cube`. See following sections for more details on these features."
   ]
  },
  {
   "cell_type": "markdown",
   "metadata": {},
   "source": [
    "### Dimensions"
   ]
  },
  {
   "cell_type": "markdown",
   "metadata": {},
   "source": [
    "Analagous to `NDCube.dimensions`, there is also a `NDCubeSequence.dimensions` property for easily inspecting the shape of an `NDCubeSequence` instance."
   ]
  },
  {
   "cell_type": "code",
   "execution_count": 95,
   "metadata": {},
   "outputs": [
    {
     "data": {
      "text/plain": [
       "(<Quantity 3. pix>,\n",
       " <Quantity 8. pix>,\n",
       " <Quantity 548. pix>,\n",
       " <Quantity 333. pix>)"
      ]
     },
     "execution_count": 95,
     "metadata": {},
     "output_type": "execute_result"
    }
   ],
   "source": [
    "my_sequence.dimensions"
   ]
  },
  {
   "cell_type": "markdown",
   "metadata": {},
   "source": [
    "Slightly differently to `NDCube.dimensions`, `NDCubeSequence.dimensions` returns a tuple of `astropy.units.Quantity` instances with pixel units, giving the length of each axis.  This is in constrast to the single `Quantity` returned by `NDCube`. This is because `NDCubeSequence` supports sub-cubes of different lengths along the common axis if it is set.  In that case, the corresponding quantity in the dimensions tuple will have a length greater than 1 and list the length of each sub-cube along the common axis.\n",
    "\n",
    "Equivalent to `NDCube.world_axis_physical_types`, `NDCubeSequence.world_axis_physical_types` returns a tuple of the physical axis types.  The same IVOA UCD1+ controlled words (http://www.ivoa.net/documents/REC/UCD/UCDlist-20070402.html>) are used for the cube axes as is used in `NDCube.world_axis_physical_types`.  The sequence axis is given the label ``'meta.obs.sequence'`` as it is the IVOA UCD1+ controlled word that best describes it.  To call, simply do:"
   ]
  },
  {
   "cell_type": "code",
   "execution_count": 96,
   "metadata": {},
   "outputs": [
    {
     "data": {
      "text/plain": [
       "('meta.obs.sequence',\n",
       " 'custom:pos.helioprojective.lon',\n",
       " 'custom:pos.helioprojective.lat',\n",
       " 'em.wl')"
      ]
     },
     "execution_count": 96,
     "metadata": {},
     "output_type": "execute_result"
    }
   ],
   "source": [
    "my_sequence.world_axis_physical_types"
   ]
  },
  {
   "cell_type": "markdown",
   "metadata": {},
   "source": [
    "### Slicing"
   ]
  },
  {
   "cell_type": "markdown",
   "metadata": {},
   "source": [
    "As with `NDCube`, slicing an `NDCubeSequence` using the standard slicing API simulataneously slices the data arrays, WCS objects, masks, uncertainty arrays, etc. in each relevant sub-cube. In our example, we have three `NDCubes` in an `NDCubeSequence`.  Say we want to obtain a region of interest between the 1st and 2nd pixels (inclusive) in the 2nd dimension and 1st and 3rd pixels (inclusive) in the 3rd dimension of the 0th slice along the 0th axis in only the 1st (not 0th) and 2nd sub-cubes in the sequence. This would be a cumbersome slicing operation if treating the sub-cubes independently. (This would be made even worse without the power of `NDCube` where the data arrays, WCS objects, masks, uncertainty arrays, etc. would all have to be sliced independently!) However, with `NDCubeSequence` this becomes as simple as indexing a single array."
   ]
  },
  {
   "cell_type": "code",
   "execution_count": 97,
   "metadata": {},
   "outputs": [],
   "source": [
    "regions_of_interest_in_sequence = my_sequence[1:3, 0, 1:3, 1:4]"
   ]
  },
  {
   "cell_type": "code",
   "execution_count": 98,
   "metadata": {},
   "outputs": [
    {
     "data": {
      "text/plain": [
       "(<Quantity 2. pix>, <Quantity 2. pix>, <Quantity 3. pix>)"
      ]
     },
     "execution_count": 98,
     "metadata": {},
     "output_type": "execute_result"
    }
   ],
   "source": [
    "regions_of_interest_in_sequence.dimensions"
   ]
  },
  {
   "cell_type": "code",
   "execution_count": 99,
   "metadata": {},
   "outputs": [
    {
     "data": {
      "text/plain": [
       "('meta.obs.sequence', 'custom:pos.helioprojective.lat', 'em.wl')"
      ]
     },
     "execution_count": 99,
     "metadata": {},
     "output_type": "execute_result"
    }
   ],
   "source": [
    "regions_of_interest_in_sequence.world_axis_physical_types"
   ]
  },
  {
   "cell_type": "code",
   "execution_count": 100,
   "metadata": {},
   "outputs": [
    {
     "data": {
      "text/plain": [
       "ndcube.ndcube_sequence.NDCubeSequence"
      ]
     },
     "execution_count": 100,
     "metadata": {},
     "output_type": "execute_result"
    }
   ],
   "source": [
    "type(regions_of_interest_in_sequence)"
   ]
  },
  {
   "cell_type": "markdown",
   "metadata": {},
   "source": [
    "This will return a new `NDCubeSequence` with 2 2-D NDCubes, one for each region of interest from the 3rd slice along the 0th axis in each original sub-cube.  If our regions of interest only came from a single sub-cube - say the 0th and 1st slices along the 0th axis in the 1st sub-cube - an NDCube is returned."
   ]
  },
  {
   "cell_type": "code",
   "execution_count": 101,
   "metadata": {},
   "outputs": [],
   "source": [
    "roi_from_single_subcube = my_sequence[1, 0:2, 1:3, 1:4]"
   ]
  },
  {
   "cell_type": "code",
   "execution_count": 102,
   "metadata": {},
   "outputs": [
    {
     "data": {
      "text/latex": [
       "$[2,~2,~3] \\; \\mathrm{pix}$"
      ],
      "text/plain": [
       "<Quantity [2., 2., 3.] pix>"
      ]
     },
     "execution_count": 102,
     "metadata": {},
     "output_type": "execute_result"
    }
   ],
   "source": [
    "roi_from_single_subcube.dimensions"
   ]
  },
  {
   "cell_type": "code",
   "execution_count": 103,
   "metadata": {},
   "outputs": [
    {
     "data": {
      "text/plain": [
       "('custom:pos.helioprojective.lon', 'custom:pos.helioprojective.lat', 'em.wl')"
      ]
     },
     "execution_count": 103,
     "metadata": {},
     "output_type": "execute_result"
    }
   ],
   "source": [
    "roi_from_single_subcube.world_axis_physical_types"
   ]
  },
  {
   "cell_type": "code",
   "execution_count": 104,
   "metadata": {},
   "outputs": [
    {
     "data": {
      "text/plain": [
       "ndcube.ndcube.NDCube"
      ]
     },
     "execution_count": 104,
     "metadata": {},
     "output_type": "execute_result"
    }
   ],
   "source": [
    "type(roi_from_single_subcube)"
   ]
  },
  {
   "cell_type": "markdown",
   "metadata": {},
   "source": [
    "If a common axis has been defined for the `NDCubeSequence` one can think of it as a contiguous data set with different sections along the common axis described by different WCS translations.  Therefore it would be useful to be able to index the sequence as though it were one single cube.  This can be achieved with the `NDCubeSequence.index_as_cube` property.  In our above example, ``my_sequence`` has a shape of `(3, 8, 548, 333)` and a common axis of ``0``.  Therefore we can think of ``my_sequence`` as a having an effective cube-like shape of ``(24, 548, 333)`` where the first sub-cube extends along the 0th cube-like axis from 0 to 8, the second from 8 to 16 and the third from 16 to 24.  Say we want to extract the same region of interest as above, i.e. ``my_sequence[1, 0:2, 1:3, 1:4]``.  Then this can be acheived by entering:"
   ]
  },
  {
   "cell_type": "code",
   "execution_count": 105,
   "metadata": {},
   "outputs": [],
   "source": [
    "roi_from_single_subcube = my_sequence.index_as_cube[8:10, 1:3, 1:4]"
   ]
  },
  {
   "cell_type": "code",
   "execution_count": 106,
   "metadata": {},
   "outputs": [
    {
     "data": {
      "text/latex": [
       "$[2,~2,~3] \\; \\mathrm{pix}$"
      ],
      "text/plain": [
       "<Quantity [2., 2., 3.] pix>"
      ]
     },
     "execution_count": 106,
     "metadata": {},
     "output_type": "execute_result"
    }
   ],
   "source": [
    "roi_from_single_subcube.dimensions"
   ]
  },
  {
   "cell_type": "code",
   "execution_count": 107,
   "metadata": {},
   "outputs": [
    {
     "data": {
      "text/plain": [
       "('custom:pos.helioprojective.lon', 'custom:pos.helioprojective.lat', 'em.wl')"
      ]
     },
     "execution_count": 107,
     "metadata": {},
     "output_type": "execute_result"
    }
   ],
   "source": [
    "roi_from_single_subcube.world_axis_physical_types"
   ]
  },
  {
   "cell_type": "code",
   "execution_count": 108,
   "metadata": {},
   "outputs": [
    {
     "data": {
      "text/plain": [
       "ndcube.ndcube.NDCube"
      ]
     },
     "execution_count": 108,
     "metadata": {},
     "output_type": "execute_result"
    }
   ],
   "source": [
    "type(roi_from_single_subcube)"
   ]
  },
  {
   "cell_type": "markdown",
   "metadata": {},
   "source": [
    "In this case the entire region came from a single sub-cube.  However, `index_as_cube` also works when the region of interest spans multiple sub-cubes in the sequence.  Say we want the same region of interest in the 2nd and 3rd cube dimensions from the final slice along the 0th cube axis of the 0th sub-cube, the whole 1st sub-cube and the 0th slice of the 2nd sub-cube. In cube-like indexing this corresponds to slices 7 to 17 along to the 0th cube axis."
   ]
  },
  {
   "cell_type": "code",
   "execution_count": 109,
   "metadata": {},
   "outputs": [],
   "source": [
    "roi_across_subcubes = my_sequence.index_as_cube[7:17, 1:3, 1:4]"
   ]
  },
  {
   "cell_type": "code",
   "execution_count": 110,
   "metadata": {},
   "outputs": [
    {
     "data": {
      "text/plain": [
       "(<Quantity 3. pix>,\n",
       " <Quantity [1., 8., 1.] pix>,\n",
       " <Quantity 2. pix>,\n",
       " <Quantity 3. pix>)"
      ]
     },
     "execution_count": 110,
     "metadata": {},
     "output_type": "execute_result"
    }
   ],
   "source": [
    "roi_across_subcubes.dimensions"
   ]
  },
  {
   "cell_type": "code",
   "execution_count": 111,
   "metadata": {},
   "outputs": [
    {
     "data": {
      "text/plain": [
       "('meta.obs.sequence',\n",
       " 'custom:pos.helioprojective.lon',\n",
       " 'custom:pos.helioprojective.lat',\n",
       " 'em.wl')"
      ]
     },
     "execution_count": 111,
     "metadata": {},
     "output_type": "execute_result"
    }
   ],
   "source": [
    "roi_across_subcubes.world_axis_physical_types"
   ]
  },
  {
   "cell_type": "code",
   "execution_count": 112,
   "metadata": {},
   "outputs": [
    {
     "data": {
      "text/plain": [
       "ndcube.ndcube_sequence.NDCubeSequence"
      ]
     },
     "execution_count": 112,
     "metadata": {},
     "output_type": "execute_result"
    }
   ],
   "source": [
    "type(roi_across_subcubes)"
   ]
  },
  {
   "cell_type": "markdown",
   "metadata": {},
   "source": [
    "Notice that since the sub-cubes are now of different lengths along the common axis, the corresponding `Quantity` gives the lengths of each cube individually.  See section on NDCubeSequence Dimensions for more detail."
   ]
  },
  {
   "cell_type": "markdown",
   "metadata": {},
   "source": [
    "### Cube-like Dimensions"
   ]
  },
  {
   "cell_type": "markdown",
   "metadata": {},
   "source": [
    "To help with handling an `NDCubeSequence` with a common axis as if it were a single cube, there exist cube-like equivalents of the `NDCubeSequence.dimensions`  and `NDCubeSequence.world_axis_physical_types` methods.  They are intuitively named `cube_like_dimensions`  and `cube_like_world_axis_physical_types`.  These give the lengths and physical types of the axes as if the data were stored in a single `NDCube`.  So in the case of ``my_sequence``, with three sub-cubes, each with a length of 3 along the common axis, we get:"
   ]
  },
  {
   "cell_type": "code",
   "execution_count": 113,
   "metadata": {},
   "outputs": [
    {
     "data": {
      "text/latex": [
       "$[24,~548,~333] \\; \\mathrm{pix}$"
      ],
      "text/plain": [
       "<Quantity [ 24., 548., 333.] pix>"
      ]
     },
     "execution_count": 113,
     "metadata": {},
     "output_type": "execute_result"
    }
   ],
   "source": [
    "my_sequence.cube_like_dimensions"
   ]
  },
  {
   "cell_type": "code",
   "execution_count": 114,
   "metadata": {},
   "outputs": [
    {
     "data": {
      "text/plain": [
       "('custom:pos.helioprojective.lon', 'custom:pos.helioprojective.lat', 'em.wl')"
      ]
     },
     "execution_count": 114,
     "metadata": {},
     "output_type": "execute_result"
    }
   ],
   "source": [
    " my_sequence.cube_like_world_axis_physical_types"
   ]
  },
  {
   "cell_type": "markdown",
   "metadata": {},
   "source": [
    "Note that `cube_like_dimensions` returns a single `Quantity` in pixel units, as if it were `NDCube.dimensions`.  This is in contrast to `NDCubeSequence.dimensions` that returns a `tuple` of `~astropy.units.Quantity`."
   ]
  },
  {
   "cell_type": "markdown",
   "metadata": {},
   "source": [
    "### Common Axis Extra Coordinates"
   ]
  },
  {
   "cell_type": "markdown",
   "metadata": {},
   "source": [
    "If a common axis is defined, it may be useful to view the extra coordinates along that common axis defined by each of the sub-cube `NDCube.extra_coords` as if the `NDCubeSequence` were one contiguous Cube.  This can be done using the ``common_axis_extra_coords`` property."
   ]
  },
  {
   "cell_type": "code",
   "execution_count": 115,
   "metadata": {},
   "outputs": [
    {
     "data": {
      "text/plain": [
       "{'time': array([datetime.datetime(2014, 12, 11, 19, 12, 22, 240000),\n",
       "        datetime.datetime(2014, 12, 11, 19, 12, 25, 650000),\n",
       "        datetime.datetime(2014, 12, 11, 19, 12, 28, 840000),\n",
       "        datetime.datetime(2014, 12, 11, 19, 12, 32, 60000),\n",
       "        datetime.datetime(2014, 12, 11, 19, 12, 35, 270000),\n",
       "        datetime.datetime(2014, 12, 11, 19, 12, 38, 490000),\n",
       "        datetime.datetime(2014, 12, 11, 19, 12, 41, 710000),\n",
       "        datetime.datetime(2014, 12, 11, 19, 12, 44, 900000),\n",
       "        datetime.datetime(2014, 12, 11, 19, 12, 48, 200000),\n",
       "        datetime.datetime(2014, 12, 11, 19, 12, 51, 520000),\n",
       "        datetime.datetime(2014, 12, 11, 19, 12, 54, 740000),\n",
       "        datetime.datetime(2014, 12, 11, 19, 12, 57, 930000),\n",
       "        datetime.datetime(2014, 12, 11, 19, 13, 1, 150000),\n",
       "        datetime.datetime(2014, 12, 11, 19, 13, 4, 370000),\n",
       "        datetime.datetime(2014, 12, 11, 19, 13, 7, 590000),\n",
       "        datetime.datetime(2014, 12, 11, 19, 13, 10, 810000),\n",
       "        datetime.datetime(2014, 12, 11, 19, 13, 14, 90000),\n",
       "        datetime.datetime(2014, 12, 11, 19, 13, 17, 400000),\n",
       "        datetime.datetime(2014, 12, 11, 19, 13, 20, 620000),\n",
       "        datetime.datetime(2014, 12, 11, 19, 13, 23, 840000),\n",
       "        datetime.datetime(2014, 12, 11, 19, 13, 27, 20000),\n",
       "        datetime.datetime(2014, 12, 11, 19, 13, 30, 240000),\n",
       "        datetime.datetime(2014, 12, 11, 19, 13, 33, 460000),\n",
       "        datetime.datetime(2014, 12, 11, 19, 13, 36, 680000)], dtype=object)}"
      ]
     },
     "execution_count": 115,
     "metadata": {},
     "output_type": "execute_result"
    }
   ],
   "source": [
    "my_sequence.common_axis_extra_coords"
   ]
  },
  {
   "cell_type": "markdown",
   "metadata": {},
   "source": [
    "This returns a dictionary where each key gives the name of a coordinate.  The value of each key is the value of that coordinate at each pixel along the common axis.  Since all these coordinates must be along the common axis, it is not necessary to supply axis information as it is with `NDCube.extra_coords` making `NDCubeSequence.common_axis_extra_coords` simpler.  Because this property has a functional form and calculates the dictionary each time from the constituent sub-cubes' `NDCube.extra_coords` attributes,  `NDCubeSequence.common_axis_extra_coords` is effectively sliced when the `NDCubeSequence` is sliced, e.g."
   ]
  },
  {
   "cell_type": "code",
   "execution_count": 116,
   "metadata": {},
   "outputs": [
    {
     "data": {
      "text/plain": [
       "{'time': array([datetime.datetime(2014, 12, 11, 19, 12, 48, 200000),\n",
       "        datetime.datetime(2014, 12, 11, 19, 12, 51, 520000),\n",
       "        datetime.datetime(2014, 12, 11, 19, 12, 54, 740000),\n",
       "        datetime.datetime(2014, 12, 11, 19, 12, 57, 930000),\n",
       "        datetime.datetime(2014, 12, 11, 19, 13, 1, 150000),\n",
       "        datetime.datetime(2014, 12, 11, 19, 13, 4, 370000),\n",
       "        datetime.datetime(2014, 12, 11, 19, 13, 7, 590000),\n",
       "        datetime.datetime(2014, 12, 11, 19, 13, 10, 810000),\n",
       "        datetime.datetime(2014, 12, 11, 19, 13, 14, 90000),\n",
       "        datetime.datetime(2014, 12, 11, 19, 13, 17, 400000),\n",
       "        datetime.datetime(2014, 12, 11, 19, 13, 20, 620000),\n",
       "        datetime.datetime(2014, 12, 11, 19, 13, 23, 840000),\n",
       "        datetime.datetime(2014, 12, 11, 19, 13, 27, 20000),\n",
       "        datetime.datetime(2014, 12, 11, 19, 13, 30, 240000),\n",
       "        datetime.datetime(2014, 12, 11, 19, 13, 33, 460000),\n",
       "        datetime.datetime(2014, 12, 11, 19, 13, 36, 680000)], dtype=object)}"
      ]
     },
     "execution_count": 116,
     "metadata": {},
     "output_type": "execute_result"
    }
   ],
   "source": [
    "my_sequence[1:3].common_axis_extra_coords"
   ]
  },
  {
   "cell_type": "markdown",
   "metadata": {},
   "source": [
    "### Sequence Axis Extra Coordinates"
   ]
  },
  {
   "cell_type": "markdown",
   "metadata": {},
   "source": [
    "Analgous to `NDCubeSequence.common_axis_extra_coords`, it is also possible to access the extra coordinates that are not assigned to any `NDCube` data axis via the `NDCubeSequence.sequence_axis_extra_coords` property.  Whereas `common_axis_extra_coords` returns all the extra coords with an ``'axis'`` value equal to the common axis, `sequence_axis_extra_coords` returns all extra coords with an ``'axis'`` value of ``None``.  Another way of thinking about this when there is no common axis set, is that they are assigned to the sequence axis.  Hence the property's name."
   ]
  },
  {
   "cell_type": "code",
   "execution_count": 117,
   "metadata": {},
   "outputs": [
    {
     "data": {
      "text/plain": [
       "{'label': array(['hello', 'world', '!'], dtype=object)}"
      ]
     },
     "execution_count": 117,
     "metadata": {},
     "output_type": "execute_result"
    }
   ],
   "source": [
    "my_sequence.sequence_axis_extra_coords"
   ]
  },
  {
   "cell_type": "markdown",
   "metadata": {},
   "source": [
    "### Plotting"
   ]
  },
  {
   "cell_type": "markdown",
   "metadata": {},
   "source": [
    "The `NDCubeSequence.plot` method allows the sequence to be animated as though it were one contiguous `NDCube`. It has the same API and same kwargs as `NDCube.plot`.  See documentation for `NDCube.plot` for more details."
   ]
  },
  {
   "cell_type": "code",
   "execution_count": 118,
   "metadata": {},
   "outputs": [
    {
     "data": {
      "application/javascript": [
       "/* Put everything inside the global mpl namespace */\n",
       "window.mpl = {};\n",
       "\n",
       "\n",
       "mpl.get_websocket_type = function() {\n",
       "    if (typeof(WebSocket) !== 'undefined') {\n",
       "        return WebSocket;\n",
       "    } else if (typeof(MozWebSocket) !== 'undefined') {\n",
       "        return MozWebSocket;\n",
       "    } else {\n",
       "        alert('Your browser does not have WebSocket support.' +\n",
       "              'Please try Chrome, Safari or Firefox ≥ 6. ' +\n",
       "              'Firefox 4 and 5 are also supported but you ' +\n",
       "              'have to enable WebSockets in about:config.');\n",
       "    };\n",
       "}\n",
       "\n",
       "mpl.figure = function(figure_id, websocket, ondownload, parent_element) {\n",
       "    this.id = figure_id;\n",
       "\n",
       "    this.ws = websocket;\n",
       "\n",
       "    this.supports_binary = (this.ws.binaryType != undefined);\n",
       "\n",
       "    if (!this.supports_binary) {\n",
       "        var warnings = document.getElementById(\"mpl-warnings\");\n",
       "        if (warnings) {\n",
       "            warnings.style.display = 'block';\n",
       "            warnings.textContent = (\n",
       "                \"This browser does not support binary websocket messages. \" +\n",
       "                    \"Performance may be slow.\");\n",
       "        }\n",
       "    }\n",
       "\n",
       "    this.imageObj = new Image();\n",
       "\n",
       "    this.context = undefined;\n",
       "    this.message = undefined;\n",
       "    this.canvas = undefined;\n",
       "    this.rubberband_canvas = undefined;\n",
       "    this.rubberband_context = undefined;\n",
       "    this.format_dropdown = undefined;\n",
       "\n",
       "    this.image_mode = 'full';\n",
       "\n",
       "    this.root = $('<div/>');\n",
       "    this._root_extra_style(this.root)\n",
       "    this.root.attr('style', 'display: inline-block');\n",
       "\n",
       "    $(parent_element).append(this.root);\n",
       "\n",
       "    this._init_header(this);\n",
       "    this._init_canvas(this);\n",
       "    this._init_toolbar(this);\n",
       "\n",
       "    var fig = this;\n",
       "\n",
       "    this.waiting = false;\n",
       "\n",
       "    this.ws.onopen =  function () {\n",
       "            fig.send_message(\"supports_binary\", {value: fig.supports_binary});\n",
       "            fig.send_message(\"send_image_mode\", {});\n",
       "            if (mpl.ratio != 1) {\n",
       "                fig.send_message(\"set_dpi_ratio\", {'dpi_ratio': mpl.ratio});\n",
       "            }\n",
       "            fig.send_message(\"refresh\", {});\n",
       "        }\n",
       "\n",
       "    this.imageObj.onload = function() {\n",
       "            if (fig.image_mode == 'full') {\n",
       "                // Full images could contain transparency (where diff images\n",
       "                // almost always do), so we need to clear the canvas so that\n",
       "                // there is no ghosting.\n",
       "                fig.context.clearRect(0, 0, fig.canvas.width, fig.canvas.height);\n",
       "            }\n",
       "            fig.context.drawImage(fig.imageObj, 0, 0);\n",
       "        };\n",
       "\n",
       "    this.imageObj.onunload = function() {\n",
       "        fig.ws.close();\n",
       "    }\n",
       "\n",
       "    this.ws.onmessage = this._make_on_message_function(this);\n",
       "\n",
       "    this.ondownload = ondownload;\n",
       "}\n",
       "\n",
       "mpl.figure.prototype._init_header = function() {\n",
       "    var titlebar = $(\n",
       "        '<div class=\"ui-dialog-titlebar ui-widget-header ui-corner-all ' +\n",
       "        'ui-helper-clearfix\"/>');\n",
       "    var titletext = $(\n",
       "        '<div class=\"ui-dialog-title\" style=\"width: 100%; ' +\n",
       "        'text-align: center; padding: 3px;\"/>');\n",
       "    titlebar.append(titletext)\n",
       "    this.root.append(titlebar);\n",
       "    this.header = titletext[0];\n",
       "}\n",
       "\n",
       "\n",
       "\n",
       "mpl.figure.prototype._canvas_extra_style = function(canvas_div) {\n",
       "\n",
       "}\n",
       "\n",
       "\n",
       "mpl.figure.prototype._root_extra_style = function(canvas_div) {\n",
       "\n",
       "}\n",
       "\n",
       "mpl.figure.prototype._init_canvas = function() {\n",
       "    var fig = this;\n",
       "\n",
       "    var canvas_div = $('<div/>');\n",
       "\n",
       "    canvas_div.attr('style', 'position: relative; clear: both; outline: 0');\n",
       "\n",
       "    function canvas_keyboard_event(event) {\n",
       "        return fig.key_event(event, event['data']);\n",
       "    }\n",
       "\n",
       "    canvas_div.keydown('key_press', canvas_keyboard_event);\n",
       "    canvas_div.keyup('key_release', canvas_keyboard_event);\n",
       "    this.canvas_div = canvas_div\n",
       "    this._canvas_extra_style(canvas_div)\n",
       "    this.root.append(canvas_div);\n",
       "\n",
       "    var canvas = $('<canvas/>');\n",
       "    canvas.addClass('mpl-canvas');\n",
       "    canvas.attr('style', \"left: 0; top: 0; z-index: 0; outline: 0\")\n",
       "\n",
       "    this.canvas = canvas[0];\n",
       "    this.context = canvas[0].getContext(\"2d\");\n",
       "\n",
       "    var backingStore = this.context.backingStorePixelRatio ||\n",
       "\tthis.context.webkitBackingStorePixelRatio ||\n",
       "\tthis.context.mozBackingStorePixelRatio ||\n",
       "\tthis.context.msBackingStorePixelRatio ||\n",
       "\tthis.context.oBackingStorePixelRatio ||\n",
       "\tthis.context.backingStorePixelRatio || 1;\n",
       "\n",
       "    mpl.ratio = (window.devicePixelRatio || 1) / backingStore;\n",
       "\n",
       "    var rubberband = $('<canvas/>');\n",
       "    rubberband.attr('style', \"position: absolute; left: 0; top: 0; z-index: 1;\")\n",
       "\n",
       "    var pass_mouse_events = true;\n",
       "\n",
       "    canvas_div.resizable({\n",
       "        start: function(event, ui) {\n",
       "            pass_mouse_events = false;\n",
       "        },\n",
       "        resize: function(event, ui) {\n",
       "            fig.request_resize(ui.size.width, ui.size.height);\n",
       "        },\n",
       "        stop: function(event, ui) {\n",
       "            pass_mouse_events = true;\n",
       "            fig.request_resize(ui.size.width, ui.size.height);\n",
       "        },\n",
       "    });\n",
       "\n",
       "    function mouse_event_fn(event) {\n",
       "        if (pass_mouse_events)\n",
       "            return fig.mouse_event(event, event['data']);\n",
       "    }\n",
       "\n",
       "    rubberband.mousedown('button_press', mouse_event_fn);\n",
       "    rubberband.mouseup('button_release', mouse_event_fn);\n",
       "    // Throttle sequential mouse events to 1 every 20ms.\n",
       "    rubberband.mousemove('motion_notify', mouse_event_fn);\n",
       "\n",
       "    rubberband.mouseenter('figure_enter', mouse_event_fn);\n",
       "    rubberband.mouseleave('figure_leave', mouse_event_fn);\n",
       "\n",
       "    canvas_div.on(\"wheel\", function (event) {\n",
       "        event = event.originalEvent;\n",
       "        event['data'] = 'scroll'\n",
       "        if (event.deltaY < 0) {\n",
       "            event.step = 1;\n",
       "        } else {\n",
       "            event.step = -1;\n",
       "        }\n",
       "        mouse_event_fn(event);\n",
       "    });\n",
       "\n",
       "    canvas_div.append(canvas);\n",
       "    canvas_div.append(rubberband);\n",
       "\n",
       "    this.rubberband = rubberband;\n",
       "    this.rubberband_canvas = rubberband[0];\n",
       "    this.rubberband_context = rubberband[0].getContext(\"2d\");\n",
       "    this.rubberband_context.strokeStyle = \"#000000\";\n",
       "\n",
       "    this._resize_canvas = function(width, height) {\n",
       "        // Keep the size of the canvas, canvas container, and rubber band\n",
       "        // canvas in synch.\n",
       "        canvas_div.css('width', width)\n",
       "        canvas_div.css('height', height)\n",
       "\n",
       "        canvas.attr('width', width * mpl.ratio);\n",
       "        canvas.attr('height', height * mpl.ratio);\n",
       "        canvas.attr('style', 'width: ' + width + 'px; height: ' + height + 'px;');\n",
       "\n",
       "        rubberband.attr('width', width);\n",
       "        rubberband.attr('height', height);\n",
       "    }\n",
       "\n",
       "    // Set the figure to an initial 600x600px, this will subsequently be updated\n",
       "    // upon first draw.\n",
       "    this._resize_canvas(600, 600);\n",
       "\n",
       "    // Disable right mouse context menu.\n",
       "    $(this.rubberband_canvas).bind(\"contextmenu\",function(e){\n",
       "        return false;\n",
       "    });\n",
       "\n",
       "    function set_focus () {\n",
       "        canvas.focus();\n",
       "        canvas_div.focus();\n",
       "    }\n",
       "\n",
       "    window.setTimeout(set_focus, 100);\n",
       "}\n",
       "\n",
       "mpl.figure.prototype._init_toolbar = function() {\n",
       "    var fig = this;\n",
       "\n",
       "    var nav_element = $('<div/>')\n",
       "    nav_element.attr('style', 'width: 100%');\n",
       "    this.root.append(nav_element);\n",
       "\n",
       "    // Define a callback function for later on.\n",
       "    function toolbar_event(event) {\n",
       "        return fig.toolbar_button_onclick(event['data']);\n",
       "    }\n",
       "    function toolbar_mouse_event(event) {\n",
       "        return fig.toolbar_button_onmouseover(event['data']);\n",
       "    }\n",
       "\n",
       "    for(var toolbar_ind in mpl.toolbar_items) {\n",
       "        var name = mpl.toolbar_items[toolbar_ind][0];\n",
       "        var tooltip = mpl.toolbar_items[toolbar_ind][1];\n",
       "        var image = mpl.toolbar_items[toolbar_ind][2];\n",
       "        var method_name = mpl.toolbar_items[toolbar_ind][3];\n",
       "\n",
       "        if (!name) {\n",
       "            // put a spacer in here.\n",
       "            continue;\n",
       "        }\n",
       "        var button = $('<button/>');\n",
       "        button.addClass('ui-button ui-widget ui-state-default ui-corner-all ' +\n",
       "                        'ui-button-icon-only');\n",
       "        button.attr('role', 'button');\n",
       "        button.attr('aria-disabled', 'false');\n",
       "        button.click(method_name, toolbar_event);\n",
       "        button.mouseover(tooltip, toolbar_mouse_event);\n",
       "\n",
       "        var icon_img = $('<span/>');\n",
       "        icon_img.addClass('ui-button-icon-primary ui-icon');\n",
       "        icon_img.addClass(image);\n",
       "        icon_img.addClass('ui-corner-all');\n",
       "\n",
       "        var tooltip_span = $('<span/>');\n",
       "        tooltip_span.addClass('ui-button-text');\n",
       "        tooltip_span.html(tooltip);\n",
       "\n",
       "        button.append(icon_img);\n",
       "        button.append(tooltip_span);\n",
       "\n",
       "        nav_element.append(button);\n",
       "    }\n",
       "\n",
       "    var fmt_picker_span = $('<span/>');\n",
       "\n",
       "    var fmt_picker = $('<select/>');\n",
       "    fmt_picker.addClass('mpl-toolbar-option ui-widget ui-widget-content');\n",
       "    fmt_picker_span.append(fmt_picker);\n",
       "    nav_element.append(fmt_picker_span);\n",
       "    this.format_dropdown = fmt_picker[0];\n",
       "\n",
       "    for (var ind in mpl.extensions) {\n",
       "        var fmt = mpl.extensions[ind];\n",
       "        var option = $(\n",
       "            '<option/>', {selected: fmt === mpl.default_extension}).html(fmt);\n",
       "        fmt_picker.append(option)\n",
       "    }\n",
       "\n",
       "    // Add hover states to the ui-buttons\n",
       "    $( \".ui-button\" ).hover(\n",
       "        function() { $(this).addClass(\"ui-state-hover\");},\n",
       "        function() { $(this).removeClass(\"ui-state-hover\");}\n",
       "    );\n",
       "\n",
       "    var status_bar = $('<span class=\"mpl-message\"/>');\n",
       "    nav_element.append(status_bar);\n",
       "    this.message = status_bar[0];\n",
       "}\n",
       "\n",
       "mpl.figure.prototype.request_resize = function(x_pixels, y_pixels) {\n",
       "    // Request matplotlib to resize the figure. Matplotlib will then trigger a resize in the client,\n",
       "    // which will in turn request a refresh of the image.\n",
       "    this.send_message('resize', {'width': x_pixels, 'height': y_pixels});\n",
       "}\n",
       "\n",
       "mpl.figure.prototype.send_message = function(type, properties) {\n",
       "    properties['type'] = type;\n",
       "    properties['figure_id'] = this.id;\n",
       "    this.ws.send(JSON.stringify(properties));\n",
       "}\n",
       "\n",
       "mpl.figure.prototype.send_draw_message = function() {\n",
       "    if (!this.waiting) {\n",
       "        this.waiting = true;\n",
       "        this.ws.send(JSON.stringify({type: \"draw\", figure_id: this.id}));\n",
       "    }\n",
       "}\n",
       "\n",
       "\n",
       "mpl.figure.prototype.handle_save = function(fig, msg) {\n",
       "    var format_dropdown = fig.format_dropdown;\n",
       "    var format = format_dropdown.options[format_dropdown.selectedIndex].value;\n",
       "    fig.ondownload(fig, format);\n",
       "}\n",
       "\n",
       "\n",
       "mpl.figure.prototype.handle_resize = function(fig, msg) {\n",
       "    var size = msg['size'];\n",
       "    if (size[0] != fig.canvas.width || size[1] != fig.canvas.height) {\n",
       "        fig._resize_canvas(size[0], size[1]);\n",
       "        fig.send_message(\"refresh\", {});\n",
       "    };\n",
       "}\n",
       "\n",
       "mpl.figure.prototype.handle_rubberband = function(fig, msg) {\n",
       "    var x0 = msg['x0'] / mpl.ratio;\n",
       "    var y0 = (fig.canvas.height - msg['y0']) / mpl.ratio;\n",
       "    var x1 = msg['x1'] / mpl.ratio;\n",
       "    var y1 = (fig.canvas.height - msg['y1']) / mpl.ratio;\n",
       "    x0 = Math.floor(x0) + 0.5;\n",
       "    y0 = Math.floor(y0) + 0.5;\n",
       "    x1 = Math.floor(x1) + 0.5;\n",
       "    y1 = Math.floor(y1) + 0.5;\n",
       "    var min_x = Math.min(x0, x1);\n",
       "    var min_y = Math.min(y0, y1);\n",
       "    var width = Math.abs(x1 - x0);\n",
       "    var height = Math.abs(y1 - y0);\n",
       "\n",
       "    fig.rubberband_context.clearRect(\n",
       "        0, 0, fig.canvas.width, fig.canvas.height);\n",
       "\n",
       "    fig.rubberband_context.strokeRect(min_x, min_y, width, height);\n",
       "}\n",
       "\n",
       "mpl.figure.prototype.handle_figure_label = function(fig, msg) {\n",
       "    // Updates the figure title.\n",
       "    fig.header.textContent = msg['label'];\n",
       "}\n",
       "\n",
       "mpl.figure.prototype.handle_cursor = function(fig, msg) {\n",
       "    var cursor = msg['cursor'];\n",
       "    switch(cursor)\n",
       "    {\n",
       "    case 0:\n",
       "        cursor = 'pointer';\n",
       "        break;\n",
       "    case 1:\n",
       "        cursor = 'default';\n",
       "        break;\n",
       "    case 2:\n",
       "        cursor = 'crosshair';\n",
       "        break;\n",
       "    case 3:\n",
       "        cursor = 'move';\n",
       "        break;\n",
       "    }\n",
       "    fig.rubberband_canvas.style.cursor = cursor;\n",
       "}\n",
       "\n",
       "mpl.figure.prototype.handle_message = function(fig, msg) {\n",
       "    fig.message.textContent = msg['message'];\n",
       "}\n",
       "\n",
       "mpl.figure.prototype.handle_draw = function(fig, msg) {\n",
       "    // Request the server to send over a new figure.\n",
       "    fig.send_draw_message();\n",
       "}\n",
       "\n",
       "mpl.figure.prototype.handle_image_mode = function(fig, msg) {\n",
       "    fig.image_mode = msg['mode'];\n",
       "}\n",
       "\n",
       "mpl.figure.prototype.updated_canvas_event = function() {\n",
       "    // Called whenever the canvas gets updated.\n",
       "    this.send_message(\"ack\", {});\n",
       "}\n",
       "\n",
       "// A function to construct a web socket function for onmessage handling.\n",
       "// Called in the figure constructor.\n",
       "mpl.figure.prototype._make_on_message_function = function(fig) {\n",
       "    return function socket_on_message(evt) {\n",
       "        if (evt.data instanceof Blob) {\n",
       "            /* FIXME: We get \"Resource interpreted as Image but\n",
       "             * transferred with MIME type text/plain:\" errors on\n",
       "             * Chrome.  But how to set the MIME type?  It doesn't seem\n",
       "             * to be part of the websocket stream */\n",
       "            evt.data.type = \"image/png\";\n",
       "\n",
       "            /* Free the memory for the previous frames */\n",
       "            if (fig.imageObj.src) {\n",
       "                (window.URL || window.webkitURL).revokeObjectURL(\n",
       "                    fig.imageObj.src);\n",
       "            }\n",
       "\n",
       "            fig.imageObj.src = (window.URL || window.webkitURL).createObjectURL(\n",
       "                evt.data);\n",
       "            fig.updated_canvas_event();\n",
       "            fig.waiting = false;\n",
       "            return;\n",
       "        }\n",
       "        else if (typeof evt.data === 'string' && evt.data.slice(0, 21) == \"data:image/png;base64\") {\n",
       "            fig.imageObj.src = evt.data;\n",
       "            fig.updated_canvas_event();\n",
       "            fig.waiting = false;\n",
       "            return;\n",
       "        }\n",
       "\n",
       "        var msg = JSON.parse(evt.data);\n",
       "        var msg_type = msg['type'];\n",
       "\n",
       "        // Call the  \"handle_{type}\" callback, which takes\n",
       "        // the figure and JSON message as its only arguments.\n",
       "        try {\n",
       "            var callback = fig[\"handle_\" + msg_type];\n",
       "        } catch (e) {\n",
       "            console.log(\"No handler for the '\" + msg_type + \"' message type: \", msg);\n",
       "            return;\n",
       "        }\n",
       "\n",
       "        if (callback) {\n",
       "            try {\n",
       "                // console.log(\"Handling '\" + msg_type + \"' message: \", msg);\n",
       "                callback(fig, msg);\n",
       "            } catch (e) {\n",
       "                console.log(\"Exception inside the 'handler_\" + msg_type + \"' callback:\", e, e.stack, msg);\n",
       "            }\n",
       "        }\n",
       "    };\n",
       "}\n",
       "\n",
       "// from http://stackoverflow.com/questions/1114465/getting-mouse-location-in-canvas\n",
       "mpl.findpos = function(e) {\n",
       "    //this section is from http://www.quirksmode.org/js/events_properties.html\n",
       "    var targ;\n",
       "    if (!e)\n",
       "        e = window.event;\n",
       "    if (e.target)\n",
       "        targ = e.target;\n",
       "    else if (e.srcElement)\n",
       "        targ = e.srcElement;\n",
       "    if (targ.nodeType == 3) // defeat Safari bug\n",
       "        targ = targ.parentNode;\n",
       "\n",
       "    // jQuery normalizes the pageX and pageY\n",
       "    // pageX,Y are the mouse positions relative to the document\n",
       "    // offset() returns the position of the element relative to the document\n",
       "    var x = e.pageX - $(targ).offset().left;\n",
       "    var y = e.pageY - $(targ).offset().top;\n",
       "\n",
       "    return {\"x\": x, \"y\": y};\n",
       "};\n",
       "\n",
       "/*\n",
       " * return a copy of an object with only non-object keys\n",
       " * we need this to avoid circular references\n",
       " * http://stackoverflow.com/a/24161582/3208463\n",
       " */\n",
       "function simpleKeys (original) {\n",
       "  return Object.keys(original).reduce(function (obj, key) {\n",
       "    if (typeof original[key] !== 'object')\n",
       "        obj[key] = original[key]\n",
       "    return obj;\n",
       "  }, {});\n",
       "}\n",
       "\n",
       "mpl.figure.prototype.mouse_event = function(event, name) {\n",
       "    var canvas_pos = mpl.findpos(event)\n",
       "\n",
       "    if (name === 'button_press')\n",
       "    {\n",
       "        this.canvas.focus();\n",
       "        this.canvas_div.focus();\n",
       "    }\n",
       "\n",
       "    var x = canvas_pos.x * mpl.ratio;\n",
       "    var y = canvas_pos.y * mpl.ratio;\n",
       "\n",
       "    this.send_message(name, {x: x, y: y, button: event.button,\n",
       "                             step: event.step,\n",
       "                             guiEvent: simpleKeys(event)});\n",
       "\n",
       "    /* This prevents the web browser from automatically changing to\n",
       "     * the text insertion cursor when the button is pressed.  We want\n",
       "     * to control all of the cursor setting manually through the\n",
       "     * 'cursor' event from matplotlib */\n",
       "    event.preventDefault();\n",
       "    return false;\n",
       "}\n",
       "\n",
       "mpl.figure.prototype._key_event_extra = function(event, name) {\n",
       "    // Handle any extra behaviour associated with a key event\n",
       "}\n",
       "\n",
       "mpl.figure.prototype.key_event = function(event, name) {\n",
       "\n",
       "    // Prevent repeat events\n",
       "    if (name == 'key_press')\n",
       "    {\n",
       "        if (event.which === this._key)\n",
       "            return;\n",
       "        else\n",
       "            this._key = event.which;\n",
       "    }\n",
       "    if (name == 'key_release')\n",
       "        this._key = null;\n",
       "\n",
       "    var value = '';\n",
       "    if (event.ctrlKey && event.which != 17)\n",
       "        value += \"ctrl+\";\n",
       "    if (event.altKey && event.which != 18)\n",
       "        value += \"alt+\";\n",
       "    if (event.shiftKey && event.which != 16)\n",
       "        value += \"shift+\";\n",
       "\n",
       "    value += 'k';\n",
       "    value += event.which.toString();\n",
       "\n",
       "    this._key_event_extra(event, name);\n",
       "\n",
       "    this.send_message(name, {key: value,\n",
       "                             guiEvent: simpleKeys(event)});\n",
       "    return false;\n",
       "}\n",
       "\n",
       "mpl.figure.prototype.toolbar_button_onclick = function(name) {\n",
       "    if (name == 'download') {\n",
       "        this.handle_save(this, null);\n",
       "    } else {\n",
       "        this.send_message(\"toolbar_button\", {name: name});\n",
       "    }\n",
       "};\n",
       "\n",
       "mpl.figure.prototype.toolbar_button_onmouseover = function(tooltip) {\n",
       "    this.message.textContent = tooltip;\n",
       "};\n",
       "mpl.toolbar_items = [[\"Home\", \"Reset original view\", \"fa fa-home icon-home\", \"home\"], [\"Back\", \"Back to  previous view\", \"fa fa-arrow-left icon-arrow-left\", \"back\"], [\"Forward\", \"Forward to next view\", \"fa fa-arrow-right icon-arrow-right\", \"forward\"], [\"\", \"\", \"\", \"\"], [\"Pan\", \"Pan axes with left mouse, zoom with right\", \"fa fa-arrows icon-move\", \"pan\"], [\"Zoom\", \"Zoom to rectangle\", \"fa fa-square-o icon-check-empty\", \"zoom\"], [\"\", \"\", \"\", \"\"], [\"Download\", \"Download plot\", \"fa fa-floppy-o icon-save\", \"download\"]];\n",
       "\n",
       "mpl.extensions = [\"eps\", \"jpeg\", \"pdf\", \"png\", \"ps\", \"raw\", \"svg\", \"tif\"];\n",
       "\n",
       "mpl.default_extension = \"png\";var comm_websocket_adapter = function(comm) {\n",
       "    // Create a \"websocket\"-like object which calls the given IPython comm\n",
       "    // object with the appropriate methods. Currently this is a non binary\n",
       "    // socket, so there is still some room for performance tuning.\n",
       "    var ws = {};\n",
       "\n",
       "    ws.close = function() {\n",
       "        comm.close()\n",
       "    };\n",
       "    ws.send = function(m) {\n",
       "        //console.log('sending', m);\n",
       "        comm.send(m);\n",
       "    };\n",
       "    // Register the callback with on_msg.\n",
       "    comm.on_msg(function(msg) {\n",
       "        //console.log('receiving', msg['content']['data'], msg);\n",
       "        // Pass the mpl event to the overriden (by mpl) onmessage function.\n",
       "        ws.onmessage(msg['content']['data'])\n",
       "    });\n",
       "    return ws;\n",
       "}\n",
       "\n",
       "mpl.mpl_figure_comm = function(comm, msg) {\n",
       "    // This is the function which gets called when the mpl process\n",
       "    // starts-up an IPython Comm through the \"matplotlib\" channel.\n",
       "\n",
       "    var id = msg.content.data.id;\n",
       "    // Get hold of the div created by the display call when the Comm\n",
       "    // socket was opened in Python.\n",
       "    var element = $(\"#\" + id);\n",
       "    var ws_proxy = comm_websocket_adapter(comm)\n",
       "\n",
       "    function ondownload(figure, format) {\n",
       "        window.open(figure.imageObj.src);\n",
       "    }\n",
       "\n",
       "    var fig = new mpl.figure(id, ws_proxy,\n",
       "                           ondownload,\n",
       "                           element.get(0));\n",
       "\n",
       "    // Call onopen now - mpl needs it, as it is assuming we've passed it a real\n",
       "    // web socket which is closed, not our websocket->open comm proxy.\n",
       "    ws_proxy.onopen();\n",
       "\n",
       "    fig.parent_element = element.get(0);\n",
       "    fig.cell_info = mpl.find_output_cell(\"<div id='\" + id + \"'></div>\");\n",
       "    if (!fig.cell_info) {\n",
       "        console.error(\"Failed to find cell for figure\", id, fig);\n",
       "        return;\n",
       "    }\n",
       "\n",
       "    var output_index = fig.cell_info[2]\n",
       "    var cell = fig.cell_info[0];\n",
       "\n",
       "};\n",
       "\n",
       "mpl.figure.prototype.handle_close = function(fig, msg) {\n",
       "    var width = fig.canvas.width/mpl.ratio\n",
       "    fig.root.unbind('remove')\n",
       "\n",
       "    // Update the output cell to use the data from the current canvas.\n",
       "    fig.push_to_output();\n",
       "    var dataURL = fig.canvas.toDataURL();\n",
       "    // Re-enable the keyboard manager in IPython - without this line, in FF,\n",
       "    // the notebook keyboard shortcuts fail.\n",
       "    IPython.keyboard_manager.enable()\n",
       "    $(fig.parent_element).html('<img src=\"' + dataURL + '\" width=\"' + width + '\">');\n",
       "    fig.close_ws(fig, msg);\n",
       "}\n",
       "\n",
       "mpl.figure.prototype.close_ws = function(fig, msg){\n",
       "    fig.send_message('closing', msg);\n",
       "    // fig.ws.close()\n",
       "}\n",
       "\n",
       "mpl.figure.prototype.push_to_output = function(remove_interactive) {\n",
       "    // Turn the data on the canvas into data in the output cell.\n",
       "    var width = this.canvas.width/mpl.ratio\n",
       "    var dataURL = this.canvas.toDataURL();\n",
       "    this.cell_info[1]['text/html'] = '<img src=\"' + dataURL + '\" width=\"' + width + '\">';\n",
       "}\n",
       "\n",
       "mpl.figure.prototype.updated_canvas_event = function() {\n",
       "    // Tell IPython that the notebook contents must change.\n",
       "    IPython.notebook.set_dirty(true);\n",
       "    this.send_message(\"ack\", {});\n",
       "    var fig = this;\n",
       "    // Wait a second, then push the new image to the DOM so\n",
       "    // that it is saved nicely (might be nice to debounce this).\n",
       "    setTimeout(function () { fig.push_to_output() }, 1000);\n",
       "}\n",
       "\n",
       "mpl.figure.prototype._init_toolbar = function() {\n",
       "    var fig = this;\n",
       "\n",
       "    var nav_element = $('<div/>')\n",
       "    nav_element.attr('style', 'width: 100%');\n",
       "    this.root.append(nav_element);\n",
       "\n",
       "    // Define a callback function for later on.\n",
       "    function toolbar_event(event) {\n",
       "        return fig.toolbar_button_onclick(event['data']);\n",
       "    }\n",
       "    function toolbar_mouse_event(event) {\n",
       "        return fig.toolbar_button_onmouseover(event['data']);\n",
       "    }\n",
       "\n",
       "    for(var toolbar_ind in mpl.toolbar_items){\n",
       "        var name = mpl.toolbar_items[toolbar_ind][0];\n",
       "        var tooltip = mpl.toolbar_items[toolbar_ind][1];\n",
       "        var image = mpl.toolbar_items[toolbar_ind][2];\n",
       "        var method_name = mpl.toolbar_items[toolbar_ind][3];\n",
       "\n",
       "        if (!name) { continue; };\n",
       "\n",
       "        var button = $('<button class=\"btn btn-default\" href=\"#\" title=\"' + name + '\"><i class=\"fa ' + image + ' fa-lg\"></i></button>');\n",
       "        button.click(method_name, toolbar_event);\n",
       "        button.mouseover(tooltip, toolbar_mouse_event);\n",
       "        nav_element.append(button);\n",
       "    }\n",
       "\n",
       "    // Add the status bar.\n",
       "    var status_bar = $('<span class=\"mpl-message\" style=\"text-align:right; float: right;\"/>');\n",
       "    nav_element.append(status_bar);\n",
       "    this.message = status_bar[0];\n",
       "\n",
       "    // Add the close button to the window.\n",
       "    var buttongrp = $('<div class=\"btn-group inline pull-right\"></div>');\n",
       "    var button = $('<button class=\"btn btn-mini btn-primary\" href=\"#\" title=\"Stop Interaction\"><i class=\"fa fa-power-off icon-remove icon-large\"></i></button>');\n",
       "    button.click(function (evt) { fig.handle_close(fig, {}); } );\n",
       "    button.mouseover('Stop Interaction', toolbar_mouse_event);\n",
       "    buttongrp.append(button);\n",
       "    var titlebar = this.root.find($('.ui-dialog-titlebar'));\n",
       "    titlebar.prepend(buttongrp);\n",
       "}\n",
       "\n",
       "mpl.figure.prototype._root_extra_style = function(el){\n",
       "    var fig = this\n",
       "    el.on(\"remove\", function(){\n",
       "\tfig.close_ws(fig, {});\n",
       "    });\n",
       "}\n",
       "\n",
       "mpl.figure.prototype._canvas_extra_style = function(el){\n",
       "    // this is important to make the div 'focusable\n",
       "    el.attr('tabindex', 0)\n",
       "    // reach out to IPython and tell the keyboard manager to turn it's self\n",
       "    // off when our div gets focus\n",
       "\n",
       "    // location in version 3\n",
       "    if (IPython.notebook.keyboard_manager) {\n",
       "        IPython.notebook.keyboard_manager.register_events(el);\n",
       "    }\n",
       "    else {\n",
       "        // location in version 2\n",
       "        IPython.keyboard_manager.register_events(el);\n",
       "    }\n",
       "\n",
       "}\n",
       "\n",
       "mpl.figure.prototype._key_event_extra = function(event, name) {\n",
       "    var manager = IPython.notebook.keyboard_manager;\n",
       "    if (!manager)\n",
       "        manager = IPython.keyboard_manager;\n",
       "\n",
       "    // Check for shift+enter\n",
       "    if (event.shiftKey && event.which == 13) {\n",
       "        this.canvas_div.blur();\n",
       "        event.shiftKey = false;\n",
       "        // Send a \"J\" for go to next cell\n",
       "        event.which = 74;\n",
       "        event.keyCode = 74;\n",
       "        manager.command_mode();\n",
       "        manager.handle_keydown(event);\n",
       "    }\n",
       "}\n",
       "\n",
       "mpl.figure.prototype.handle_save = function(fig, msg) {\n",
       "    fig.ondownload(fig, null);\n",
       "}\n",
       "\n",
       "\n",
       "mpl.find_output_cell = function(html_output) {\n",
       "    // Return the cell and output element which can be found *uniquely* in the notebook.\n",
       "    // Note - this is a bit hacky, but it is done because the \"notebook_saving.Notebook\"\n",
       "    // IPython event is triggered only after the cells have been serialised, which for\n",
       "    // our purposes (turning an active figure into a static one), is too late.\n",
       "    var cells = IPython.notebook.get_cells();\n",
       "    var ncells = cells.length;\n",
       "    for (var i=0; i<ncells; i++) {\n",
       "        var cell = cells[i];\n",
       "        if (cell.cell_type === 'code'){\n",
       "            for (var j=0; j<cell.output_area.outputs.length; j++) {\n",
       "                var data = cell.output_area.outputs[j];\n",
       "                if (data.data) {\n",
       "                    // IPython >= 3 moved mimebundle to data attribute of output\n",
       "                    data = data.data;\n",
       "                }\n",
       "                if (data['text/html'] == html_output) {\n",
       "                    return [cell, data, j];\n",
       "                }\n",
       "            }\n",
       "        }\n",
       "    }\n",
       "}\n",
       "\n",
       "// Register the function which deals with the matplotlib target/channel.\n",
       "// The kernel may be null if the page has been refreshed.\n",
       "if (IPython.notebook.kernel != null) {\n",
       "    IPython.notebook.kernel.comm_manager.register_target('matplotlib', mpl.mpl_figure_comm);\n",
       "}\n"
      ],
      "text/plain": [
       "<IPython.core.display.Javascript object>"
      ]
     },
     "metadata": {},
     "output_type": "display_data"
    },
    {
     "data": {
      "text/html": [
       "<img src=\"data:image/png;base64,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\" width=\"640\">"
      ],
      "text/plain": [
       "<IPython.core.display.HTML object>"
      ]
     },
     "metadata": {},
     "output_type": "display_data"
    },
    {
     "data": {
      "text/plain": [
       "<ndcube.visualization.animation.ImageAnimatorCommonAxisNDCubeSequence at 0x1c1be1e710>"
      ]
     },
     "execution_count": 118,
     "metadata": {},
     "output_type": "execute_result"
    }
   ],
   "source": [
    "my_sequence.plot()"
   ]
  },
  {
   "cell_type": "markdown",
   "metadata": {},
   "source": [
    "### Explode Along Axis"
   ]
  },
  {
   "cell_type": "markdown",
   "metadata": {},
   "source": [
    "During analysis of some data -- say of a stack of images -- it may be necessary to make some different fine-pointing adjustments to each image that isn't accounted for the in the original WCS translations, e.g. due to satellite wobble.  If these changes are not describable with a single WCS object, it may be desirable to break up the N-D sub-cubes of an `NDCubeSequence` into an sequence of sub-cubes with dimension N-1. This would enable a separate WCS object to be associated with each image and hence allow individual pointing adjustments.\n",
    "\n",
    "Rather than manually dividing the datacubes up and deriving the corresponding WCS object for each exposure, `NDCubeSequence` provides a useful method, `explode_along_axis`. To call it, simply provide the number of the data cube axis along which you wish to break up the sub-cubes."
   ]
  },
  {
   "cell_type": "code",
   "execution_count": 119,
   "metadata": {},
   "outputs": [],
   "source": [
    "exploded_sequence = my_sequence.explode_along_axis(0)"
   ]
  },
  {
   "cell_type": "code",
   "execution_count": 120,
   "metadata": {},
   "outputs": [
    {
     "data": {
      "text/plain": [
       "(<Quantity 3. pix>,\n",
       " <Quantity 8. pix>,\n",
       " <Quantity 548. pix>,\n",
       " <Quantity 333. pix>)"
      ]
     },
     "execution_count": 120,
     "metadata": {},
     "output_type": "execute_result"
    }
   ],
   "source": [
    "# Original sequence shape.\n",
    "my_sequence.dimensions"
   ]
  },
  {
   "cell_type": "code",
   "execution_count": 121,
   "metadata": {},
   "outputs": [
    {
     "data": {
      "text/plain": [
       "(<Quantity 24. pix>, <Quantity 548. pix>, <Quantity 333. pix>)"
      ]
     },
     "execution_count": 121,
     "metadata": {},
     "output_type": "execute_result"
    }
   ],
   "source": [
    "# Exploded sequence shape.\n",
    "exploded_sequence.dimensions"
   ]
  },
  {
   "cell_type": "markdown",
   "metadata": {},
   "source": [
    "Note that any cube axis can be input.  A common axis need not be defined."
   ]
  },
  {
   "cell_type": "code",
   "execution_count": null,
   "metadata": {},
   "outputs": [],
   "source": []
  }
 ],
 "metadata": {
  "kernelspec": {
   "display_name": "Python 3",
   "language": "python",
   "name": "python3"
  },
  "language_info": {
   "codemirror_mode": {
    "name": "ipython",
    "version": 3
   },
   "file_extension": ".py",
   "mimetype": "text/x-python",
   "name": "python",
   "nbconvert_exporter": "python",
   "pygments_lexer": "ipython3",
   "version": "3.6.4"
  }
 },
 "nbformat": 4,
 "nbformat_minor": 2
}
