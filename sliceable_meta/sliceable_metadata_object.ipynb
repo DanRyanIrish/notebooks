{
 "cells": [
  {
   "cell_type": "markdown",
   "id": "20810e87",
   "metadata": {},
   "source": [
    "# Demo of a Sliceable Metadata Object"
   ]
  },
  {
   "cell_type": "markdown",
   "id": "3611bea0",
   "metadata": {},
   "source": [
    "This notebook demonstrates a proposed API of a sliceable, generalized metadata object.\n",
    "\n",
    "To run this notebook you need to clone and install the bleeding edge versions of two packages:\n",
    "* ndcube: https://github.com/sunpy/ndcube.git\n",
    "* sunraster: https://github.com/sunpy/sunraster.git\n",
    "\n",
    "Then these packages must be changed to the following branches:\n",
    "* ndcube: meta\n",
    "* sunraster: main"
   ]
  },
  {
   "cell_type": "code",
   "execution_count": 1,
   "id": "2796c2ba",
   "metadata": {},
   "outputs": [],
   "source": [
    "import astropy.units as u\n",
    "from astropy.io import fits\n",
    "from sunraster.instr.spice import SPICEMeta"
   ]
  },
  {
   "cell_type": "code",
   "execution_count": 2,
   "id": "b509a675",
   "metadata": {},
   "outputs": [],
   "source": [
    "SPECTRAL_WINDOW = (\"WINDOW0_74.73\", \"Extension name\")\n",
    "DETECTOR = (\"SW\", \"Detector array name\")\n",
    "INSTRUMENT = (\"SPICE\", \"Instrument name\")\n",
    "OBSERVATORY = (\"Solar Orbiter\", \"Observatory Name\")\n",
    "PROCESSING_LEVEL = (\"L2\", \"Data processing level\")\n",
    "RSUN_METERS = (695700000.0, \"[m]      Assumed  photospheric Solar radius\")\n",
    "RSUN_ANGULAR = (1764.0728936, \"[arcsec] Apparent photospheric Solar radius\")\n",
    "OBSERVING_MODE_ID = (10, \"\")\n",
    "OBSERVATORY_RADIAL_VELOCITY = (\n",
    "    -7036.06122832,\n",
    "    \"[m/s] Radial velocity of S/C away from the Sun\",\n",
    ")\n",
    "DISTANCE_TO_SUN = (81342963151.0, \"[m]  S/C distance from Sun\")\n",
    "DATE_REFERENCE = (\"2020-06-02T07:47:58.017\", \"[UTC] Equals DATE-BEG\")\n",
    "DATE_START = (\"2020-06-02T07:47:58.017\", \"[UTC] Beginning of data acquisition\")\n",
    "DATE_END = (\"2020-06-02T07:47:58.117\", \"[UTC] End of data acquisition\")\n",
    "HGLN_OBS = (35.8382263864, \"[deg] S/C Heliographic longitude\")\n",
    "HGLT_OBS = (4.83881036748, \"[deg] S/C Heliographic latitude (B0 angle)\")\n",
    "SPICE_OBSERVING_MODE_ID = (12583744, \"SPICE Observation ID\")\n",
    "DARKMAP = (0, \"If set, a dark map was subtracted on-board\")\n",
    "BLACKLEV = (0, \"If set, a bias frame was subtracted on-board\")\n",
    "WINDOW_TYPE = (\"Full Detector Narrow-slit\", \"Description of window type\")\n",
    "WINDOW_TABLE_ID = (255, \"Index in on-board window data table (0-255)\")\n",
    "SLIT_ID = (2, \"Slit ID (0-3)\")\n",
    "SLIT_WIDTH = (4, \"[arcsec] Slit width\")\n",
    "DUMBBELL = (0, \"0/1/2: not a dumbbell/lower dumbbel/upper dumbb\")\n",
    "SOLAR_B0 = (4.83881036748, \"[deg] Tilt angle of Solar North toward S/C\")\n",
    "SOLAR_P0 = (1.49702480927, \"[deg] S/C Celestial North to Solar North angle\")\n",
    "SOLAR_EP = (-6.14143491727, \"[deg] S/C Ecliptic  North to Solar North angle\")\n",
    "CARRINGTON_ROTATION_NUMBER = (2231, \"Carrington rotation number\")\n",
    "DATE_START_EARTH = (\"2020-06-02T07:51:52.799\", \"[UTC] DATE-BEG + EAR_TDEL\")\n",
    "DATE_START_SUN = (\"2020-06-02T07:43:26.686\", \"[UTC] DATE-BEG - SUN_TIME\")\n",
    "\n",
    "\n",
    "def spice_fits_header():\n",
    "    hdr = fits.Header()\n",
    "    hdr.append(tuple([\"EXTNAME\"] + list(SPECTRAL_WINDOW)))\n",
    "    hdr.append(tuple([\"DETECTOR\"] + list(DETECTOR)))\n",
    "    hdr.append(tuple([\"INSTRUME\"] + list(INSTRUMENT)))\n",
    "    hdr.append(tuple([\"OBSRVTRY\"] + list(OBSERVATORY)))\n",
    "    hdr.append(tuple([\"LEVEL\"] + list(PROCESSING_LEVEL)))\n",
    "    hdr.append(tuple([\"RSUN_REF\"] + list(RSUN_METERS)))\n",
    "    hdr.append(tuple([\"RSUN_ARC\"] + list(RSUN_ANGULAR)))\n",
    "    hdr.append(tuple([\"OBS_ID\"] + list(OBSERVING_MODE_ID)))\n",
    "    hdr.append(tuple([\"OBS_VR\"] + list(OBSERVATORY_RADIAL_VELOCITY)))\n",
    "    hdr.append(tuple([\"DSUN_OBS\"] + list(DISTANCE_TO_SUN)))\n",
    "    hdr.append(tuple([\"DATE-OBS\"] + list(DATE_REFERENCE)))\n",
    "    hdr.append(tuple([\"DATE-BEG\"] + list(DATE_START)))\n",
    "    hdr.append(tuple([\"DATE-END\"] + list(DATE_END)))\n",
    "    hdr.append(tuple([\"HGLN_OBS\"] + list(HGLN_OBS)))\n",
    "    hdr.append(tuple([\"HGLT_OBS\"] + list(HGLT_OBS)))\n",
    "    hdr.append(tuple([\"SPIOBSID\"] + list(SPICE_OBSERVING_MODE_ID)))\n",
    "    hdr.append(tuple([\"DARKMAP\"] + list(DARKMAP)))\n",
    "    hdr.append(tuple([\"BLACKLEV\"] + list(BLACKLEV)))\n",
    "    hdr.append(tuple([\"WIN_TYPE\"] + list(WINDOW_TYPE)))\n",
    "    hdr.append(tuple([\"WINTABID\"] + list(WINDOW_TABLE_ID)))\n",
    "    hdr.append(tuple([\"SLIT_ID\"] + list(SLIT_ID)))\n",
    "    hdr.append(tuple([\"SLIT_WID\"] + list(SLIT_WIDTH)))\n",
    "    hdr.append(tuple([\"DUMBBELL\"] + list(DUMBBELL)))\n",
    "    hdr.append(tuple([\"SOLAR_B0\"] + list(SOLAR_B0)))\n",
    "    hdr.append(tuple([\"SOLAR_P0\"] + list(SOLAR_P0)))\n",
    "    hdr.append(tuple([\"SOLAR_EP\"] + list(SOLAR_EP)))\n",
    "    hdr.append(tuple([\"CAR_ROT\"] + list(CARRINGTON_ROTATION_NUMBER)))\n",
    "    hdr.append(tuple([\"DATE_EAR\"] + list(DATE_START_EARTH)))\n",
    "    hdr.append(tuple([\"DATE_SUN\"] + list(DATE_START_SUN)))\n",
    "    return hdr\n",
    "\n",
    "def spice_meta(spice_fits_header):\n",
    "    return SPICEMeta(\n",
    "        spice_fits_header,\n",
    "        comments=zip(spice_fits_header.keys(), spice_fits_header.comments),\n",
    "    )"
   ]
  },
  {
   "cell_type": "code",
   "execution_count": 3,
   "id": "9f35d963",
   "metadata": {
    "scrolled": true
   },
   "outputs": [],
   "source": [
    "spice_header = spice_fits_header()"
   ]
  },
  {
   "cell_type": "markdown",
   "id": "3c7f3ebc",
   "metadata": {},
   "source": [
    "## Initialising a Metadata Object"
   ]
  },
  {
   "cell_type": "code",
   "execution_count": 4,
   "id": "68a7298c",
   "metadata": {
    "scrolled": false
   },
   "outputs": [
    {
     "data": {
      "text/plain": [
       "EXTNAME = 'WINDOW0_74.73'      / Extension name                                 \n",
       "DETECTOR= 'SW      '           / Detector array name                            \n",
       "INSTRUME= 'SPICE   '           / Instrument name                                \n",
       "OBSRVTRY= 'Solar Orbiter'      / Observatory Name                               \n",
       "LEVEL   = 'L2      '           / Data processing level                          \n",
       "RSUN_REF=          695700000.0 / [m]      Assumed  photospheric Solar radius    \n",
       "RSUN_ARC=         1764.0728936 / [arcsec] Apparent photospheric Solar radius    \n",
       "OBS_ID  =                   10                                                  \n",
       "OBS_VR  =       -7036.06122832 / [m/s] Radial velocity of S/C away from the Sun \n",
       "DSUN_OBS=        81342963151.0 / [m]  S/C distance from Sun                     \n",
       "DATE-OBS= '2020-06-02T07:47:58.017' / [UTC] Equals DATE-BEG                     \n",
       "DATE-BEG= '2020-06-02T07:47:58.017' / [UTC] Beginning of data acquisition       \n",
       "DATE-END= '2020-06-02T07:47:58.117' / [UTC] End of data acquisition             \n",
       "HGLN_OBS=        35.8382263864 / [deg] S/C Heliographic longitude               \n",
       "HGLT_OBS=        4.83881036748 / [deg] S/C Heliographic latitude (B0 angle)     \n",
       "SPIOBSID=             12583744 / SPICE Observation ID                           \n",
       "DARKMAP =                    0 / If set, a dark map was subtracted on-board     \n",
       "BLACKLEV=                    0 / If set, a bias frame was subtracted on-board   \n",
       "WIN_TYPE= 'Full Detector Narrow-slit' / Description of window type              \n",
       "WINTABID=                  255 / Index in on-board window data table (0-255)    \n",
       "SLIT_ID =                    2 / Slit ID (0-3)                                  \n",
       "SLIT_WID=                    4 / [arcsec] Slit width                            \n",
       "DUMBBELL=                    0 / 0/1/2: not a dumbbell/lower dumbbel/upper dumbb\n",
       "SOLAR_B0=        4.83881036748 / [deg] Tilt angle of Solar North toward S/C     \n",
       "SOLAR_P0=        1.49702480927 / [deg] S/C Celestial North to Solar North angle \n",
       "SOLAR_EP=       -6.14143491727 / [deg] S/C Ecliptic  North to Solar North angle \n",
       "CAR_ROT =                 2231 / Carrington rotation number                     \n",
       "DATE_EAR= '2020-06-02T07:51:52.799' / [UTC] DATE-BEG + EAR_TDEL                 \n",
       "DATE_SUN= '2020-06-02T07:43:26.686' / [UTC] DATE-BEG - SUN_TIME                 "
      ]
     },
     "execution_count": 4,
     "metadata": {},
     "output_type": "execute_result"
    }
   ],
   "source": [
    "spice_header"
   ]
  },
  {
   "cell_type": "code",
   "execution_count": 5,
   "id": "3b0623f2",
   "metadata": {},
   "outputs": [],
   "source": [
    "meta = SPICEMeta(spice_header)"
   ]
  },
  {
   "cell_type": "markdown",
   "id": "757247c5",
   "metadata": {},
   "source": [
    "The metadata object inherits from ```dict```."
   ]
  },
  {
   "cell_type": "code",
   "execution_count": 6,
   "id": "411bf770",
   "metadata": {},
   "outputs": [
    {
     "data": {
      "text/plain": [
       "dict_keys(['EXTNAME', 'DETECTOR', 'INSTRUME', 'OBSRVTRY', 'LEVEL', 'RSUN_REF', 'RSUN_ARC', 'OBS_ID', 'OBS_VR', 'DSUN_OBS', 'DATE-OBS', 'DATE-BEG', 'DATE-END', 'HGLN_OBS', 'HGLT_OBS', 'SPIOBSID', 'DARKMAP', 'BLACKLEV', 'WIN_TYPE', 'WINTABID', 'SLIT_ID', 'SLIT_WID', 'DUMBBELL', 'SOLAR_B0', 'SOLAR_P0', 'SOLAR_EP', 'CAR_ROT', 'DATE_EAR', 'DATE_SUN'])"
      ]
     },
     "execution_count": 6,
     "metadata": {},
     "output_type": "execute_result"
    }
   ],
   "source": [
    "meta.keys()"
   ]
  },
  {
   "cell_type": "code",
   "execution_count": 7,
   "id": "d89b71bd",
   "metadata": {},
   "outputs": [
    {
     "data": {
      "text/plain": [
       "'Solar Orbiter'"
      ]
     },
     "execution_count": 7,
     "metadata": {},
     "output_type": "execute_result"
    }
   ],
   "source": [
    "meta[\"OBSRVTRY\"]"
   ]
  },
  {
   "cell_type": "markdown",
   "id": "ffdf6632",
   "metadata": {},
   "source": [
    "## Include Metadata Comments"
   ]
  },
  {
   "cell_type": "code",
   "execution_count": 8,
   "id": "9d0db7f2",
   "metadata": {},
   "outputs": [],
   "source": [
    "# Create a dictionary of comments with same keys.  Keys can be omitted if no comments associated with that metadata value.\n",
    "comments = dict(zip(spice_header.keys(), spice_header.comments))"
   ]
  },
  {
   "cell_type": "code",
   "execution_count": 9,
   "id": "c7924e0f",
   "metadata": {},
   "outputs": [
    {
     "data": {
      "text/plain": [
       "{'EXTNAME': 'Extension name',\n",
       " 'DETECTOR': 'Detector array name',\n",
       " 'INSTRUME': 'Instrument name',\n",
       " 'OBSRVTRY': 'Observatory Name',\n",
       " 'LEVEL': 'Data processing level',\n",
       " 'RSUN_REF': '[m]      Assumed  photospheric Solar radius',\n",
       " 'RSUN_ARC': '[arcsec] Apparent photospheric Solar radius',\n",
       " 'OBS_ID': '',\n",
       " 'OBS_VR': '[m/s] Radial velocity of S/C away from the Sun',\n",
       " 'DSUN_OBS': '[m]  S/C distance from Sun',\n",
       " 'DATE-OBS': '[UTC] Equals DATE-BEG',\n",
       " 'DATE-BEG': '[UTC] Beginning of data acquisition',\n",
       " 'DATE-END': '[UTC] End of data acquisition',\n",
       " 'HGLN_OBS': '[deg] S/C Heliographic longitude',\n",
       " 'HGLT_OBS': '[deg] S/C Heliographic latitude (B0 angle)',\n",
       " 'SPIOBSID': 'SPICE Observation ID',\n",
       " 'DARKMAP': 'If set, a dark map was subtracted on-board',\n",
       " 'BLACKLEV': 'If set, a bias frame was subtracted on-board',\n",
       " 'WIN_TYPE': 'Description of window type',\n",
       " 'WINTABID': 'Index in on-board window data table (0-255)',\n",
       " 'SLIT_ID': 'Slit ID (0-3)',\n",
       " 'SLIT_WID': '[arcsec] Slit width',\n",
       " 'DUMBBELL': '0/1/2: not a dumbbell/lower dumbbel/upper dumbb',\n",
       " 'SOLAR_B0': '[deg] Tilt angle of Solar North toward S/C',\n",
       " 'SOLAR_P0': '[deg] S/C Celestial North to Solar North angle',\n",
       " 'SOLAR_EP': '[deg] S/C Ecliptic  North to Solar North angle',\n",
       " 'CAR_ROT': 'Carrington rotation number',\n",
       " 'DATE_EAR': '[UTC] DATE-BEG + EAR_TDEL',\n",
       " 'DATE_SUN': '[UTC] DATE-BEG - SUN_TIME'}"
      ]
     },
     "execution_count": 9,
     "metadata": {},
     "output_type": "execute_result"
    }
   ],
   "source": [
    "comments"
   ]
  },
  {
   "cell_type": "code",
   "execution_count": 10,
   "id": "6fa994f2",
   "metadata": {},
   "outputs": [],
   "source": [
    "meta = SPICEMeta(spice_header, comments=comments)"
   ]
  },
  {
   "cell_type": "code",
   "execution_count": 11,
   "id": "85d89929",
   "metadata": {},
   "outputs": [
    {
     "data": {
      "text/plain": [
       "'Observatory Name'"
      ]
     },
     "execution_count": 11,
     "metadata": {},
     "output_type": "execute_result"
    }
   ],
   "source": [
    "meta.comments[\"OBSRVTRY\"]"
   ]
  },
  {
   "cell_type": "markdown",
   "id": "79b680f2",
   "metadata": {},
   "source": [
    "## Key vs. Attribute Access"
   ]
  },
  {
   "cell_type": "markdown",
   "id": "3ca683b8",
   "metadata": {},
   "source": [
    "A hierarchy of Abstract Base Classes define attribute names via which standard/common metadata can be accessed.  This provides:\n",
    "* a reliable API to access metadata between SunPy object of different types\n",
    "* an opportunity to put the metadata into more useful higher level objects."
   ]
  },
  {
   "cell_type": "code",
   "execution_count": 12,
   "id": "bc9d31f4",
   "metadata": {},
   "outputs": [
    {
     "data": {
      "text/plain": [
       "'Solar Orbiter'"
      ]
     },
     "execution_count": 12,
     "metadata": {},
     "output_type": "execute_result"
    }
   ],
   "source": [
    "meta[\"OBSRVTRY\"]"
   ]
  },
  {
   "cell_type": "code",
   "execution_count": 13,
   "id": "61826207",
   "metadata": {},
   "outputs": [
    {
     "data": {
      "text/plain": [
       "'Solar Orbiter'"
      ]
     },
     "execution_count": 13,
     "metadata": {},
     "output_type": "execute_result"
    }
   ],
   "source": [
    "meta.observatory"
   ]
  },
  {
   "cell_type": "code",
   "execution_count": 14,
   "id": "5bfe11cd",
   "metadata": {},
   "outputs": [
    {
     "data": {
      "text/plain": [
       "4.83881036748"
      ]
     },
     "execution_count": 14,
     "metadata": {},
     "output_type": "execute_result"
    }
   ],
   "source": [
    "meta[\"SOLAR_B0\"]"
   ]
  },
  {
   "cell_type": "code",
   "execution_count": 15,
   "id": "f3d3c943",
   "metadata": {},
   "outputs": [
    {
     "data": {
      "text/latex": [
       "$4.8388104 \\; \\mathrm{{}^{\\circ}}$"
      ],
      "text/plain": [
       "<Quantity 4.83881037 deg>"
      ]
     },
     "execution_count": 15,
     "metadata": {},
     "output_type": "execute_result"
    }
   ],
   "source": [
    "meta.solar_B0"
   ]
  },
  {
   "cell_type": "markdown",
   "id": "99b36838",
   "metadata": {},
   "source": [
    "## Defining a Standardised Metadata Label Ecosystem"
   ]
  },
  {
   "cell_type": "markdown",
   "id": "17426d96",
   "metadata": {},
   "source": [
    "* Metadata labels defined by a hierachy of Abstract Base Classes: https://github.com/sunpy/sunraster/blob/45da5c15dae037d1ff9bb5b845d907a342bf2a23/sunraster/meta.py#L76\n",
    "\n",
    "* Most general metadata tags defined at top of hierachy, then metadata tags, for remote sensing instruments, then for data types, e.g. SlitSpectrographs, then specific instruments.\n",
    "\n",
    "* Since metadata is often defined uniquely by each instrument, the mapping between the original header object and the metadata properties is implemented by the instrument-specific metadata object which inherits the ABC that defines the relevant non-instrument-specific metadata tags: https://github.com/sunpy/sunraster/blob/main/sunraster/instr/spice.py#L239"
   ]
  },
  {
   "cell_type": "markdown",
   "id": "79f711a9",
   "metadata": {},
   "source": [
    "## Adding/Amending/Removing Metadata"
   ]
  },
  {
   "cell_type": "markdown",
   "id": "b76249de",
   "metadata": {},
   "source": [
    "Since the Metadata object inherits from ```dict```, we can use the standard ```dict```API for adding/amending/removing and removing metadata\n",
    "```python\n",
    ">>> meta[\"my key\"] = \"hello world\"  # Add new metadata/amend existing metadata\n",
    ">>> del meta[\"my key\"]  # Remove metadata\n",
    "```\n",
    "\n",
    "#### HOWEVER...\n",
    "\n",
    "To ensure housekeeping is handled correctly, a special API is provided and recommended."
   ]
  },
  {
   "cell_type": "markdown",
   "id": "369e2fb4",
   "metadata": {},
   "source": [
    "### Adding Metadata"
   ]
  },
  {
   "cell_type": "code",
   "execution_count": 16,
   "id": "ab3b5d30",
   "metadata": {},
   "outputs": [],
   "source": [
    "# meta.add(name, value, comment)\n",
    "meta.add(\"my key\", \"hello\", \"This new metadata\", None)  # The last arg will be explained later."
   ]
  },
  {
   "cell_type": "code",
   "execution_count": 17,
   "id": "ed446103",
   "metadata": {},
   "outputs": [
    {
     "data": {
      "text/plain": [
       "'hello'"
      ]
     },
     "execution_count": 17,
     "metadata": {},
     "output_type": "execute_result"
    }
   ],
   "source": [
    "meta[\"my key\"]"
   ]
  },
  {
   "cell_type": "code",
   "execution_count": 18,
   "id": "51ec3741",
   "metadata": {},
   "outputs": [
    {
     "data": {
      "text/plain": [
       "'This new metadata'"
      ]
     },
     "execution_count": 18,
     "metadata": {},
     "output_type": "execute_result"
    }
   ],
   "source": [
    "meta.comments[\"my key\"]"
   ]
  },
  {
   "cell_type": "markdown",
   "id": "ff2c7d64",
   "metadata": {},
   "source": [
    "### Amending Metadata"
   ]
  },
  {
   "cell_type": "code",
   "execution_count": 19,
   "id": "173fdd07",
   "metadata": {},
   "outputs": [],
   "source": [
    "meta.add(\"my key\", \"hello world\", \"This amended metadata\", None, overwrite=True)"
   ]
  },
  {
   "cell_type": "code",
   "execution_count": 20,
   "id": "e54e7174",
   "metadata": {},
   "outputs": [
    {
     "data": {
      "text/plain": [
       "'hello world'"
      ]
     },
     "execution_count": 20,
     "metadata": {},
     "output_type": "execute_result"
    }
   ],
   "source": [
    "meta[\"my key\"]"
   ]
  },
  {
   "cell_type": "code",
   "execution_count": 21,
   "id": "ffeaf14c",
   "metadata": {},
   "outputs": [
    {
     "data": {
      "text/plain": [
       "'This amended metadata'"
      ]
     },
     "execution_count": 21,
     "metadata": {},
     "output_type": "execute_result"
    }
   ],
   "source": [
    "meta.comments[\"my key\"]"
   ]
  },
  {
   "cell_type": "markdown",
   "id": "f16aef94",
   "metadata": {},
   "source": [
    "### Removing Metadata"
   ]
  },
  {
   "cell_type": "code",
   "execution_count": 22,
   "id": "c01d6c11",
   "metadata": {},
   "outputs": [],
   "source": [
    "meta.remove(\"my key\")"
   ]
  },
  {
   "cell_type": "code",
   "execution_count": 23,
   "id": "07ac0fe8",
   "metadata": {},
   "outputs": [
    {
     "ename": "KeyError",
     "evalue": "'my key'",
     "output_type": "error",
     "traceback": [
      "\u001b[0;31m---------------------------------------------------------------------------\u001b[0m",
      "\u001b[0;31mKeyError\u001b[0m                                  Traceback (most recent call last)",
      "\u001b[0;32m/tmp/ipykernel_52207/2569741316.py\u001b[0m in \u001b[0;36m<module>\u001b[0;34m\u001b[0m\n\u001b[0;32m----> 1\u001b[0;31m \u001b[0mmeta\u001b[0m\u001b[0;34m[\u001b[0m\u001b[0;34m\"my key\"\u001b[0m\u001b[0;34m]\u001b[0m\u001b[0;34m\u001b[0m\u001b[0;34m\u001b[0m\u001b[0m\n\u001b[0m",
      "\u001b[0;32m~/repos/sunraster/sunraster/extern/meta.py\u001b[0m in \u001b[0;36m__getitem__\u001b[0;34m(self, item)\u001b[0m\n\u001b[1;32m    195\u001b[0m         \u001b[0;31m# If item is single string, slicing is simple.\u001b[0m\u001b[0;34m\u001b[0m\u001b[0;34m\u001b[0m\u001b[0;34m\u001b[0m\u001b[0m\n\u001b[1;32m    196\u001b[0m         \u001b[0;32mif\u001b[0m \u001b[0misinstance\u001b[0m\u001b[0;34m(\u001b[0m\u001b[0mitem\u001b[0m\u001b[0;34m,\u001b[0m \u001b[0mstr\u001b[0m\u001b[0;34m)\u001b[0m\u001b[0;34m:\u001b[0m\u001b[0;34m\u001b[0m\u001b[0;34m\u001b[0m\u001b[0m\n\u001b[0;32m--> 197\u001b[0;31m             \u001b[0;32mreturn\u001b[0m \u001b[0msuper\u001b[0m\u001b[0;34m(\u001b[0m\u001b[0;34m)\u001b[0m\u001b[0;34m.\u001b[0m\u001b[0m__getitem__\u001b[0m\u001b[0;34m(\u001b[0m\u001b[0mitem\u001b[0m\u001b[0;34m)\u001b[0m\u001b[0;34m\u001b[0m\u001b[0;34m\u001b[0m\u001b[0m\n\u001b[0m\u001b[1;32m    198\u001b[0m         \u001b[0;31m# Else, the item is assumed to be a typical slicing item.\u001b[0m\u001b[0;34m\u001b[0m\u001b[0;34m\u001b[0m\u001b[0;34m\u001b[0m\u001b[0m\n\u001b[1;32m    199\u001b[0m         \u001b[0;32melif\u001b[0m \u001b[0mself\u001b[0m\u001b[0;34m.\u001b[0m\u001b[0mshape\u001b[0m \u001b[0;32mis\u001b[0m \u001b[0;32mNone\u001b[0m\u001b[0;34m:\u001b[0m\u001b[0;34m\u001b[0m\u001b[0;34m\u001b[0m\u001b[0m\n",
      "\u001b[0;31mKeyError\u001b[0m: 'my key'"
     ]
    }
   ],
   "source": [
    "meta[\"my key\"]"
   ]
  },
  {
   "cell_type": "markdown",
   "id": "7d2daa7a",
   "metadata": {},
   "source": [
    "### Restoring Removed Metadata from Original Header"
   ]
  },
  {
   "cell_type": "markdown",
   "id": "6329a9c4",
   "metadata": {},
   "source": [
    "A copy of the original header object is kept at ```self.original_header``` and is never changed.  This allows altered or removed metadata to be restored:"
   ]
  },
  {
   "cell_type": "code",
   "execution_count": 24,
   "id": "79b4919d",
   "metadata": {},
   "outputs": [],
   "source": [
    "meta.remove(\"DATE-END\")"
   ]
  },
  {
   "cell_type": "code",
   "execution_count": 25,
   "id": "99be9feb",
   "metadata": {},
   "outputs": [
    {
     "ename": "KeyError",
     "evalue": "'DATE-END'",
     "output_type": "error",
     "traceback": [
      "\u001b[0;31m---------------------------------------------------------------------------\u001b[0m",
      "\u001b[0;31mKeyError\u001b[0m                                  Traceback (most recent call last)",
      "\u001b[0;32m/tmp/ipykernel_52207/3529957145.py\u001b[0m in \u001b[0;36m<module>\u001b[0;34m\u001b[0m\n\u001b[0;32m----> 1\u001b[0;31m \u001b[0mmeta\u001b[0m\u001b[0;34m[\u001b[0m\u001b[0;34m\"DATE-END\"\u001b[0m\u001b[0;34m]\u001b[0m\u001b[0;34m\u001b[0m\u001b[0;34m\u001b[0m\u001b[0m\n\u001b[0m",
      "\u001b[0;32m~/repos/sunraster/sunraster/extern/meta.py\u001b[0m in \u001b[0;36m__getitem__\u001b[0;34m(self, item)\u001b[0m\n\u001b[1;32m    195\u001b[0m         \u001b[0;31m# If item is single string, slicing is simple.\u001b[0m\u001b[0;34m\u001b[0m\u001b[0;34m\u001b[0m\u001b[0;34m\u001b[0m\u001b[0m\n\u001b[1;32m    196\u001b[0m         \u001b[0;32mif\u001b[0m \u001b[0misinstance\u001b[0m\u001b[0;34m(\u001b[0m\u001b[0mitem\u001b[0m\u001b[0;34m,\u001b[0m \u001b[0mstr\u001b[0m\u001b[0;34m)\u001b[0m\u001b[0;34m:\u001b[0m\u001b[0;34m\u001b[0m\u001b[0;34m\u001b[0m\u001b[0m\n\u001b[0;32m--> 197\u001b[0;31m             \u001b[0;32mreturn\u001b[0m \u001b[0msuper\u001b[0m\u001b[0;34m(\u001b[0m\u001b[0;34m)\u001b[0m\u001b[0;34m.\u001b[0m\u001b[0m__getitem__\u001b[0m\u001b[0;34m(\u001b[0m\u001b[0mitem\u001b[0m\u001b[0;34m)\u001b[0m\u001b[0;34m\u001b[0m\u001b[0;34m\u001b[0m\u001b[0m\n\u001b[0m\u001b[1;32m    198\u001b[0m         \u001b[0;31m# Else, the item is assumed to be a typical slicing item.\u001b[0m\u001b[0;34m\u001b[0m\u001b[0;34m\u001b[0m\u001b[0;34m\u001b[0m\u001b[0m\n\u001b[1;32m    199\u001b[0m         \u001b[0;32melif\u001b[0m \u001b[0mself\u001b[0m\u001b[0;34m.\u001b[0m\u001b[0mshape\u001b[0m \u001b[0;32mis\u001b[0m \u001b[0;32mNone\u001b[0m\u001b[0;34m:\u001b[0m\u001b[0;34m\u001b[0m\u001b[0;34m\u001b[0m\u001b[0m\n",
      "\u001b[0;31mKeyError\u001b[0m: 'DATE-END'"
     ]
    }
   ],
   "source": [
    "meta[\"DATE-END\"]"
   ]
  },
  {
   "cell_type": "code",
   "execution_count": 26,
   "id": "bc189fcb",
   "metadata": {},
   "outputs": [
    {
     "data": {
      "text/plain": [
       "'[UTC] End of data acquisition'"
      ]
     },
     "execution_count": 26,
     "metadata": {},
     "output_type": "execute_result"
    }
   ],
   "source": [
    "meta.original_header.comments[\"DATE-END\"]"
   ]
  },
  {
   "cell_type": "code",
   "execution_count": 27,
   "id": "2bdc2bae",
   "metadata": {},
   "outputs": [],
   "source": [
    "meta.add(\"DATE-END\", meta.original_header[\"DATE-END\"], meta.original_header.comments[\"DATE-END\"], None)"
   ]
  },
  {
   "cell_type": "code",
   "execution_count": 28,
   "id": "9feb8b56",
   "metadata": {},
   "outputs": [
    {
     "data": {
      "text/plain": [
       "'2020-06-02T07:47:58.117'"
      ]
     },
     "execution_count": 28,
     "metadata": {},
     "output_type": "execute_result"
    }
   ],
   "source": [
    "meta[\"DATE-END\"]"
   ]
  },
  {
   "cell_type": "markdown",
   "id": "c7e23ca5",
   "metadata": {},
   "source": [
    "**The original header is always available**"
   ]
  },
  {
   "cell_type": "markdown",
   "id": "bd7a82ab",
   "metadata": {},
   "source": [
    "## Axis-dependent Metadata"
   ]
  },
  {
   "cell_type": "markdown",
   "id": "ad9f3530",
   "metadata": {},
   "source": [
    "Sometimes metadata varies along an axis, e.g. exposure time along the time axis.  Axis-dependent metadata can be added by assigning it to an axis/axes.  It must have the same length/shape as the axes its assigned to.\n",
    "\n",
    "But first, we have define the data shape whne we initialise the metadata object:"
   ]
  },
  {
   "cell_type": "code",
   "execution_count": 29,
   "id": "cb523dcb",
   "metadata": {},
   "outputs": [],
   "source": [
    "meta = SPICEMeta(spice_header, comments=comments, data_shape=(3,4))"
   ]
  },
  {
   "cell_type": "code",
   "execution_count": 30,
   "id": "4e14c48c",
   "metadata": {},
   "outputs": [
    {
     "data": {
      "text/plain": [
       "array([3, 4])"
      ]
     },
     "execution_count": 30,
     "metadata": {},
     "output_type": "execute_result"
    }
   ],
   "source": [
    "meta.shape"
   ]
  },
  {
   "cell_type": "code",
   "execution_count": 31,
   "id": "410d4bd2",
   "metadata": {},
   "outputs": [],
   "source": [
    "exposure_time = [2, 0.5, 2] * u.s"
   ]
  },
  {
   "cell_type": "code",
   "execution_count": 32,
   "id": "c59e03ff",
   "metadata": {},
   "outputs": [],
   "source": [
    "# meta.add(name, value, comment, axes)\n",
    "meta.add(\"exposure time\", exposure_time, None, 0)  ## The last arg defines the axes with which the metadata is associated!"
   ]
  },
  {
   "cell_type": "code",
   "execution_count": 33,
   "id": "73b92f95",
   "metadata": {},
   "outputs": [
    {
     "data": {
      "text/latex": [
       "$[2,~0.5,~2] \\; \\mathrm{s}$"
      ],
      "text/plain": [
       "<Quantity [2. , 0.5, 2. ] s>"
      ]
     },
     "execution_count": 33,
     "metadata": {},
     "output_type": "execute_result"
    }
   ],
   "source": [
    "meta[\"exposure time\"]"
   ]
  },
  {
   "cell_type": "code",
   "execution_count": 34,
   "id": "9a23341e",
   "metadata": {},
   "outputs": [
    {
     "data": {
      "text/plain": [
       "{'exposure time': array([0])}"
      ]
     },
     "execution_count": 34,
     "metadata": {},
     "output_type": "execute_result"
    }
   ],
   "source": [
    "meta.axes"
   ]
  },
  {
   "cell_type": "markdown",
   "id": "fd7195ac",
   "metadata": {},
   "source": [
    "## Slicing a Metadata Object"
   ]
  },
  {
   "cell_type": "code",
   "execution_count": 35,
   "id": "5a9c5e52",
   "metadata": {},
   "outputs": [],
   "source": [
    "sliced_meta = meta[:2, 1:4]"
   ]
  },
  {
   "cell_type": "code",
   "execution_count": 36,
   "id": "f41de1e0",
   "metadata": {},
   "outputs": [
    {
     "data": {
      "text/latex": [
       "$[2,~0.5] \\; \\mathrm{s}$"
      ],
      "text/plain": [
       "<Quantity [2. , 0.5] s>"
      ]
     },
     "execution_count": 36,
     "metadata": {},
     "output_type": "execute_result"
    }
   ],
   "source": [
    "sliced_meta[\"exposure time\"]"
   ]
  },
  {
   "cell_type": "code",
   "execution_count": 37,
   "id": "fae042b5",
   "metadata": {},
   "outputs": [
    {
     "data": {
      "text/plain": [
       "array([2, 3])"
      ]
     },
     "execution_count": 37,
     "metadata": {},
     "output_type": "execute_result"
    }
   ],
   "source": [
    "sliced_meta.shape"
   ]
  },
  {
   "cell_type": "markdown",
   "id": "4e3fb981",
   "metadata": {},
   "source": [
    "## Proposed Application in SunPy, e.g. Map"
   ]
  },
  {
   "cell_type": "markdown",
   "id": "fed219af",
   "metadata": {},
   "source": [
    "* All SunPy objects store a Metadata objet at self.meta, even if it defaults to empty.\n",
    "* All convenience properties be moved into the Map API to the self.meta level, e.g.\n",
    "\n",
    "**Now**:\n",
    "```python\n",
    ">>> my_map.detector\n",
    "'AIA'\n",
    "```\n",
    "\n",
    "**Proposed**:\n",
    "```python\n",
    ">>> my_map.meta.detector\n",
    "'AIA'\n",
    "```\n",
    "\n",
    " and\n",
    " ```python\n",
    ">>> my_map.meta[\"detector\"]\n",
    " 'AIA'\n",
    "```"
   ]
  },
  {
   "cell_type": "markdown",
   "id": "47699fb4",
   "metadata": {},
   "source": [
    "## Other Possible Capabilities"
   ]
  },
  {
   "cell_type": "markdown",
   "id": "39703d51",
   "metadata": {},
   "source": [
    "* A way to mark metadata attributes as stale, e.g. DATAMEAN once data has been changed by an operation.\n",
    "* ...?"
   ]
  },
  {
   "cell_type": "code",
   "execution_count": null,
   "id": "1e85fdfc",
   "metadata": {},
   "outputs": [],
   "source": []
  }
 ],
 "metadata": {
  "kernelspec": {
   "display_name": "Python 3 (ipykernel)",
   "language": "python",
   "name": "python3"
  },
  "language_info": {
   "codemirror_mode": {
    "name": "ipython",
    "version": 3
   },
   "file_extension": ".py",
   "mimetype": "text/x-python",
   "name": "python",
   "nbconvert_exporter": "python",
   "pygments_lexer": "ipython3",
   "version": "3.8.12"
  }
 },
 "nbformat": 4,
 "nbformat_minor": 5
}
