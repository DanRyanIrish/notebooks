{
 "cells": [
  {
   "cell_type": "markdown",
   "metadata": {},
   "source": [
    "# A Demonstration as NDCube as SunPy Map"
   ]
  },
  {
   "cell_type": "markdown",
   "metadata": {},
   "source": [
    "This notebook shows how you would use `NDCube` from `ndcube 2.0` to perform some of the same tasks as sunpy map.  It is divided into four sections."
   ]
  },
  {
   "cell_type": "markdown",
   "metadata": {},
   "source": [
    "## Introductory Information"
   ]
  },
  {
   "cell_type": "markdown",
   "metadata": {},
   "source": [
    "### Scope of this Notebook\n",
    "\n",
    "The `ndcube` package has 3 main data classes: `NDCube` for single data arrays described by a single set of WCS transformations; `NDCubeSequence` for handling an ordered sequence of `NDCube` objects; and `NDCollection` for handling an unordered collection of `NDCube` or `NDCubeSequence` objects.  This notebook will focus on the `NDCube` and its comparison to `sunpy.map.Map`.  To learn more about all these data classes, see the ndcube docs: https://docs.sunpy.org/projects/ndcube/en/latest/data_classes.html"
   ]
  },
  {
   "cell_type": "markdown",
   "metadata": {},
   "source": [
    "### Generalization of this Demo\n",
    "\n",
    "While this notebook focuses on image data, all features demonstrated here are agnostic to the physical type.  This means that it should work equally well with **spectral, polarization, temporal, celestial**, or any other type of data so long its described by a valid (APE-14) WCS object."
   ]
  },
  {
   "cell_type": "markdown",
   "metadata": {},
   "source": [
    "### Layout of this Notebook\n",
    "\n",
    "#### Equivalent Functionalities\n",
    "We will demonstrate how to perform the following equivalent functionalities in both `Map` and `NDCube`:\n",
    "* Instantiating\n",
    "* Accessing the data\n",
    "* Plotting\n",
    "* Cropping/Submapping\n",
    "\n",
    "#### Extending to Higher Dimensions\n",
    "We will show how NDCube allows the data to be extended to higher dimensions by creating a 3-D cube of representing 4 images described by a single WCS.  We will then\n",
    "* Animating\n",
    "* Cropping\n",
    "\n",
    "#### Extra Functionalities Provided by NDCube\n",
    "This section introduces\n",
    "* Slicing\n",
    "* Retrieving Coordinates\n",
    "* `.global_coords`: enabling scalar coordinates, associated with the cube as a whole rather than any array axis, to be attached to the `NDCube`.\n",
    "* `.extra_coords`: enabling additional coordinates not described by the primary WCS to be associated with array axes.\n",
    "\n",
    "#### Functionalities Not Supported by ndcube\n",
    "These are divided into two groups: those that will be supported in ndcube 2.0 but will be in later versions; those that do not intend to ever be supported."
   ]
  },
  {
   "cell_type": "markdown",
   "metadata": {},
   "source": [
    "## Installation\n",
    "\n",
    "This notebook requires the beta version of ndcube 2.0.  To install, do\n",
    "\n",
    "```pip install --pre ndcube```"
   ]
  },
  {
   "cell_type": "markdown",
   "metadata": {},
   "source": [
    "## Known Bugs\n",
    "\n",
    "* `NDCube.axis_world_coords()` breaks when there are only two dimensions that are coupled, e.g. for a 2-D Map.  This will be fixed by the release of 2.0."
   ]
  },
  {
   "cell_type": "markdown",
   "metadata": {},
   "source": [
    "# Demo"
   ]
  },
  {
   "cell_type": "code",
   "execution_count": null,
   "metadata": {},
   "outputs": [],
   "source": [
    "import astropy.units as u\n",
    "import astropy.wcs\n",
    "import matplotlib.colors as colors\n",
    "import matplotlib.pyplot as plt\n",
    "import numpy as np\n",
    "import sunpy.data.sample\n",
    "import sunpy.map\n",
    "from astropy.coordinates import SkyCoord, SpectralCoord\n",
    "from astropy.time import Time\n",
    "from astropy.visualization.wcsaxes import WCSAxes\n",
    "\n",
    "from ndcube import NDCube, GlobalCoords, ExtraCoords"
   ]
  },
  {
   "cell_type": "code",
   "execution_count": null,
   "metadata": {},
   "outputs": [],
   "source": [
    "#%matplotlib notebook"
   ]
  },
  {
   "cell_type": "code",
   "execution_count": null,
   "metadata": {},
   "outputs": [],
   "source": [
    "# A bug was found in NDCube.axis_world_coords, specifically for 2-D cubes with dependent axes, i.e. a Map!\n",
    "# Build a function to mimic its behavior for a 2-D celestial cube.\n",
    "# The bug will be fixed by the release of 2.0.\n",
    "\n",
    "import numbers\n",
    "import astropy.wcs\n",
    "\n",
    "def cube_axis_world_coords(*axes, edges=False, wcs=None):\n",
    "    \"\"\"Mimics behavior of NDCube.axis_world_coords.\n",
    "    \n",
    "    Necessary because a bug in NDCube.axis_world_coords has recently been found.\n",
    "    This function will demonstrate the expected working behaviour.\"\"\"\n",
    "    for axis in axes:\n",
    "        if not (axis == 0 or axis == 1 or axis in cube.wcs.world_axis_physical_types[0] or \n",
    "                axis in cube.wcs.world_axis_physical_types[1]):\n",
    "            raise ValueError(f\"axes argument not recognized: {axis}\")\n",
    "    coords_values = cube.axis_world_coords_values(edges=edges, wcs=wcs)\n",
    "    tx = coords_values.custom_pos_helioprojective_lon\n",
    "    ty = coords_values.custom_pos_helioprojective_lat\n",
    "    frame = astropy.wcs.utils.wcs_to_celestial_frame(cube.wcs)\n",
    "    return SkyCoord(Tx=coords_values.custom_pos_helioprojective_lon,\n",
    "                    Ty=coords_values.custom_pos_helioprojective_lat,\n",
    "                    frame=frame)"
   ]
  },
  {
   "cell_type": "markdown",
   "metadata": {},
   "source": [
    "## Equivalent Functionalities"
   ]
  },
  {
   "cell_type": "markdown",
   "metadata": {},
   "source": [
    "### Instantiating a Map and NDCube"
   ]
  },
  {
   "cell_type": "code",
   "execution_count": null,
   "metadata": {},
   "outputs": [],
   "source": [
    "filename = sunpy.data.sample.AIA_171_IMAGE\n",
    "filename"
   ]
  },
  {
   "cell_type": "code",
   "execution_count": null,
   "metadata": {},
   "outputs": [],
   "source": [
    "# Define AIA Map from FITS file.\n",
    "aia_map = sunpy.map.Map(filename)"
   ]
  },
  {
   "cell_type": "code",
   "execution_count": null,
   "metadata": {},
   "outputs": [],
   "source": [
    "# Create data array and WCS object from FITS file.\n",
    "with astropy.io.fits.open(filename) as hdulist:\n",
    "    data = hdulist[1].data\n",
    "    wcs = astropy.wcs.WCS(hdulist[1].header)\n",
    "\n",
    "# Instantiate NDCube using data array and WCS.\n",
    "cube = NDCube(data=data, wcs=wcs, unit=u.ct)"
   ]
  },
  {
   "cell_type": "code",
   "execution_count": null,
   "metadata": {},
   "outputs": [],
   "source": [
    "cube.unit"
   ]
  },
  {
   "cell_type": "markdown",
   "metadata": {},
   "source": [
    "### Getting at the Data"
   ]
  },
  {
   "cell_type": "markdown",
   "metadata": {},
   "source": [
    "#### Data"
   ]
  },
  {
   "cell_type": "markdown",
   "metadata": {},
   "source": [
    "Both `NDCube` and `Map` store the data array at `.data` and the data mask at `.mask`.  Although as we did not instantiate the Map or NDCube with a mask, they will be `None` in this example."
   ]
  },
  {
   "cell_type": "code",
   "execution_count": null,
   "metadata": {},
   "outputs": [],
   "source": [
    "aia_map.data"
   ]
  },
  {
   "cell_type": "code",
   "execution_count": null,
   "metadata": {},
   "outputs": [],
   "source": [
    "cube.data"
   ]
  },
  {
   "cell_type": "code",
   "execution_count": null,
   "metadata": {},
   "outputs": [],
   "source": [
    "aia_map.wcs"
   ]
  },
  {
   "cell_type": "code",
   "execution_count": null,
   "metadata": {},
   "outputs": [],
   "source": [
    "cube.wcs"
   ]
  },
  {
   "cell_type": "code",
   "execution_count": null,
   "metadata": {},
   "outputs": [],
   "source": [
    "aia_map.mask, cube.mask"
   ]
  },
  {
   "cell_type": "markdown",
   "metadata": {},
   "source": [
    "`NDCube` also allows you to attach an uncertainty array giving the uncertainty for each pixel.  In this case however, we did not instantiate `cube` with an uncertainty array and so it is `None`."
   ]
  },
  {
   "cell_type": "code",
   "execution_count": null,
   "metadata": {},
   "outputs": [],
   "source": [
    "cube.uncertainty"
   ]
  },
  {
   "cell_type": "markdown",
   "metadata": {},
   "source": [
    "#### Dimensions"
   ]
  },
  {
   "cell_type": "markdown",
   "metadata": {},
   "source": [
    "Inspecting the number and length of data dimensions is the same for `Map` and `NDCube`.  The only difference is `Map` returns a `PixelPair` in `x` and `y`.  Because `NDCube` can handle any number of dimensions, it returns a `Quantity` in pixel units."
   ]
  },
  {
   "cell_type": "code",
   "execution_count": null,
   "metadata": {},
   "outputs": [],
   "source": [
    "aia_map.dimensions"
   ]
  },
  {
   "cell_type": "code",
   "execution_count": null,
   "metadata": {},
   "outputs": [],
   "source": [
    "cube.dimensions, cube.data.shape"
   ]
  },
  {
   "cell_type": "markdown",
   "metadata": {},
   "source": [
    "The dimensions are order in array order, i.e. `cube.dimensions == cube.data.shape` and vice versa."
   ]
  },
  {
   "cell_type": "markdown",
   "metadata": {},
   "source": [
    "#### Physical Types"
   ]
  },
  {
   "cell_type": "markdown",
   "metadata": {},
   "source": [
    "The `.array_axis_physical_types` property gives the physical types associated with each array axis.  Because more than one physical type can be associated with an array axis, this property returns as a `list` of `tuple`s where each `tuple` contains strings of the associated physical types.  The ordering is the same as the data array axis ordering.  So the first `tuple` corresponds to the first data array axis, and so on."
   ]
  },
  {
   "cell_type": "code",
   "execution_count": null,
   "metadata": {},
   "outputs": [],
   "source": [
    "cube.array_axis_physical_types"
   ]
  },
  {
   "cell_type": "markdown",
   "metadata": {},
   "source": [
    "### Plotting"
   ]
  },
  {
   "cell_type": "markdown",
   "metadata": {},
   "source": [
    "The plotting functionality is written as a mixin class.  This means it's possible to replace the plotting suite with your own.  Nonetheless, NDCube has its own default plotting suite which we will briefly discuss here."
   ]
  },
  {
   "cell_type": "markdown",
   "metadata": {},
   "source": [
    "#### 2-D Image Plots"
   ]
  },
  {
   "cell_type": "markdown",
   "metadata": {},
   "source": [
    "For 2-D static images, the plotting API between `Map` and `NDCube` are almost the same.  However, `NDCube` does not do any scaling or prettifying based on the metadata."
   ]
  },
  {
   "cell_type": "code",
   "execution_count": null,
   "metadata": {},
   "outputs": [],
   "source": [
    "ax_map = aia_map.plot(norm=colors.LogNorm())"
   ]
  },
  {
   "cell_type": "code",
   "execution_count": null,
   "metadata": {},
   "outputs": [],
   "source": [
    "ax_cube = cube.plot(norm=colors.LogNorm())"
   ]
  },
  {
   "cell_type": "code",
   "execution_count": null,
   "metadata": {},
   "outputs": [],
   "source": [
    "# Get AIA 171 color map\n",
    "cmap_aia171 = plt.get_cmap('sdoaia171')\n",
    "\n",
    "ax_cube = cube.plot(norm=colors.LogNorm(), cmap=cmap_aia171)"
   ]
  },
  {
   "cell_type": "markdown",
   "metadata": {},
   "source": [
    "The biggest different here is that `Map.plot` returns an `AxesImage` object while `NDCube.plot` returns a `WCSAxes` object."
   ]
  },
  {
   "cell_type": "code",
   "execution_count": null,
   "metadata": {},
   "outputs": [],
   "source": [
    "# Returned types:\n",
    "print(type(ax_map), type(ax_cube))"
   ]
  },
  {
   "cell_type": "markdown",
   "metadata": {},
   "source": [
    "However the `AxesImage` object can still easily by retrieved."
   ]
  },
  {
   "cell_type": "code",
   "execution_count": null,
   "metadata": {},
   "outputs": [],
   "source": [
    "# AxesImage can be retrieved from NDCube.plot output.\n",
    "axes_image = ax_cube.get_images()[0]\n",
    "type(axes_image)"
   ]
  },
  {
   "cell_type": "markdown",
   "metadata": {},
   "source": [
    "### Submap vs. Cropping"
   ]
  },
  {
   "cell_type": "markdown",
   "metadata": {},
   "source": [
    "`NDCube`'s equivalent method to `Map.subplot` is `.crop`.  The APIs are almost same API.  The only difference is that the coordinate objects must be wrapped in a `tuple` for `NDCube.crop`.  This is because multiple high level coordinate objects may be required by `NDCube.crop`.  For example, is the `cube` is space-space-time, a `SkyCoord` and a `Time` object will be needed to describe each corner in real world coordinates."
   ]
  },
  {
   "cell_type": "code",
   "execution_count": null,
   "metadata": {},
   "outputs": [],
   "source": [
    "bottom_left_skycoord = SkyCoord(Tx=-900 * u.arcsec, Ty=-900 * u.arcsec, frame=aia_map.coordinate_frame)\n",
    "top_right_skycoord = SkyCoord(Tx=0 * u.arcsec, Ty=-200 * u.arcsec, frame=aia_map.coordinate_frame)\n",
    "\n",
    "aia_submap = aia_map.submap(bottom_left_skycoord, top_right=top_right_skycoord)"
   ]
  },
  {
   "cell_type": "code",
   "execution_count": null,
   "metadata": {},
   "outputs": [],
   "source": [
    "aia_submap.plot()"
   ]
  },
  {
   "cell_type": "code",
   "execution_count": null,
   "metadata": {},
   "outputs": [],
   "source": [
    "# Almost same API as submap, except high level coordinate objects must be wrapped in tuples.\n",
    "# See below for explanation.\n",
    "cropped_cube = cube.crop((bottom_left_skycoord,), (top_right_skycoord,))"
   ]
  },
  {
   "cell_type": "markdown",
   "metadata": {},
   "source": [
    "Currently the `SkyCoord`s have to wrapped in a `tuple` because more than one coordinate object may be required to define each corner, e.g. if there is also a spectral axis.  However, before 2.0 is released, this will be relaxed for cases where only one coordinate object is needed, e.g. in the case of `Map`.  In the above case, the API would become the same as `Map`."
   ]
  },
  {
   "cell_type": "code",
   "execution_count": null,
   "metadata": {},
   "outputs": [],
   "source": [
    "cropped_cube.plot(norm=colors.LogNorm(), cmap=cmap_aia171)"
   ]
  },
  {
   "cell_type": "markdown",
   "metadata": {},
   "source": [
    "## Extending to Higher Dimensions with NDCube"
   ]
  },
  {
   "cell_type": "code",
   "execution_count": null,
   "metadata": {},
   "outputs": [],
   "source": [
    "# Define data cube for 4 images.\n",
    "fluctuations_lims = (-1, 1)\n",
    "data3d = np.zeros(tuple([4] + list(data.shape)))\n",
    "data3d[0] = aia_map.data\n",
    "data3d[1] = aia_map.data * (1 + np.random.uniform(*fluctuations_lims, aia_map.data.shape))\n",
    "data3d[2] = aia_map.data * (1 + np.random.uniform(*fluctuations_lims, aia_map.data.shape))\n",
    "data3d[3] = aia_map.data * (1 + np.random.uniform(*fluctuations_lims, aia_map.data.shape))\n",
    "\n",
    "# Generate WCS for data cube using same WCS celestial information from AIA map.\n",
    "wcs_header = wcs.to_header()\n",
    "wcs_header[\"WCSAXES\"] = 3\n",
    "wcs_header[\"CRPIX3\"] = 4\n",
    "wcs_header[\"CDELT3\"] = 12\n",
    "wcs_header[\"CUNIT3\"] = 's'\n",
    "wcs_header[\"CTYPE3\"] = \"TIME\"\n",
    "wcs_header[\"CRVAL3\"] = 0.\n",
    "wcs_header[\"CRPIX3\"] = 0\n",
    "wcs_header[\"MJDREF\"] = wcs_header[\"MJD-OBS\"]\n",
    "wcs3d = astropy.wcs.WCS(wcs_header)\n",
    "\n",
    "# Generate NDCube\n",
    "cube3d = NDCube(data=data3d, wcs=wcs3d)"
   ]
  },
  {
   "cell_type": "code",
   "execution_count": null,
   "metadata": {},
   "outputs": [],
   "source": [
    "cube3d.dimensions"
   ]
  },
  {
   "cell_type": "code",
   "execution_count": null,
   "metadata": {},
   "outputs": [],
   "source": [
    "cube3d.array_axis_physical_types"
   ]
  },
  {
   "cell_type": "markdown",
   "metadata": {},
   "source": [
    "### Animating"
   ]
  },
  {
   "cell_type": "code",
   "execution_count": null,
   "metadata": {},
   "outputs": [],
   "source": [
    "cube3d.plot(norm=colors.LogNorm(), cmap=cmap_aia171)"
   ]
  },
  {
   "cell_type": "code",
   "execution_count": null,
   "metadata": {},
   "outputs": [],
   "source": [
    "cube3d.plot(plot_axes=['x', 'y', None], aspect=\"auto\", norm=colors.LogNorm(), cmap=cmap_aia171)"
   ]
  },
  {
   "cell_type": "code",
   "execution_count": null,
   "metadata": {},
   "outputs": [],
   "source": [
    "cube3d.plot(plot_axes=[None, None, 'x'])"
   ]
  },
  {
   "cell_type": "markdown",
   "metadata": {},
   "source": [
    "### Cropping"
   ]
  },
  {
   "cell_type": "markdown",
   "metadata": {},
   "source": [
    "Now that we have a time dimension we need a `SkyCoord` and a `Time` object to define each corner when using `NDCube.crop`."
   ]
  },
  {
   "cell_type": "code",
   "execution_count": null,
   "metadata": {},
   "outputs": [],
   "source": [
    "time_range = Time(['2011-06-07T06:33:25', '2011-06-07T06:33:40'], format=\"fits\")"
   ]
  },
  {
   "cell_type": "markdown",
   "metadata": {},
   "source": [
    "Crop the cube using SkyCoords and Time objects.  Each `corner` input must be a `tuple` or `list` and the coordinate objects within them must be entered in `WORLD ORDER`, i.e. the same order given by:"
   ]
  },
  {
   "cell_type": "markdown",
   "metadata": {},
   "source": [
    "So in our case the order should be `(SkyCoord, Time)`.  Let's crop."
   ]
  },
  {
   "cell_type": "code",
   "execution_count": null,
   "metadata": {},
   "outputs": [],
   "source": [
    "lower_corner = (bottom_left_skycoord, time_range[0])\n",
    "upper_corner = (top_right_skycoord, time_range[-1])\n",
    "\n",
    "cropped3d = cube3d.crop(lower_corner, upper_corner)\n",
    "cropped3d"
   ]
  },
  {
   "cell_type": "code",
   "execution_count": null,
   "metadata": {},
   "outputs": [],
   "source": [
    "cropped3d.plot(norm=colors.LogNorm(), cmap=cmap_aia171)"
   ]
  },
  {
   "cell_type": "code",
   "execution_count": null,
   "metadata": {},
   "outputs": [],
   "source": [
    "cube3d.wcs.world_axis_object_classes.keys()"
   ]
  },
  {
   "cell_type": "code",
   "execution_count": null,
   "metadata": {},
   "outputs": [],
   "source": [
    "cube3d.wcs"
   ]
  },
  {
   "cell_type": "markdown",
   "metadata": {},
   "source": [
    "If you don't want to crop an axis, you can enter `None` instead of a coordinate object.  Let's say we only want to crop by time:"
   ]
  },
  {
   "cell_type": "code",
   "execution_count": null,
   "metadata": {},
   "outputs": [],
   "source": [
    "cropped3d = cube3d.crop((None, time_range[0]), (None, time_range[-1]))\n",
    "cropped3d"
   ]
  },
  {
   "cell_type": "markdown",
   "metadata": {},
   "source": [
    "## Extra Functionalities Provided by NDCube"
   ]
  },
  {
   "cell_type": "markdown",
   "metadata": {},
   "source": [
    "### Slicing"
   ]
  },
  {
   "cell_type": "markdown",
   "metadata": {},
   "source": [
    "NDCube also allows slicing by array indices using the standard slicing API."
   ]
  },
  {
   "cell_type": "code",
   "execution_count": null,
   "metadata": {},
   "outputs": [],
   "source": [
    "cube.dimensions"
   ]
  },
  {
   "cell_type": "code",
   "execution_count": null,
   "metadata": {},
   "outputs": [],
   "source": [
    "sliced_cube = cube[512:1000, 24:512]"
   ]
  },
  {
   "cell_type": "code",
   "execution_count": null,
   "metadata": {},
   "outputs": [],
   "source": [
    "sliced_cube.dimensions"
   ]
  },
  {
   "cell_type": "code",
   "execution_count": null,
   "metadata": {},
   "outputs": [],
   "source": [
    "sliced_cube.plot(norm=colors.LogNorm(), cmap=cmap_aia171)"
   ]
  },
  {
   "cell_type": "code",
   "execution_count": null,
   "metadata": {},
   "outputs": [],
   "source": [
    "cube3d[:, 512:1000, 24:512]"
   ]
  },
  {
   "cell_type": "markdown",
   "metadata": {},
   "source": [
    "#### Reducing Dimensionality"
   ]
  },
  {
   "cell_type": "markdown",
   "metadata": {},
   "source": [
    "Slicing reduces the dimensionality of an `NDCube` if an axis is indexed with an `int`."
   ]
  },
  {
   "cell_type": "code",
   "execution_count": null,
   "metadata": {},
   "outputs": [],
   "source": [
    "cube1d = cube[512]\n",
    "cube1d"
   ]
  },
  {
   "cell_type": "markdown",
   "metadata": {},
   "source": [
    "Note there is now only 1 dimension.  This will cause the `.plot` method to produce a line plot."
   ]
  },
  {
   "cell_type": "code",
   "execution_count": null,
   "metadata": {},
   "outputs": [],
   "source": [
    "cube1d.plot()"
   ]
  },
  {
   "cell_type": "markdown",
   "metadata": {},
   "source": [
    "### Retrieving Coordinates"
   ]
  },
  {
   "cell_type": "markdown",
   "metadata": {},
   "source": [
    "Now `NDCube.axis_world_coords` will return a `SkyCoord` and a `Time` object and the WCS contains celestial and temporal components."
   ]
  },
  {
   "cell_type": "code",
   "execution_count": null,
   "metadata": {},
   "outputs": [],
   "source": [
    "cube3d.axis_world_coords()"
   ]
  },
  {
   "cell_type": "markdown",
   "metadata": {},
   "source": [
    "If you only want the temporal coordinates, you can input a unique substring of the desired physical type.  The physical types can be seen at `NDCube.wcs.world_axis_physical_types`:"
   ]
  },
  {
   "cell_type": "code",
   "execution_count": null,
   "metadata": {},
   "outputs": [],
   "source": [
    "cube3d.wcs.world_axis_physical_types"
   ]
  },
  {
   "cell_type": "code",
   "execution_count": null,
   "metadata": {},
   "outputs": [],
   "source": [
    "cube3d.axis_world_coords(\"tim\")"
   ]
  },
  {
   "cell_type": "markdown",
   "metadata": {},
   "source": [
    "Equivalently, you can give the array axis index for which you want the world coords."
   ]
  },
  {
   "cell_type": "code",
   "execution_count": null,
   "metadata": {},
   "outputs": [],
   "source": [
    "cube3d.axis_world_coords(0)"
   ]
  },
  {
   "cell_type": "markdown",
   "metadata": {},
   "source": [
    "### ExtraCoords"
   ]
  },
  {
   "cell_type": "markdown",
   "metadata": {},
   "source": [
    "Enables additional coordinates not included in the WCS to be associated with 1 or more axes.  Let's say each image in our 3-D `NDCube` was also taken at a different wavelength.  As this is not described by the primary WCS, we can add it as an extra coordinate."
   ]
  },
  {
   "cell_type": "code",
   "execution_count": null,
   "metadata": {},
   "outputs": [],
   "source": [
    "# An ExtraCoords object is available at NDCube.extra_coords.\n",
    "# By default, it is instantiated as empty.\n",
    "cube3d.extra_coords"
   ]
  },
  {
   "cell_type": "code",
   "execution_count": null,
   "metadata": {},
   "outputs": [],
   "source": [
    "# Let's add a wavelength extra coordinate along the time axis.\n",
    "\n",
    "ec_name = \"wavelength\"  # Define name of coordinate\n",
    "\n",
    "ec_axis = 2  # This is the axis to which extra coords.\n",
    "# Currently ec_axis is required in world order but will be required in array order by the release of 2.0.\n",
    "# When that change is made, ec_axis should be set to 0 rather than 2.  Hopefully this is more intuitive.\n",
    "\n",
    "ec_values = [94, 171, 193, 304] * u.AA  # Define the wavelength value at each value along the time axis.\n",
    "\n",
    "# To add the coordinate, supply the name, axis and values of the coordinate to the .add method.\n",
    "cube3d.extra_coords.add(ec_name, ec_axis, ec_values)"
   ]
  },
  {
   "cell_type": "code",
   "execution_count": null,
   "metadata": {},
   "outputs": [],
   "source": [
    "# The names of extra coordinates can be seen via the .keys() method.\n",
    "cube3d.extra_coords.keys()"
   ]
  },
  {
   "cell_type": "code",
   "execution_count": null,
   "metadata": {},
   "outputs": [],
   "source": [
    "# The extra coordinates are also visible via NDCube.array_axis_physical_types.\n",
    "cube3d.array_axis_physical_types"
   ]
  },
  {
   "cell_type": "markdown",
   "metadata": {},
   "source": [
    "#### Combined WCS"
   ]
  },
  {
   "cell_type": "markdown",
   "metadata": {},
   "source": [
    "The extra coordinates are combined with those in the primary WCS via the combined_wcs property."
   ]
  },
  {
   "cell_type": "code",
   "execution_count": null,
   "metadata": {},
   "outputs": [],
   "source": [
    "cube3d.combined_wcs"
   ]
  },
  {
   "cell_type": "markdown",
   "metadata": {},
   "source": [
    "`.combined_wcs` can be used instead of the primary WCS in many `NDCube` methods.  For example, the values of extra coords can be retrieved via `NDCube.axis_world_coords`!"
   ]
  },
  {
   "cell_type": "code",
   "execution_count": null,
   "metadata": {},
   "outputs": [],
   "source": [
    "cube3d.axis_world_coords(\"custom:SPATIAL\", wcs=cube3d.combined_wcs)"
   ]
  },
  {
   "cell_type": "markdown",
   "metadata": {},
   "source": [
    "### GlobalCoords"
   ]
  },
  {
   "cell_type": "markdown",
   "metadata": {},
   "source": [
    "Enables scalar coordinates that apply to whole cube to be attached, e.g the time each which our 2-D image cube was taken.  Because these coordinates are not associated with an array axis, they can't be described by the WCS."
   ]
  },
  {
   "cell_type": "code",
   "execution_count": null,
   "metadata": {},
   "outputs": [],
   "source": [
    "cube"
   ]
  },
  {
   "cell_type": "code",
   "execution_count": null,
   "metadata": {},
   "outputs": [],
   "source": [
    "# A GlobalCoords object is available at NDCube.global_coords.\n",
    "# By default, it is instantiated empty.\n",
    "cube.global_coords"
   ]
  },
  {
   "cell_type": "code",
   "execution_count": null,
   "metadata": {},
   "outputs": [],
   "source": [
    "# Attach time at which our 2-D image was taken as a global coordinate.\n",
    "gc_name = \"wavelength\"  # As GlobalCoords can hold multiple coords of the same physical type, a unique name must also be given.\n",
    "gc_type = \"em.wl\"  # Must be a valid IVOA UCD1+ physical type.\n",
    "gc_value = SpectralCoord(171, unit=u.AA)\n",
    "cube.global_coords.add(gc_name, gc_type, gc_value)"
   ]
  },
  {
   "cell_type": "code",
   "execution_count": null,
   "metadata": {},
   "outputs": [],
   "source": [
    "cube.global_coords"
   ]
  },
  {
   "cell_type": "code",
   "execution_count": null,
   "metadata": {},
   "outputs": [],
   "source": [
    "# GlobalCoords acts like a dictionary.\n",
    "# To get a list of names of global coordinates, use the .keys() method.\n",
    "list(cube.global_coords.keys())"
   ]
  },
  {
   "cell_type": "code",
   "execution_count": null,
   "metadata": {},
   "outputs": [],
   "source": [
    "# To get the value of a global coordinate, index the GlobalCoords object with the coor name.\n",
    "cube.global_coords[\"wavelength\"]"
   ]
  },
  {
   "cell_type": "code",
   "execution_count": null,
   "metadata": {},
   "outputs": [],
   "source": [
    "# To see the physical type of a global coordinate, access the physical_types property.\n",
    "cube.global_coords.physical_types"
   ]
  },
  {
   "cell_type": "markdown",
   "metadata": {},
   "source": [
    "## Functionalities Not Supported By NDCube"
   ]
  },
  {
   "cell_type": "markdown",
   "metadata": {},
   "source": [
    "### Will be Supported in Future"
   ]
  },
  {
   "cell_type": "markdown",
   "metadata": {},
   "source": [
    "* Rotate\n",
    "* Resample/Superpixel\n",
    "* Sum/take mean over axis"
   ]
  },
  {
   "cell_type": "markdown",
   "metadata": {},
   "source": [
    "### Will NOT be Supported"
   ]
  },
  {
   "cell_type": "markdown",
   "metadata": {},
   "source": [
    "* Image-specific plotting convenience functions, e.g. draw_grid\n",
    "* Metadata API, e.g. .coordinate_frame, .mean"
   ]
  },
  {
   "cell_type": "markdown",
   "metadata": {},
   "source": [
    "One idea is to have sunpy (and other packages, e.g. sunraster) support various `Meta` classes, e.g. `ImageMeta` or `AIAMeta`, which could by attached to an `NDCube` instance via `NDCube.meta`.  This could provide much of Map's metadata API, e.g. via `NDCube.meta.coordinate_frame`.  This would remove the need to subclass NDCube simply to support an metadata API.  Instead, subclasses would only be needed if different/extra functionality on the data is required via methods."
   ]
  },
  {
   "cell_type": "code",
   "execution_count": null,
   "metadata": {},
   "outputs": [],
   "source": []
  }
 ],
 "metadata": {
  "kernelspec": {
   "display_name": "Python 3",
   "language": "python",
   "name": "python3"
  },
  "language_info": {
   "codemirror_mode": {
    "name": "ipython",
    "version": 3
   },
   "file_extension": ".py",
   "mimetype": "text/x-python",
   "name": "python",
   "nbconvert_exporter": "python",
   "pygments_lexer": "ipython3",
   "version": "3.8.5"
  }
 },
 "nbformat": 4,
 "nbformat_minor": 4
}
