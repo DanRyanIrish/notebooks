{
 "cells": [
  {
   "cell_type": "markdown",
   "metadata": {},
   "source": [
    "# IRISpy Demo for IRIS-9 2018"
   ]
  },
  {
   "cell_type": "markdown",
   "metadata": {},
   "source": [
    "This notebook outlines the current functionality of IRISpy for the IRIS-9 workshop. To execute code cells, press SHIFT + ENTER.\n",
    "\n",
    "__N.B. You must have IRISpy installed to work with this tutorial.  For install instructions, see http://docs.sunpy.org/projects/irispy/en/latest/installation.html __\n",
    "\n",
    "__During the IRIS-9 Workshop (2018-06-25), this notebook was run with the Development Dependendcies Install (http://docs.sunpy.org/projects/irispy/en/latest/installation.html#development-dependencies-install ).  Runnin it with the Stable Dependencies Install should still be valid but you may encounter slightly different behaviour.__\n",
    "\n",
    "__WARNING__: *The IRISpy is still under heavy development and could change at any time.  However, we are striving towards a stable release.*\n",
    "\n",
    "To get involved, check out http://docs.sunpy.org/projects/irispy/en/latest/"
   ]
  },
  {
   "cell_type": "code",
   "execution_count": null,
   "metadata": {},
   "outputs": [],
   "source": [
    "# Import some packages to help us display plots and handle physical units\n",
    "import matplotlib.pyplot as plt\n",
    "import astropy.units as u"
   ]
  },
  {
   "cell_type": "code",
   "execution_count": null,
   "metadata": {},
   "outputs": [],
   "source": [
    "# Set matplotlib setting so that plots are displayed as active windows within notebook.\n",
    "# Be sure to close the active window by clicking the blue button at the top right of the plot window \n",
    "# before trying to plot a new window.\n",
    "% matplotlib notebook"
   ]
  },
  {
   "cell_type": "markdown",
   "metadata": {},
   "source": [
    "## Spectrograph Data"
   ]
  },
  {
   "cell_type": "markdown",
   "metadata": {},
   "source": [
    "### Reading in FITS files."
   ]
  },
  {
   "cell_type": "markdown",
   "metadata": {},
   "source": [
    "IRISpy provides easy-to-use reader functions to read in SJI and spectrograph files.  Simply supply a filename or ist of filenames."
   ]
  },
  {
   "cell_type": "code",
   "execution_count": null,
   "metadata": {},
   "outputs": [],
   "source": [
    "from irispy.spectrograph import read_iris_spectrograph_level2_fits"
   ]
  },
  {
   "cell_type": "code",
   "execution_count": null,
   "metadata": {},
   "outputs": [],
   "source": [
    "# Define spectrograph filenames by entering strings inside the empty list below.\n",
    "sg_files = [\"iris_l2_20180617_032355_3690215148_raster_t000_r00000.fits\",\n",
    "            \"iris_l2_20180617_032355_3690215148_raster_t000_r00001.fits\"]"
   ]
  },
  {
   "cell_type": "code",
   "execution_count": null,
   "metadata": {},
   "outputs": [],
   "source": [
    "# Read in spectrograph data from FITS files to an IRISSpectrograph object.\n",
    "my_sg = read_iris_spectrograph_level2_fits(sg_files)"
   ]
  },
  {
   "cell_type": "markdown",
   "metadata": {},
   "source": [
    "### Structure of the Spectrograph Data Classes"
   ]
  },
  {
   "cell_type": "code",
   "execution_count": null,
   "metadata": {},
   "outputs": [],
   "source": [
    "my_sg"
   ]
  },
  {
   "cell_type": "markdown",
   "metadata": {},
   "source": [
    "A summary of the spectral windows in the ```IRISSpectrograph``` object can be obtained from the ```spectral_windows``` property."
   ]
  },
  {
   "cell_type": "code",
   "execution_count": null,
   "metadata": {},
   "outputs": [],
   "source": [
    "my_sg.spectral_windows"
   ]
  },
  {
   "cell_type": "markdown",
   "metadata": {},
   "source": [
    "Data from different spectral windows is contained in the ```.data``` attribute, which is indexed by the spectral window name.  Let's focus on the ```C II``` window."
   ]
  },
  {
   "cell_type": "code",
   "execution_count": null,
   "metadata": {},
   "outputs": [],
   "source": [
    "my_cii = my_sg.data[\"C II 1336\"]"
   ]
  },
  {
   "cell_type": "code",
   "execution_count": null,
   "metadata": {},
   "outputs": [],
   "source": [
    "my_cii"
   ]
  },
  {
   "cell_type": "markdown",
   "metadata": {},
   "source": [
    "The ```IRISSpectrogramCubeSequence``` is a sequence of data cubes, each representing one raster scan.  Each raster cube is represented by an ```IRISSpectrogramCube```.  Let's extract the 0th scan."
   ]
  },
  {
   "cell_type": "code",
   "execution_count": null,
   "metadata": {},
   "outputs": [],
   "source": [
    "my_cii_scan0 = my_cii[0]"
   ]
  },
  {
   "cell_type": "code",
   "execution_count": null,
   "metadata": {},
   "outputs": [],
   "source": [
    "my_cii_scan0"
   ]
  },
  {
   "cell_type": "markdown",
   "metadata": {},
   "source": [
    "Each ```IRISSpectrogramCube``` combines __data__, __WCS tranformations__, __uncertainties__ (calculated on intialisation), data __unit__ and data __mask__ (identifying bad or non-exposed pixels), __metadata__ and __auxiliary data__ (e.g. measurement times, exposure times)."
   ]
  },
  {
   "cell_type": "code",
   "execution_count": null,
   "metadata": {},
   "outputs": [],
   "source": [
    "my_cii_scan0.data \n",
    "\n",
    "# Note that that pixels with -200 DN are not exposed."
   ]
  },
  {
   "cell_type": "code",
   "execution_count": null,
   "metadata": {},
   "outputs": [],
   "source": [
    "my_cii_scan0.uncertainty\n",
    "\n",
    "# Uncertainties are derived from counting statistics and readout noise of relevant detector.\n",
    "# Unexposed pixels will not have valid uncertainties."
   ]
  },
  {
   "cell_type": "code",
   "execution_count": null,
   "metadata": {},
   "outputs": [],
   "source": [
    "my_cii_scan0.mask # True means pixel IS masked, i.e. data is not good."
   ]
  },
  {
   "cell_type": "markdown",
   "metadata": {},
   "source": [
    "__N.B.__ Note that here, the value of the mask is True if the data is masked, i.e. the data is bad."
   ]
  },
  {
   "cell_type": "code",
   "execution_count": null,
   "metadata": {},
   "outputs": [],
   "source": [
    "my_cii_scan0.unit\n",
    "\n",
    "# This is an astropy unit.  See further down this notebook for more discussion of astropy units and quantities."
   ]
  },
  {
   "cell_type": "code",
   "execution_count": null,
   "metadata": {},
   "outputs": [],
   "source": [
    "# The WCS object contains all the information on the transformations between pixel and real world coordinates.\n",
    "my_cii_scan0.wcs"
   ]
  },
  {
   "cell_type": "code",
   "execution_count": null,
   "metadata": {},
   "outputs": [],
   "source": [
    "# Metadata cn be found in the meta attribute.\n",
    "my_cii_scan0.meta"
   ]
  },
  {
   "cell_type": "markdown",
   "metadata": {},
   "source": [
    "Auxiliary data, like measurement times, exposure times, etc., are held in the extra_coords property.  The data are stored as entries in a dictionary.  To see the types of auxiliary data included, use the standard ```keys``` methods of Python dictionaries."
   ]
  },
  {
   "cell_type": "code",
   "execution_count": null,
   "metadata": {},
   "outputs": [],
   "source": [
    "my_cii_scan0.extra_coords.keys()"
   ]
  },
  {
   "cell_type": "markdown",
   "metadata": {},
   "source": [
    "Each entry, e.g. ```'exposure time'``` is itself a dictionary."
   ]
  },
  {
   "cell_type": "code",
   "execution_count": null,
   "metadata": {},
   "outputs": [],
   "source": [
    "my_cii_scan0.extra_coords[\"exposure time\"]"
   ]
  },
  {
   "cell_type": "markdown",
   "metadata": {},
   "source": [
    "The first key in the exposure time dictionary is ```axis``` which gives the data axis of ```my_cii_scan0``` to which exposure time corresponds. Here were can see it is zero. The second key is ```value``` which gives the exposure time value at each pixel along the axis. So we can see that the number of exposure times equals the length of the 0th axis."
   ]
  },
  {
   "cell_type": "code",
   "execution_count": null,
   "metadata": {},
   "outputs": [],
   "source": [
    "print(\"Number of exposure times = {0}\\nLength of axis = {1}\".format(\n",
    "    len(my_cii_scan0.extra_coords[\"exposure time\"][\"value\"]),\n",
    "    my_cii_scan0.dimensions[my_cii_scan0.extra_coords[\"exposure time\"][\"axis\"]]))"
   ]
  },
  {
   "cell_type": "markdown",
   "metadata": {},
   "source": [
    "### IRIS Data Manipulation"
   ]
  },
  {
   "cell_type": "markdown",
   "metadata": {},
   "source": [
    "#### Exposure Time Correction"
   ]
  },
  {
   "cell_type": "markdown",
   "metadata": {},
   "source": [
    "We can apply exposure time corrections and convert the units of our data between DN, photons and radiance with ease in IRISpy.\n",
    "\n",
    "If you want to see how this is done, just look at the source code either on GitHub or on your local machine.  __IRISpy is open-source!__"
   ]
  },
  {
   "cell_type": "markdown",
   "metadata": {},
   "source": [
    "#### Apply exposure time correction"
   ]
  },
  {
   "cell_type": "code",
   "execution_count": null,
   "metadata": {},
   "outputs": [],
   "source": [
    "my_cii[0].unit"
   ]
  },
  {
   "cell_type": "code",
   "execution_count": null,
   "metadata": {},
   "outputs": [],
   "source": [
    "my_cii.apply_exposure_time_correction()"
   ]
  },
  {
   "cell_type": "code",
   "execution_count": null,
   "metadata": {},
   "outputs": [],
   "source": [
    "my_cii[0].unit"
   ]
  },
  {
   "cell_type": "markdown",
   "metadata": {},
   "source": [
    "Note how the unit is now in DN/s.  The values in the data and uncertainty attributes have been scaled accordingly.  Check out at ```my_sg.data``` nd ```my_sg.uncertainty``` to verify."
   ]
  },
  {
   "cell_type": "markdown",
   "metadata": {},
   "source": [
    "To undo the exposure time correction, call ```apply_exposure_time_correction``` setting the ```undo``` keyword to ```True```."
   ]
  },
  {
   "cell_type": "code",
   "execution_count": null,
   "metadata": {},
   "outputs": [],
   "source": [
    "my_cii.apply_exposure_time_correction(undo=True)"
   ]
  },
  {
   "cell_type": "code",
   "execution_count": null,
   "metadata": {},
   "outputs": [],
   "source": [
    "my_cii[0].unit"
   ]
  },
  {
   "cell_type": "markdown",
   "metadata": {},
   "source": [
    "Note that unit is now back in DN."
   ]
  },
  {
   "cell_type": "markdown",
   "metadata": {},
   "source": [
    "#### Convert Data Betweeen DN, Photons, Radiance"
   ]
  },
  {
   "cell_type": "markdown",
   "metadata": {},
   "source": [
    "To convert your data and uncertainty values between DN, photons, and radiance, use the ```convert_to``` method.  To track the effect of this method, we will again look how the unit changes.  But again, the data and uncertainty values are altered accordindly."
   ]
  },
  {
   "cell_type": "code",
   "execution_count": null,
   "metadata": {},
   "outputs": [],
   "source": [
    "my_cii[0].unit"
   ]
  },
  {
   "cell_type": "markdown",
   "metadata": {},
   "source": [
    "We start in units of DN.  To convert to photons, call the ```convert_to``` method with the string ```\"photons\"``` as the argument."
   ]
  },
  {
   "cell_type": "code",
   "execution_count": null,
   "metadata": {},
   "outputs": [],
   "source": [
    "my_cii.convert_to(\"photons\")"
   ]
  },
  {
   "cell_type": "code",
   "execution_count": null,
   "metadata": {},
   "outputs": [],
   "source": [
    "my_cii[0].unit"
   ]
  },
  {
   "cell_type": "markdown",
   "metadata": {},
   "source": [
    "Note that the unit is now in photons.  To convert the data, uncertainties and unit to radiance, enter ```\"radiance\"``` as the argument to the ```convert_to``` method."
   ]
  },
  {
   "cell_type": "code",
   "execution_count": null,
   "metadata": {},
   "outputs": [],
   "source": [
    "my_cii.convert_to(\"radiance\")"
   ]
  },
  {
   "cell_type": "code",
   "execution_count": null,
   "metadata": {},
   "outputs": [],
   "source": [
    "my_cii[0].unit"
   ]
  },
  {
   "cell_type": "markdown",
   "metadata": {},
   "source": [
    "Now the unit is in radiance units.  To get back to DN, simply put ```\"DN\"``` into the ```concert_to``` method."
   ]
  },
  {
   "cell_type": "code",
   "execution_count": null,
   "metadata": {},
   "outputs": [],
   "source": [
    "my_cii.convert_to(\"DN\")"
   ]
  },
  {
   "cell_type": "code",
   "execution_count": null,
   "metadata": {},
   "outputs": [],
   "source": [
    "my_cii[0].unit"
   ]
  },
  {
   "cell_type": "markdown",
   "metadata": {},
   "source": [
    "In this case, the unit is ```DN/s```.  This is because the exposure time correction and the unit conversion are kept separate.  The one except is the conversion to radiance, which requires the exposure time correction.  Therefore, when we convert from radiance to DN, the inverse time due to the exposure time is maintained.  To undo this and get back to simple data numbers, undo the exposure time correction as we did above."
   ]
  },
  {
   "cell_type": "code",
   "execution_count": null,
   "metadata": {},
   "outputs": [],
   "source": [
    "my_cii.apply_exposure_time_correction(undo=True)"
   ]
  },
  {
   "cell_type": "code",
   "execution_count": null,
   "metadata": {},
   "outputs": [],
   "source": [
    "my_cii[0].unit"
   ]
  },
  {
   "cell_type": "markdown",
   "metadata": {},
   "source": [
    "### Plotting"
   ]
  },
  {
   "cell_type": "markdown",
   "metadata": {},
   "source": [
    "Let's produce a quicklook animation of our spectral window data."
   ]
  },
  {
   "cell_type": "code",
   "execution_count": null,
   "metadata": {},
   "outputs": [],
   "source": [
    "my_cii.plot()"
   ]
  },
  {
   "cell_type": "markdown",
   "metadata": {},
   "source": [
    "By default, the y-axis corresponds to position along the slit and the x-axis to wavelength.  If the data is 4D, the bottom slider corresponds to the raster repeat axis and the top slider corresponds to the slit location axis.  Press play on a slider to animate the image.  (__Note that if you are using the stable dependencies install, the 0ths and 1st axes may have been combined into a single slider.  But the future stable dependencies install will exhibit the behaviour described above.__)\n",
    "\n",
    "It is possible to customize the plot, e.g. change the plot axes, change the color map, add axis labels, etc. but due the basic scope of this introductory tutorial we will leave that for another day."
   ]
  },
  {
   "cell_type": "markdown",
   "metadata": {},
   "source": [
    "### Slicing/Indexing"
   ]
  },
  {
   "cell_type": "markdown",
   "metadata": {},
   "source": [
    "#### 4D Slicing"
   ]
  },
  {
   "cell_type": "markdown",
   "metadata": {},
   "source": [
    "Say we have a region of interest within our data between the 100th and 175th pixels along the slit at the 3rd slit position, in the wavelength range around the 75-125 pixels.  To get extract this region of interest is simply a case of slicing the ```IRISSpectrogramCubeSequence``` object.\n",
    "\n",
    "__N.B. depending on the spectrograph files you've read in, you may need to change these index numbers to be within the ranges of your axes.  Let's start by checking the dimensionality of the IRISSpectrumCubeSequence using the ```dimensions``` property.__"
   ]
  },
  {
   "cell_type": "code",
   "execution_count": null,
   "metadata": {},
   "outputs": [],
   "source": [
    "my_cii.dimensions"
   ]
  },
  {
   "cell_type": "code",
   "execution_count": null,
   "metadata": {},
   "outputs": [],
   "source": [
    "# We can see what physical properties each axis corresponds to by using the world_axis_physical_types property.\n",
    "# Note the 'meta.obs.sequence' refers to the repeat raster access.\n",
    "my_cii.world_axis_physical_types"
   ]
  },
  {
   "cell_type": "markdown",
   "metadata": {},
   "source": [
    "To isolate our region of interest, we can index the ```IRISSpectrogramCubeSequence``` as if it were a simple array.  This way the __data, uncertainties, mask, coordinate transformations, and relevant auxiliary data__ are sliced accordindly.  This reduces the need to perform repetitive tasks that by their repetitive nature, an lead to mistakes."
   ]
  },
  {
   "cell_type": "code",
   "execution_count": null,
   "metadata": {},
   "outputs": [],
   "source": [
    "cii_roi = my_cii[:, 3, 100:175, 50:100]"
   ]
  },
  {
   "cell_type": "code",
   "execution_count": null,
   "metadata": {},
   "outputs": [],
   "source": [
    "cii_roi.dimensions"
   ]
  },
  {
   "cell_type": "code",
   "execution_count": null,
   "metadata": {},
   "outputs": [],
   "source": [
    "cii_roi.world_axis_physical_types"
   ]
  },
  {
   "cell_type": "markdown",
   "metadata": {},
   "source": [
    "By looking at the ```dimensions``` and ```world_axis_physical_types```, we can see that the ```IRISSpectrogramCubeSequence``` has lost its longitude axis and the remaining axes have been sliced as requested.\n",
    "\n",
    "__Exercise:__ Manually check the dimensionality of the data, uncertainty, etc. of the ```IRISSpectrogramCube```s within the ```IRISSpectrogramCubeSequence.data``` attribute to verify their dimensionalities been reduced correctly."
   ]
  },
  {
   "cell_type": "markdown",
   "metadata": {},
   "source": [
    "We can also use this slicing to easily plot a 1D spectrum from a single pixel.  Let's plot the pixel from the 0th raster scan, and the 30th pixel along the slit.\n",
    "\n",
    "__N.B. Again, depending on the files you read in and the region you defined above, you may have to select a different pixel with the range of your data.__"
   ]
  },
  {
   "cell_type": "code",
   "execution_count": null,
   "metadata": {},
   "outputs": [],
   "source": [
    "cii_roi[0, 30].plot()"
   ]
  },
  {
   "cell_type": "markdown",
   "metadata": {},
   "source": [
    "#### 3D Slicing"
   ]
  },
  {
   "cell_type": "markdown",
   "metadata": {},
   "source": [
    "Above we treated the data as though it's 4D.  But depending on our science goals and the observing campaign, it may be convenient to think of data as it were 3D, i.e. that the repeat raster and slit location axes are combined so that the exposure are simply ordered in time.  The ```IRISSpectrogramCubeSequence``` object makes this easy by providing ```cube_like``` inspection and slicing."
   ]
  },
  {
   "cell_type": "code",
   "execution_count": null,
   "metadata": {},
   "outputs": [],
   "source": [
    "my_cii.dimensions"
   ]
  },
  {
   "cell_type": "code",
   "execution_count": null,
   "metadata": {},
   "outputs": [],
   "source": [
    "my_cii.cube_like_dimensions"
   ]
  },
  {
   "cell_type": "markdown",
   "metadata": {},
   "source": [
    "Note that the data is represented as 3D where the 0th cube-like axis has a length equal to the 0th x 1st axes' lengths."
   ]
  },
  {
   "cell_type": "code",
   "execution_count": null,
   "metadata": {},
   "outputs": [],
   "source": [
    "my_cii.world_axis_physical_types"
   ]
  },
  {
   "cell_type": "code",
   "execution_count": null,
   "metadata": {},
   "outputs": [],
   "source": [
    "my_cii.cube_like_world_axis_physical_types"
   ]
  },
  {
   "cell_type": "markdown",
   "metadata": {},
   "source": [
    "Also note that the raster repeat axis has been discarded in favour of just the longitude axis alone."
   ]
  },
  {
   "cell_type": "markdown",
   "metadata": {},
   "source": [
    "We can also slice the data as though it's 3D.  Let's say we want the first 35 exposures, regardless of what raster scan and slit location they correspond to.  And also suppose we only want the 100-175 pixels along the slit and only the 50-100 pixels along the wavelength direction.  This sounds like a comples slicing operation.  But we can use the ```index_as_cube``` property to index the ```IRISSpectrogramCubeSequence``` as if it were a simple 3D array."
   ]
  },
  {
   "cell_type": "code",
   "execution_count": null,
   "metadata": {},
   "outputs": [],
   "source": [
    "cii_roi_3d = my_cii.index_as_cube[0:35, 100:175, 50:100]"
   ]
  },
  {
   "cell_type": "markdown",
   "metadata": {},
   "source": [
    "Note that the data now have the 3D dimensions we expect."
   ]
  },
  {
   "cell_type": "code",
   "execution_count": null,
   "metadata": {},
   "outputs": [],
   "source": [
    "cii_roi_3d.cube_like_dimensions"
   ]
  },
  {
   "cell_type": "code",
   "execution_count": null,
   "metadata": {},
   "outputs": [],
   "source": [
    "cii_roi_3d.cube_like_world_axis_physical_types"
   ]
  },
  {
   "cell_type": "markdown",
   "metadata": {},
   "source": [
    "However, also note that the data can still be represented in 4D.  In this case note that the 1st quantity, corresponding to the slit location axis, now has two values.  The 0th corresponds to the 0th raster scan.  The value is 32 showing that all slit locations are included.  The 1st, corresponding to 1st raster scan, has a value of 3, showing that only the first 3 slit locations of that raster scan were included in our cube-like slicing operation."
   ]
  },
  {
   "cell_type": "code",
   "execution_count": null,
   "metadata": {},
   "outputs": [],
   "source": [
    "cii_roi_3d.dimensions"
   ]
  },
  {
   "cell_type": "code",
   "execution_count": null,
   "metadata": {},
   "outputs": [],
   "source": [
    "cii_roi_3d.world_axis_physical_types"
   ]
  },
  {
   "cell_type": "markdown",
   "metadata": {},
   "source": [
    "#### Cropping by Real World Coordinates"
   ]
  },
  {
   "cell_type": "markdown",
   "metadata": {},
   "source": [
    "(__Currently only works for Development Dependencies Install__)"
   ]
  },
  {
   "cell_type": "markdown",
   "metadata": {},
   "source": [
    "We may want to identify a region of interest based on real world coordinates, rather than pixel indices.  To do this, we can use the ```IRISSpetrogramCube.crop_by_coords``` method.  Note that this method currently only exists for ```IRISSpetrogramCube``` and not ```IRISSpetrogramCubeSequence```.  So let's try it with ```my_cii_scan0```.  To use, supply the real world coordinates of the lower corner and upper corner of the region of interest.\n",
    "\n",
    "__(N.B. Depending on the files you read in at the start of this notebook, you may have to alter the values input to this method below.)__"
   ]
  },
  {
   "cell_type": "code",
   "execution_count": null,
   "metadata": {},
   "outputs": [],
   "source": [
    "rwc_cropped_cii_scan0 = my_cii_scan0.crop_by_coords(lower_corner=(-250*u.arcsec, 60*u.arcsec, 1334*u.angstrom), \n",
    "                                                    upper_corner=(-220*u.arcsec, 90*u.arcsec, 1335*u.angstrom))"
   ]
  },
  {
   "cell_type": "code",
   "execution_count": null,
   "metadata": {},
   "outputs": [],
   "source": [
    "rwc_cropped_cii_scan0"
   ]
  },
  {
   "cell_type": "markdown",
   "metadata": {},
   "source": [
    "Note that if the data is rotated relative to the physical axes, ```crop_by_coords``` finds the smallest region aligned with the data that includes all of the region marked out by the real world coordinates supplied.\n",
    "\n",
    "Also note that this method does not do any interpolation.  Instead it finds the pixel values corresponding to supplied real world coordinates and rounds them up or down to the nearest integer.  So a small change in the input to ```crop_by_coords``` may not affect the output."
   ]
  },
  {
   "cell_type": "markdown",
   "metadata": {},
   "source": [
    "### A Quick Tangent on Astropy Units and Quantities"
   ]
  },
  {
   "cell_type": "markdown",
   "metadata": {},
   "source": [
    "Astropy units are objects representing physical units.  Astropy quantities are numbers or arrays of number which have a unit associated with them."
   ]
  },
  {
   "cell_type": "code",
   "execution_count": null,
   "metadata": {},
   "outputs": [],
   "source": [
    "import astropy.units as u"
   ]
  },
  {
   "cell_type": "markdown",
   "metadata": {},
   "source": [
    "Units often have a symbol representation and a name representation."
   ]
  },
  {
   "cell_type": "code",
   "execution_count": null,
   "metadata": {},
   "outputs": [],
   "source": [
    "u.s"
   ]
  },
  {
   "cell_type": "code",
   "execution_count": null,
   "metadata": {},
   "outputs": [],
   "source": [
    "u.second"
   ]
  },
  {
   "cell_type": "markdown",
   "metadata": {},
   "source": [
    "To construct a Quantity supply the Quantity contructor with number or array and unit object."
   ]
  },
  {
   "cell_type": "code",
   "execution_count": null,
   "metadata": {},
   "outputs": [],
   "source": [
    "my_time = u.Quantity([1, 2, 3], unit=u.s)"
   ]
  },
  {
   "cell_type": "code",
   "execution_count": null,
   "metadata": {},
   "outputs": [],
   "source": [
    "my_time"
   ]
  },
  {
   "cell_type": "markdown",
   "metadata": {},
   "source": [
    "Or multiply a number or list/array or numbers with a unit object."
   ]
  },
  {
   "cell_type": "code",
   "execution_count": null,
   "metadata": {},
   "outputs": [],
   "source": [
    "my_distance = [20, 50, 80] * u.m"
   ]
  },
  {
   "cell_type": "code",
   "execution_count": null,
   "metadata": {},
   "outputs": [],
   "source": [
    "my_distance"
   ]
  },
  {
   "cell_type": "markdown",
   "metadata": {},
   "source": [
    "#### Quantity Arithmetic"
   ]
  },
  {
   "cell_type": "markdown",
   "metadata": {},
   "source": [
    "Quantities can be used in simple arithmetic operations.  Not only are the numbers handled but the units are changed as appropriate."
   ]
  },
  {
   "cell_type": "code",
   "execution_count": null,
   "metadata": {},
   "outputs": [],
   "source": [
    "my_speed = my_distance / my_time"
   ]
  },
  {
   "cell_type": "code",
   "execution_count": null,
   "metadata": {},
   "outputs": [],
   "source": [
    "my_speed"
   ]
  },
  {
   "cell_type": "markdown",
   "metadata": {},
   "source": [
    "Quantities check unit compatibility before performing the operation and stop you doing unphysical things."
   ]
  },
  {
   "cell_type": "code",
   "execution_count": null,
   "metadata": {},
   "outputs": [],
   "source": [
    "my_distance + my_time"
   ]
  },
  {
   "cell_type": "markdown",
   "metadata": {},
   "source": [
    "#### Unit Convervsion"
   ]
  },
  {
   "cell_type": "markdown",
   "metadata": {},
   "source": [
    "Astropy Quantities can perform valid unit conversions.  Use the ```to``` method and supply it with the unit object to which you wish to convert."
   ]
  },
  {
   "cell_type": "code",
   "execution_count": null,
   "metadata": {},
   "outputs": [],
   "source": [
    "my_distance.to(\"angstrom\")"
   ]
  },
  {
   "cell_type": "markdown",
   "metadata": {},
   "source": [
    "Incompatible unit conversions will raise an error."
   ]
  },
  {
   "cell_type": "code",
   "execution_count": null,
   "metadata": {},
   "outputs": [],
   "source": [
    "my_distance.to(u.s)"
   ]
  },
  {
   "cell_type": "markdown",
   "metadata": {},
   "source": [
    "### Coordinate Transformations"
   ]
  },
  {
   "cell_type": "markdown",
   "metadata": {},
   "source": [
    "To get an array of real world values for every pixel along an axis for a single raster scan, say the wavelength axis (2nd axis using zero-based counting), use the ```axis_world_coordinates``` method.\n",
    "\n",
    "Note these methods only exist for ```IRISSpectrogramCube```s.  So in this example, let's let's use the 0th raster scan from the original C II spectral window data, stored in ```my_cii_scan0```."
   ]
  },
  {
   "cell_type": "code",
   "execution_count": null,
   "metadata": {},
   "outputs": [],
   "source": [
    "my_cii_scan0.world_axis_physical_types"
   ]
  },
  {
   "cell_type": "code",
   "execution_count": null,
   "metadata": {},
   "outputs": [],
   "source": [
    "wavelength = my_cii_scan0.axis_world_coords(2)"
   ]
  },
  {
   "cell_type": "code",
   "execution_count": null,
   "metadata": {},
   "outputs": [],
   "source": [
    "wavelength"
   ]
  },
  {
   "cell_type": "code",
   "execution_count": null,
   "metadata": {},
   "outputs": [],
   "source": [
    "wavelength.shape, my_cii_scan0.dimensions[-1]"
   ]
  },
  {
   "cell_type": "code",
   "execution_count": null,
   "metadata": {},
   "outputs": [],
   "source": [
    "type(wavelength)"
   ]
  },
  {
   "cell_type": "markdown",
   "metadata": {},
   "source": [
    "Note that the output is an astropy quantity with the same length as the wavelength axis."
   ]
  },
  {
   "cell_type": "markdown",
   "metadata": {},
   "source": [
    "You can also use a substring of the ```world_axis_physical_types``` label for the axis."
   ]
  },
  {
   "cell_type": "code",
   "execution_count": null,
   "metadata": {},
   "outputs": [],
   "source": [
    "my_cii_scan0.world_axis_physical_types"
   ]
  },
  {
   "cell_type": "code",
   "execution_count": null,
   "metadata": {},
   "outputs": [],
   "source": [
    "my_cii_scan0.axis_world_coords(\"wl\")"
   ]
  },
  {
   "cell_type": "markdown",
   "metadata": {},
   "source": [
    "#### Dependent Axes"
   ]
  },
  {
   "cell_type": "markdown",
   "metadata": {},
   "source": [
    "Note that not all axes are independent, like wavelength in the above example.  Some are dependent on others, for example, latitude and longitude.  Depending on the latitude you're at, the longitude value at certain pixel along the longitude axis will have a different value."
   ]
  },
  {
   "cell_type": "code",
   "execution_count": null,
   "metadata": {},
   "outputs": [],
   "source": [
    "lon = my_cii_scan0.axis_world_coords(\"lon\")"
   ]
  },
  {
   "cell_type": "code",
   "execution_count": null,
   "metadata": {},
   "outputs": [],
   "source": [
    "lon"
   ]
  },
  {
   "cell_type": "code",
   "execution_count": null,
   "metadata": {},
   "outputs": [],
   "source": [
    "my_cii_scan0.dimensions"
   ]
  },
  {
   "cell_type": "code",
   "execution_count": null,
   "metadata": {},
   "outputs": [],
   "source": [
    "lon.shape"
   ]
  },
  {
   "cell_type": "markdown",
   "metadata": {},
   "source": [
    "Note how the dimensionality of the longitude quantity is the same as the longitude axis x the latitude axis.  The same would be true if we asked for the latitude."
   ]
  },
  {
   "cell_type": "markdown",
   "metadata": {},
   "source": [
    "Multiple axis labels/indices can be entered and multiple arrays are returned.  Entering no arguments causes real world coordinates for all axis to be returned.  In these cases a tuple of quantities is returned."
   ]
  },
  {
   "cell_type": "code",
   "execution_count": null,
   "metadata": {},
   "outputs": [],
   "source": [
    "all_world_coords = my_cii_scan0.axis_world_coords()"
   ]
  },
  {
   "cell_type": "code",
   "execution_count": null,
   "metadata": {},
   "outputs": [],
   "source": [
    "all_world_coords"
   ]
  },
  {
   "cell_type": "markdown",
   "metadata": {},
   "source": [
    "#### Pixel to World & World to Pixel"
   ]
  },
  {
   "cell_type": "markdown",
   "metadata": {},
   "source": [
    "If you want to convert the other way, from world coordinates to pixels, or are interested in only a subset of pixels and want a little more efficiency, you can use the ```pixel_to_world``` and ```world_to_pixel``` methods.\n",
    "\n",
    "Let's convert just the (0, 0, 0) pixel to world coordinates."
   ]
  },
  {
   "cell_type": "code",
   "execution_count": null,
   "metadata": {},
   "outputs": [],
   "source": [
    "my_cii_scan0.pixel_to_world(u.Quantity([0], unit=u.pix), \n",
    "                            u.Quantity([0], unit=u.pix), \n",
    "                            u.Quantity([0], unit=u.pix))"
   ]
  },
  {
   "cell_type": "markdown",
   "metadata": {},
   "source": [
    "Let's now take that output and convert back to pixel coordinates."
   ]
  },
  {
   "cell_type": "code",
   "execution_count": null,
   "metadata": {},
   "outputs": [],
   "source": [
    "my_cii_scan0.world_to_pixel(0.00229961*u.deg, -0.09773224*u.deg, 1.3319e-07*u.m)"
   ]
  },
  {
   "cell_type": "markdown",
   "metadata": {},
   "source": [
    "Notice that within numerical error, we can got back to (0, 0, 0) in pixel space."
   ]
  },
  {
   "cell_type": "markdown",
   "metadata": {},
   "source": [
    "As many pixels as you like can be entered to the ```pixel_to_world``` and ```world_to_pixel``` methods.  For example, let's also convert the (7, 7, 7) pixel:"
   ]
  },
  {
   "cell_type": "code",
   "execution_count": null,
   "metadata": {},
   "outputs": [],
   "source": [
    "my_cii_scan0.pixel_to_world(u.Quantity([0, 7], unit=u.pix), \n",
    "                            u.Quantity([0, 7], unit=u.pix), \n",
    "                            u.Quantity([0, 7], unit=u.pix))"
   ]
  },
  {
   "cell_type": "markdown",
   "metadata": {},
   "source": [
    "## SJI"
   ]
  },
  {
   "cell_type": "markdown",
   "metadata": {},
   "source": [
    "Let's now explore the tools available for handling SJI data."
   ]
  },
  {
   "cell_type": "markdown",
   "metadata": {},
   "source": [
    "### Reading FITS files"
   ]
  },
  {
   "cell_type": "code",
   "execution_count": null,
   "metadata": {},
   "outputs": [],
   "source": [
    "from irispy.sji import read_iris_sji_level2_fits"
   ]
  },
  {
   "cell_type": "code",
   "execution_count": null,
   "metadata": {},
   "outputs": [],
   "source": [
    "# Define a single SJI filename here.\n",
    "my_sji_file = \"iris_l2_20180617_032355_3690215148_SJI_1330_t000.fits\""
   ]
  },
  {
   "cell_type": "code",
   "execution_count": null,
   "metadata": {},
   "outputs": [],
   "source": [
    "# Enter the file name into the SJI FITS reader.\n",
    "my_sji = read_iris_sji_level2_fits(my_sji_file)"
   ]
  },
  {
   "cell_type": "markdown",
   "metadata": {},
   "source": [
    "### Structure of the IRISMapCube Class"
   ]
  },
  {
   "cell_type": "markdown",
   "metadata": {},
   "source": [
    "In this case, we will assume you have entered a single file and so we have produce an ```IRISMapCube```."
   ]
  },
  {
   "cell_type": "code",
   "execution_count": null,
   "metadata": {},
   "outputs": [],
   "source": [
    "my_sji"
   ]
  },
  {
   "cell_type": "markdown",
   "metadata": {},
   "source": [
    "Access the data, uncertainties, mask, unit, WCS transformation, metadata and auxiliary data via the following attributes, just like with the ```IRISSpectrogramCube```.\n",
    "\n",
    "__(The code is uncommented to avoid large print outs to the screen.  Uncomment and run to see the output.)__"
   ]
  },
  {
   "cell_type": "code",
   "execution_count": null,
   "metadata": {},
   "outputs": [],
   "source": [
    "#my_sji.data"
   ]
  },
  {
   "cell_type": "code",
   "execution_count": null,
   "metadata": {},
   "outputs": [],
   "source": [
    "#my_sji.uncertainty"
   ]
  },
  {
   "cell_type": "code",
   "execution_count": null,
   "metadata": {},
   "outputs": [],
   "source": [
    "#my_sji.mask"
   ]
  },
  {
   "cell_type": "code",
   "execution_count": null,
   "metadata": {},
   "outputs": [],
   "source": [
    "#my_sji.unit"
   ]
  },
  {
   "cell_type": "code",
   "execution_count": null,
   "metadata": {},
   "outputs": [],
   "source": [
    "#my_sji.wcs"
   ]
  },
  {
   "cell_type": "code",
   "execution_count": null,
   "metadata": {},
   "outputs": [],
   "source": [
    "#my_sji.meta"
   ]
  },
  {
   "cell_type": "code",
   "execution_count": null,
   "metadata": {},
   "outputs": [],
   "source": [
    "#my_sji.extra_coords"
   ]
  },
  {
   "cell_type": "markdown",
   "metadata": {},
   "source": [
    "### Inspecting the Data"
   ]
  },
  {
   "cell_type": "markdown",
   "metadata": {},
   "source": [
    "Analaogous methods and properties to those of the ```IRISSpectrogramCube``` class for inspecting the data also exists for ```IRISMapCube```."
   ]
  },
  {
   "cell_type": "code",
   "execution_count": null,
   "metadata": {},
   "outputs": [],
   "source": [
    "my_sji"
   ]
  },
  {
   "cell_type": "code",
   "execution_count": null,
   "metadata": {},
   "outputs": [],
   "source": [
    "my_sji.dimensions"
   ]
  },
  {
   "cell_type": "code",
   "execution_count": null,
   "metadata": {},
   "outputs": [],
   "source": [
    "my_sji.world_axis_physical_types"
   ]
  },
  {
   "cell_type": "markdown",
   "metadata": {},
   "source": [
    "We can produce a movie using the plot method."
   ]
  },
  {
   "cell_type": "code",
   "execution_count": null,
   "metadata": {},
   "outputs": [],
   "source": [
    "my_sji.plot()"
   ]
  },
  {
   "cell_type": "markdown",
   "metadata": {},
   "source": [
    "Again, customizing this plot is possible, but not explained here."
   ]
  },
  {
   "cell_type": "markdown",
   "metadata": {},
   "source": [
    "### Slicing/Indexing"
   ]
  },
  {
   "cell_type": "markdown",
   "metadata": {},
   "source": [
    "Say we want have a region of interest within our data between the 10th and 20th frames in time and between the 50th and 150th pixel in the longitude-direction and the 75th and 175th in the latitude-direction."
   ]
  },
  {
   "cell_type": "code",
   "execution_count": null,
   "metadata": {},
   "outputs": [],
   "source": [
    "sji_roi = my_sji[10:20, 50:150, 75:175]"
   ]
  },
  {
   "cell_type": "code",
   "execution_count": null,
   "metadata": {},
   "outputs": [],
   "source": [
    "sji_roi.dimensions"
   ]
  },
  {
   "cell_type": "code",
   "execution_count": null,
   "metadata": {},
   "outputs": [],
   "source": [
    "sji_roi.world_axis_physical_types"
   ]
  },
  {
   "cell_type": "code",
   "execution_count": null,
   "metadata": {},
   "outputs": [],
   "source": [
    "sji_roi.plot()"
   ]
  },
  {
   "cell_type": "markdown",
   "metadata": {},
   "source": [
    "### Exposure Time Correction"
   ]
  },
  {
   "cell_type": "code",
   "execution_count": null,
   "metadata": {},
   "outputs": [],
   "source": [
    "sji_roi.unit"
   ]
  },
  {
   "cell_type": "code",
   "execution_count": null,
   "metadata": {},
   "outputs": [],
   "source": [
    "sji_roi = sji_roi.apply_exposure_time_correction()"
   ]
  },
  {
   "cell_type": "code",
   "execution_count": null,
   "metadata": {},
   "outputs": [],
   "source": [
    "sji_roi.unit"
   ]
  },
  {
   "cell_type": "code",
   "execution_count": null,
   "metadata": {},
   "outputs": [],
   "source": [
    "sji_roi = sji_roi.apply_exposure_time_correction(undo=True)"
   ]
  },
  {
   "cell_type": "code",
   "execution_count": null,
   "metadata": {},
   "outputs": [],
   "source": [
    "sji_roi.unit"
   ]
  },
  {
   "cell_type": "markdown",
   "metadata": {},
   "source": [
    "### Dust Mask"
   ]
  },
  {
   "cell_type": "markdown",
   "metadata": {},
   "source": [
    "The ```IRISMapCube``` has a method that enables you to mask or unmask pixels which are affected by dust.  This is similar to the dustbuster routine in SSW except that it doesn't interpolate the data in the dusty pixels.  It simply identifies them in the mask.  To mask the dusty pixels, do:"
   ]
  },
  {
   "cell_type": "code",
   "execution_count": null,
   "metadata": {},
   "outputs": [],
   "source": [
    "my_sji.apply_dust_mask()"
   ]
  },
  {
   "cell_type": "markdown",
   "metadata": {},
   "source": [
    "To unmask dusty pixels, do:"
   ]
  },
  {
   "cell_type": "code",
   "execution_count": null,
   "metadata": {},
   "outputs": [],
   "source": [
    "my_sji.apply_dust_mask(undo=True)"
   ]
  },
  {
   "cell_type": "code",
   "execution_count": null,
   "metadata": {},
   "outputs": [],
   "source": []
  }
 ],
 "metadata": {
  "kernelspec": {
   "display_name": "Python 3",
   "language": "python",
   "name": "python3"
  },
  "language_info": {
   "codemirror_mode": {
    "name": "ipython",
    "version": 3
   },
   "file_extension": ".py",
   "mimetype": "text/x-python",
   "name": "python",
   "nbconvert_exporter": "python",
   "pygments_lexer": "ipython3",
   "version": "3.6.5"
  }
 },
 "nbformat": 4,
 "nbformat_minor": 2
}
